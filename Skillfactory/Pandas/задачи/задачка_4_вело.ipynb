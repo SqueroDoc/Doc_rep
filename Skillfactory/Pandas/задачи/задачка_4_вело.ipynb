{
 "cells": [
  {
   "cell_type": "markdown",
   "metadata": {},
   "source": [
    "На этот раз мы поговорим о спорте, а точнее — о велоспорте. \n",
    "\n",
    "Вашим заданием в этом модуле будет проанализировать и преобразовать данные о велопоездках клиентов компании Citi Bike (США), специализирующейся на прокате велосипедов.\n",
    "\n",
    "Скачать датасет в формате csv можно здесь.\n",
    "\n",
    "Датасет представляет собой таблицу с информацией о 300 тысячах поездок за первые пять дней сентября 2018 года и включает в себя следующую информацию:\n",
    "\n",
    "starttime — время начала поездки (дата, время);\\\n",
    "stoptime — время окончания поездки (дата, время);\\\n",
    "start station id — идентификатор стартовой стоянки;\\\n",
    "start station name — название стартовой стоянки;\\\n",
    "start station latitude, start station longitude — географическая широта и долгота стартовой стоянки;\\\n",
    "end station id — идентификатор конечной стоянки;\\\n",
    "end station name — название конечной стоянки;\\\n",
    "end station latitude, end station longitude — географическая широта и долгота конечной стоянки;\\\n",
    "bikeid — идентификатор велосипеда;\\\n",
    "usertype — тип пользователя (Customer — клиент с подпиской на 24 часа или на три дня, Subscriber — подписчик с годовой арендой велосипеда);\\\n",
    "birth year — год рождения клиента;\\\n",
    "gender — пол клиента (0 — неизвестный, 1 — мужчина, 2 — женщина)."
   ]
  },
  {
   "cell_type": "code",
   "execution_count": 3,
   "metadata": {},
   "outputs": [
    {
     "data": {
      "text/html": [
       "<div>\n",
       "<style scoped>\n",
       "    .dataframe tbody tr th:only-of-type {\n",
       "        vertical-align: middle;\n",
       "    }\n",
       "\n",
       "    .dataframe tbody tr th {\n",
       "        vertical-align: top;\n",
       "    }\n",
       "\n",
       "    .dataframe thead th {\n",
       "        text-align: right;\n",
       "    }\n",
       "</style>\n",
       "<table border=\"1\" class=\"dataframe\">\n",
       "  <thead>\n",
       "    <tr style=\"text-align: right;\">\n",
       "      <th></th>\n",
       "      <th>starttime</th>\n",
       "      <th>stoptime</th>\n",
       "      <th>start station id</th>\n",
       "      <th>start station name</th>\n",
       "      <th>start station latitude</th>\n",
       "      <th>start station longitude</th>\n",
       "      <th>end station id</th>\n",
       "      <th>end station name</th>\n",
       "      <th>end station latitude</th>\n",
       "      <th>end station longitude</th>\n",
       "      <th>bikeid</th>\n",
       "      <th>usertype</th>\n",
       "      <th>birth year</th>\n",
       "      <th>gender</th>\n",
       "    </tr>\n",
       "  </thead>\n",
       "  <tbody>\n",
       "    <tr>\n",
       "      <th>0</th>\n",
       "      <td>2018-09-01 00:00:05.2690</td>\n",
       "      <td>2018-09-01 00:27:20.6340</td>\n",
       "      <td>252.0</td>\n",
       "      <td>MacDougal St &amp; Washington Sq</td>\n",
       "      <td>40.732264</td>\n",
       "      <td>-73.998522</td>\n",
       "      <td>366.0</td>\n",
       "      <td>Clinton Ave &amp; Myrtle Ave</td>\n",
       "      <td>40.693261</td>\n",
       "      <td>-73.968896</td>\n",
       "      <td>25577</td>\n",
       "      <td>Subscriber</td>\n",
       "      <td>1980</td>\n",
       "      <td>1</td>\n",
       "    </tr>\n",
       "    <tr>\n",
       "      <th>1</th>\n",
       "      <td>2018-09-01 00:00:11.2810</td>\n",
       "      <td>2018-09-01 00:02:23.4810</td>\n",
       "      <td>314.0</td>\n",
       "      <td>Cadman Plaza West &amp; Montague St</td>\n",
       "      <td>40.693830</td>\n",
       "      <td>-73.990539</td>\n",
       "      <td>3242.0</td>\n",
       "      <td>Schermerhorn St &amp; Court St</td>\n",
       "      <td>40.691029</td>\n",
       "      <td>-73.991834</td>\n",
       "      <td>34377</td>\n",
       "      <td>Subscriber</td>\n",
       "      <td>1969</td>\n",
       "      <td>0</td>\n",
       "    </tr>\n",
       "    <tr>\n",
       "      <th>2</th>\n",
       "      <td>2018-09-01 00:00:20.6490</td>\n",
       "      <td>2018-09-01 00:55:58.5470</td>\n",
       "      <td>3142.0</td>\n",
       "      <td>1 Ave &amp; E 62 St</td>\n",
       "      <td>40.761227</td>\n",
       "      <td>-73.960940</td>\n",
       "      <td>3384.0</td>\n",
       "      <td>Smith St &amp; 3 St</td>\n",
       "      <td>40.678724</td>\n",
       "      <td>-73.995991</td>\n",
       "      <td>30496</td>\n",
       "      <td>Subscriber</td>\n",
       "      <td>1975</td>\n",
       "      <td>1</td>\n",
       "    </tr>\n",
       "    <tr>\n",
       "      <th>3</th>\n",
       "      <td>2018-09-01 00:00:21.7460</td>\n",
       "      <td>2018-09-01 00:07:38.5830</td>\n",
       "      <td>308.0</td>\n",
       "      <td>St James Pl &amp; Oliver St</td>\n",
       "      <td>40.713079</td>\n",
       "      <td>-73.998512</td>\n",
       "      <td>3690.0</td>\n",
       "      <td>Park Pl &amp; Church St</td>\n",
       "      <td>40.713342</td>\n",
       "      <td>-74.009355</td>\n",
       "      <td>28866</td>\n",
       "      <td>Subscriber</td>\n",
       "      <td>1984</td>\n",
       "      <td>2</td>\n",
       "    </tr>\n",
       "    <tr>\n",
       "      <th>4</th>\n",
       "      <td>2018-09-01 00:00:27.3150</td>\n",
       "      <td>2018-09-01 02:21:25.3080</td>\n",
       "      <td>345.0</td>\n",
       "      <td>W 13 St &amp; 6 Ave</td>\n",
       "      <td>40.736494</td>\n",
       "      <td>-73.997044</td>\n",
       "      <td>380.0</td>\n",
       "      <td>W 4 St &amp; 7 Ave S</td>\n",
       "      <td>40.734011</td>\n",
       "      <td>-74.002939</td>\n",
       "      <td>20943</td>\n",
       "      <td>Customer</td>\n",
       "      <td>1994</td>\n",
       "      <td>1</td>\n",
       "    </tr>\n",
       "  </tbody>\n",
       "</table>\n",
       "</div>"
      ],
      "text/plain": [
       "                  starttime                  stoptime  start station id  \\\n",
       "0  2018-09-01 00:00:05.2690  2018-09-01 00:27:20.6340             252.0   \n",
       "1  2018-09-01 00:00:11.2810  2018-09-01 00:02:23.4810             314.0   \n",
       "2  2018-09-01 00:00:20.6490  2018-09-01 00:55:58.5470            3142.0   \n",
       "3  2018-09-01 00:00:21.7460  2018-09-01 00:07:38.5830             308.0   \n",
       "4  2018-09-01 00:00:27.3150  2018-09-01 02:21:25.3080             345.0   \n",
       "\n",
       "                start station name  start station latitude  \\\n",
       "0     MacDougal St & Washington Sq               40.732264   \n",
       "1  Cadman Plaza West & Montague St               40.693830   \n",
       "2                  1 Ave & E 62 St               40.761227   \n",
       "3          St James Pl & Oliver St               40.713079   \n",
       "4                  W 13 St & 6 Ave               40.736494   \n",
       "\n",
       "   start station longitude  end station id            end station name  \\\n",
       "0               -73.998522           366.0    Clinton Ave & Myrtle Ave   \n",
       "1               -73.990539          3242.0  Schermerhorn St & Court St   \n",
       "2               -73.960940          3384.0             Smith St & 3 St   \n",
       "3               -73.998512          3690.0         Park Pl & Church St   \n",
       "4               -73.997044           380.0            W 4 St & 7 Ave S   \n",
       "\n",
       "   end station latitude  end station longitude  bikeid    usertype  \\\n",
       "0             40.693261             -73.968896   25577  Subscriber   \n",
       "1             40.691029             -73.991834   34377  Subscriber   \n",
       "2             40.678724             -73.995991   30496  Subscriber   \n",
       "3             40.713342             -74.009355   28866  Subscriber   \n",
       "4             40.734011             -74.002939   20943    Customer   \n",
       "\n",
       "   birth year  gender  \n",
       "0        1980       1  \n",
       "1        1969       0  \n",
       "2        1975       1  \n",
       "3        1984       2  \n",
       "4        1994       1  "
      ]
     },
     "execution_count": 3,
     "metadata": {},
     "output_type": "execute_result"
    }
   ],
   "source": [
    "import pandas as pd\n",
    "\n",
    "bike_data = pd.read_csv('data/citibike-tripdata.csv', sep=',')\n",
    "bike_data.head()"
   ]
  },
  {
   "cell_type": "code",
   "execution_count": 4,
   "metadata": {},
   "outputs": [
    {
     "name": "stdout",
     "output_type": "stream",
     "text": [
      "<class 'pandas.core.frame.DataFrame'>\n",
      "RangeIndex: 300000 entries, 0 to 299999\n",
      "Data columns (total 14 columns):\n",
      " #   Column                   Non-Null Count   Dtype  \n",
      "---  ------                   --------------   -----  \n",
      " 0   starttime                300000 non-null  object \n",
      " 1   stoptime                 300000 non-null  object \n",
      " 2   start station id         299831 non-null  float64\n",
      " 3   start station name       299831 non-null  object \n",
      " 4   start station latitude   300000 non-null  float64\n",
      " 5   start station longitude  300000 non-null  float64\n",
      " 6   end station id           299831 non-null  float64\n",
      " 7   end station name         299831 non-null  object \n",
      " 8   end station latitude     300000 non-null  float64\n",
      " 9   end station longitude    300000 non-null  float64\n",
      " 10  bikeid                   300000 non-null  int64  \n",
      " 11  usertype                 300000 non-null  object \n",
      " 12  birth year               300000 non-null  int64  \n",
      " 13  gender                   300000 non-null  int64  \n",
      "dtypes: float64(6), int64(3), object(5)\n",
      "memory usage: 32.0+ MB\n"
     ]
    }
   ],
   "source": [
    "bike_data.info()"
   ]
  },
  {
   "cell_type": "code",
   "execution_count": 5,
   "metadata": {},
   "outputs": [
    {
     "name": "stdout",
     "output_type": "stream",
     "text": [
      "281\n"
     ]
    }
   ],
   "source": [
    "# Поиск самой популярной стартовой стоянки\n",
    "popular_station_id = bike_data['start station id'].mode()[0]\n",
    "\n",
    "# Вывод результата\n",
    "print(int(popular_station_id))"
   ]
  },
  {
   "cell_type": "code",
   "execution_count": 7,
   "metadata": {},
   "outputs": [
    {
     "name": "stdout",
     "output_type": "stream",
     "text": [
      "33887\n"
     ]
    }
   ],
   "source": [
    "# Поиск самой популярной стартовой стоянки\n",
    "bike_id = bike_data['bikeid'].mode()[0]\n",
    "\n",
    "# Вывод результата\n",
    "print(int(bike_id))"
   ]
  },
  {
   "cell_type": "code",
   "execution_count": 8,
   "metadata": {},
   "outputs": [
    {
     "name": "stdout",
     "output_type": "stream",
     "text": [
      "Преобладающий тип клиентов: Subscriber\n",
      "Доля клиентов преобладающего типа: 0.77\n"
     ]
    }
   ],
   "source": [
    "# Подсчёт количества клиентов по типам\n",
    "usertype_counts = bike_data['usertype'].value_counts()\n",
    "\n",
    "# Определение преобладающего типа и его доли\n",
    "most_common_usertype = usertype_counts.idxmax()  # Преобладающий тип клиентов\n",
    "most_common_usertype_share = usertype_counts.max() / usertype_counts.sum()\n",
    "\n",
    "# Округление до сотых\n",
    "most_common_usertype_share = round(most_common_usertype_share, 2)\n",
    "\n",
    "# Вывод результата\n",
    "print(f\"Преобладающий тип клиентов: {most_common_usertype}\")\n",
    "print(f\"Доля клиентов преобладающего типа: {most_common_usertype_share}\")"
   ]
  },
  {
   "cell_type": "code",
   "execution_count": 10,
   "metadata": {},
   "outputs": [
    {
     "name": "stdout",
     "output_type": "stream",
     "text": [
      "183582 74506\n"
     ]
    }
   ],
   "source": [
    "# Фильтруем по полу: 1 - мужчины, 2 - женщины\n",
    "male_trips = bike_data[bike_data['gender'] == 1]\n",
    "female_trips = bike_data[bike_data['gender'] == 2]\n",
    "\n",
    "# Находим количество поездок для каждой группы\n",
    "male_trip_count = len(male_trips)\n",
    "female_trip_count = len(female_trips)\n",
    "\n",
    "# Выбираем максимальное значение\n",
    "max_trip_count = max(male_trip_count, female_trip_count)\n",
    "\n",
    "# Выводим результат\n",
    "print(male_trip_count, female_trip_count)"
   ]
  },
  {
   "cell_type": "code",
   "execution_count": 14,
   "metadata": {},
   "outputs": [
    {
     "name": "stdout",
     "output_type": "stream",
     "text": [
      "Количество столбцов до удаления: 14\n",
      "Количество столбцов после удаления: 12\n"
     ]
    }
   ],
   "source": [
    "# Проверяем количество столбцов до удаления\n",
    "initial_columns = bike_data.shape[1]\n",
    "print(f\"Количество столбцов до удаления: {initial_columns}\")\n",
    "\n",
    "# Удаление признаков идентификаторов стоянок\n",
    "columns_to_drop = ['start station id', 'end station id']\n",
    "bike_data = bike_data.drop(columns=columns_to_drop, errors='ignore')\n",
    "\n",
    "# Подсчет количества оставшихся столбцов\n",
    "remaining_columns = bike_data.shape[1]\n",
    "print(f\"Количество столбцов после удаления: {remaining_columns}\")\n"
   ]
  },
  {
   "cell_type": "code",
   "execution_count": 15,
   "metadata": {},
   "outputs": [
    {
     "name": "stdout",
     "output_type": "stream",
     "text": [
      "Количество поездок клиентов старше 60 лет: 11837\n"
     ]
    }
   ],
   "source": [
    "\n",
    "# Шаг 1: Создание признака возраста\n",
    "bike_data['age'] = 2018 - bike_data['birth year']\n",
    "\n",
    "# Шаг 2: Удаление столбца birth year\n",
    "bike_data = bike_data.drop(columns=['birth year'], errors='ignore')\n",
    "\n",
    "# Шаг 3: Фильтрация клиентов старше 60 лет\n",
    "senior_trips = bike_data[bike_data['age'] > 60]\n",
    "\n",
    "# Шаг 4: Подсчёт количества поездок\n",
    "senior_trip_count = len(senior_trips)\n",
    "\n",
    "# Вывод результата\n",
    "print(f\"Количество поездок клиентов старше 60 лет: {senior_trip_count}\")"
   ]
  },
  {
   "cell_type": "code",
   "execution_count": 16,
   "metadata": {},
   "outputs": [
    {
     "name": "stdout",
     "output_type": "stream",
     "text": [
      "Длительность поездки под индексом 3: 7 минут\n"
     ]
    }
   ],
   "source": [
    "# Шаг 1: Преобразуем столбцы starttime и stoptime в формат datetime\n",
    "bike_data['starttime'] = pd.to_datetime(bike_data['starttime'])\n",
    "bike_data['stoptime'] = pd.to_datetime(bike_data['stoptime'])\n",
    "\n",
    "# Шаг 2: Вычисляем длительность поездки в минутах\n",
    "bike_data['trip_duration'] = (bike_data['stoptime'] - bike_data['starttime']).dt.total_seconds() / 60\n",
    "\n",
    "# Шаг 3: Округляем длительность до целого числа\n",
    "bike_data['trip_duration'] = bike_data['trip_duration'].round()\n",
    "\n",
    "# Шаг 4: Находим длительность поездки под индексом 3\n",
    "trip_duration_index_3 = bike_data.loc[3, 'trip_duration']\n",
    "\n",
    "# Вывод результата\n",
    "print(f\"Длительность поездки под индексом 3: {int(trip_duration_index_3)} минут\")"
   ]
  },
  {
   "cell_type": "code",
   "execution_count": 17,
   "metadata": {},
   "outputs": [
    {
     "name": "stdout",
     "output_type": "stream",
     "text": [
      "Количество поездок, начавшихся в выходные: 115135\n"
     ]
    }
   ],
   "source": [
    "# Шаг 1: Преобразуем столбец starttime в формат datetime\n",
    "bike_data['starttime'] = pd.to_datetime(bike_data['starttime'])\n",
    "\n",
    "# Шаг 2: Создаём признак weekend\n",
    "bike_data['weekend'] = bike_data['starttime'].dt.dayofweek.isin([5, 6]).astype(int)\n",
    "\n",
    "# Шаг 3: Подсчёт поездок, начавшихся в выходные\n",
    "weekend_trip_count = bike_data['weekend'].sum()\n",
    "\n",
    "# Вывод результата\n",
    "print(f\"Количество поездок, начавшихся в выходные: {weekend_trip_count}\")"
   ]
  },
  {
   "cell_type": "code",
   "execution_count": 18,
   "metadata": {},
   "outputs": [
    {
     "name": "stdout",
     "output_type": "stream",
     "text": [
      "Во сколько раз количество поездок днём больше, чем ночью: 9\n"
     ]
    }
   ],
   "source": [
    "# Шаг 1: Преобразуем столбец starttime в формат datetime\n",
    "bike_data['starttime'] = pd.to_datetime(bike_data['starttime'])\n",
    "\n",
    "# Шаг 2: Извлекаем час начала поездки\n",
    "bike_data['hour'] = bike_data['starttime'].dt.hour\n",
    "\n",
    "# Шаг 3: Создаём признак времени суток\n",
    "conditions = [\n",
    "    (bike_data['hour'] >= 0) & (bike_data['hour'] <= 6),   # ночь\n",
    "    (bike_data['hour'] > 6) & (bike_data['hour'] <= 12),   # утро\n",
    "    (bike_data['hour'] > 12) & (bike_data['hour'] <= 18),  # день\n",
    "    (bike_data['hour'] > 18) & (bike_data['hour'] <= 23)   # вечер\n",
    "]\n",
    "\n",
    "choices = ['night', 'morning', 'day', 'evening']\n",
    "\n",
    "bike_data['time_of_day'] = pd.cut(bike_data['hour'], bins=[-1, 6, 12, 18, 23], labels=choices)\n",
    "\n",
    "# Шаг 4: Подсчитываем количество поездок в каждой категории\n",
    "time_of_day_counts = bike_data['time_of_day'].value_counts()\n",
    "\n",
    "# Шаг 5: Рассчитываем, во сколько раз количество поездок днём больше, чем ночью\n",
    "day_count = time_of_day_counts.get('day', 0)\n",
    "night_count = time_of_day_counts.get('night', 0)\n",
    "\n",
    "# Вычисляем во сколько раз\n",
    "if night_count > 0:\n",
    "    ratio = day_count / night_count\n",
    "else:\n",
    "    ratio = 0  # Если ночью поездок нет, результат равен 0\n",
    "\n",
    "# Округляем до целого числа\n",
    "ratio_rounded = round(ratio)\n",
    "\n",
    "# Вывод результата\n",
    "print(f\"Во сколько раз количество поездок днём больше, чем ночью: {ratio_rounded}\")"
   ]
  }
 ],
 "metadata": {
  "kernelspec": {
   "display_name": "Python 3",
   "language": "python",
   "name": "python3"
  },
  "language_info": {
   "codemirror_mode": {
    "name": "ipython",
    "version": 3
   },
   "file_extension": ".py",
   "mimetype": "text/x-python",
   "name": "python",
   "nbconvert_exporter": "python",
   "pygments_lexer": "ipython3",
   "version": "3.13.0"
  }
 },
 "nbformat": 4,
 "nbformat_minor": 2
}
