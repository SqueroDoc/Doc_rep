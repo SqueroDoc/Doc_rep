{
 "cells": [
  {
   "cell_type": "markdown",
   "metadata": {},
   "source": [
    "В ваше распоряжение предоставлена директория users ('./Root/users'). В данной директории содержатся csv-файлы, в каждом из которых хранится информация об идентификаторах пользователей (user_id) и ссылки на их фотографии (image_url). Файлов в директории может быть сколько угодно.\n",
    "\n",
    "Вам необходимо написать функцию concat_user_files(path), параметром которой является path — путь до директории. Функция должна объединить информацию из предоставленных вам файлов в один DataFrame и вернуть его.\n",
    "\n",
    "Список названий всех файлов, находящихся в директории, вы можете получить с помощью функции os.listdir(path) из модуля os. Отсортируйте полученный список, прежде чем производить объединение файлов.\n",
    "\n",
    "Обратите внимание, что метод os.listdir() возвращает только названия файлов в указанной директории, а при чтении файла необходимо указывать полный путь до него.\n",
    "\n",
    "Не забудьте обновить индексы результирующей таблицы после объединения.\n",
    "\n",
    "Примечание. Учтите, что на тестовом наборе файлов в результате объединения могут возникнуть дубликаты, от которых необходимо будет избавиться."
   ]
  },
  {
   "cell_type": "code",
   "execution_count": null,
   "metadata": {},
   "outputs": [],
   "source": [
    "import os\n",
    "import pandas as pd\n",
    "\n",
    "def concat_user_files(path):\n",
    "    # Получаем список всех файлов в директории и сортируем его\n",
    "    files = sorted(os.listdir(path))\n",
    "    \n",
    "    # Создаём пустой список для хранения DataFrame'ов\n",
    "    dataframes = []\n",
    "    \n",
    "    # Проходимся по каждому файлу в директории\n",
    "    for file in files:\n",
    "        # Полный путь к файлу\n",
    "        full_path = os.path.join(path, file)\n",
    "        \n",
    "        # Проверяем, что это CSV-файл\n",
    "        if file.endswith(\".csv\"):\n",
    "            # Читаем файл и добавляем в список\n",
    "            dataframes.append(pd.read_csv(full_path))\n",
    "    \n",
    "    # Объединяем все DataFrame'ы в один\n",
    "    combined_df = pd.concat(dataframes, ignore_index=True)\n",
    "    \n",
    "    # Удаляем дубликаты\n",
    "    combined_df = combined_df.drop_duplicates()\n",
    "    \n",
    "    # Возвращаем результирующий DataFrame\n",
    "    return combined_df\n"
   ]
  }
 ],
 "metadata": {
  "kernelspec": {
   "display_name": "Python 3",
   "language": "python",
   "name": "python3"
  },
  "language_info": {
   "codemirror_mode": {
    "name": "ipython",
    "version": 3
   },
   "file_extension": ".py",
   "mimetype": "text/x-python",
   "name": "python",
   "nbconvert_exporter": "python",
   "pygments_lexer": "ipython3",
   "version": "3.13.0"
  }
 },
 "nbformat": 4,
 "nbformat_minor": 2
}
