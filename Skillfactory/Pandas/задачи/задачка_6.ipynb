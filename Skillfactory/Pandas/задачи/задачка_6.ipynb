{
 "cells": [
  {
   "cell_type": "markdown",
   "metadata": {},
   "source": [
    "Даны две таблицы: items_df, в которой содержится информация о наличии товаров на складе, и purchase_df с данными о покупках товаров.\n",
    "\n",
    "Первая:\n",
    "\n",
    "items_df = pd.DataFrame({\n",
    "    'item_id': [417283, 849734, 132223, 573943, 19475, 3294095, 382043, 302948, 100132, 312394],\n",
    "    'vendor': ['Samsung', 'LG', 'Apple', 'Apple', 'LG', 'Apple', 'Samsung', 'Samsung', 'LG', 'ZTE'],\n",
    "    'stock_count': [54, 33, 122, 18, 102, 43, 77, 143, 60, 19]\n",
    "})\n",
    "Вторая:\n",
    "\n",
    "purchase_df = pd.DataFrame({\n",
    "    'purchase_id': [101, 101, 101, 112, 121, 145, 145, 145, 145, 221],\n",
    "    'item_id': [417283, 849734, 132223, 573943, 19475, 3294095, 382043, 302948, 103845, 100132],\n",
    "    'price': [13900, 5330, 38200, 49990, 9890, 33000, 67500, 34500, 89900, 11400]\n",
    "})\n",
    "Информация в таблицах представлена в виде следующих столбцов:\n",
    "\n",
    "item_id — идентификатор модели;\n",
    "vendor — производитель модели;\n",
    "stock_count — имеющееся на складе количество данных моделей (в штуках);\n",
    "purchase_id — идентификатор покупки;\n",
    "price — стоимость модели в покупке.\n",
    "Вам необходимо сделать следующее:\n",
    "\n",
    "Сформируйте DataFrame merged, так чтобы после объединения purchase_df и items_df остались модели, которые учтены на складе и имели продажи.\n",
    "\n",
    "На основе таблицы merged найдите суммарную выручку, которую можно было бы получить от продажи всех товаров, имеющихся на складе. Результат занесите в переменную income."
   ]
  },
  {
   "cell_type": "code",
   "execution_count": 1,
   "metadata": {},
   "outputs": [
    {
     "name": "stdout",
     "output_type": "stream",
     "text": [
      "   item_id   vendor  stock_count  purchase_id  price\n",
      "0   417283  Samsung           54          101  13900\n",
      "1   849734       LG           33          101   5330\n",
      "2   132223    Apple          122          101  38200\n",
      "3   573943    Apple           18          112  49990\n",
      "4    19475       LG          102          121   9890\n",
      "5  3294095    Apple           43          145  33000\n",
      "6   382043  Samsung           77          145  67500\n",
      "7   302948  Samsung          143          145  34500\n",
      "8   100132       LG           60          221  11400\n"
     ]
    }
   ],
   "source": [
    "import pandas as pd\n",
    "\n",
    "# Исходные данные\n",
    "items_df = pd.DataFrame({\n",
    "    'item_id': [417283, 849734, 132223, 573943, 19475, 3294095, 382043, 302948, 100132, 312394],\n",
    "    'vendor': ['Samsung', 'LG', 'Apple', 'Apple', 'LG', 'Apple', 'Samsung', 'Samsung', 'LG', 'ZTE'],\n",
    "    'stock_count': [54, 33, 122, 18, 102, 43, 77, 143, 60, 19]\n",
    "})\n",
    "\n",
    "purchase_df = pd.DataFrame({\n",
    "    'purchase_id': [101, 101, 101, 112, 121, 145, 145, 145, 145, 221],\n",
    "    'item_id': [417283, 849734, 132223, 573943, 19475, 3294095, 382043, 302948, 103845, 100132],\n",
    "    'price': [13900, 5330, 38200, 49990, 9890, 33000, 67500, 34500, 89900, 11400]\n",
    "})\n",
    "\n",
    "# Объединяем таблицы, оставляя только общие item_id\n",
    "merged = purchase_df.merge(items_df, on='item_id', how='inner')\n",
    "\n",
    "# Перестраиваем таблицу в ожидаемый формат\n",
    "merged = merged[['item_id', 'vendor', 'stock_count', 'purchase_id', 'price']]\n",
    "\n",
    "# Вывод результата\n",
    "print(merged)\n"
   ]
  },
  {
   "cell_type": "code",
   "execution_count": 2,
   "metadata": {},
   "outputs": [
    {
     "name": "stdout",
     "output_type": "stream",
     "text": [
      "19729490\n"
     ]
    }
   ],
   "source": [
    "# Считаем общую выручку\n",
    "income = (merged['stock_count'] * merged['price']).sum()\n",
    "print(income)\n"
   ]
  }
 ],
 "metadata": {
  "kernelspec": {
   "display_name": "Python 3",
   "language": "python",
   "name": "python3"
  },
  "language_info": {
   "codemirror_mode": {
    "name": "ipython",
    "version": 3
   },
   "file_extension": ".py",
   "mimetype": "text/x-python",
   "name": "python",
   "nbconvert_exporter": "python",
   "pygments_lexer": "ipython3",
   "version": "3.13.0"
  }
 },
 "nbformat": 4,
 "nbformat_minor": 2
}
