{
 "cells": [
  {
   "cell_type": "markdown",
   "metadata": {},
   "source": [
    "Вам представлены данные (в формате csv) об отчётах очевидцев НЛО в США за период с 1930 по 2020 год.\n",
    "\n",
    "В данных есть следующие признаки:\n",
    "\n",
    "\"City\" — город, где был замечен НЛО;\\\n",
    "\"Colors Reported\" — цвет объекта;\\\n",
    "\"Shape Reported\" — форма объекта;\\\n",
    "\"State\" — обозначение штата;\\\n",
    "\"Time\" — время, когда был замечен НЛО (данные отсортированы от старых наблюдений к новым). \n",
    "\n",
    "Прочитайте данные, сделайте преобразование времени к формату datetime и выполните задания ниже."
   ]
  },
  {
   "cell_type": "code",
   "execution_count": 4,
   "metadata": {},
   "outputs": [],
   "source": [
    "import pandas as pd\n",
    "\n",
    "# Указываем путь к файлу на твоем компьютере\n",
    "file_path = 'data/ufo.csv'  # Замените на свой путь\n",
    "\n",
    "# Загружаем данные\n",
    "ufo_data = pd.read_csv(file_path)"
   ]
  },
  {
   "cell_type": "code",
   "execution_count": 3,
   "metadata": {},
   "outputs": [
    {
     "name": "stdout",
     "output_type": "stream",
     "text": [
      "Наибольшее количество наблюдений НЛО было в 1999 году: 2774 случаев.\n"
     ]
    }
   ],
   "source": [
    "# В каком году отмечается наибольшее количество случаев наблюдения НЛО в США?\n",
    "\n",
    "\n",
    "# Преобразуем столбец 'Time' в формат datetime\n",
    "ufo_data['Time'] = pd.to_datetime(ufo_data['Time'], errors='coerce')\n",
    "\n",
    "# Добавляем столбец с годом\n",
    "ufo_data['Year'] = ufo_data['Time'].dt.year\n",
    "\n",
    "# Считаем количество наблюдений для каждого года\n",
    "year_counts = ufo_data['Year'].value_counts()\n",
    "\n",
    "# Определяем год с наибольшим количеством наблюдений\n",
    "max_year = year_counts.idxmax()\n",
    "max_count = year_counts.max()\n",
    "\n",
    "# Вывод результата\n",
    "print(f\"Наибольшее количество наблюдений НЛО было в {max_year} году: {max_count} случаев.\")"
   ]
  },
  {
   "cell_type": "markdown",
   "metadata": {},
   "source": [
    "Найдите средний интервал времени (в днях) между двумя последовательными случаями наблюдения НЛО в штате Невада (NV).\n",
    "Чтобы выделить дату из столбца Time, можно воспользоваться атрибутом datetime date.\n",
    "\n",
    "Чтобы вычислить разницу между двумя соседними датами в столбце, примените к нему метод diff().\n",
    "\n",
    "Чтобы перевести интервал времени в дни, воспользуйтесь атрибутом timedelta days.\n",
    "\n"
   ]
  },
  {
   "cell_type": "code",
   "execution_count": 6,
   "metadata": {},
   "outputs": [
    {
     "name": "stdout",
     "output_type": "stream",
     "text": [
      "Средний интервал времени между двумя последовательными случаями наблюдения НЛО в штате Невада: 68.93 дней.\n"
     ]
    }
   ],
   "source": [
    "# Найдите средний интервал времени (в днях) между двумя последовательными случаями наблюдения НЛО в штате Невада (NV).\n",
    "\n",
    "\n",
    "# Преобразуем столбец 'Time' в формат datetime\n",
    "ufo_data['Time'] = pd.to_datetime(ufo_data['Time'], errors='coerce')\n",
    "\n",
    "# Отфильтровываем данные для штата Невада (NV)\n",
    "nevada_data = ufo_data[ufo_data['State'] == 'NV'].copy()  # .copy() создаёт отдельную копию\n",
    "\n",
    "# Извлекаем только дату из столбца 'Time' и используем .loc для назначения значений\n",
    "nevada_data.loc[:, 'Date'] = nevada_data['Time'].dt.date\n",
    "\n",
    "# Вычисляем разницу между последовательными датами\n",
    "nevada_data.loc[:, 'DateDiff'] = nevada_data['Date'].diff()\n",
    "\n",
    "# Переводим разницу в дни\n",
    "nevada_data.loc[:, 'DaysBetween'] = nevada_data['DateDiff'].dt.days\n",
    "\n",
    "# Находим средний интервал времени между двумя последовательными случаями\n",
    "average_interval = nevada_data['DaysBetween'].mean()\n",
    "\n",
    "# Выводим результат\n",
    "print(f\"Средний интервал времени между двумя последовательными случаями наблюдения НЛО в штате Невада: {average_interval:.2f} дней.\")"
   ]
  }
 ],
 "metadata": {
  "kernelspec": {
   "display_name": "Python 3",
   "language": "python",
   "name": "python3"
  },
  "language_info": {
   "codemirror_mode": {
    "name": "ipython",
    "version": 3
   },
   "file_extension": ".py",
   "mimetype": "text/x-python",
   "name": "python",
   "nbconvert_exporter": "python",
   "pygments_lexer": "ipython3",
   "version": "3.13.0"
  }
 },
 "nbformat": 4,
 "nbformat_minor": 2
}
