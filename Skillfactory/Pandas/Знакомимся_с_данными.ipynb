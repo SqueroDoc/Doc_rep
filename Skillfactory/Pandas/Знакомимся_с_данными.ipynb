{
 "cells": [
  {
   "cell_type": "markdown",
   "metadata": {},
   "source": [
    "## Знакомимся с данными: недвижимость"
   ]
  },
  {
   "cell_type": "markdown",
   "metadata": {},
   "source": [
    "Данные, с которыми мы будем работать — это обработанный датасет об объектах недвижимости в Мельбурне (Австралия) и его пригородах."
   ]
  },
  {
   "cell_type": "markdown",
   "metadata": {},
   "source": [
    "Данные представляют собой таблицу, в которой содержится 23 столбца:\n",
    "\n",
    "index — номер строки\\\n",
    "Suburb — наименование пригорода\\\n",
    "Address — адрес\\\n",
    "Rooms — количество комнат в помещении\\\n",
    "Type — тип здания (h — дом, коттедж, вилла, терраса; u — блочный, дуплексный дом; t — таунхаус)\\\n",
    "Price — цена помещения\\\n",
    "Method — метод продажи\\\n",
    "SellerG — риэлторская компания\\\n",
    "Date — дата продажи (в формате день/месяц/год)\\\n",
    "Distance — расстояния до объекта от центра Мельбурна\\ \n",
    "Postcode — почтовый индекс\\\n",
    "Bedroom — количество спален\\\n",
    "Bathroom — количество ванных комнат\\\n",
    "Car — количество парковочных мест\\\n",
    "Landsize — площадь прилегающей территории\\\n",
    "BuildingArea — площадь здания\\\n",
    "YearBuilt — год постройки\\\n",
    "CouncilArea — региональное управление\\\n",
    "Lattitude — географическая широта\\\n",
    "Longitude — географическая долгота\\\n",
    "Regionname — наименование района Мельбурна\\\n",
    "Propertycount — количество объектов недвижимости в районе, выставленных на продажу\\\n",
    "Coordinates — широта и долгота, объединённые в кортеж"
   ]
  },
  {
   "cell_type": "code",
   "execution_count": 16,
   "metadata": {},
   "outputs": [],
   "source": [
    "import pandas as pd\n",
    "\n",
    "# Прочитаем наши данные о недвижимости из csv-файла и запишем результирующий DataFrame в переменную melb_data:\n",
    "\n",
    "melb_data = pd.read_csv('data/melb_data.csv', sep=',')\n",
    "\n"
   ]
  },
  {
   "cell_type": "code",
   "execution_count": 18,
   "metadata": {},
   "outputs": [
    {
     "data": {
      "text/plain": [
       "np.float64(1010000.0)"
      ]
     },
     "execution_count": 18,
     "metadata": {},
     "output_type": "execute_result"
    }
   ],
   "source": [
    "melb_data.loc[3521, 'Price']"
   ]
  },
  {
   "cell_type": "code",
   "execution_count": 20,
   "metadata": {},
   "outputs": [
    {
     "data": {
      "text/plain": [
       "'7/05/2016'"
      ]
     },
     "execution_count": 20,
     "metadata": {},
     "output_type": "execute_result"
    }
   ],
   "source": [
    "melb_data.loc[3521, 'Date']"
   ]
  },
  {
   "cell_type": "code",
   "execution_count": 15,
   "metadata": {},
   "outputs": [
    {
     "name": "stdout",
     "output_type": "stream",
     "text": [
      "3\n"
     ]
    }
   ],
   "source": [
    "go = melb_data.loc[3521, 'Landsize'] / melb_data.loc[1690, 'Landsize']\n",
    "\n",
    "print(round(go))"
   ]
  }
 ],
 "metadata": {
  "kernelspec": {
   "display_name": "Python 3",
   "language": "python",
   "name": "python3"
  },
  "language_info": {
   "codemirror_mode": {
    "name": "ipython",
    "version": 3
   },
   "file_extension": ".py",
   "mimetype": "text/x-python",
   "name": "python",
   "nbconvert_exporter": "python",
   "pygments_lexer": "ipython3",
   "version": "3.13.0"
  }
 },
 "nbformat": 4,
 "nbformat_minor": 2
}
