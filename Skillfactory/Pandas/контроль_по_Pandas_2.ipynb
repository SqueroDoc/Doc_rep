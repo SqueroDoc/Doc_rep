{
 "cells": [
  {
   "cell_type": "markdown",
   "metadata": {},
   "source": [
    "Дано два файла:\n",
    "\n",
    "orders.csv, содержащий данные о заказах;\\\n",
    "products.csv, содержащий данные о товарах.\\\n",
    "Скачать файлы можно здесь (оба файла находятся в едином zip-архиве — распакуйте его, прежде чем продолжать работу!)\n",
    "\n",
    "Прочитайте данные файлы, посмотрите на содержимое таблиц и проанализируйте его.\n",
    "\n",
    "Подумайте, как связаны данные таблицы (какими ключевыми столбцами).\n",
    "\n",
    "Объедините заданные таблицы в таблицу orders_products, чтобы в результирующей таблице оказалась информация обо всех заказах, но не оказалось информации о продуктах, на которых заказов ещё не поступало. \n",
    "\n",
    "Ответьте на несколько вопросов по таблице orders_products ↓"
   ]
  },
  {
   "cell_type": "code",
   "execution_count": 21,
   "metadata": {},
   "outputs": [
    {
     "data": {
      "text/html": [
       "<div>\n",
       "<style scoped>\n",
       "    .dataframe tbody tr th:only-of-type {\n",
       "        vertical-align: middle;\n",
       "    }\n",
       "\n",
       "    .dataframe tbody tr th {\n",
       "        vertical-align: top;\n",
       "    }\n",
       "\n",
       "    .dataframe thead th {\n",
       "        text-align: right;\n",
       "    }\n",
       "</style>\n",
       "<table border=\"1\" class=\"dataframe\">\n",
       "  <thead>\n",
       "    <tr style=\"text-align: right;\">\n",
       "      <th></th>\n",
       "      <th>Дата создания</th>\n",
       "      <th>Order ID</th>\n",
       "      <th>ID Покупателя</th>\n",
       "      <th>Статус</th>\n",
       "      <th>Оплачен</th>\n",
       "      <th>Отменен</th>\n",
       "      <th>Отгружен</th>\n",
       "      <th>ID товара</th>\n",
       "      <th>Количество</th>\n",
       "    </tr>\n",
       "  </thead>\n",
       "  <tbody>\n",
       "    <tr>\n",
       "      <th>0</th>\n",
       "      <td>09.11.2019 21:55:51</td>\n",
       "      <td>9</td>\n",
       "      <td>10</td>\n",
       "      <td>Принят, ожидается оплата</td>\n",
       "      <td>Нет</td>\n",
       "      <td>Нет</td>\n",
       "      <td>Нет</td>\n",
       "      <td>103</td>\n",
       "      <td>5</td>\n",
       "    </tr>\n",
       "    <tr>\n",
       "      <th>1</th>\n",
       "      <td>09.11.2019 15:05:57</td>\n",
       "      <td>8</td>\n",
       "      <td>9</td>\n",
       "      <td>Принят, ожидается оплата</td>\n",
       "      <td>Нет</td>\n",
       "      <td>Нет</td>\n",
       "      <td>Нет</td>\n",
       "      <td>86</td>\n",
       "      <td>100</td>\n",
       "    </tr>\n",
       "    <tr>\n",
       "      <th>2</th>\n",
       "      <td>09.11.2019 15:05:57</td>\n",
       "      <td>8</td>\n",
       "      <td>9</td>\n",
       "      <td>Принят, ожидается оплата</td>\n",
       "      <td>Нет</td>\n",
       "      <td>Нет</td>\n",
       "      <td>Нет</td>\n",
       "      <td>104</td>\n",
       "      <td>10</td>\n",
       "    </tr>\n",
       "    <tr>\n",
       "      <th>3</th>\n",
       "      <td>09.11.2019 12:50:07</td>\n",
       "      <td>7</td>\n",
       "      <td>8</td>\n",
       "      <td>Принят, ожидается оплата</td>\n",
       "      <td>Нет</td>\n",
       "      <td>Нет</td>\n",
       "      <td>Нет</td>\n",
       "      <td>104</td>\n",
       "      <td>7</td>\n",
       "    </tr>\n",
       "    <tr>\n",
       "      <th>4</th>\n",
       "      <td>09.11.2019 12:00:00</td>\n",
       "      <td>6</td>\n",
       "      <td>1</td>\n",
       "      <td>Принят, ожидается оплата</td>\n",
       "      <td>Нет</td>\n",
       "      <td>Нет</td>\n",
       "      <td>Нет</td>\n",
       "      <td>104</td>\n",
       "      <td>5</td>\n",
       "    </tr>\n",
       "  </tbody>\n",
       "</table>\n",
       "</div>"
      ],
      "text/plain": [
       "         Дата создания  Order ID  ID Покупателя                    Статус  \\\n",
       "0  09.11.2019 21:55:51         9             10  Принят, ожидается оплата   \n",
       "1  09.11.2019 15:05:57         8              9  Принят, ожидается оплата   \n",
       "2  09.11.2019 15:05:57         8              9  Принят, ожидается оплата   \n",
       "3  09.11.2019 12:50:07         7              8  Принят, ожидается оплата   \n",
       "4  09.11.2019 12:00:00         6              1  Принят, ожидается оплата   \n",
       "\n",
       "  Оплачен Отменен Отгружен  ID товара  Количество  \n",
       "0     Нет     Нет      Нет        103           5  \n",
       "1     Нет     Нет      Нет         86         100  \n",
       "2     Нет     Нет      Нет        104          10  \n",
       "3     Нет     Нет      Нет        104           7  \n",
       "4     Нет     Нет      Нет        104           5  "
      ]
     },
     "execution_count": 21,
     "metadata": {},
     "output_type": "execute_result"
    }
   ],
   "source": [
    "import pandas as pd\n",
    "\n",
    "orders_df = pd.read_csv('data/orders.csv', sep=';')\n",
    "orders_df.head()\n"
   ]
  },
  {
   "cell_type": "code",
   "execution_count": 22,
   "metadata": {},
   "outputs": [
    {
     "data": {
      "text/html": [
       "<div>\n",
       "<style scoped>\n",
       "    .dataframe tbody tr th:only-of-type {\n",
       "        vertical-align: middle;\n",
       "    }\n",
       "\n",
       "    .dataframe tbody tr th {\n",
       "        vertical-align: top;\n",
       "    }\n",
       "\n",
       "    .dataframe thead th {\n",
       "        text-align: right;\n",
       "    }\n",
       "</style>\n",
       "<table border=\"1\" class=\"dataframe\">\n",
       "  <thead>\n",
       "    <tr style=\"text-align: right;\">\n",
       "      <th></th>\n",
       "      <th>Product_ID</th>\n",
       "      <th>Name</th>\n",
       "      <th>Price</th>\n",
       "      <th>CURRENCY</th>\n",
       "    </tr>\n",
       "  </thead>\n",
       "  <tbody>\n",
       "    <tr>\n",
       "      <th>0</th>\n",
       "      <td>47</td>\n",
       "      <td>Шатны Полосатый рейс</td>\n",
       "      <td>2999</td>\n",
       "      <td>RUR</td>\n",
       "    </tr>\n",
       "    <tr>\n",
       "      <th>1</th>\n",
       "      <td>51</td>\n",
       "      <td>Платье Аленький цветочек</td>\n",
       "      <td>4999</td>\n",
       "      <td>RUR</td>\n",
       "    </tr>\n",
       "    <tr>\n",
       "      <th>2</th>\n",
       "      <td>53</td>\n",
       "      <td>Штаны Цветочная Поляна</td>\n",
       "      <td>4999</td>\n",
       "      <td>RUR</td>\n",
       "    </tr>\n",
       "    <tr>\n",
       "      <th>3</th>\n",
       "      <td>71</td>\n",
       "      <td>Платье Ночная Жизнь</td>\n",
       "      <td>7999</td>\n",
       "      <td>RUR</td>\n",
       "    </tr>\n",
       "    <tr>\n",
       "      <th>4</th>\n",
       "      <td>74</td>\n",
       "      <td>Платье Ночная Жизнь XXXL</td>\n",
       "      <td>8999</td>\n",
       "      <td>RUR</td>\n",
       "    </tr>\n",
       "  </tbody>\n",
       "</table>\n",
       "</div>"
      ],
      "text/plain": [
       "   Product_ID                      Name  Price CURRENCY\n",
       "0          47      Шатны Полосатый рейс   2999      RUR\n",
       "1          51  Платье Аленький цветочек   4999      RUR\n",
       "2          53    Штаны Цветочная Поляна   4999      RUR\n",
       "3          71       Платье Ночная Жизнь   7999      RUR\n",
       "4          74  Платье Ночная Жизнь XXXL   8999      RUR"
      ]
     },
     "execution_count": 22,
     "metadata": {},
     "output_type": "execute_result"
    }
   ],
   "source": [
    "products_df = pd.read_csv('data/products.csv', sep=';')\n",
    "products_df.head()"
   ]
  },
  {
   "cell_type": "code",
   "execution_count": 28,
   "metadata": {},
   "outputs": [
    {
     "name": "stdout",
     "output_type": "stream",
     "text": [
      "Orders DataFrame columns:\n",
      "Index(['Дата создания', 'Order ID', 'ID Покупателя', 'Статус', 'Оплачен',\n",
      "       'Отменен', 'Отгружен', 'ID товара', 'Количество'],\n",
      "      dtype='object')\n",
      "         Дата создания  Order ID  ID Покупателя                    Статус  \\\n",
      "0  09.11.2019 21:55:51         9             10  Принят, ожидается оплата   \n",
      "1  09.11.2019 15:05:57         8              9  Принят, ожидается оплата   \n",
      "2  09.11.2019 15:05:57         8              9  Принят, ожидается оплата   \n",
      "3  09.11.2019 12:50:07         7              8  Принят, ожидается оплата   \n",
      "4  09.11.2019 12:00:00         6              1  Принят, ожидается оплата   \n",
      "\n",
      "  Оплачен Отменен Отгружен  ID товара  Количество  \n",
      "0     Нет     Нет      Нет        103           5  \n",
      "1     Нет     Нет      Нет         86         100  \n",
      "2     Нет     Нет      Нет        104          10  \n",
      "3     Нет     Нет      Нет        104           7  \n",
      "4     Нет     Нет      Нет        104           5  \n",
      "\n",
      "Products DataFrame columns:\n",
      "Index(['Product_ID', 'Name', 'Price', 'CURRENCY'], dtype='object')\n",
      "   Product_ID                      Name  Price CURRENCY\n",
      "0          47      Шатны Полосатый рейс   2999      RUR\n",
      "1          51  Платье Аленький цветочек   4999      RUR\n",
      "2          53    Штаны Цветочная Поляна   4999      RUR\n",
      "3          71       Платье Ночная Жизнь   7999      RUR\n",
      "4          74  Платье Ночная Жизнь XXXL   8999      RUR\n"
     ]
    }
   ],
   "source": [
    "# 3. Анализируем данные\n",
    "print(\"Orders DataFrame columns:\")\n",
    "print(orders_df.columns)  # Проверяем имена столбцов в таблице заказов\n",
    "print(orders_df.head())   # Проверяем первые строки\n",
    "\n",
    "print(\"\\nProducts DataFrame columns:\")\n",
    "print(products_df.columns)  # Проверяем имена столбцов в таблице продуктов\n",
    "print(products_df.head())   # Проверяем первые строки"
   ]
  },
  {
   "cell_type": "code",
   "execution_count": 30,
   "metadata": {},
   "outputs": [
    {
     "name": "stdout",
     "output_type": "stream",
     "text": [
      "\n",
      "Merged orders_products DataFrame:\n",
      "         Дата создания  Order ID  ID Покупателя                    Статус  \\\n",
      "0  09.11.2019 21:55:51         9             10  Принят, ожидается оплата   \n",
      "1  09.11.2019 15:05:57         8              9  Принят, ожидается оплата   \n",
      "2  09.11.2019 15:05:57         8              9  Принят, ожидается оплата   \n",
      "3  09.11.2019 12:50:07         7              8  Принят, ожидается оплата   \n",
      "4  09.11.2019 12:00:00         6              1  Принят, ожидается оплата   \n",
      "\n",
      "  Оплачен Отменен Отгружен  ID товара  Количество  Product_ID  \\\n",
      "0     Нет     Нет      Нет        103           5         103   \n",
      "1     Нет     Нет      Нет         86         100          86   \n",
      "2     Нет     Нет      Нет        104          10         104   \n",
      "3     Нет     Нет      Нет        104           7         104   \n",
      "4     Нет     Нет      Нет        104           5         104   \n",
      "\n",
      "                    Name  Price CURRENCY  \n",
      "0  Носки Подарочные, муж    199      RUR  \n",
      "1     Носки Простые, муж     45      RUR  \n",
      "2  Носки Подарочные, жен    249      RUR  \n",
      "3  Носки Подарочные, жен    249      RUR  \n",
      "4  Носки Подарочные, жен    249      RUR  \n"
     ]
    }
   ],
   "source": [
    "# Объединяем таблицы, используя правильные столбцы\n",
    "orders_products_df = pd.merge(orders_df, products_df, left_on='ID товара', right_on='Product_ID', how='inner')\n",
    "\n",
    "# Просматриваем результат\n",
    "print(\"\\nMerged orders_products DataFrame:\")\n",
    "print(orders_products_df.head())\n"
   ]
  },
  {
   "cell_type": "code",
   "execution_count": 31,
   "metadata": {},
   "outputs": [
    {
     "name": "stdout",
     "output_type": "stream",
     "text": [
      "\n",
      "Объединённая таблица с заказами и продуктами:\n",
      "         Дата создания  Order ID  ID Покупателя                    Статус  \\\n",
      "0  09.11.2019 21:55:51         9             10  Принят, ожидается оплата   \n",
      "1  09.11.2019 15:05:57         8              9  Принят, ожидается оплата   \n",
      "2  09.11.2019 15:05:57         8              9  Принят, ожидается оплата   \n",
      "3  09.11.2019 12:50:07         7              8  Принят, ожидается оплата   \n",
      "4  09.11.2019 12:00:00         6              1  Принят, ожидается оплата   \n",
      "\n",
      "  Оплачен Отменен Отгружен  ID товара  Количество  Product_ID  \\\n",
      "0     Нет     Нет      Нет        103           5         103   \n",
      "1     Нет     Нет      Нет         86         100          86   \n",
      "2     Нет     Нет      Нет        104          10         104   \n",
      "3     Нет     Нет      Нет        104           7         104   \n",
      "4     Нет     Нет      Нет        104           5         104   \n",
      "\n",
      "                    Name  Price CURRENCY  \n",
      "0  Носки Подарочные, муж    199      RUR  \n",
      "1     Носки Простые, муж     45      RUR  \n",
      "2  Носки Подарочные, жен    249      RUR  \n",
      "3  Носки Подарочные, жен    249      RUR  \n",
      "4  Носки Подарочные, жен    249      RUR  \n"
     ]
    }
   ],
   "source": [
    "# 3. Объединяем таблицы, используя столбцы 'ID товара' и 'Product_ID'\n",
    "orders_products_df = pd.merge(orders_df, products_df, left_on='ID товара', right_on='Product_ID', how='inner')\n",
    "\n",
    "# 4. Фильтруем, чтобы оставить только те строки, где количество заказанных товаров больше 0\n",
    "orders_products_df = orders_products_df[orders_products_df['Количество'] > 0]\n",
    "\n",
    "# 5. Просматриваем результат\n",
    "print(\"\\nОбъединённая таблица с заказами и продуктами:\")\n",
    "print(orders_products_df.head())\n",
    "\n",
    "# 6. Сохраняем результат в новый файл\n",
    "orders_products_df.to_csv('orders_products.csv', index=False)"
   ]
  },
  {
   "cell_type": "markdown",
   "metadata": {},
   "source": [
    "Задание 8\n",
    "\n",
    "Какой идентификатор (Order ID) имеет заказ, для которого не оказалось информации о товаре?"
   ]
  },
  {
   "cell_type": "code",
   "execution_count": 33,
   "metadata": {},
   "outputs": [
    {
     "name": "stdout",
     "output_type": "stream",
     "text": [
      "Нет заказов без информации о товаре.\n"
     ]
    }
   ],
   "source": [
    "# Выполняем left join, чтобы все заказы были в итоговой таблице, а информация о товаре могла быть отсутствующей\n",
    "orders_products_df = pd.merge(orders_df, products_df, left_on='ID товара', right_on='Product_ID', how='left')\n",
    "\n",
    "# Проверяем, есть ли строки, где отсутствуют данные о товаре (NaN в столбце 'Name')\n",
    "missing_product_order = orders_products_df[orders_products_df['Name'].isna()]\n",
    "\n",
    "# Выводим результат\n",
    "if missing_product_order.empty:\n",
    "    print(\"Нет заказов без информации о товаре.\")\n",
    "else:\n",
    "    print(\"Order ID(s) with missing product information:\")\n",
    "    print(missing_product_order['Order ID'])\n"
   ]
  },
  {
   "cell_type": "markdown",
   "metadata": {},
   "source": [
    "Задание 9\n",
    "\n",
    "На какой товар была произведена отмена?\\\n",
    "В качестве ответа запишите название этого товара (Name)."
   ]
  },
  {
   "cell_type": "code",
   "execution_count": 35,
   "metadata": {},
   "outputs": [
    {
     "name": "stdout",
     "output_type": "stream",
     "text": [
      "Товары, на которые была произведена отмена:\n",
      "['Носки беговые Camino']\n"
     ]
    }
   ],
   "source": [
    "# Выполняем left join, чтобы все заказы были в итоговой таблице, а информация о товаре могла быть отсутствующей\n",
    "orders_products_df = pd.merge(orders_df, products_df, left_on='ID товара', right_on='Product_ID', how='left')\n",
    "\n",
    "# Фильтруем заказы, где в столбце 'Отменен' указано 'Да'\n",
    "cancelled_orders = orders_products_df[orders_products_df['Отменен'] == 'Да']\n",
    "\n",
    "# Получаем название товара для этих заказов\n",
    "cancelled_product_names = cancelled_orders['Name'].unique()\n",
    "\n",
    "# Выводим результат\n",
    "print(\"Товары, на которые была произведена отмена:\")\n",
    "print(cancelled_product_names)\n"
   ]
  },
  {
   "cell_type": "markdown",
   "metadata": {},
   "source": [
    "Задание 10\n",
    "\n",
    "Какой покупатель принёс наибольшую суммарную прибыль интернет-магазину за указанный период?\\\n",
    "В ответ запишите идентификатор этого покупателя (ID Покупателя).\\\n",
    "Прибыль состоит только из оплаченных заказов и рассчитывается как количество купленного товара, умноженное на его цену."
   ]
  },
  {
   "cell_type": "code",
   "execution_count": 36,
   "metadata": {},
   "outputs": [
    {
     "name": "stdout",
     "output_type": "stream",
     "text": [
      "Покупатель, принесший наибольшую суммарную прибыль:\n",
      "7\n"
     ]
    },
    {
     "name": "stderr",
     "output_type": "stream",
     "text": [
      "C:\\Users\\1\\AppData\\Local\\Temp\\ipykernel_8416\\3707396887.py:8: SettingWithCopyWarning: \n",
      "A value is trying to be set on a copy of a slice from a DataFrame.\n",
      "Try using .loc[row_indexer,col_indexer] = value instead\n",
      "\n",
      "See the caveats in the documentation: https://pandas.pydata.org/pandas-docs/stable/user_guide/indexing.html#returning-a-view-versus-a-copy\n",
      "  paid_orders['Прибыль'] = paid_orders['Количество'] * paid_orders['Price']\n"
     ]
    }
   ],
   "source": [
    "# Выполняем left join, чтобы все заказы были в итоговой таблице, а информация о товаре могла быть отсутствующей\n",
    "orders_products_df = pd.merge(orders_df, products_df, left_on='ID товара', right_on='Product_ID', how='left')\n",
    "\n",
    "# Фильтруем только оплаченные заказы\n",
    "paid_orders = orders_products_df[orders_products_df['Оплачен'] == 'Да']\n",
    "\n",
    "# Рассчитываем прибыль для каждого заказа (Количество * Цена)\n",
    "paid_orders['Прибыль'] = paid_orders['Количество'] * paid_orders['Price']\n",
    "\n",
    "# Группируем данные по покупателям и суммируем прибыль\n",
    "customer_profit = paid_orders.groupby('ID Покупателя')['Прибыль'].sum()\n",
    "\n",
    "# Находим покупателя с наибольшей суммарной прибылью\n",
    "top_customer_id = customer_profit.idxmax()\n",
    "\n",
    "# Выводим результат\n",
    "print(\"Покупатель, принесший наибольшую суммарную прибыль:\")\n",
    "print(top_customer_id)\n"
   ]
  }
 ],
 "metadata": {
  "kernelspec": {
   "display_name": "Python 3",
   "language": "python",
   "name": "python3"
  },
  "language_info": {
   "codemirror_mode": {
    "name": "ipython",
    "version": 3
   },
   "file_extension": ".py",
   "mimetype": "text/x-python",
   "name": "python",
   "nbconvert_exporter": "python",
   "pygments_lexer": "ipython3",
   "version": "3.13.0"
  }
 },
 "nbformat": 4,
 "nbformat_minor": 2
}
