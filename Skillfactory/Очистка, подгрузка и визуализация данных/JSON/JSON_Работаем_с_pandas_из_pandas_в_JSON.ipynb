{
 "cells": [
  {
   "cell_type": "markdown",
   "metadata": {},
   "source": [
    "# JSON. Работаем с pandas. Из pandas в JSON"
   ]
  },
  {
   "cell_type": "code",
   "execution_count": 1,
   "metadata": {},
   "outputs": [],
   "source": [
    "# Импортируем модуль json\n",
    "import json\n",
    "\n",
    "# Импортируем функцию pprint()\n",
    "from pprint import pprint\n",
    "\n",
    "import pandas as pd"
   ]
  },
  {
   "cell_type": "markdown",
   "metadata": {},
   "source": [
    "ИЗ PANDAS В JSON\n",
    "\n",
    "→ Решим обратную задачу и создадим JSON-файл из сохранённого ранее CSV-файла, который получили в конце предыдущего этапа. \n",
    "\n",
    "Начнём с чтения файла и создания DataFrame на его основе:"
   ]
  },
  {
   "cell_type": "code",
   "execution_count": 2,
   "metadata": {},
   "outputs": [],
   "source": [
    "# Создаём DataFrame, читаем данные из файла в переменную df\n",
    "df = pd.read_csv('recipes.csv')"
   ]
  },
  {
   "cell_type": "markdown",
   "metadata": {},
   "source": [
    "Теперь, используя только данные из этого файла, нам нужно в точности воссоздать структуру исходного JSON-файла. Мы помним, что после десериализации данные представляли собой список, состоящий из словарей. В каждом словаре хранилась информация о рецепте одного блюда. Каждый словарь состоял из трёх пар \"ключ-значение\". Первая пара содержала название кухни, к которой относилось блюдо, вторая — id блюда, и третья — список ингредиентов, входящих в состав блюда.\n",
    "\n",
    "✍️ Поскольку по условию задачи мы не можем использовать предыдущие наработки, давайте начнём с создания списка, содержащего перечень id всех блюд, а также списка ингредиентов, встречающихся в рецептах. Эти списки в дальнейшем мы будем использовать для заполнения JSON-структуры."
   ]
  },
  {
   "cell_type": "markdown",
   "metadata": {},
   "source": [
    "---"
   ]
  },
  {
   "cell_type": "markdown",
   "metadata": {},
   "source": [
    "Задача 1\n",
    "\n",
    "Напишите код для создания списка id всех блюд, нужны только уникальные значения представленных в DataFrame. Результирующий список занесите в переменную ids."
   ]
  },
  {
   "cell_type": "code",
   "execution_count": 3,
   "metadata": {},
   "outputs": [
    {
     "name": "stdout",
     "output_type": "stream",
     "text": [
      "Список уникальных ids: [10259, 25693, 20130, 22213, 13162, 6602, 42779, 3735, 16903, 12734, 5875, 45887, 2698, 41995, 31908, 24717, 34466, 1420, 2941, 8152, 13121, 40523, 40989, 29630, 49136, 26705, 27976, 22087, 9197, 1299, 40429, 34419, 10276, 33465, 39250, 37963, 20051, 11300, 17610, 37405, 28302, 31634, 32304, 36341, 29369, 27564, 18515, 3335, 4499, 4906, 5767, 30748, 35930, 44902, 31119, 3535, 47028, 38112, 2646, 5206, 38233, 39267, 11913, 20591, 70, 43928, 8530, 275, 43769, 49111, 11886, 45839, 699, 24568, 8820, 16582, 9058, 4715, 29061, 2107, 22825, 13758, 6886, 14874, 43399, 38254, 41596, 33989, 17004, 4969, 31831, 46648, 36888, 34471, 25164, 39600, 46357, 46905, 8753, 37337, 17636, 8997, 28851, 4635, 7782, 8031, 49434, 31318, 31027, 47095, 4574, 19757, 35570, 44812, 27858, 18624, 9406, 35132, 33071, 8321, 20955, 45776, 6043, 336, 25751, 793, 34367, 7406, 7473, 7532, 5924, 5802, 41078, 20665, 39471, 9595, 27869, 44776, 17771, 43970, 27165, 11190, 21872, 29853, 1154, 9069, 46975, 4892, 21467, 20919, 42013, 17821, 44138, 5980, 41961, 27008, 31867, 34248, 13792, 38502, 7023, 7783, 2472, 45193, 7501, 34930, 42967, 14080, 45352, 46205, 47427, 40064, 9010, 18611, 35124, 45605, 16334, 32035, 16810, 3641, 43374, 9112, 14970, 41396, 4748, 41833, 18031, 29734, 26415, 29801, 24351, 8480, 27023, 10425, 37188, 24338, 3457, 1355, 40738, 42380, 16857, 2923, 7528, 15990, 27615, 26061, 23053, 5090, 36862, 873, 23726, 48576, 25118, 17586, 22678, 428, 6745, 31009, 20983, 19572, 15273, 14198, 18643, 17816, 46893, 1110, 21375, 42833, 5328, 17188, 19622, 26498, 27140, 32353, 37070, 2298, 15291, 8274, 23521, 28342, 8791, 242, 15347, 20981, 39391, 23147, 44020, 3245, 40403, 33603, 19691, 6862, 20123, 22712, 31428, 9373, 7666, 40617, 26676, 38067, 14778, 636, 35408, 22658, 44866, 18389, 40014, 20863, 35041, 30649, 14351, 14146, 48911, 4252, 46135, 20668, 4009, 40466, 32480, 8223, 4114, 3605, 41363, 23437, 9291, 45423, 31462, 45412, 33048, 42879, 6164, 37704, 29489, 6115, 9829, 36254, 23839, 40283, 11108, 42685, 23629, 36565, 42083, 26032, 19811, 30382, 49175, 41668, 9206, 7322, 23637, 43650, 45593, 38706, 38433, 47826, 7171, 18231, 34385, 12340, 33221, 43228, 3416, 23636, 22822, 801, 42007, 20792, 44500, 19004, 41301, 16712, 28250, 34209, 1667, 48571, 10074, 43711, 6440, 36583, 10003, 24738, 20039, 29446, 45711, 45039, 46417, 48080, 15882, 49263, 45956, 40509, 11665, 22997, 44271, 29887, 1764, 40300, 45296, 24365, 34996, 47623, 26464, 18329, 43437, 25375, 26631, 26172, 19747, 38346, 31903, 12099, 38717, 30335, 15171, 31425, 36118, 18190, 33717, 15460, 21052, 35729, 45841, 1182, 15229, 31209, 18271, 14202, 10111, 1128, 37109, 9952, 11164, 9852, 45574, 22581, 9082, 30985, 42612, 38754, 45037, 33197, 13005, 18203, 10210, 38581, 32489, 26647, 34240, 8579, 49639, 17120, 27213, 18621, 35302, 27648, 17658, 24029, 45990, 20692, 37593, 46635, 20149, 623, 12048, 48523, 16797, 23336, 15645, 39904, 35962, 9138, 47406, 30250, 26545, 13554, 44562, 3820, 49668, 27688, 31969, 33085, 20061, 24552, 27204, 8304, 28063, 38473, 84, 12152, 25201, 22633, 41282, 3040, 29033, 40224, 24640, 49262, 28657, 18842, 27019, 2982, 33222, 39361, 13489, 36461, 20757, 35136, 30327, 43455, 36947, 28056, 7530, 47505, 16520, 35311, 22833, 14398, 29168, 22461, 13615, 6360, 40360, 40182, 31438, 31798, 14342, 14385, 14308, 33841, 12830, 23096, 34026, 30835, 15072, 1121, 18376, 17815, 32878, 24410]\n"
     ]
    }
   ],
   "source": [
    "# Создаём список уникальных id\n",
    "ids = df['id'].drop_duplicates().tolist()\n",
    "\n",
    "# Выводим результат\n",
    "print(f\"Список уникальных ids: {ids}\")"
   ]
  },
  {
   "cell_type": "markdown",
   "metadata": {},
   "source": [
    "Задача 2\n",
    "\n",
    "Напишите код для создания списка ингредиентов всех блюд, представленных в DataFrame. Результирующий список занесите в переменную ingredients."
   ]
  },
  {
   "cell_type": "code",
   "execution_count": 5,
   "metadata": {},
   "outputs": [
    {
     "name": "stdout",
     "output_type": "stream",
     "text": [
      "['juice', 'yellow corn meal', 'white sugar', 'green cardamom', 'yellow onion', 'fresh chives', 'black mustard seeds', 'tortillas', 'refried beans', 'mayonaise', 'coconut cream', 'dried cranberries', 'smoked gouda', 'low salt chicken broth', 'sweet paprika', 'canola oil', 'green pepper', 'cooked quinoa', 'stock', 'bertolli vineyard premium collect marinara with burgundi wine sauc', 'chocolate sauce', 'low-fat buttermilk', 'sesame paste', 'grapeseed oil', 'hass avocado', 'red lentils', 'jaggery', 'Italian parsley leaves', 'boiling water', 'silken tofu', 'banana squash', 'taco sauce', 'mexican chorizo', 'organic chicken', 'chunky peanut butter', 'green tomatoes', 'fresh asparagus', 'chinese five-spice powder', 'green papaya', 'baby spinach leaves', 'soy sauce', 'evaporated milk', 'bean paste', 'ice water', 'whole milk', 'shredded cheddar cheese', 'crabmeat', 'self rising flour', 'rum', 'cracked black pepper', 'guacamole', 'Japanese soy sauce', 'dried thyme', 'pickled jalapenos', 'chopped fresh thyme', 'BertolliВ® Classico Olive Oil', 'wheat germ', 'swiss cheese', 'beef steak', 'panko breadcrumbs', 'dark sesame oil', 'chicken bones', 'unsalted butter', 'kale leaves', 'fresh thyme', 'hot chili', 'pecans', 'roasted tomatoes', 'mini cucumbers', 'bacon drippings', 'kefalotyri', 'grated GruyГЁre cheese', 'shortening', 'beansprouts', 'lemon juice', 'black-eyed peas', 'arborio rice', 'grated orange', 'lasagne', 'dri leav thyme', 'vegetable juice', 'condensed cream of mushroom soup', 'goji berries', 'plain breadcrumbs', 'sambal ulek', 'margarine', 'fillets', 'orange blossom honey', 'bread crumb fresh', 'boiled ham', 'celery', 'sun-dried tomatoes', 'fettuccine pasta', 'cocoa powder', 'cannellini beans', 'red curry paste', 'Gochujang base', 'boneless center cut pork chops', 'udon', 'chicken breast halves', 'nonfat milk', 'shredded Monterey Jack cheese', 'rice paper', 'vegetable stock', 'bosc pears', 'coarse sea salt', 'cornmeal', 'dried shiitake mushrooms', 'red miso', 'tomato paste', 'squabs', 'cinnamon graham crackers', 'extra-virgin olive oil', 'spinach leaves', 'ground black pepper', 'cumin seed', 'romaine lettuce', 'fresh basil leaves', 'buttermilk', 'cactus pad', 'octopuses', 'moong dal', 'grapefruit juice', 'unsalted dry roast peanuts', 'fresh parmesan cheese', 'sliced green onions', 'frozen corn', 'grouper', 'green cardamom pods', 'chopped almonds', 'sun-dried tomatoes in oil', 'cilantro leaves', 'Pillsburyв„ў Refrigerated Crescent Dinner Rolls', 'unsalted cashews', 'caster', 'chicken bouillon', 'extra-lean ground beef', 'almond extract', 'chicken thighs', 'steamed rice', 'parmesan cheese', 'slivered almonds', 'diced bell pepper', 'diced onions', 'thai basil', 'water chestnuts', 'natural yogurt', 'basmati rice', 'daikon', 'active dry yeast', 'chili powder', 'ground cardamom', 'puff pastry', 'kalamata', 'turnips', 'grilled chicken breasts', 'bean threads', 'dill', 'frozen whole kernel corn', 'thyme', 'cauliflower flowerets', 'beer', 'dried red chile peppers', 'Italian seasoned breadcrumbs', 'baby bok choy', 'frozen edamame beans', 'dark rum', 'tomato sauce', 'tomatoes', 'coarse kosher salt', 'steamed white rice', 'Madeira', 'prepared horseradish', 'fresh raspberries', 'penne pasta', 'basil pesto sauce', 'top round steak', 'carbonated beverages', 'asian fish sauce', 'clams', 'colby cheese', 'onions', 'chinese chives', 'plantains', 'soba', 'chopped parsley', 'ground veal', 'spaghetti', 'Mexican cheese blend', 'graham cracker crumbs', 'okra pods', 'granulated sugar', 'baking potatoes', 'erythritol', 'shredded sharp cheddar cheese', 'creole seasoning', 'shrimp and crab boil seasoning', 'toasted sesame oil', 'tapioca starch', 'cooking wine', 'saltines', 'rubbed sage', 'black salt', 'aged gouda', 'red pepper flakes', 'chile sauce', 'shredded cheese', 'mussels', 'green bell pepper, slice', 'mushroom powder', 'Franks Hot Sauce', 'hoisin sauce', 'mirin', 'kasuri methi', 'half & half', 'marinara sauce', 'feta cheese', 'potatoes', 'rhubarb', 'beef shank', 'white vinegar', 'sesame oil', 'pecorino cheese', 'maida flour', 'wheat', 'berries', 'rum extract', 'cream sweeten whip', 'dried tart cherries', 'chicken breasts', 'red kidney beans', 'sour cream', 'boiled eggs', 'brown cardamom', 'eggplant', 'ground allspice', 'strong white bread flour', 'instant yeast', 'shredded cabbage', 'filet', 'crushed red pepper', 'garlic', 'manicotti shells', 'pizza crust', 'extra large eggs', 'vegetable oil cooking spray', 'chili garlic paste', 'seafood seasoning', 'serrano ham', 'ground ginger', 'chili pepper', 'white radish', 'cooking oil', 'iceberg lettuce', 'green chilies', 'mustard greens', 'red wine', '1% low-fat milk', 'watercress', 'chicken', '(    oz.) tomato sauce', 'dry red wine', 'flour tortillas', 'luke warm water', 'boneless skinless chicken', 'salsa verde', 'chuck roast', 'light brown sugar', 'toasted pecans', 'lemon soda', 'cashew nuts', 'curry powder', 'bacon', 'broccoli', 'heavy whipping cream', 'oil', 'chili sauce', 'chipotle chile powder', 'vanilla', 'crema', 'low sodium soy sauce', 'chillies', 'cilantro', 'strawberries', 'bay leaves', 'picante sauce', 'molasses', 'boneless chicken breast', 'thai chile', 'dark soy sauce', 'allspice', 'fennel bulb', 'egg roll wraps', 'andouille sausage links', 'lemon', 'enchilada sauce', 'pork loin chops', 'ground lamb', 'hazelnut oil', 'crushed tomatoes', 'lean ground beef', 'peeled tomatoes', 'yellow peppers', 'white rum', 'chile paste', 'corn starch', 'coconut', 'frozen broad beans', 'rice syrup', 'sugar', 'grana padano', 'ground chicken', 'cold water', 'dark brown sugar', 'green mango', 'boneless chop pork', 'pistachio nuts', 'fish fillets', 'instant espresso powder', 'fat', 'capers', 'McCormick Parsley Flakes', 'fettucine', 'dried rosemary', 'hominy', 'pita bread rounds', 'spareribs', 'arrowroot powder', 'Oscar Mayer Deli Fresh Smoked Ham', 'gingersnap', 'passata', 'brine-cured black olives', 'orange bell pepper', 'kalonji', 'fresh ginger', 'brown mustard seeds', 'shallots', 'mascarpone', 'wheat bran', 'quail', 'olive oil flavored cooking spray', 'linguine', 'beef', 'red chili peppers', 'arugula', 'fresh basil', 'grated parmesan cheese', 'manchego cheese', 'uncooked rigatoni', 'ketchup', 'pimentos', 'chestnut flour', 'andouille sausage', 'fried garlic', 'creole style seasoning', 'reduced sodium soy sauce', 'sweet and sour sauce', 'green bell pepper', 'black sesame seeds', 'leeks', 'vegetable shortening', 'low-fat natural yogurt', 'cheese slices', 'white onion', 'dashi kombu', 'red chili powder', 'water', 'sprinkles', 'peeled fresh ginger', 'gingerroot', 'ground cayenne pepper', 'minced beef', 'dried bonito flakes', 'minced ginger', 'back bacon rashers', 'aioli', 'duck', 'navy beans', 'light sour cream', 'fish sauce', 'wood ear mushrooms', 'snow peas', 'chocolate bars', 'yellowtail', 'beef stock', 'curry paste', 'pesto', 'foie gras', 'mustard powder', 'herbs', 'pork', 'button mushrooms', 'dried basil', 'maple syrup', 'crema mexicana', 'fine sea salt', 'vegetables', 'ground flaxseed', 'boneless skinless chicken breasts', 'reduced fat milk', 'leg of lamb', 'pasta water', 'english muffins, split and toasted', 'black bean sauce', 'straw mushrooms', 'orange juice concentrate', 'ground pepper', 'chorizo spanish', 'white sandwich bread', 'Crystal Farms Butter', 'tomato ketchup', 'blueberri preserv', 'crusty rolls', 'thyme sprigs', 'red cabbage', 'garlic cloves', 'grate lime peel', 'oysters', 'potato starch', 'golden brown sugar', 'marshmallows', 'green peppercorns', 'soppressata', 'whipping cream', 'fennel seeds', 'dry white wine', 'chicken noodle soup', 'natural peanut butter', 'zinfandel', 'fresh salmon', 'toasted sesame seeds', 'vidalia onion', 'white wine', 'rice wine', 'mango', 'napa cabbage leaves', 'garlic salt', 'instant espresso granules', 'pepper', 'grated nutmeg', 'lemon grass', 'fresh lemon juice', 'baby arugula', 'chocolate morsels', 'confit', 'rock sugar', 'gluten-free hoisin sauce', 'kidney beans', 'skirt steak', 'cremini mushrooms', 'saffron threads', 'unsweetened cocoa powder', 'semi-sweet chocolate morsels', 'nori', 'mushrooms', 'cauliflower florets', 'shredded coconut', 'Turkish bay leaves', 'fresh coriander', 'thyme leaves', 'galangal', 'skinless chicken breasts', 'table cream', 'ground cumin', 'crГЁme fraГ®che', 'coconut aminos', 'monterey jack', 'steak', 'smoked streaky bacon', 'skim milk', 'peanut oil', 'dried chickpeas', 'fresh lime juice', 'bamboo shoots', 'sourdough baguette', 'cayenne', 'asparagus', 'sweet cherries', 'boneless rib eye steaks', 'jalapeno chilies', 'round steaks', 'Fuyu persimmons', 'plain whole-milk yogurt', 'Boston lettuce', 'wish bone guacamol ranch dress', 'pineapple juice', 'chinese rice wine', 'food colouring', 'prepared pizza crust', 'frosting', 'kale', 'oyster sauce', 'lasagna noodles', 'liquorice', 'fresh pineapple', 'smoked paprika', 'hazelnuts', 'white almond bark', 'sherry vinegar', 'edamame', 'free range egg', 'asparagus spears', 'catfish', 'Guinness Lager', 'white bread', 'beef rib short', 'pico de gallo', 'coriander seeds', 'roasted garlic', 'garlic chili sauce', 'corn', 'double cream', 'sliced almonds', 'lettuce', 'chopped walnuts', 'vinaigrette dressing', 'penne rigate', 'scallions', 'peanut sauce', 'duck fat', 'red kidnei beans, rins and drain', 'italian style rolls', 'collard greens', 'cooking spray', 'chicken stock', 'Flora Cuisine', 'hot sauce', 'ice', 'sliced chicken', 'gluten-free tamari', 'chuck', 'jumbo shrimp', 'cayenne pepper', 'sliced mushrooms', 'club soda', 'liquid', 'large egg yolks', 'frozen peas and carrots', 'caul fat', 'tomatillos', 'shredded mozzarella cheese', 'barley', 'low-fat milk', 'sourdough', 'bay leaf', 'jamaican jerk season', 'chocolate instant pudding', 'pork tenderloin', 'black pepper', 'wasabi', 'scallion greens', 'mung bean sprouts', 'basil leaves', 'cracker crumbs', 'egg noodles', 'boneless chicken skinless thigh', 'curry', 'garlic powder', 'whole peeled tomatoes', 'pasta sauce', 'sea scallops', 'starchy potatoes', 'sheepвЂ™s milk cheese', 'lump crab meat', 'mandarin oranges', 'cardamom pods', 'fresh tarragon', 'Corn Flakes Cereal', 'grated orange peel', 'vanilla extract', 'brown sugar', 'low-fat mayonnaise', 'chinese noodles', 'szechwan peppercorns', 'corn flour', 'chinese cabbage', 'cooked shrimp', 'burger buns', 'rosemary leaves', 'turbinado', 'shiso', 'crab meat', 'celery salt', 'fresh cilantro', 'greek yogurt', 'red bell pepper', 'louisiana hot sauce', 'long grain white rice', 'Thai fish sauce', 'cheese ravioli', 'pistachios', 'buckwheat noodles', 'ramps', 'guajillo', 'canned low sodium chicken broth', 'vegetable oil', 'uncook medium shrimp, peel and devein', 'whole grain thin spaghetti', 'lentils', 'bread flour', 'boiling potatoes', 'capicola', 'lemon olive oil', 'golden raisins', 'ground white pepper', 'tomatillo salsa', 'olive oil', 'cream cheese, soften', 'peanuts', 'salt and ground black pepper', 'epazote', 'lemongrass', 'superfine sugar', 'mace', 'kahlГєa', 'refrigerated piecrusts', 'seaweed', 'ginger juice', 'rice noodles', 'miso paste', 'chili', 'pesto sauce', 'dipping sauces', 'chicken livers', 'chile pepper', 'wheat flour', 'masa', 'chickpeas', 'minced garlic', 'unsweetened coconut milk', 'lime juice', 'oregano', 'apple cider', 'sundried tomato paste', 'russet potatoes', 'wasabi paste', 'chicken legs', 'brewed tea', 'Crystal Farms Shredded Gouda Cheese', 'all-purpose flour', 'rose petals', 'applewood smoked bacon', 'cherry tomatoes', 'chili paste with garlic', 'pasilla pepper', 'kosher salt', 'chopped fresh chives', 'shredded lettuce', 'sweet onion', 'water chestnuts, drained and chopped', 'champagne vinegar', 'lemon zest', 'butter', 'pearl barley', 'instant espresso', 'konbu', 'medium eggs', 'leaves', 'fresh thyme leaves', 'grated lemon peel', 'pitted olives', 'safflower oil', 'rice', 'raspberries', 'hibiscus', 'quinoa', 'whole milk ricotta cheese', 'horseradish', 'asiago', 'canned corn', 'ground coriander', 'apple cider vinegar', 'fenugreek leaves', 'white hominy', 'coffee beans', 'pickled carrots', 'italian salad dressing mix', 'sirloin tip roast', 'bread crumbs', 'gari', 'pineapple preserves', 'corn tortillas', 'rice cakes', 'fat free yogurt', 'instant butterscotch pudding mix', 'carrots', 'taco seasoning', 'espresso', 'porcini', 'lemon curd', 'SargentoВ® Traditional Cut Shredded Mozzarella Cheese', 'granny smith apples', 'white wine vinegar', 'bacon slices', 'canned beef broth', 'english cucumber', 'low sodium chicken broth', 'refrigerated crescent rolls', 'cream of chicken soup', 'baking powder', 'fire roasted diced tomatoes', 'tomato purГ©e', 'kimchi', 'pasta', 'apricot preserves', 'vermicelli noodles', 'fresh parsley', 'firmly packed brown sugar', 'greens', 'frozen chopped spinach', 'membrillo', 'beans', 'green peas', 'salmon steaks', 'duck breast halves', 'orange', 'pickapeppa sauce', 'drumstick', 'granulated garlic', 'saffron', 'fresh spinach', 'dashi', 'mixed spice', 'glass noodles', 'tuna fillets', 'egg bread', 'chipotle chile', 'cream', 'persian cucumber', 'veal cutlets', 'Old El Paso Flour Tortillas', 'thai green curry paste', 'ricotta', 'pinenuts', 'anchovy fillets', 'palm sugar', 'cooked chicken', 'coconut milk', 'flat leaf parsley', 'fat free milk', 'crab boil', 'breakfast sausages', 'tamarind paste', 'queso fresco', 'dried mint flakes', 'baby potatoes', 'parsley leaves', 'pork loin', 'veal chops', 'parsley', 'tamari soy sauce', 'yellow crookneck squash', 'fat-free cottage cheese', 'creole mustard', 'frozen spinach', 'fingerling potatoes', 'turnip greens', 'hot pepper sauce', 'okra', 'yellow cake mix', 'frozen pastry puff sheets', 'mozzarella balls', 'butternut squash', 'lime zest', 'eau de vie', 'dried cherry', 'mint leaves', 'bone-in chicken breasts', 'double-acting baking powder', 'avocado', 'eggs', 'jasmine rice', 'rice vinegar', 'baking apples', 'star anise', 'yukon gold potatoes', 'medium shrimp', 'fresh mint', 'powdered sugar', 'unflavored gelatin', 'sirloin', 'red enchilada sauce', 'Mexican beer', 'lettuce leaves', 'chopped fresh sage', 'allspice berries', 'chipotle', 'figs', 'rib', 'cucumber', 'tuna', 'glutinous rice flour', 'Shaoxing wine', 'finely chopped onion', 'sesame salt', 'fresh ginger root', 'taco seasoning mix', 'tofu', 'serrano', 'fresh dill', 'chopped celery', 'ham', 'dried chile', 'wax beans', 'large egg whites', 'demerara sugar', 'red pepper', 'fava beans', 'adobo sauce', 'chopped onion', 'white corn tortillas', 'jeera', 'frozen peas', 'bone in chicken thighs', 'white rice', 'zucchini', 'part-skim ricotta cheese', 'chili flakes', 'plum tomatoes', 'red radishes', 'chicken cutlets', 'fontina', 'hoagie rolls', 'chili paste', 'capsicum', 'cane sugar', 'onion powder', 'oil cured olives', 'shell-on shrimp', 'pork ribs', 'dried chile peppers', 'white cornmeal', 'dinner rolls', 'cinnamon', 'ham hock', 'instant white rice', 'dried currants', 'firm tofu', 'fat free cream cheese', 'nutmeg', 'fat free less sodium chicken broth', 'masa harina', 'diced tomatoes', 'semisweet chocolate', 'chopped nuts', 'almond flour', 'hot bean paste', 'bok choy', 'black beans', 'salami', 'biscuits', 'chopped pecans', 'chili oil', 'orzo pasta', 'white sesame seeds', 'flank steak', 'fresh veget', 'polenta', 'fennel', 'hot water', 'roasted peanuts', 'chinese black bean', 'jack cheese', 'softened butter', 'pitted kalamata olives', 'plain flour', 'bacon, crisp-cooked and crumbled', 'torn romain lettuc leav', 'reduced sodium chicken broth', 'tumeric', 'noodles', 'flax seed meal', 'pumpkin purГ©e', 'tea bags', 'dough', 'red chile powder', 'chile powder', 'almonds', 'dried dillweed', 'semolina', 'quickcooking grits', 'pecan halves', 'bread', 'coffee ice cream', 'smoked trout', 'Italian bread', 'prawns', 'long-grain rice', 'hot red pepper flakes', 'whole nutmegs', 'coconut flour', 'chees fresco queso', 'chicken broth', 'rib eye steaks', 'vanilla lowfat yogurt', 'hearts of palm', 'shiitake', 'marshmallow creme', 'fresh fava bean', 'organic sugar', 'florets', 'Taiwanese bok choy', 'sake', 'napa cabbage', 'canned black beans', 'egg roll wrappers', 'bird chile', 'spinach', 'green chile', 'ras el hanout', 'rolls', 'tamarind', 'fresh herbs', 'anise', 'light brown muscavado sugar', 'sage leaves', 'ground nutmeg', 'coconut oil', 'green onions', 'mozzarella cheese', 'brie cheese', 'slaw mix', 'Tabasco Pepper Sauce', 'pecan pie', 'balsamic vinegar', 'portabello mushroom', 'ricotta cheese', 'white miso', 'mixed mushrooms', 'reduced fat swiss cheese', 'ancho powder', 'chipotle peppers', 'butter lettuce', 'green beans', 'purple onion', 'old bay seasoning', 'oven-ready lasagna noodles', 'wide rice noodles', 'chiles', 'yoghurt', 'red wine vinegar', 'confectioners sugar', 'prosciutto', 'cumin', 'piloncillo', 'lamb neck fillets', 'fresh oregano', 'cornflour', 'chipotles in adobo', 'apples', 'provolone cheese', 'kielbasa', 'fresh tomatoes', 'seasoning salt', 'country ham', 'summer squash', 'diced celery', 'goat cheese', 'harissa', 'mustard', 'freshly grated parmesan', 'baby spinach', 'ginger', 'dry mustard', 'barbecue sauce', 'smoked ham hocks', 'peanut butter', 'bittersweet chocolate', 'branzino fillets', 'light soy sauce', 'chives', 'kiwi', 'short-grain rice', 'Philadelphia Cream Cheese', 'chestnuts', 'tortilla chips', 'sea salt', 'romano cheese', 'walnuts', 'orange juice', 'orzo', 'large eggs', 'fruit', 'seasoning', 'french bread', 'salad', 'kaffir lime leaves', 'freshly ground pepper', 'yellow squash', 'pasta sheets', 'pickled vegetables', 'angel food cake', 'coconut sugar', 'vinegar', 'annatto oil', 'artichokes', 'corn kernels', 'sticky rice', 'fresh rosemary', 'couscous', 'pears', 'lime', 'poblano chiles', 'store bought low sodium chicken stock', 'baking soda', 'fat free less sodium beef broth', 'honey', 'sourdough loaf', 'soba noodles', 'heavy cream', 'ground pork', 'frozen whipped topping', 'clove', 'crusty bread', 'cinnamon sticks', 'jicama', 'boneless skinless chicken breast halves', 'creamy peanut butter', 'bottled clam juice', 'fresh lime', 'italian seasoning', 'hard-boiled egg', 'fresh leav spinach', 'pappardelle', 'worcestershire sauce', 'chopped garlic', 'chunky salsa', 'shrimp', 'spam', 'vine ripened tomatoes', 'paneer cheese', 'pork chops', 'radicchio', 'chicken tenderloin', 'fresh lemon', 'sausages', 'hoagie buns', 'chopped tomatoes', 'dried black mushrooms', 'sherry', 'mint', 'genoa salami', 'sunflower oil', 'ancho chile pepper', 'plain yogurt', 'chopped cilantro', 'baguette', 'garlic puree', 'chicken wings', 'zesty italian dressing', 'amchur', 'pound cake', 'pork shoulder roast', 'cooked rice', 'cinnamon sugar', 'curry leaves', 'coarse salt', 'demi-glace', 'pepperoni', 'sweetened condensed milk', 'paprika', 'finely chopped fresh parsley', 'sweet potatoes', 'lemon slices', 'wakame', 'ground turmeric', 'ranch dressing', 'ground cinnamon', 'rice flour', 'salted roast peanuts', 'red potato', 'skinless chicken thighs', 'romaine lettuce leaves', 'toasted cashews', 'seasoned rice wine vinegar', 'cardamom', 'extra firm tofu', 'broiler-fryer chicken', 'pitas', 'Korean chile flakes', 'jam', 'lard', 'asian pear', 'dried porcini mushrooms', 'fat-free mayonnaise', 'cranberry sauce', 'hamburger buns', 'urad dal', 'pickled jalapeno peppers', 'whole wheat flour', 'raisins', 'seasoned bread crumbs', 'chopped cilantro fresh', 'boneless pork loin', 'peppercorns', 'dressing', 'small red potato', 'margarita mix', 'gnocchi', 'olive oil cooking spray', 'phyllo', 'lean steak', 'swiss chard', 'grating cheese', 'stuffing', 'fat skimmed chicken broth', 'italian seasoning mix', 'nonstick spray', 'orange liqueur', 'myzithra', 'chopped fresh mint', 'whiskey', 'broccolini', 'trout fillet', 'grape tomatoes', 'lean ground pork', 'cooked brown rice', 'tamarind pulp', 'bell pepper', 'sweet chili sauce', 'meat bones', 'extra sharp cheddar cheese', 'vermicelli', 'milk', 'cooked white rice', 'dijon mustard', 'Old El Pasoв„ў mild red enchilada sauce', 'string beans', 'savoy cabbage', 'matcha green tea powder', 'cabbage', 'low sodium beef broth', 'preserved lemon', 'sauce', 'fenugreek seeds', 'reduced sodium tamari', 'condensed cream of chicken soup', 'spring onions', 'mustard oil', 'serrano chile', 'orange zest', 'California bay leaves', 'mustard seeds', 'egg yolks', 'calimyrna figs', 'margarita salt', 'pepitas', 'non-fat sour cream', 'chocolate covered coffee beans', 'onion tops', 'Johnsonville Andouille Dinner Sausage', 'chorizo sausage', 'green curry paste', 'fry mix', 'grits', 'chopped green bell pepper', 'coriander', 'spring roll wrappers', 'whole kernel corn, drain', 'dried kidney beans', 'grated lemon zest', 'vegetable broth', 'cream of tartar', 'ground cloves', 'solid pack pumpkin', 'giardiniera', 'haricots verts', 'Himalayan salt', 'fenugreek', 'coriander powder', 'warm water', 'ghee', 'dry sherry', 'ice cubes', 'roasted salted cashews', 'celery ribs', 'cider vinegar', 'chicken fingers', 'caramel sauce', 'blackberries', 'crushed garlic', 'ricotta salata', 'lemon cucumber', 'ground red pepper', 'bourbon whiskey', 'fresh red chili', '2% reduced-fat milk', 'yellow mustard', 'chopped green chilies', 'dry bread crumbs', 'salted butter', 'cheddar cheese', 'minced onion', 'garam masala', 'sweet pepper', 'golden delicious apples', 'melted butter', 'baby carrots', 'spices', 'fresh bay leaves', 'cake flour', 'ground turkey', 'short rib', 'plum sauce', 'Sriracha', 'bread slices', 'kecap manis', 'frozen blueberries', 'candied orange peel', 'corn chips', 'large garlic cloves', 'vidalia', 'corn oil', 'roasted red peppers', 'lo mein noodles', 'crust', 'mixed greens', 'feta cheese crumbles', 'ciabatta', 'crumbled blue cheese', 'pasta rotel', 'large shrimp', 'parmigiano reggiano cheese', 'pork shoulder', 'lamb', 'salmon fillets', 'naan', 'sausage casings', 'cauliflower', 'tuna steaks', 'gruyere cheese', 'crawfish', 'blood orange', 'Smithfield Ham', 'olives', 'vegan margarine', 'basil', 'caster sugar', 'low-fat sour cream', 'steel-cut oats', 'fat-free refried beans', 'cream cheese', 'condiments', 'soft fresh goat cheese', 'cajun seasoning', 'chicken leg quarters', 'tequila', 'grated jack cheese', 'coleslaw', 'boneless chicken thighs', 'chickpea flour', 'cheese tortellini', 'pickles', 'Mexican cheese', 'arame', 'poblano peppers', 'crushed red pepper flakes', 'dried oregano', 'medjool date', 'spicy brown mustard', 'condensed cheddar cheese soup', 'shredded carrots', 'yellow bell pepper', 'boneless beef short ribs', 'flour', 'cooked ham', 'wonton wrappers', 'roma tomatoes', 'ground beef', 'salsa', 'pepper flakes', 'rosemary sprigs', 'italian sausage', 'black olives', 'lime wedges', 'peaches', 'catfish fillets', 'tostada shells', 'chorizo', 'karashi', 'garlic paste', 'egg whites', 'lager beer', 'part-skim mozzarella cheese', 'cod', 'coconut vinegar', 'artichoke hearts', 'red beans', 'sesame seeds', 'black peppercorns', 'white pepper', 'garbanzo beans', 'corn syrup', 'penne', 'fresh mushrooms', 'ginger paste', 'lower sodium chicken broth', 'ground meat', 'cheese', 'red beets', 'unsalted roasted peanuts', 'parsnips', 'great northern beans', 'pecorino romano cheese', 'kashmiri chile', 'lower sodium soy sauce', 'asparagus tips', 'jambalaya rice mix', 'light pancake syrup', 'sharp cheddar cheese', 'broccoli rabe', 'radishes', 'salt', 'dry vermouth', 'chicken drumsticks', 'sliced black olives', 'tahini', 'whole wheat pasta']\n"
     ]
    }
   ],
   "source": [
    "ingredients = list(df.columns)[3:] # Создаем список уникальных значений ингредиентов\n",
    "print(ingredients)"
   ]
  },
  {
   "cell_type": "markdown",
   "metadata": {},
   "source": [
    "---"
   ]
  },
  {
   "cell_type": "markdown",
   "metadata": {},
   "source": [
    "→ Отлично! Теперь мы можем использовать подготовленные списки ids и ingredients для непосредственного создания JSON-структуры.\n",
    "\n",
    "После десериализации JSON-файла мы получили структуру, представляющую собой список, состоящий из словарей. Каждый словарь состоял из трёх пар \"ключ-значение\", при этом в качестве значений выступали:\n",
    "* целое число (id блюда);\n",
    "* строковая величина (тип кухни);\n",
    "* список строковых величин (перечень ингредиентов).\n",
    "\n",
    "Сейчас нам предстоит воссоздать эту структуру, извлекая данные из DataFrame. Для этого необходимо создать:\n",
    "* пустой список new_recipes — для хранения итоговой структуры;\n",
    "* используя код из Задачи 7.1, список ids — для хранения id всех блюд;\n",
    "* используя код из Задачи 7.2, список ingredients — для хранения названий всех ингредиентов.\n",
    "\n",
    "✍️ Далее необходимо реализовать следующий алгоритм:\n",
    "\n",
    "1. Написать код функции make_list(), которая принимает на вход строку DataFrame df, содержащую полные данные об одном блюде, и возвращает перечень ингредиентов, входящих в состав этого блюда в виде списка.\n",
    "2. Организовать цикл с параметром, в котором будут перебираться элементы списка ids. В результате в процессе прохождения цикла параметр должен принять значение id каждого блюда.\n",
    "3. На каждом шаге цикла создать словарь, содержащий три пары \"ключ-значение\":\n",
    "* ключу \"id\" присвоить текущее значение параметра цикла как целого числа;\n",
    "* ключу \"cuisine\" присвоить значение соответствующей кухни, которое мы получим, применив фильтр по текущему id к DataFrame df;\n",
    "* ключу \"ingredients\" присвоить значение списка, воспользовавшись функцией make_list(), созданной на первом шаге алгоритма.\n",
    "4. Каждый созданный словарь добавить к списку new_recipes:"
   ]
  },
  {
   "cell_type": "code",
   "execution_count": 8,
   "metadata": {},
   "outputs": [
    {
     "name": "stdout",
     "output_type": "stream",
     "text": [
      "[{'id': 10259, 'cuisine': 'greek', 'ingredients': []}, {'id': 25693, 'cuisine': 'southern_us', 'ingredients': []}, {'id': 20130, 'cuisine': 'filipino', 'ingredients': []}, {'id': 22213, 'cuisine': 'indian', 'ingredients': []}, {'id': 13162, 'cuisine': 'indian', 'ingredients': []}, {'id': 6602, 'cuisine': 'jamaican', 'ingredients': []}, {'id': 42779, 'cuisine': 'spanish', 'ingredients': []}, {'id': 3735, 'cuisine': 'italian', 'ingredients': []}, {'id': 16903, 'cuisine': 'mexican', 'ingredients': []}, {'id': 12734, 'cuisine': 'italian', 'ingredients': []}, {'id': 5875, 'cuisine': 'italian', 'ingredients': []}, {'id': 45887, 'cuisine': 'chinese', 'ingredients': []}, {'id': 2698, 'cuisine': 'italian', 'ingredients': []}, {'id': 41995, 'cuisine': 'mexican', 'ingredients': []}, {'id': 31908, 'cuisine': 'italian', 'ingredients': []}, {'id': 24717, 'cuisine': 'indian', 'ingredients': []}, {'id': 34466, 'cuisine': 'british', 'ingredients': []}, {'id': 1420, 'cuisine': 'italian', 'ingredients': []}, {'id': 2941, 'cuisine': 'thai', 'ingredients': []}, {'id': 8152, 'cuisine': 'vietnamese', 'ingredients': []}, {'id': 13121, 'cuisine': 'thai', 'ingredients': []}, {'id': 40523, 'cuisine': 'mexican', 'ingredients': []}, {'id': 40989, 'cuisine': 'southern_us', 'ingredients': []}, {'id': 29630, 'cuisine': 'chinese', 'ingredients': []}, {'id': 49136, 'cuisine': 'italian', 'ingredients': []}, {'id': 26705, 'cuisine': 'chinese', 'ingredients': []}, {'id': 27976, 'cuisine': 'cajun_creole', 'ingredients': []}, {'id': 22087, 'cuisine': 'italian', 'ingredients': []}, {'id': 9197, 'cuisine': 'chinese', 'ingredients': []}, {'id': 1299, 'cuisine': 'mexican', 'ingredients': []}, {'id': 40429, 'cuisine': 'italian', 'ingredients': []}, {'id': 34419, 'cuisine': 'cajun_creole', 'ingredients': []}, {'id': 10276, 'cuisine': 'mexican', 'ingredients': []}, {'id': 33465, 'cuisine': 'thai', 'ingredients': []}, {'id': 39250, 'cuisine': 'italian', 'ingredients': []}, {'id': 37963, 'cuisine': 'cajun_creole', 'ingredients': []}, {'id': 20051, 'cuisine': 'italian', 'ingredients': []}, {'id': 11300, 'cuisine': 'filipino', 'ingredients': []}, {'id': 17610, 'cuisine': 'southern_us', 'ingredients': []}, {'id': 37405, 'cuisine': 'southern_us', 'ingredients': []}, {'id': 28302, 'cuisine': 'italian', 'ingredients': []}, {'id': 31634, 'cuisine': 'brazilian', 'ingredients': []}, {'id': 32304, 'cuisine': 'mexican', 'ingredients': []}, {'id': 36341, 'cuisine': 'indian', 'ingredients': []}, {'id': 29369, 'cuisine': 'mexican', 'ingredients': []}, {'id': 27564, 'cuisine': 'chinese', 'ingredients': []}, {'id': 18515, 'cuisine': 'french', 'ingredients': []}, {'id': 3335, 'cuisine': 'southern_us', 'ingredients': []}, {'id': 4499, 'cuisine': 'southern_us', 'ingredients': []}, {'id': 4906, 'cuisine': 'southern_us', 'ingredients': []}, {'id': 5767, 'cuisine': 'japanese', 'ingredients': []}, {'id': 30748, 'cuisine': 'southern_us', 'ingredients': []}, {'id': 35930, 'cuisine': 'italian', 'ingredients': []}, {'id': 44902, 'cuisine': 'southern_us', 'ingredients': []}, {'id': 31119, 'cuisine': 'italian', 'ingredients': []}, {'id': 3535, 'cuisine': 'jamaican', 'ingredients': []}, {'id': 47028, 'cuisine': 'japanese', 'ingredients': []}, {'id': 38112, 'cuisine': 'indian', 'ingredients': []}, {'id': 2646, 'cuisine': 'italian', 'ingredients': []}, {'id': 5206, 'cuisine': 'irish', 'ingredients': []}, {'id': 38233, 'cuisine': 'thai', 'ingredients': []}, {'id': 39267, 'cuisine': 'thai', 'ingredients': []}, {'id': 11913, 'cuisine': 'indian', 'ingredients': []}, {'id': 20591, 'cuisine': 'jamaican', 'ingredients': []}, {'id': 70, 'cuisine': 'italian', 'ingredients': []}, {'id': 43928, 'cuisine': 'thai', 'ingredients': []}, {'id': 8530, 'cuisine': 'korean', 'ingredients': []}, {'id': 275, 'cuisine': 'french', 'ingredients': []}, {'id': 43769, 'cuisine': 'french', 'ingredients': []}, {'id': 49111, 'cuisine': 'southern_us', 'ingredients': []}, {'id': 11886, 'cuisine': 'spanish', 'ingredients': []}, {'id': 45839, 'cuisine': 'indian', 'ingredients': []}, {'id': 699, 'cuisine': 'moroccan', 'ingredients': []}, {'id': 24568, 'cuisine': 'italian', 'ingredients': []}, {'id': 8820, 'cuisine': 'italian', 'ingredients': []}, {'id': 16582, 'cuisine': 'moroccan', 'ingredients': []}, {'id': 9058, 'cuisine': 'moroccan', 'ingredients': []}, {'id': 4715, 'cuisine': 'vietnamese', 'ingredients': []}, {'id': 29061, 'cuisine': 'japanese', 'ingredients': []}, {'id': 2107, 'cuisine': 'mexican', 'ingredients': []}, {'id': 22825, 'cuisine': 'cajun_creole', 'ingredients': []}, {'id': 13758, 'cuisine': 'southern_us', 'ingredients': []}, {'id': 6886, 'cuisine': 'french', 'ingredients': []}, {'id': 14874, 'cuisine': 'indian', 'ingredients': []}, {'id': 43399, 'cuisine': 'indian', 'ingredients': []}, {'id': 38254, 'cuisine': 'italian', 'ingredients': []}, {'id': 41596, 'cuisine': 'italian', 'ingredients': []}, {'id': 33989, 'cuisine': 'indian', 'ingredients': []}, {'id': 17004, 'cuisine': 'korean', 'ingredients': []}, {'id': 4969, 'cuisine': 'spanish', 'ingredients': []}, {'id': 31831, 'cuisine': 'italian', 'ingredients': []}, {'id': 46648, 'cuisine': 'southern_us', 'ingredients': []}, {'id': 36888, 'cuisine': 'southern_us', 'ingredients': []}, {'id': 34471, 'cuisine': 'greek', 'ingredients': []}, {'id': 25164, 'cuisine': 'mexican', 'ingredients': []}, {'id': 39600, 'cuisine': 'mexican', 'ingredients': []}, {'id': 46357, 'cuisine': 'southern_us', 'ingredients': []}, {'id': 46905, 'cuisine': 'indian', 'ingredients': []}, {'id': 8753, 'cuisine': 'italian', 'ingredients': []}, {'id': 37337, 'cuisine': 'italian', 'ingredients': []}, {'id': 17636, 'cuisine': 'italian', 'ingredients': []}, {'id': 8997, 'cuisine': 'japanese', 'ingredients': []}, {'id': 28851, 'cuisine': 'italian', 'ingredients': []}, {'id': 4635, 'cuisine': 'greek', 'ingredients': []}, {'id': 7782, 'cuisine': 'korean', 'ingredients': []}, {'id': 8031, 'cuisine': 'indian', 'ingredients': []}, {'id': 49434, 'cuisine': 'mexican', 'ingredients': []}, {'id': 31318, 'cuisine': 'southern_us', 'ingredients': []}, {'id': 31027, 'cuisine': 'irish', 'ingredients': []}, {'id': 47095, 'cuisine': 'korean', 'ingredients': []}, {'id': 4574, 'cuisine': 'chinese', 'ingredients': []}, {'id': 19757, 'cuisine': 'mexican', 'ingredients': []}, {'id': 35570, 'cuisine': 'southern_us', 'ingredients': []}, {'id': 44812, 'cuisine': 'chinese', 'ingredients': []}, {'id': 27858, 'cuisine': 'moroccan', 'ingredients': []}, {'id': 18624, 'cuisine': 'irish', 'ingredients': []}, {'id': 9406, 'cuisine': 'chinese', 'ingredients': []}, {'id': 35132, 'cuisine': 'irish', 'ingredients': []}, {'id': 33071, 'cuisine': 'mexican', 'ingredients': []}, {'id': 8321, 'cuisine': 'italian', 'ingredients': []}, {'id': 20955, 'cuisine': 'italian', 'ingredients': []}, {'id': 45776, 'cuisine': 'italian', 'ingredients': []}, {'id': 6043, 'cuisine': 'jamaican', 'ingredients': []}, {'id': 336, 'cuisine': 'mexican', 'ingredients': []}, {'id': 25751, 'cuisine': 'japanese', 'ingredients': []}, {'id': 793, 'cuisine': 'spanish', 'ingredients': []}, {'id': 34367, 'cuisine': 'chinese', 'ingredients': []}, {'id': 7406, 'cuisine': 'mexican', 'ingredients': []}, {'id': 7473, 'cuisine': 'british', 'ingredients': []}, {'id': 7532, 'cuisine': 'indian', 'ingredients': []}, {'id': 5924, 'cuisine': 'thai', 'ingredients': []}, {'id': 5802, 'cuisine': 'southern_us', 'ingredients': []}, {'id': 41078, 'cuisine': 'mexican', 'ingredients': []}, {'id': 20665, 'cuisine': 'spanish', 'ingredients': []}, {'id': 39471, 'cuisine': 'french', 'ingredients': []}, {'id': 9595, 'cuisine': 'italian', 'ingredients': []}, {'id': 27869, 'cuisine': 'indian', 'ingredients': []}, {'id': 44776, 'cuisine': 'british', 'ingredients': []}, {'id': 17771, 'cuisine': 'spanish', 'ingredients': []}, {'id': 43970, 'cuisine': 'italian', 'ingredients': []}, {'id': 27165, 'cuisine': 'korean', 'ingredients': []}, {'id': 11190, 'cuisine': 'indian', 'ingredients': []}, {'id': 21872, 'cuisine': 'mexican', 'ingredients': []}, {'id': 29853, 'cuisine': 'mexican', 'ingredients': []}, {'id': 1154, 'cuisine': 'southern_us', 'ingredients': []}, {'id': 9069, 'cuisine': 'french', 'ingredients': []}, {'id': 46975, 'cuisine': 'cajun_creole', 'ingredients': []}, {'id': 4892, 'cuisine': 'indian', 'ingredients': []}, {'id': 21467, 'cuisine': 'chinese', 'ingredients': []}, {'id': 20919, 'cuisine': 'italian', 'ingredients': []}, {'id': 42013, 'cuisine': 'italian', 'ingredients': []}, {'id': 17821, 'cuisine': 'italian', 'ingredients': []}, {'id': 44138, 'cuisine': 'southern_us', 'ingredients': []}, {'id': 5980, 'cuisine': 'greek', 'ingredients': []}, {'id': 41961, 'cuisine': 'japanese', 'ingredients': []}, {'id': 27008, 'cuisine': 'cajun_creole', 'ingredients': []}, {'id': 31867, 'cuisine': 'italian', 'ingredients': []}, {'id': 34248, 'cuisine': 'korean', 'ingredients': []}, {'id': 13792, 'cuisine': 'mexican', 'ingredients': []}, {'id': 38502, 'cuisine': 'indian', 'ingredients': []}, {'id': 7023, 'cuisine': 'italian', 'ingredients': []}, {'id': 7783, 'cuisine': 'mexican', 'ingredients': []}, {'id': 2472, 'cuisine': 'korean', 'ingredients': []}, {'id': 45193, 'cuisine': 'chinese', 'ingredients': []}, {'id': 7501, 'cuisine': 'french', 'ingredients': []}, {'id': 34930, 'cuisine': 'chinese', 'ingredients': []}, {'id': 42967, 'cuisine': 'spanish', 'ingredients': []}, {'id': 14080, 'cuisine': 'chinese', 'ingredients': []}, {'id': 45352, 'cuisine': 'spanish', 'ingredients': []}, {'id': 46205, 'cuisine': 'japanese', 'ingredients': []}, {'id': 47427, 'cuisine': 'mexican', 'ingredients': []}, {'id': 40064, 'cuisine': 'french', 'ingredients': []}, {'id': 9010, 'cuisine': 'japanese', 'ingredients': []}, {'id': 18611, 'cuisine': 'mexican', 'ingredients': []}, {'id': 35124, 'cuisine': 'italian', 'ingredients': []}, {'id': 45605, 'cuisine': 'filipino', 'ingredients': []}, {'id': 16334, 'cuisine': 'southern_us', 'ingredients': []}, {'id': 32035, 'cuisine': 'italian', 'ingredients': []}, {'id': 16810, 'cuisine': 'italian', 'ingredients': []}, {'id': 3641, 'cuisine': 'chinese', 'ingredients': []}, {'id': 43374, 'cuisine': 'mexican', 'ingredients': []}, {'id': 9112, 'cuisine': 'indian', 'ingredients': []}, {'id': 14970, 'cuisine': 'korean', 'ingredients': []}, {'id': 41396, 'cuisine': 'mexican', 'ingredients': []}, {'id': 4748, 'cuisine': 'mexican', 'ingredients': []}, {'id': 41833, 'cuisine': 'japanese', 'ingredients': []}, {'id': 18031, 'cuisine': 'greek', 'ingredients': []}, {'id': 29734, 'cuisine': 'mexican', 'ingredients': []}, {'id': 26415, 'cuisine': 'southern_us', 'ingredients': []}, {'id': 29801, 'cuisine': 'chinese', 'ingredients': []}, {'id': 24351, 'cuisine': 'british', 'ingredients': []}, {'id': 8480, 'cuisine': 'japanese', 'ingredients': []}, {'id': 27023, 'cuisine': 'italian', 'ingredients': []}, {'id': 10425, 'cuisine': 'mexican', 'ingredients': []}, {'id': 37188, 'cuisine': 'irish', 'ingredients': []}, {'id': 24338, 'cuisine': 'greek', 'ingredients': []}, {'id': 3457, 'cuisine': 'cajun_creole', 'ingredients': []}, {'id': 1355, 'cuisine': 'japanese', 'ingredients': []}, {'id': 40738, 'cuisine': 'italian', 'ingredients': []}, {'id': 42380, 'cuisine': 'southern_us', 'ingredients': []}, {'id': 16857, 'cuisine': 'southern_us', 'ingredients': []}, {'id': 2923, 'cuisine': 'southern_us', 'ingredients': []}, {'id': 7528, 'cuisine': 'italian', 'ingredients': []}, {'id': 15990, 'cuisine': 'indian', 'ingredients': []}, {'id': 27615, 'cuisine': 'chinese', 'ingredients': []}, {'id': 26061, 'cuisine': 'japanese', 'ingredients': []}, {'id': 23053, 'cuisine': 'mexican', 'ingredients': []}, {'id': 5090, 'cuisine': 'mexican', 'ingredients': []}, {'id': 36862, 'cuisine': 'french', 'ingredients': []}, {'id': 873, 'cuisine': 'mexican', 'ingredients': []}, {'id': 23726, 'cuisine': 'mexican', 'ingredients': []}, {'id': 48576, 'cuisine': 'irish', 'ingredients': []}, {'id': 25118, 'cuisine': 'chinese', 'ingredients': []}, {'id': 17586, 'cuisine': 'mexican', 'ingredients': []}, {'id': 22678, 'cuisine': 'greek', 'ingredients': []}, {'id': 428, 'cuisine': 'korean', 'ingredients': []}, {'id': 6745, 'cuisine': 'mexican', 'ingredients': []}, {'id': 31009, 'cuisine': 'spanish', 'ingredients': []}, {'id': 20983, 'cuisine': 'italian', 'ingredients': []}, {'id': 19572, 'cuisine': 'southern_us', 'ingredients': []}, {'id': 15273, 'cuisine': 'italian', 'ingredients': []}, {'id': 14198, 'cuisine': 'mexican', 'ingredients': []}, {'id': 18643, 'cuisine': 'french', 'ingredients': []}, {'id': 17816, 'cuisine': 'mexican', 'ingredients': []}, {'id': 46893, 'cuisine': 'french', 'ingredients': []}, {'id': 1110, 'cuisine': 'filipino', 'ingredients': []}, {'id': 21375, 'cuisine': 'mexican', 'ingredients': []}, {'id': 42833, 'cuisine': 'mexican', 'ingredients': []}, {'id': 5328, 'cuisine': 'italian', 'ingredients': []}, {'id': 17188, 'cuisine': 'mexican', 'ingredients': []}, {'id': 19622, 'cuisine': 'southern_us', 'ingredients': []}, {'id': 26498, 'cuisine': 'italian', 'ingredients': []}, {'id': 27140, 'cuisine': 'japanese', 'ingredients': []}, {'id': 32353, 'cuisine': 'italian', 'ingredients': []}, {'id': 37070, 'cuisine': 'mexican', 'ingredients': []}, {'id': 2298, 'cuisine': 'mexican', 'ingredients': []}, {'id': 15291, 'cuisine': 'southern_us', 'ingredients': []}, {'id': 8274, 'cuisine': 'southern_us', 'ingredients': []}, {'id': 23521, 'cuisine': 'italian', 'ingredients': []}, {'id': 28342, 'cuisine': 'jamaican', 'ingredients': []}, {'id': 8791, 'cuisine': 'italian', 'ingredients': []}, {'id': 242, 'cuisine': 'korean', 'ingredients': []}, {'id': 15347, 'cuisine': 'southern_us', 'ingredients': []}, {'id': 20981, 'cuisine': 'indian', 'ingredients': []}, {'id': 39391, 'cuisine': 'italian', 'ingredients': []}, {'id': 23147, 'cuisine': 'indian', 'ingredients': []}, {'id': 44020, 'cuisine': 'mexican', 'ingredients': []}, {'id': 3245, 'cuisine': 'korean', 'ingredients': []}, {'id': 40403, 'cuisine': 'southern_us', 'ingredients': []}, {'id': 33603, 'cuisine': 'vietnamese', 'ingredients': []}, {'id': 19691, 'cuisine': 'korean', 'ingredients': []}, {'id': 6862, 'cuisine': 'indian', 'ingredients': []}, {'id': 20123, 'cuisine': 'southern_us', 'ingredients': []}, {'id': 22712, 'cuisine': 'mexican', 'ingredients': []}, {'id': 31428, 'cuisine': 'mexican', 'ingredients': []}, {'id': 9373, 'cuisine': 'italian', 'ingredients': []}, {'id': 7666, 'cuisine': 'italian', 'ingredients': []}, {'id': 40617, 'cuisine': 'korean', 'ingredients': []}, {'id': 26676, 'cuisine': 'thai', 'ingredients': []}, {'id': 38067, 'cuisine': 'southern_us', 'ingredients': []}, {'id': 14778, 'cuisine': 'chinese', 'ingredients': []}, {'id': 636, 'cuisine': 'french', 'ingredients': []}, {'id': 35408, 'cuisine': 'greek', 'ingredients': []}, {'id': 22658, 'cuisine': 'southern_us', 'ingredients': []}, {'id': 44866, 'cuisine': 'mexican', 'ingredients': []}, {'id': 18389, 'cuisine': 'indian', 'ingredients': []}, {'id': 40014, 'cuisine': 'southern_us', 'ingredients': []}, {'id': 20863, 'cuisine': 'mexican', 'ingredients': []}, {'id': 35041, 'cuisine': 'japanese', 'ingredients': []}, {'id': 30649, 'cuisine': 'british', 'ingredients': []}, {'id': 14351, 'cuisine': 'japanese', 'ingredients': []}, {'id': 14146, 'cuisine': 'mexican', 'ingredients': []}, {'id': 48911, 'cuisine': 'filipino', 'ingredients': []}, {'id': 4252, 'cuisine': 'mexican', 'ingredients': []}, {'id': 46135, 'cuisine': 'mexican', 'ingredients': []}, {'id': 20668, 'cuisine': 'indian', 'ingredients': []}, {'id': 4009, 'cuisine': 'mexican', 'ingredients': []}, {'id': 40466, 'cuisine': 'indian', 'ingredients': []}, {'id': 32480, 'cuisine': 'greek', 'ingredients': []}, {'id': 8223, 'cuisine': 'italian', 'ingredients': []}, {'id': 4114, 'cuisine': 'mexican', 'ingredients': []}, {'id': 3605, 'cuisine': 'chinese', 'ingredients': []}, {'id': 41363, 'cuisine': 'cajun_creole', 'ingredients': []}, {'id': 23437, 'cuisine': 'italian', 'ingredients': []}, {'id': 9291, 'cuisine': 'mexican', 'ingredients': []}, {'id': 45423, 'cuisine': 'italian', 'ingredients': []}, {'id': 31462, 'cuisine': 'italian', 'ingredients': []}, {'id': 45412, 'cuisine': 'italian', 'ingredients': []}, {'id': 33048, 'cuisine': 'chinese', 'ingredients': []}, {'id': 42879, 'cuisine': 'italian', 'ingredients': []}, {'id': 6164, 'cuisine': 'thai', 'ingredients': []}, {'id': 37704, 'cuisine': 'southern_us', 'ingredients': []}, {'id': 29489, 'cuisine': 'italian', 'ingredients': []}, {'id': 6115, 'cuisine': 'mexican', 'ingredients': []}, {'id': 9829, 'cuisine': 'filipino', 'ingredients': []}, {'id': 36254, 'cuisine': 'indian', 'ingredients': []}, {'id': 23839, 'cuisine': 'filipino', 'ingredients': []}, {'id': 40283, 'cuisine': 'italian', 'ingredients': []}, {'id': 11108, 'cuisine': 'italian', 'ingredients': []}, {'id': 42685, 'cuisine': 'mexican', 'ingredients': []}, {'id': 23629, 'cuisine': 'mexican', 'ingredients': []}, {'id': 36565, 'cuisine': 'italian', 'ingredients': []}, {'id': 42083, 'cuisine': 'indian', 'ingredients': []}, {'id': 26032, 'cuisine': 'indian', 'ingredients': []}, {'id': 19811, 'cuisine': 'thai', 'ingredients': []}, {'id': 30382, 'cuisine': 'vietnamese', 'ingredients': []}, {'id': 49175, 'cuisine': 'cajun_creole', 'ingredients': []}, {'id': 41668, 'cuisine': 'mexican', 'ingredients': []}, {'id': 9206, 'cuisine': 'mexican', 'ingredients': []}, {'id': 7322, 'cuisine': 'southern_us', 'ingredients': []}, {'id': 23637, 'cuisine': 'chinese', 'ingredients': []}, {'id': 43650, 'cuisine': 'italian', 'ingredients': []}, {'id': 45593, 'cuisine': 'korean', 'ingredients': []}, {'id': 38706, 'cuisine': 'french', 'ingredients': []}, {'id': 38433, 'cuisine': 'chinese', 'ingredients': []}, {'id': 47826, 'cuisine': 'british', 'ingredients': []}, {'id': 7171, 'cuisine': 'indian', 'ingredients': []}, {'id': 18231, 'cuisine': 'chinese', 'ingredients': []}, {'id': 34385, 'cuisine': 'korean', 'ingredients': []}, {'id': 12340, 'cuisine': 'chinese', 'ingredients': []}, {'id': 33221, 'cuisine': 'indian', 'ingredients': []}, {'id': 43228, 'cuisine': 'italian', 'ingredients': []}, {'id': 3416, 'cuisine': 'italian', 'ingredients': []}, {'id': 23636, 'cuisine': 'chinese', 'ingredients': []}, {'id': 22822, 'cuisine': 'indian', 'ingredients': []}, {'id': 801, 'cuisine': 'southern_us', 'ingredients': []}, {'id': 42007, 'cuisine': 'korean', 'ingredients': []}, {'id': 20792, 'cuisine': 'vietnamese', 'ingredients': []}, {'id': 44500, 'cuisine': 'indian', 'ingredients': []}, {'id': 19004, 'cuisine': 'japanese', 'ingredients': []}, {'id': 41301, 'cuisine': 'moroccan', 'ingredients': []}, {'id': 16712, 'cuisine': 'moroccan', 'ingredients': []}, {'id': 28250, 'cuisine': 'italian', 'ingredients': []}, {'id': 34209, 'cuisine': 'indian', 'ingredients': []}, {'id': 1667, 'cuisine': 'mexican', 'ingredients': []}, {'id': 48571, 'cuisine': 'mexican', 'ingredients': []}, {'id': 10074, 'cuisine': 'mexican', 'ingredients': []}, {'id': 43711, 'cuisine': 'southern_us', 'ingredients': []}, {'id': 6440, 'cuisine': 'chinese', 'ingredients': []}, {'id': 36583, 'cuisine': 'cajun_creole', 'ingredients': []}, {'id': 10003, 'cuisine': 'french', 'ingredients': []}, {'id': 24738, 'cuisine': 'indian', 'ingredients': []}, {'id': 20039, 'cuisine': 'chinese', 'ingredients': []}, {'id': 29446, 'cuisine': 'southern_us', 'ingredients': []}, {'id': 45711, 'cuisine': 'french', 'ingredients': []}, {'id': 45039, 'cuisine': 'thai', 'ingredients': []}, {'id': 46417, 'cuisine': 'mexican', 'ingredients': []}, {'id': 48080, 'cuisine': 'mexican', 'ingredients': []}, {'id': 15882, 'cuisine': 'french', 'ingredients': []}, {'id': 49263, 'cuisine': 'italian', 'ingredients': []}, {'id': 45956, 'cuisine': 'italian', 'ingredients': []}, {'id': 40509, 'cuisine': 'french', 'ingredients': []}, {'id': 11665, 'cuisine': 'greek', 'ingredients': []}, {'id': 22997, 'cuisine': 'italian', 'ingredients': []}, {'id': 44271, 'cuisine': 'indian', 'ingredients': []}, {'id': 29887, 'cuisine': 'filipino', 'ingredients': []}, {'id': 1764, 'cuisine': 'french', 'ingredients': []}, {'id': 40300, 'cuisine': 'moroccan', 'ingredients': []}, {'id': 45296, 'cuisine': 'indian', 'ingredients': []}, {'id': 24365, 'cuisine': 'vietnamese', 'ingredients': []}, {'id': 34996, 'cuisine': 'thai', 'ingredients': []}, {'id': 47623, 'cuisine': 'mexican', 'ingredients': []}, {'id': 26464, 'cuisine': 'mexican', 'ingredients': []}, {'id': 18329, 'cuisine': 'filipino', 'ingredients': []}, {'id': 43437, 'cuisine': 'italian', 'ingredients': []}, {'id': 25375, 'cuisine': 'chinese', 'ingredients': []}, {'id': 26631, 'cuisine': 'italian', 'ingredients': []}, {'id': 26172, 'cuisine': 'cajun_creole', 'ingredients': []}, {'id': 19747, 'cuisine': 'korean', 'ingredients': []}, {'id': 38346, 'cuisine': 'russian', 'ingredients': []}, {'id': 31903, 'cuisine': 'italian', 'ingredients': []}, {'id': 12099, 'cuisine': 'irish', 'ingredients': []}, {'id': 38717, 'cuisine': 'vietnamese', 'ingredients': []}, {'id': 30335, 'cuisine': 'japanese', 'ingredients': []}, {'id': 15171, 'cuisine': 'chinese', 'ingredients': []}, {'id': 31425, 'cuisine': 'cajun_creole', 'ingredients': []}, {'id': 36118, 'cuisine': 'italian', 'ingredients': []}, {'id': 18190, 'cuisine': 'french', 'ingredients': []}, {'id': 33717, 'cuisine': 'moroccan', 'ingredients': []}, {'id': 15460, 'cuisine': 'southern_us', 'ingredients': []}, {'id': 21052, 'cuisine': 'brazilian', 'ingredients': []}, {'id': 35729, 'cuisine': 'chinese', 'ingredients': []}, {'id': 45841, 'cuisine': 'korean', 'ingredients': []}, {'id': 1182, 'cuisine': 'italian', 'ingredients': []}, {'id': 15229, 'cuisine': 'italian', 'ingredients': []}, {'id': 31209, 'cuisine': 'italian', 'ingredients': []}, {'id': 18271, 'cuisine': 'spanish', 'ingredients': []}, {'id': 14202, 'cuisine': 'southern_us', 'ingredients': []}, {'id': 10111, 'cuisine': 'italian', 'ingredients': []}, {'id': 1128, 'cuisine': 'italian', 'ingredients': []}, {'id': 37109, 'cuisine': 'french', 'ingredients': []}, {'id': 9952, 'cuisine': 'italian', 'ingredients': []}, {'id': 11164, 'cuisine': 'italian', 'ingredients': []}, {'id': 9852, 'cuisine': 'mexican', 'ingredients': []}, {'id': 45574, 'cuisine': 'greek', 'ingredients': []}, {'id': 22581, 'cuisine': 'french', 'ingredients': []}, {'id': 9082, 'cuisine': 'spanish', 'ingredients': []}, {'id': 30985, 'cuisine': 'japanese', 'ingredients': []}, {'id': 42612, 'cuisine': 'italian', 'ingredients': []}, {'id': 38754, 'cuisine': 'japanese', 'ingredients': []}, {'id': 45037, 'cuisine': 'greek', 'ingredients': []}, {'id': 33197, 'cuisine': 'japanese', 'ingredients': []}, {'id': 13005, 'cuisine': 'chinese', 'ingredients': []}, {'id': 18203, 'cuisine': 'mexican', 'ingredients': []}, {'id': 10210, 'cuisine': 'italian', 'ingredients': []}, {'id': 38581, 'cuisine': 'thai', 'ingredients': []}, {'id': 32489, 'cuisine': 'chinese', 'ingredients': []}, {'id': 26647, 'cuisine': 'mexican', 'ingredients': []}, {'id': 34240, 'cuisine': 'british', 'ingredients': []}, {'id': 8579, 'cuisine': 'japanese', 'ingredients': []}, {'id': 49639, 'cuisine': 'mexican', 'ingredients': []}, {'id': 17120, 'cuisine': 'mexican', 'ingredients': []}, {'id': 27213, 'cuisine': 'southern_us', 'ingredients': []}, {'id': 18621, 'cuisine': 'indian', 'ingredients': []}, {'id': 35302, 'cuisine': 'cajun_creole', 'ingredients': []}, {'id': 27648, 'cuisine': 'japanese', 'ingredients': []}, {'id': 17658, 'cuisine': 'greek', 'ingredients': []}, {'id': 24029, 'cuisine': 'chinese', 'ingredients': []}, {'id': 45990, 'cuisine': 'thai', 'ingredients': []}, {'id': 20692, 'cuisine': 'chinese', 'ingredients': []}, {'id': 37593, 'cuisine': 'cajun_creole', 'ingredients': []}, {'id': 46635, 'cuisine': 'indian', 'ingredients': []}, {'id': 20149, 'cuisine': 'italian', 'ingredients': []}, {'id': 623, 'cuisine': 'brazilian', 'ingredients': []}, {'id': 12048, 'cuisine': 'mexican', 'ingredients': []}, {'id': 48523, 'cuisine': 'chinese', 'ingredients': []}, {'id': 16797, 'cuisine': 'italian', 'ingredients': []}, {'id': 23336, 'cuisine': 'french', 'ingredients': []}, {'id': 15645, 'cuisine': 'mexican', 'ingredients': []}, {'id': 39904, 'cuisine': 'greek', 'ingredients': []}, {'id': 35962, 'cuisine': 'russian', 'ingredients': []}, {'id': 9138, 'cuisine': 'southern_us', 'ingredients': []}, {'id': 47406, 'cuisine': 'irish', 'ingredients': []}, {'id': 30250, 'cuisine': 'vietnamese', 'ingredients': []}, {'id': 26545, 'cuisine': 'southern_us', 'ingredients': []}, {'id': 13554, 'cuisine': 'jamaican', 'ingredients': []}, {'id': 44562, 'cuisine': 'indian', 'ingredients': []}, {'id': 3820, 'cuisine': 'korean', 'ingredients': []}, {'id': 49668, 'cuisine': 'italian', 'ingredients': []}, {'id': 27688, 'cuisine': 'italian', 'ingredients': []}, {'id': 31969, 'cuisine': 'italian', 'ingredients': []}, {'id': 33085, 'cuisine': 'french', 'ingredients': []}, {'id': 20061, 'cuisine': 'italian', 'ingredients': []}, {'id': 24552, 'cuisine': 'thai', 'ingredients': []}, {'id': 27204, 'cuisine': 'mexican', 'ingredients': []}, {'id': 8304, 'cuisine': 'italian', 'ingredients': []}, {'id': 28063, 'cuisine': 'italian', 'ingredients': []}, {'id': 38473, 'cuisine': 'thai', 'ingredients': []}, {'id': 84, 'cuisine': 'greek', 'ingredients': []}, {'id': 12152, 'cuisine': 'southern_us', 'ingredients': []}, {'id': 25201, 'cuisine': 'mexican', 'ingredients': []}, {'id': 22633, 'cuisine': 'italian', 'ingredients': []}, {'id': 41282, 'cuisine': 'italian', 'ingredients': []}, {'id': 3040, 'cuisine': 'cajun_creole', 'ingredients': []}, {'id': 29033, 'cuisine': 'thai', 'ingredients': []}, {'id': 40224, 'cuisine': 'mexican', 'ingredients': []}, {'id': 24640, 'cuisine': 'irish', 'ingredients': []}, {'id': 49262, 'cuisine': 'japanese', 'ingredients': []}, {'id': 28657, 'cuisine': 'mexican', 'ingredients': []}, {'id': 18842, 'cuisine': 'italian', 'ingredients': []}, {'id': 27019, 'cuisine': 'mexican', 'ingredients': []}, {'id': 2982, 'cuisine': 'italian', 'ingredients': []}, {'id': 33222, 'cuisine': 'italian', 'ingredients': []}, {'id': 39361, 'cuisine': 'southern_us', 'ingredients': []}, {'id': 13489, 'cuisine': 'indian', 'ingredients': []}, {'id': 36461, 'cuisine': 'italian', 'ingredients': []}, {'id': 20757, 'cuisine': 'french', 'ingredients': []}, {'id': 35136, 'cuisine': 'japanese', 'ingredients': []}, {'id': 30327, 'cuisine': 'southern_us', 'ingredients': []}, {'id': 43455, 'cuisine': 'italian', 'ingredients': []}, {'id': 36947, 'cuisine': 'mexican', 'ingredients': []}, {'id': 28056, 'cuisine': 'british', 'ingredients': []}, {'id': 7530, 'cuisine': 'mexican', 'ingredients': []}, {'id': 47505, 'cuisine': 'mexican', 'ingredients': []}, {'id': 16520, 'cuisine': 'french', 'ingredients': []}, {'id': 35311, 'cuisine': 'moroccan', 'ingredients': []}, {'id': 22833, 'cuisine': 'chinese', 'ingredients': []}, {'id': 14398, 'cuisine': 'korean', 'ingredients': []}, {'id': 29168, 'cuisine': 'indian', 'ingredients': []}, {'id': 22461, 'cuisine': 'chinese', 'ingredients': []}, {'id': 13615, 'cuisine': 'southern_us', 'ingredients': []}, {'id': 6360, 'cuisine': 'italian', 'ingredients': []}, {'id': 40360, 'cuisine': 'mexican', 'ingredients': []}, {'id': 40182, 'cuisine': 'southern_us', 'ingredients': []}, {'id': 31438, 'cuisine': 'cajun_creole', 'ingredients': []}, {'id': 31798, 'cuisine': 'southern_us', 'ingredients': []}, {'id': 14342, 'cuisine': 'spanish', 'ingredients': []}, {'id': 14385, 'cuisine': 'italian', 'ingredients': []}, {'id': 14308, 'cuisine': 'vietnamese', 'ingredients': []}, {'id': 33841, 'cuisine': 'korean', 'ingredients': []}, {'id': 12830, 'cuisine': 'chinese', 'ingredients': []}, {'id': 23096, 'cuisine': 'italian', 'ingredients': []}, {'id': 34026, 'cuisine': 'southern_us', 'ingredients': []}, {'id': 30835, 'cuisine': 'filipino', 'ingredients': []}, {'id': 15072, 'cuisine': 'filipino', 'ingredients': []}, {'id': 1121, 'cuisine': 'chinese', 'ingredients': []}, {'id': 18376, 'cuisine': 'italian', 'ingredients': []}, {'id': 17815, 'cuisine': 'italian', 'ingredients': []}, {'id': 32878, 'cuisine': 'southern_us', 'ingredients': []}, {'id': 24410, 'cuisine': 'british', 'ingredients': []}]\n"
     ]
    }
   ],
   "source": [
    "import pandas as pd\n",
    "\n",
    "# Функция make_list() для получения перечня ингредиентов\n",
    "def make_list(row):\n",
    "    ingredients = row['ingredients']\n",
    "    \n",
    "    # Проверяем, если ингредиенты - это строка\n",
    "    if isinstance(ingredients, str):\n",
    "        # Разделяем строку по запятой и убираем лишние пробелы\n",
    "        ingredients = [ingredient.strip() for ingredient in ingredients.split(',')]\n",
    "    elif isinstance(ingredients, list):\n",
    "        # Если ingredients уже является списком, просто убираем лишние пробелы\n",
    "        ingredients = [ingredient.strip() for ingredient in ingredients]\n",
    "    else:\n",
    "        # Если данные не являются строкой или списком, возвращаем пустой список\n",
    "        ingredients = []\n",
    "    \n",
    "    return ingredients\n",
    "\n",
    "# Создание списка new_recipes\n",
    "new_recipes = []\n",
    "\n",
    "# Список ids (например, список всех id в DataFrame)\n",
    "ids = df['id'].tolist()\n",
    "\n",
    "# Цикл с параметром для создания списка new_recipes\n",
    "for id in ids:\n",
    "    # Фильтруем DataFrame по текущему id\n",
    "    row = df[df['id'] == id].iloc[0]  # Берем первую строку, так как id уникально\n",
    "\n",
    "    # Создаем словарь для текущего блюда\n",
    "    recipe = {\n",
    "        'id': int(id),\n",
    "        'cuisine': row['cuisine'],\n",
    "        'ingredients': make_list(row)\n",
    "    }\n",
    "    \n",
    "    # Добавляем словарь в список new_recipes\n",
    "    new_recipes.append(recipe)\n",
    "\n",
    "# Выводим результат\n",
    "print(new_recipes)\n"
   ]
  },
  {
   "cell_type": "markdown",
   "metadata": {},
   "source": [
    "Осталось создать код функции  make_list(), выполнить сериализацию и записать результат в файл."
   ]
  },
  {
   "cell_type": "code",
   "execution_count": 9,
   "metadata": {},
   "outputs": [
    {
     "name": "stdout",
     "output_type": "stream",
     "text": [
      "Данные успешно сериализованы и записаны в файл 'recipes.json'\n"
     ]
    }
   ],
   "source": [
    "import pandas as pd\n",
    "import json\n",
    "\n",
    "# Функция make_list() для получения перечня ингредиентов\n",
    "def make_list(row):\n",
    "    ingredients = row['ingredients']\n",
    "    \n",
    "    # Проверяем, если ингредиенты - это строка\n",
    "    if isinstance(ingredients, str):\n",
    "        # Разделяем строку по запятой и убираем лишние пробелы\n",
    "        ingredients = [ingredient.strip() for ingredient in ingredients.split(',')]\n",
    "    elif isinstance(ingredients, list):\n",
    "        # Если ingredients уже является списком, просто убираем лишние пробелы\n",
    "        ingredients = [ingredient.strip() for ingredient in ingredients]\n",
    "    else:\n",
    "        # Если данные не являются строкой или списком, возвращаем пустой список\n",
    "        ingredients = []\n",
    "    \n",
    "    return ingredients\n",
    "\n",
    "# Создание списка new_recipes\n",
    "new_recipes = []\n",
    "\n",
    "# Список ids (например, список всех id в DataFrame)\n",
    "ids = df['id'].tolist()\n",
    "\n",
    "# Цикл с параметром для создания списка new_recipes\n",
    "for id in ids:\n",
    "    # Фильтруем DataFrame по текущему id\n",
    "    row = df[df['id'] == id].iloc[0]  # Берем первую строку, так как id уникально\n",
    "\n",
    "    # Создаем словарь для текущего блюда\n",
    "    recipe = {\n",
    "        'id': int(id),\n",
    "        'cuisine': row['cuisine'],\n",
    "        'ingredients': make_list(row)\n",
    "    }\n",
    "    \n",
    "    # Добавляем словарь в список new_recipes\n",
    "    new_recipes.append(recipe)\n",
    "\n",
    "# Сериализация данных в формат JSON\n",
    "with open('recipes.json', 'w', encoding='utf-8') as f:\n",
    "    json.dump(new_recipes, f, ensure_ascii=False, indent=4)\n",
    "\n",
    "print(\"Данные успешно сериализованы и записаны в файл 'recipes.json'\")\n"
   ]
  },
  {
   "cell_type": "markdown",
   "metadata": {},
   "source": [
    "---"
   ]
  },
  {
   "cell_type": "markdown",
   "metadata": {},
   "source": [
    "Задача\n",
    "\n",
    "Напишите код функции make_list(), которая принимает на вход одну строку DataFrame, содержащую данные об одном рецепте (в виде Series), и возвращает перечень ингредиентов этого блюда (в виде списка).\n",
    "\n",
    "Функция make_list() должна принимать только один аргумент - row. Это будет строка датафрейма.\n",
    "\n",
    "Не забудьте импортировать необходимые бибилиотеки, считать файл recipes.csv и создать список ingredients."
   ]
  },
  {
   "cell_type": "code",
   "execution_count": 10,
   "metadata": {},
   "outputs": [],
   "source": [
    "import pandas as pd\n",
    "df = pd.read_csv('recipes.csv') # Читаем содержимое файла и создаем объект df\n",
    "ingredients = list(df.columns)[3:] # Создаем список уникальных значений ингредиентов\n",
    "\n",
    "def make_list(row): # Определяем имя функции и передаваемые аргументы\n",
    "    ingredient_list=[] # Создаём пустой список ингредиентов текущего блюда\n",
    "    for ingredient in ingredients: # Последовательно перебираем ингредиенты из реестра\n",
    "        if row[ingredient].item()==1: # Если текущий ингредиент входит в состав текущего блюда\n",
    "            ingredient_list.append(ingredient) # Добавляем ингредиент в список ингредиентов текущего блюда\n",
    "    return ingredient_list # Возвращаем сформированный список ингредиентов\n"
   ]
  },
  {
   "cell_type": "markdown",
   "metadata": {},
   "source": [
    "---"
   ]
  },
  {
   "cell_type": "markdown",
   "metadata": {},
   "source": [
    "Выполним сериализацию списка new_recipes и запишем полученные данные в файл.\n",
    "\n",
    "Для сериализации  используем функцию dumps(), которой в качестве параметра передадим список new_recipes. Запись в файл осуществляется с помощью метода write(). Предварительно файл необходимо открыть для записи с помощью функции open() c параметром 'w' (от англ. write, рус. писать):"
   ]
  },
  {
   "cell_type": "code",
   "execution_count": 17,
   "metadata": {},
   "outputs": [
    {
     "ename": "NameError",
     "evalue": "name 'recipes' is not defined",
     "output_type": "error",
     "traceback": [
      "\u001b[1;31m---------------------------------------------------------------------------\u001b[0m",
      "\u001b[1;31mNameError\u001b[0m                                 Traceback (most recent call last)",
      "Cell \u001b[1;32mIn[17], line 4\u001b[0m\n\u001b[0;32m      2\u001b[0m \u001b[38;5;28;01mimport\u001b[39;00m \u001b[38;5;21;01mjson\u001b[39;00m \n\u001b[0;32m      3\u001b[0m \u001b[38;5;66;03m# Функция dumps() модуля json сериализирует объект Python в строку формата JSON. \u001b[39;00m\n\u001b[1;32m----> 4\u001b[0m recipes \u001b[38;5;241m=\u001b[39m json\u001b[38;5;241m.\u001b[39mdumps(\u001b[43mrecipes\u001b[49m) \n\u001b[0;32m      6\u001b[0m \u001b[38;5;66;03m# Откроем файл new_recipes.json для записи\u001b[39;00m\n\u001b[0;32m      7\u001b[0m \u001b[38;5;28;01mwith\u001b[39;00m \u001b[38;5;28mopen\u001b[39m(\u001b[38;5;124m\"\u001b[39m\u001b[38;5;124mdata/recipes.json\u001b[39m\u001b[38;5;124m\"\u001b[39m, \u001b[38;5;124m\"\u001b[39m\u001b[38;5;124mw\u001b[39m\u001b[38;5;124m\"\u001b[39m) \u001b[38;5;28;01mas\u001b[39;00m write_file: \n\u001b[0;32m      8\u001b[0m     \u001b[38;5;66;03m# Записываем содержимое подготовленные данные в файл\u001b[39;00m\n",
      "\u001b[1;31mNameError\u001b[0m: name 'recipes' is not defined"
     ]
    }
   ],
   "source": [
    "# Импорт модуля json\n",
    "import json \n",
    "# Функция dumps() модуля json сериализирует объект Python в строку формата JSON. \n",
    "recipes = json.dumps(recipes) \n",
    "\n",
    "# Откроем файл new_recipes.json для записи\n",
    "with open(\"data/recipes.json\", \"w\") as write_file: \n",
    "    # Записываем содержимое подготовленные данные в файл\n",
    "    write_file.write(recipes)"
   ]
  }
 ],
 "metadata": {
  "kernelspec": {
   "display_name": "Python 3",
   "language": "python",
   "name": "python3"
  },
  "language_info": {
   "codemirror_mode": {
    "name": "ipython",
    "version": 3
   },
   "file_extension": ".py",
   "mimetype": "text/x-python",
   "name": "python",
   "nbconvert_exporter": "python",
   "pygments_lexer": "ipython3",
   "version": "3.13.0"
  }
 },
 "nbformat": 4,
 "nbformat_minor": 2
}
