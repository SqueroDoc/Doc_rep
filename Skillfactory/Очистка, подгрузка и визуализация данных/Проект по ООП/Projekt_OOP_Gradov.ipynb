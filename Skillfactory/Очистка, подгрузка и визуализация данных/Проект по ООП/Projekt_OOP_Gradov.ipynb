{
 "cells": [
  {
   "cell_type": "markdown",
   "metadata": {},
   "source": [
    "# Финальный проект по ООП"
   ]
  },
  {
   "cell_type": "code",
   "execution_count": 3,
   "metadata": {},
   "outputs": [
    {
     "data": {
      "text/plain": [
       "{'nafld1': {'shape': (17549, 10),\n",
       "  'columns': ['Unnamed: 0',\n",
       "   'id',\n",
       "   'age',\n",
       "   'male',\n",
       "   'weight',\n",
       "   'height',\n",
       "   'bmi',\n",
       "   'case.id',\n",
       "   'futime',\n",
       "   'status'],\n",
       "  'head':    Unnamed: 0  id  age  male  weight  height        bmi  case.id  futime  \\\n",
       "  0        3631   1   57     0    60.0   163.0  22.690939  10630.0    6261   \n",
       "  1        8458   2   67     0    70.4   168.0  24.884028  14817.0     624   \n",
       "  2        6298   3   53     1   105.8   186.0  30.453537      3.0    1783   \n",
       "  3       15398   4   56     1   109.3   170.0  37.830100   6628.0    3143   \n",
       "  4       13261   5   68     1     NaN     NaN        NaN   1871.0    1836   \n",
       "  \n",
       "     status  \n",
       "  0       0  \n",
       "  1       0  \n",
       "  2       0  \n",
       "  3       0  \n",
       "  4       1  },\n",
       " 'nafld2': {'shape': (400123, 5),\n",
       "  'columns': ['Unnamed: 0', 'id', 'days', 'test', 'value'],\n",
       "  'head':    Unnamed: 0  id  days  test  value\n",
       "  0      135077   1  -459   hdl   75.0\n",
       "  1      313143   1  -459  chol   75.0\n",
       "  2      135078   1   183   hdl   64.0\n",
       "  3      313144   1   183  chol   64.0\n",
       "  4      135079   1  2030   hdl   74.0},\n",
       " 'nwtco': {'shape': (4028, 10),\n",
       "  'columns': ['Unnamed: 0',\n",
       "   'seqno',\n",
       "   'instit',\n",
       "   'histol',\n",
       "   'stage',\n",
       "   'study',\n",
       "   'rel',\n",
       "   'edrel',\n",
       "   'age',\n",
       "   'in.subcohort'],\n",
       "  'head':    Unnamed: 0  seqno  instit  histol  stage  study  rel  edrel  age  \\\n",
       "  0           1      1       2       2      1      3    0   6075   25   \n",
       "  1           2      2       1       1      2      3    0   4121   50   \n",
       "  2           3      3       2       2      1      3    0   6069    9   \n",
       "  3           4      4       2       1      4      3    0   6200   28   \n",
       "  4           5      5       2       2      2      3    0   1244   55   \n",
       "  \n",
       "     in.subcohort  \n",
       "  0         False  \n",
       "  1         False  \n",
       "  2         False  \n",
       "  3          True  \n",
       "  4         False  }}"
      ]
     },
     "execution_count": 3,
     "metadata": {},
     "output_type": "execute_result"
    }
   ],
   "source": [
    "import pandas as pd\n",
    "\n",
    "# Загрузка данных из файлов\n",
    "file_paths = {\n",
    "    \"nafld1\": \"nafld1.csv\",\n",
    "    \"nafld2\": \"nafld2.csv\",\n",
    "    \"nwtco\": \"nwtco.csv\"\n",
    "}\n",
    "\n",
    "# Чтение каждого файла\n",
    "dataframes = {name: pd.read_csv(path) for name, path in file_paths.items()}\n",
    "\n",
    "# Получение информации о каждом датасете\n",
    "dataset_info = {name: {\"shape\": df.shape, \"columns\": df.columns.tolist(), \"head\": df.head()} for name, df in dataframes.items()}\n",
    "dataset_info\n"
   ]
  },
  {
   "cell_type": "markdown",
   "metadata": {},
   "source": [
    "#### nafld1.csv\n",
    "* Размер: 17549 строк и 10 столбцов.\\\n",
    "Столбцы:\n",
    "* Unnamed: 0, id, age, male, weight, height, bmi, case.id, futime, status.\n",
    "\n",
    "#### nafld2.csv\n",
    "* Размер: 400123 строки и 5 столбцов.\\\n",
    "Столбцы:\n",
    "* Unnamed: 0, id, days, test, value.\n",
    "\n",
    "#### nwtco.csv\n",
    "* Размер: 4028 строк и 10 столбцов.\\\n",
    "Столбцы:\n",
    "* Unnamed: 0, seqno, instit, histol, stage, study, rel, edrel, age, in.subcohort."
   ]
  },
  {
   "cell_type": "markdown",
   "metadata": {},
   "source": [
    "---"
   ]
  },
  {
   "cell_type": "markdown",
   "metadata": {},
   "source": [
    "### Удалить столбцы Unnamed: 0"
   ]
  },
  {
   "cell_type": "code",
   "execution_count": 4,
   "metadata": {},
   "outputs": [
    {
     "data": {
      "text/plain": [
       "{'nafld1': ['id',\n",
       "  'age',\n",
       "  'male',\n",
       "  'weight',\n",
       "  'height',\n",
       "  'bmi',\n",
       "  'case.id',\n",
       "  'futime',\n",
       "  'status'],\n",
       " 'nafld2': ['id', 'days', 'test', 'value'],\n",
       " 'nwtco': ['seqno',\n",
       "  'instit',\n",
       "  'histol',\n",
       "  'stage',\n",
       "  'study',\n",
       "  'rel',\n",
       "  'edrel',\n",
       "  'age',\n",
       "  'in.subcohort']}"
      ]
     },
     "execution_count": 4,
     "metadata": {},
     "output_type": "execute_result"
    }
   ],
   "source": [
    "# Удаление столбца 'Unnamed: 0', если он является индексом\n",
    "for name, df in dataframes.items():\n",
    "    if 'Unnamed: 0' in df.columns:\n",
    "        dataframes[name] = df.drop(columns=['Unnamed: 0'])\n",
    "\n",
    "# Проверим обновлённые столбцы в каждом датасете\n",
    "updated_columns = {name: df.columns.tolist() for name, df in dataframes.items()}\n",
    "updated_columns"
   ]
  },
  {
   "cell_type": "markdown",
   "metadata": {},
   "source": [
    "Столбец Unnamed: 0 был успешно удалён из всех датасетов. Теперь их структура выглядит так:\n",
    "\n",
    "nafld1\n",
    "* Столбцы: id, age, male, weight, height, bmi, case.id, futime, status.\n",
    "\n",
    "nafld2\n",
    "* Столбцы: id, days, test, value.\n",
    "\n",
    "nwtco\n",
    "* Столбцы: seqno, instit, histol, stage, study, rel, edrel, age, in.subcohort."
   ]
  },
  {
   "cell_type": "markdown",
   "metadata": {},
   "source": [
    "---"
   ]
  },
  {
   "cell_type": "markdown",
   "metadata": {},
   "source": [
    "### Изучим ключевые столбцы. \n",
    "\n",
    "Основные шаги:\n",
    "1. Проверим, есть ли дублирующиеся значения в столбцах id, case.id, seqno.\n",
    "2. Определим, есть ли пересечения между идентификаторами из разных датасетов.\n",
    "3. Посмотрим распределение данных в этих столбцах."
   ]
  },
  {
   "cell_type": "code",
   "execution_count": 5,
   "metadata": {},
   "outputs": [
    {
     "data": {
      "text/plain": [
       "{'nafld1_id_unique': 17549,\n",
       " 'nafld2_id_unique': 15666,\n",
       " 'nwtco_seqno_unique': 4028,\n",
       " 'nafld1_nafld2_overlap': 15666,\n",
       " 'nafld1_nwtco_overlap': 4023,\n",
       " 'nafld2_nwtco_overlap': 3575}"
      ]
     },
     "execution_count": 5,
     "metadata": {},
     "output_type": "execute_result"
    }
   ],
   "source": [
    "# Проверка уникальности и пересечений ключевых столбцов\n",
    "\n",
    "# Уникальные значения в ключевых столбцах\n",
    "key_columns_analysis = {\n",
    "    \"nafld1_id_unique\": dataframes[\"nafld1\"][\"id\"].nunique(),\n",
    "    \"nafld2_id_unique\": dataframes[\"nafld2\"][\"id\"].nunique(),\n",
    "    \"nwtco_seqno_unique\": dataframes[\"nwtco\"][\"seqno\"].nunique(),\n",
    "}\n",
    "\n",
    "# Проверка пересечений между идентификаторами в датасетах\n",
    "nafld1_ids = set(dataframes[\"nafld1\"][\"id\"])\n",
    "nafld2_ids = set(dataframes[\"nafld2\"][\"id\"])\n",
    "nwtco_seqnos = set(dataframes[\"nwtco\"][\"seqno\"])\n",
    "\n",
    "key_columns_analysis[\"nafld1_nafld2_overlap\"] = len(nafld1_ids & nafld2_ids)\n",
    "key_columns_analysis[\"nafld1_nwtco_overlap\"] = len(nafld1_ids & nwtco_seqnos)\n",
    "key_columns_analysis[\"nafld2_nwtco_overlap\"] = len(nafld2_ids & nwtco_seqnos)\n",
    "\n",
    "key_columns_analysis"
   ]
  },
  {
   "cell_type": "markdown",
   "metadata": {},
   "source": [
    "***Результаты анализа ключевых столбцов:***\n",
    "\n",
    "1. Уникальные значения:\n",
    "* В nafld1 столбец id содержит 17549 уникальных значений.\n",
    "* В nafld2 столбец id содержит 15666 уникальных значений.\n",
    "* В nwtco столбец seqno содержит 4028 уникальных значений.\n",
    "\n",
    "2. Пересечения между датасетами:\n",
    "* Между nafld1 и nafld2 есть 15666 общих идентификаторов (id).\n",
    "* Между nafld1 и nwtco есть 4023 общих идентификатора (id и seqno).\n",
    "* Между nafld2 и nwtco есть 3575 общих идентификаторов.\n",
    "---\n",
    "Что это значит:\n",
    "* nafld1 и nafld2 хорошо пересекаются по столбцу id. Это позволяет связать данные из этих датасетов.\n",
    "* nwtco частично пересекается с обоими другими датасетами. Это стоит учесть при объединении данных."
   ]
  }
 ],
 "metadata": {
  "kernelspec": {
   "display_name": "Python 3",
   "language": "python",
   "name": "python3"
  },
  "language_info": {
   "codemirror_mode": {
    "name": "ipython",
    "version": 3
   },
   "file_extension": ".py",
   "mimetype": "text/x-python",
   "name": "python",
   "nbconvert_exporter": "python",
   "pygments_lexer": "ipython3",
   "version": "3.13.0"
  }
 },
 "nbformat": 4,
 "nbformat_minor": 2
}
