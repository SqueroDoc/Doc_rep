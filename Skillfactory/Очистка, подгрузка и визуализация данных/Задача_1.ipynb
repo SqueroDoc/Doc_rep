{
 "cells": [
  {
   "cell_type": "code",
   "execution_count": 39,
   "metadata": {},
   "outputs": [],
   "source": [
    "import matplotlib.pyplot as plt\n",
    "import pandas as pd\n",
    "import seaborn as sns\n",
    "import plotly\n",
    "import plotly.express as px"
   ]
  },
  {
   "cell_type": "code",
   "execution_count": 40,
   "metadata": {},
   "outputs": [
    {
     "data": {
      "text/html": [
       "<div>\n",
       "<style scoped>\n",
       "    .dataframe tbody tr th:only-of-type {\n",
       "        vertical-align: middle;\n",
       "    }\n",
       "\n",
       "    .dataframe tbody tr th {\n",
       "        vertical-align: top;\n",
       "    }\n",
       "\n",
       "    .dataframe thead th {\n",
       "        text-align: right;\n",
       "    }\n",
       "</style>\n",
       "<table border=\"1\" class=\"dataframe\">\n",
       "  <thead>\n",
       "    <tr style=\"text-align: right;\">\n",
       "      <th></th>\n",
       "      <th>Pregnancies</th>\n",
       "      <th>Glucose</th>\n",
       "      <th>BloodPressure</th>\n",
       "      <th>SkinThickness</th>\n",
       "      <th>Insulin</th>\n",
       "      <th>BMI</th>\n",
       "      <th>DiabetesPedigreeFunction</th>\n",
       "      <th>Age</th>\n",
       "      <th>Outcome</th>\n",
       "      <th>Gender</th>\n",
       "    </tr>\n",
       "  </thead>\n",
       "  <tbody>\n",
       "    <tr>\n",
       "      <th>0</th>\n",
       "      <td>6</td>\n",
       "      <td>98</td>\n",
       "      <td>58</td>\n",
       "      <td>33</td>\n",
       "      <td>190</td>\n",
       "      <td>34.0</td>\n",
       "      <td>0.430</td>\n",
       "      <td>43</td>\n",
       "      <td>0</td>\n",
       "      <td>Female</td>\n",
       "    </tr>\n",
       "    <tr>\n",
       "      <th>1</th>\n",
       "      <td>2</td>\n",
       "      <td>112</td>\n",
       "      <td>75</td>\n",
       "      <td>32</td>\n",
       "      <td>0</td>\n",
       "      <td>35.7</td>\n",
       "      <td>0.148</td>\n",
       "      <td>21</td>\n",
       "      <td>0</td>\n",
       "      <td>Female</td>\n",
       "    </tr>\n",
       "    <tr>\n",
       "      <th>2</th>\n",
       "      <td>2</td>\n",
       "      <td>108</td>\n",
       "      <td>64</td>\n",
       "      <td>0</td>\n",
       "      <td>0</td>\n",
       "      <td>30.8</td>\n",
       "      <td>0.158</td>\n",
       "      <td>21</td>\n",
       "      <td>0</td>\n",
       "      <td>Female</td>\n",
       "    </tr>\n",
       "    <tr>\n",
       "      <th>3</th>\n",
       "      <td>8</td>\n",
       "      <td>107</td>\n",
       "      <td>80</td>\n",
       "      <td>0</td>\n",
       "      <td>0</td>\n",
       "      <td>24.6</td>\n",
       "      <td>0.856</td>\n",
       "      <td>34</td>\n",
       "      <td>0</td>\n",
       "      <td>Female</td>\n",
       "    </tr>\n",
       "    <tr>\n",
       "      <th>4</th>\n",
       "      <td>7</td>\n",
       "      <td>136</td>\n",
       "      <td>90</td>\n",
       "      <td>0</td>\n",
       "      <td>0</td>\n",
       "      <td>29.9</td>\n",
       "      <td>0.210</td>\n",
       "      <td>50</td>\n",
       "      <td>0</td>\n",
       "      <td>Female</td>\n",
       "    </tr>\n",
       "  </tbody>\n",
       "</table>\n",
       "</div>"
      ],
      "text/plain": [
       "   Pregnancies  Glucose  BloodPressure  SkinThickness  Insulin   BMI  \\\n",
       "0            6       98             58             33      190  34.0   \n",
       "1            2      112             75             32        0  35.7   \n",
       "2            2      108             64              0        0  30.8   \n",
       "3            8      107             80              0        0  24.6   \n",
       "4            7      136             90              0        0  29.9   \n",
       "\n",
       "   DiabetesPedigreeFunction  Age  Outcome  Gender  \n",
       "0                     0.430   43        0  Female  \n",
       "1                     0.148   21        0  Female  \n",
       "2                     0.158   21        0  Female  \n",
       "3                     0.856   34        0  Female  \n",
       "4                     0.210   50        0  Female  "
      ]
     },
     "execution_count": 40,
     "metadata": {},
     "output_type": "execute_result"
    }
   ],
   "source": [
    "diabetes = pd.read_csv('data/diabetes_data.csv')\n",
    "diabetes.head()"
   ]
  },
  {
   "cell_type": "markdown",
   "metadata": {},
   "source": [
    "Pregnancies — количество беременностей.\n",
    "\n",
    "Glucose — концентрация глюкозы в плазме через два часа при пероральном тесте на толерантность к глюкозе.\n",
    "\n",
    "BloodPressure — диастолическое артериальное давление (мм рт. ст.).\n",
    "\n",
    "SkinThickness — толщина кожной складки трицепса (мм).\n",
    "\n",
    "Insulin — двухчасовой сывороточный инсулин (ме Ед/мл).\n",
    "\n",
    "BMI — индекс массы тела $$(\\frac{вес\\ в\\ кг}{(рост\\ в\\ м)^2})$$\n",
    "\n",
    "DiabetesPedigreeFunction — функция родословной диабета (чем она выше, тем выше шанс наследственной заболеваемости).\n",
    "\n",
    "Age — возраст.\n",
    "\n",
    "Outcome — наличие диабета (0 — нет, 1 — да)."
   ]
  },
  {
   "cell_type": "code",
   "execution_count": 8,
   "metadata": {},
   "outputs": [
    {
     "name": "stdout",
     "output_type": "stream",
     "text": [
      "<class 'pandas.core.frame.DataFrame'>\n",
      "RangeIndex: 778 entries, 0 to 777\n",
      "Data columns (total 10 columns):\n",
      " #   Column                    Non-Null Count  Dtype  \n",
      "---  ------                    --------------  -----  \n",
      " 0   Pregnancies               778 non-null    int64  \n",
      " 1   Glucose                   778 non-null    int64  \n",
      " 2   BloodPressure             778 non-null    int64  \n",
      " 3   SkinThickness             778 non-null    int64  \n",
      " 4   Insulin                   778 non-null    int64  \n",
      " 5   BMI                       778 non-null    float64\n",
      " 6   DiabetesPedigreeFunction  778 non-null    float64\n",
      " 7   Age                       778 non-null    int64  \n",
      " 8   Outcome                   778 non-null    int64  \n",
      " 9   Gender                    778 non-null    object \n",
      "dtypes: float64(2), int64(7), object(1)\n",
      "memory usage: 60.9+ KB\n"
     ]
    }
   ],
   "source": [
    "diabetes.info()"
   ]
  },
  {
   "cell_type": "code",
   "execution_count": 84,
   "metadata": {},
   "outputs": [
    {
     "name": "stdout",
     "output_type": "stream",
     "text": [
      "   Pregnancies  Glucose  BloodPressure  SkinThickness  Insulin   BMI  \\\n",
      "0            6       98             58             33      190  34.0   \n",
      "1            2      112             75             32        0  35.7   \n",
      "2            2      108             64              0        0  30.8   \n",
      "3            8      107             80              0        0  24.6   \n",
      "4            7      136             90              0        0  29.9   \n",
      "\n",
      "   DiabetesPedigreeFunction  Age  Outcome  Gender  Id  \n",
      "0                     0.430   43        0  Female   1  \n",
      "1                     0.148   21        0  Female   2  \n",
      "2                     0.158   21        0  Female   3  \n",
      "3                     0.856   34        0  Female   4  \n",
      "4                     0.210   50        0  Female   5  \n"
     ]
    }
   ],
   "source": [
    "# Добавляем столбец Id\n",
    "diabetes['Id'] = range(1, len(diabetes) + 1)\n",
    "\n",
    "# Сортируем по столбцу Id\n",
    "diabetes = diabetes.sort_values(by='Id').reset_index(drop=True)\n",
    "\n",
    "# Выводим результат\n",
    "print(diabetes.head())"
   ]
  },
  {
   "cell_type": "code",
   "execution_count": 85,
   "metadata": {},
   "outputs": [
    {
     "name": "stdout",
     "output_type": "stream",
     "text": [
      "   Id  Pregnancies  Glucose  BloodPressure  SkinThickness  Insulin   BMI  \\\n",
      "0   1            6       98             58             33      190  34.0   \n",
      "1   2            2      112             75             32        0  35.7   \n",
      "2   3            2      108             64              0        0  30.8   \n",
      "3   4            8      107             80              0        0  24.6   \n",
      "4   5            7      136             90              0        0  29.9   \n",
      "\n",
      "   DiabetesPedigreeFunction  Age  Outcome  Gender  \n",
      "0                     0.430   43        0  Female  \n",
      "1                     0.148   21        0  Female  \n",
      "2                     0.158   21        0  Female  \n",
      "3                     0.856   34        0  Female  \n",
      "4                     0.210   50        0  Female  \n"
     ]
    }
   ],
   "source": [
    "# Перемещаем столбец Id в начало\n",
    "columns = ['Id'] + [col for col in diabetes.columns if col != 'Id']\n",
    "diabetes = diabetes[columns]\n",
    "\n",
    "# Выводим результат\n",
    "print(diabetes.head())"
   ]
  },
  {
   "cell_type": "markdown",
   "metadata": {},
   "source": [
    "### Задание 1\n",
    "Начнём с поиска дубликатов в данных. Найдите все повторяющиеся строки в данных и удалите их. Для поиска используйте все признаки в данных. Сколько записей осталось в данных?"
   ]
  },
  {
   "cell_type": "code",
   "execution_count": 86,
   "metadata": {},
   "outputs": [
    {
     "data": {
      "text/plain": [
       "True"
      ]
     },
     "execution_count": 86,
     "metadata": {},
     "output_type": "execute_result"
    }
   ],
   "source": [
    "# исло уникальных значений вычислим с помощью метода nunique():\n",
    "\n",
    "diabetes['Id'].nunique() == diabetes.shape[0]"
   ]
  },
  {
   "cell_type": "code",
   "execution_count": 87,
   "metadata": {},
   "outputs": [
    {
     "name": "stdout",
     "output_type": "stream",
     "text": [
      "Число найденных дубликатов: 10\n"
     ]
    }
   ],
   "source": [
    "# Создадим маску дубликатов с помощью метода duplicated() и произведём фильтрацию. Результат заносим в переменную diabetes_dedupped. Выведем число строк в результирующем DataFrame:\n",
    "\n",
    "dupl_columns = list(diabetes.columns)\n",
    "dupl_columns.remove('Id')\n",
    "\n",
    "mask = diabetes.duplicated(subset=dupl_columns)\n",
    "sber_duplicates = diabetes[mask]\n",
    "print(f'Число найденных дубликатов: {sber_duplicates.shape[0]}')"
   ]
  },
  {
   "cell_type": "code",
   "execution_count": 88,
   "metadata": {},
   "outputs": [
    {
     "name": "stdout",
     "output_type": "stream",
     "text": [
      "Результирующее число записей: 768\n"
     ]
    }
   ],
   "source": [
    "# Создадим новую таблицу diabetes_dedupped, которая будет версией исходной таблицы, очищенной от полных дубликатов.\n",
    "\n",
    "diabetes_dedupped = diabetes.drop_duplicates(subset=dupl_columns)\n",
    "print(f'Результирующее число записей: {diabetes_dedupped.shape[0]}')"
   ]
  },
  {
   "cell_type": "markdown",
   "metadata": {},
   "source": [
    "### Задание 2\n",
    "\n",
    "Далее найдите все неинформативные признаки в данных и избавьтесь от них. В качестве порога информативности возьмите 0.95: удалите все признаки, для которых 95 % значений повторяются или 95 % записей уникальны. В ответ запишите имена признаков, которые вы нашли (без кавычек)."
   ]
  },
  {
   "cell_type": "code",
   "execution_count": 89,
   "metadata": {},
   "outputs": [
    {
     "name": "stdout",
     "output_type": "stream",
     "text": [
      "   Pregnancies  Glucose  BloodPressure  SkinThickness  Insulin   BMI  \\\n",
      "0            6       98             58             33      190  34.0   \n",
      "1            2      112             75             32        0  35.7   \n",
      "2            2      108             64              0        0  30.8   \n",
      "3            8      107             80              0        0  24.6   \n",
      "4            7      136             90              0        0  29.9   \n",
      "\n",
      "   DiabetesPedigreeFunction  Age  Outcome  Gender  \n",
      "0                     0.430   43        0  Female  \n",
      "1                     0.148   21        0  Female  \n",
      "2                     0.158   21        0  Female  \n",
      "3                     0.856   34        0  Female  \n",
      "4                     0.210   50        0  Female  \n"
     ]
    }
   ],
   "source": [
    "# Удаляем колонку Id\n",
    "diabetes = diabetes.drop(columns=['Id'])\n",
    "\n",
    "# Проверяем результат\n",
    "print(diabetes.head())"
   ]
  },
  {
   "cell_type": "code",
   "execution_count": 113,
   "metadata": {},
   "outputs": [
    {
     "name": "stdout",
     "output_type": "stream",
     "text": [
      "Gender: 100.0% одинаковых значений\n",
      "Неинформативные признаки: ['Gender']\n"
     ]
    }
   ],
   "source": [
    "# Список для хранения неинформативных признаков\n",
    "low_information_cols = []\n",
    "\n",
    "# Цикл по всем столбцам\n",
    "for col in diabetes.columns:\n",
    "    # Наибольшая относительная частота в признаке\n",
    "    top_freq = diabetes[col].value_counts(normalize=True).max()\n",
    "    # Доля уникальных значений от размера признака\n",
    "    nunique_ratio = diabetes[col].nunique() / diabetes[col].count()\n",
    "    \n",
    "    # Сравниваем наибольшую частоту с порогом 0.95\n",
    "    if top_freq > 0.95:\n",
    "        low_information_cols.append(col)\n",
    "        print(f'{col}: {round(top_freq * 100, 2)}% одинаковых значений')\n",
    "    \n",
    "    # Сравниваем долю уникальных значений с порогом 0.95\n",
    "    if nunique_ratio > 0.95:\n",
    "        low_information_cols.append(col)\n",
    "        print(f'{col}: {round(nunique_ratio * 100, 2)}% уникальных значений')\n",
    "\n",
    "# Удаляем неинформативные признаки\n",
    "cleaned_data = diabetes.drop(low_information_cols, axis=1)\n",
    "\n",
    "# Выводим имена неинформативных признаков\n",
    "print(\"Неинформативные признаки:\", low_information_cols)"
   ]
  },
  {
   "cell_type": "markdown",
   "metadata": {},
   "source": [
    "### Задание 3\n",
    "\n",
    "Попробуйте найти пропуски в данных с помощью метода isnull().\n",
    "\n",
    "Спойлер: ничего не найдёте. А они есть! Просто они скрыты от наших глаз. В таблице пропуски в столбцах Glucose, BloodPressure, SkinThickness, Insulin и BMI обозначены нулём, поэтому традиционные методы поиска пропусков ничего вам не покажут. Давайте это исправим!\n",
    "\n",
    "Замените все записи, равные 0, в столбцах Glucose, BloodPressure, SkinThickness, Insulin и BMI на символ пропуска. Его вы можете взять из библиотеки numpy: np.nan.\n",
    "\n",
    "Какая доля пропусков содержится в столбце Insulin? Ответ округлите до сотых."
   ]
  },
  {
   "cell_type": "code",
   "execution_count": 115,
   "metadata": {},
   "outputs": [
    {
     "name": "stdout",
     "output_type": "stream",
     "text": [
      "Пропуски в данных:\n",
      "Series([], dtype: int64)\n",
      "\n",
      "Общее количество пропусков: 0\n"
     ]
    }
   ],
   "source": [
    "# Проверяем пропуски в каждом столбце\n",
    "missing_diabetes_values = cleaned_data.isnull().sum()\n",
    "\n",
    "# Выводим столбцы с количеством пропусков\n",
    "print(\"Пропуски в данных:\")\n",
    "print(missing_diabetes_values[missing_diabetes_values > 0])\n",
    "\n",
    "# Проверяем общее количество пропусков\n",
    "total_missing = cleaned_data.isnull().sum().sum()\n",
    "print(f\"\\nОбщее количество пропусков: {total_missing}\")\n"
   ]
  },
  {
   "cell_type": "code",
   "execution_count": 116,
   "metadata": {},
   "outputs": [
    {
     "name": "stdout",
     "output_type": "stream",
     "text": [
      "Glucose            5\n",
      "BloodPressure     36\n",
      "SkinThickness    232\n",
      "Insulin          380\n",
      "BMI               11\n",
      "dtype: int64\n"
     ]
    }
   ],
   "source": [
    "import numpy as np\n",
    "\n",
    "# Список столбцов для замены\n",
    "columns_to_replace = ['Glucose', 'BloodPressure', 'SkinThickness', 'Insulin', 'BMI']\n",
    "\n",
    "# Замена значений 0 на np.nan\n",
    "cleaned_data[columns_to_replace] = cleaned_data[columns_to_replace].replace(0, np.nan)\n",
    "\n",
    "# Проверяем изменения\n",
    "print(cleaned_data[columns_to_replace].isnull().sum())"
   ]
  },
  {
   "cell_type": "code",
   "execution_count": 117,
   "metadata": {},
   "outputs": [
    {
     "name": "stdout",
     "output_type": "stream",
     "text": [
      "Доля пропусков в столбце Insulin: 0.49\n"
     ]
    }
   ],
   "source": [
    "# Доля пропусков в столбце Insulin\n",
    "missing_ratio = cleaned_data['Insulin'].isnull().mean()\n",
    "\n",
    "# Округляем до сотых\n",
    "missing_ratio_rounded = round(missing_ratio, 2)\n",
    "\n",
    "print(f\"Доля пропусков в столбце Insulin: {missing_ratio_rounded}\")"
   ]
  },
  {
   "cell_type": "markdown",
   "metadata": {},
   "source": [
    "### Задание 4\n",
    "\n",
    "Удалите из данных признаки, где число пропусков составляет более 30%. Сколько признаков осталось в ваших данных (с учетом удаленных неинформативных признаков в задании 8.2)?"
   ]
  },
  {
   "cell_type": "code",
   "execution_count": 118,
   "metadata": {},
   "outputs": [
    {
     "name": "stdout",
     "output_type": "stream",
     "text": [
      "Результирующее число признаков: 8\n"
     ]
    }
   ],
   "source": [
    "# Вычисляем долю пропусков в каждом столбце\n",
    "missing_ratio = cleaned_data.isnull().mean()\n",
    "\n",
    "# Находим признаки, где пропуски составляют более 30%\n",
    "columns_to_drop = missing_ratio[missing_ratio > 0.30].index\n",
    "\n",
    "# Удаляем такие признаки\n",
    "diabetes_cleaned = cleaned_data.drop(columns=columns_to_drop)\n",
    "\n",
    "# Количество оставшихся признаков (с учетом уже удаленных неинформативных признаков)\n",
    "remaining_columns = diabetes_cleaned.shape[1]\n",
    "\n",
    "print(f\"Результирующее число признаков: {remaining_columns}\")\n"
   ]
  },
  {
   "cell_type": "markdown",
   "metadata": {},
   "source": [
    "### Задание 5\n",
    "\n",
    "Удалите из данных только те строки, в которых содержится более двух пропусков одновременно. Чему равно результирующее число записей в таблице?"
   ]
  },
  {
   "cell_type": "code",
   "execution_count": 105,
   "metadata": {},
   "outputs": [
    {
     "name": "stdout",
     "output_type": "stream",
     "text": [
      "Результирующее число записей в таблице: 778\n"
     ]
    }
   ],
   "source": [
    "# # Удаляем строки с более чем двумя пропусками\n",
    "# diabetes_cleaned = diabetes_cleaned.dropna(thresh=diabetes_cleaned.shape[1] - 2)\n",
    "\n",
    "# # Результирующее количество строк\n",
    "# resulting_rows = diabetes_cleaned.shape[0]\n",
    "\n",
    "# print(f\"Результирующее число записей в таблице: {resulting_rows}\")\n"
   ]
  },
  {
   "cell_type": "code",
   "execution_count": 96,
   "metadata": {},
   "outputs": [
    {
     "name": "stdout",
     "output_type": "stream",
     "text": [
      "Результирующее число записей в таблице: 778\n"
     ]
    }
   ],
   "source": [
    "# # Считаем количество пропусков в каждой строке\n",
    "# missing_count_per_row = diabetes.isnull().sum(axis=1)\n",
    "\n",
    "# # Оставляем только те строки, где количество пропусков не больше двух\n",
    "# cleaned_data = diabetes[missing_count_per_row <= 2]\n",
    "\n",
    "# # Результирующее количество строк\n",
    "# resulting_rows = cleaned_data.shape[0]\n",
    "\n",
    "# print(f\"Результирующее число записей в таблице: {resulting_rows}\")\n"
   ]
  },
  {
   "cell_type": "code",
   "execution_count": 103,
   "metadata": {},
   "outputs": [
    {
     "name": "stdout",
     "output_type": "stream",
     "text": [
      "Результирующее число записей в таблице: 778\n"
     ]
    }
   ],
   "source": [
    "# import numpy as np\n",
    "\n",
    "# # Преобразуем все возможные неявные пропуски в np.nan\n",
    "# diabetes.replace(['NA', 'null', 'na', ''], np.nan, inplace=True)\n",
    "\n",
    "# # Считаем количество пропусков в каждой строке\n",
    "# missing_count_per_row = diabetes.isnull().sum(axis=1)\n",
    "\n",
    "# # Оставляем только те строки, где количество пропусков не больше двух\n",
    "# cleaned_data = diabetes[missing_count_per_row <= 2]\n",
    "\n",
    "# # Результирующее количество строк\n",
    "# resulting_rows = cleaned_data.shape[0]\n",
    "\n",
    "# print(f\"Результирующее число записей в таблице: {resulting_rows}\")\n"
   ]
  },
  {
   "cell_type": "markdown",
   "metadata": {},
   "source": [
    "### Задание 6\n",
    "\n",
    "В оставшихся записях замените пропуски на медиану. Чему равно среднее значение в столбце SkinThickness? Ответ округлите до десятых."
   ]
  },
  {
   "cell_type": "code",
   "execution_count": 119,
   "metadata": {},
   "outputs": [
    {
     "name": "stdout",
     "output_type": "stream",
     "text": [
      "Среднее значение в столбце SkinThickness: 29.1\n"
     ]
    }
   ],
   "source": [
    "# Заменяем пропуски на медиану для каждого столбца\n",
    "diabetes_filled = cleaned_data.fillna(cleaned_data.median())\n",
    "\n",
    "# Вычисляем среднее значение в столбце SkinThickness\n",
    "mean_skin_thickness = diabetes_filled['SkinThickness'].mean()\n",
    "\n",
    "# Округляем до десятых\n",
    "mean_skin_thickness_rounded = round(mean_skin_thickness, 1)\n",
    "\n",
    "print(f\"Среднее значение в столбце SkinThickness: {mean_skin_thickness_rounded}\")"
   ]
  },
  {
   "cell_type": "markdown",
   "metadata": {},
   "source": [
    "### Задание 7\n",
    "\n",
    "Сколько выбросов найдёт классический метод межквартильного размаха в признаке SkinThickness?"
   ]
  },
  {
   "cell_type": "code",
   "execution_count": 120,
   "metadata": {},
   "outputs": [
    {
     "name": "stdout",
     "output_type": "stream",
     "text": [
      "Количество выбросов в признаке SkinThickness: 87\n"
     ]
    }
   ],
   "source": [
    "# Вычисляем первый (Q1) и третий (Q3) квартиль\n",
    "Q1 = diabetes_filled['SkinThickness'].quantile(0.25)\n",
    "Q3 = diabetes_filled['SkinThickness'].quantile(0.75)\n",
    "\n",
    "# Вычисляем межквартильный размах (IQR)\n",
    "IQR = Q3 - Q1\n",
    "\n",
    "# Определяем границы для выбросов\n",
    "lower_bound = Q1 - 1.5 * IQR\n",
    "upper_bound = Q3 + 1.5 * IQR\n",
    "\n",
    "# Находим выбросы\n",
    "outliers = diabetes_filled[(diabetes_filled['SkinThickness'] < lower_bound) | (diabetes_filled['SkinThickness'] > upper_bound)]\n",
    "\n",
    "# Количество выбросов\n",
    "num_outliers = outliers.shape[0]\n",
    "\n",
    "print(f\"Количество выбросов в признаке SkinThickness: {num_outliers}\")\n"
   ]
  },
  {
   "cell_type": "markdown",
   "metadata": {},
   "source": [
    "Примечание: дальнейшая работа производится с данными, очищенными от дубликатов, неинформативных признаков данных и пропусков."
   ]
  },
  {
   "cell_type": "markdown",
   "metadata": {},
   "source": [
    "### Задание 8\n",
    "\n",
    "Сколько выбросов найдёт классический метод z-отклонения в признаке SkinThickness?"
   ]
  },
  {
   "cell_type": "code",
   "execution_count": 121,
   "metadata": {},
   "outputs": [
    {
     "name": "stdout",
     "output_type": "stream",
     "text": [
      "Количество выбросов по методу z-отклонения в признаке SkinThickness: 4\n"
     ]
    }
   ],
   "source": [
    "# Вычисляем среднее и стандартное отклонение для признака SkinThickness\n",
    "mean_skin_thickness = diabetes_filled['SkinThickness'].mean()\n",
    "std_skin_thickness = diabetes_filled['SkinThickness'].std()\n",
    "\n",
    "# Вычисляем z-отклонение для каждого значения\n",
    "z_scores = (diabetes_filled['SkinThickness'] - mean_skin_thickness) / std_skin_thickness\n",
    "\n",
    "# Находим выбросы (z-отклонение больше 3 или меньше -3)\n",
    "outliers_z = diabetes_filled[abs(z_scores) > 3]\n",
    "\n",
    "# Количество выбросов\n",
    "num_outliers_z = outliers_z.shape[0]\n",
    "\n",
    "print(f\"Количество выбросов по методу z-отклонения в признаке SkinThickness: {num_outliers_z}\")"
   ]
  },
  {
   "cell_type": "markdown",
   "metadata": {},
   "source": [
    "### Задание 9\n",
    "\n",
    "На приведённой гистограмме показано распределение признака DiabetesPedigreeFunction. Такой вид распределения очень похож на логнормальный, и он заставляет задуматься о логарифмировании признака. Найдите сначала число выбросов в признаке DiabetesPedigreeFunction с помощью классического метода межквартильного размаха."
   ]
  },
  {
   "cell_type": "code",
   "execution_count": 122,
   "metadata": {},
   "outputs": [
    {
     "name": "stdout",
     "output_type": "stream",
     "text": [
      "Количество выбросов в признаке DiabetesPedigreeFunction: 29\n"
     ]
    }
   ],
   "source": [
    "# Вычисляем первый (Q1) и третий (Q3) квартиль для признака DiabetesPedigreeFunction\n",
    "Q1 = diabetes_filled['DiabetesPedigreeFunction'].quantile(0.25)\n",
    "Q3 = diabetes_filled['DiabetesPedigreeFunction'].quantile(0.75)\n",
    "\n",
    "# Вычисляем межквартильный размах (IQR)\n",
    "IQR = Q3 - Q1\n",
    "\n",
    "# Определяем границы для выбросов\n",
    "lower_bound = Q1 - 1.5 * IQR\n",
    "upper_bound = Q3 + 1.5 * IQR\n",
    "\n",
    "# Находим выбросы\n",
    "outliers = diabetes_filled[(diabetes_filled['DiabetesPedigreeFunction'] < lower_bound) | (diabetes_filled['DiabetesPedigreeFunction'] > upper_bound)]\n",
    "\n",
    "# Количество выбросов\n",
    "num_outliers = outliers.shape[0]\n",
    "\n",
    "print(f\"Количество выбросов в признаке DiabetesPedigreeFunction: {num_outliers}\")"
   ]
  },
  {
   "cell_type": "code",
   "execution_count": 124,
   "metadata": {},
   "outputs": [
    {
     "name": "stdout",
     "output_type": "stream",
     "text": [
      "Количество выбросов до логарифмирования: 29\n",
      "Количество выбросов после логарифмирования: 0\n",
      "Разница между количеством выбросов: 29\n"
     ]
    }
   ],
   "source": [
    "import numpy as np\n",
    "\n",
    "# Логарифмируем признак DiabetesPedigreeFunction\n",
    "log_diabetes_pedigree = np.log(diabetes_filled['DiabetesPedigreeFunction'])\n",
    "\n",
    "# Вычисляем первый (Q1) и третий (Q3) квартиль для логарифмированных значений\n",
    "Q1_log = log_diabetes_pedigree.quantile(0.25)\n",
    "Q3_log = log_diabetes_pedigree.quantile(0.75)\n",
    "\n",
    "# Вычисляем межквартильный размах (IQR) для логарифмированных значений\n",
    "IQR_log = Q3_log - Q1_log\n",
    "\n",
    "# Определяем границы для выбросов на логарифмированных данных\n",
    "lower_bound_log = Q1_log - 1.5 * IQR_log\n",
    "upper_bound_log = Q3_log + 1.5 * IQR_log\n",
    "\n",
    "# Находим выбросы на логарифмированных данных\n",
    "outliers_log = diabetes_filled[(log_diabetes_pedigree < lower_bound_log) | (log_diabetes_pedigree > upper_bound_log)]\n",
    "\n",
    "# Количество выбросов до и после логарифмирования\n",
    "num_outliers = outliers.shape[0]\n",
    "num_outliers_log = outliers_log.shape[0]\n",
    "\n",
    "# Разница между количеством выбросов до и после логарифмирования\n",
    "difference = num_outliers - num_outliers_log\n",
    "\n",
    "print(f\"Количество выбросов до логарифмирования: {num_outliers}\")\n",
    "print(f\"Количество выбросов после логарифмирования: {num_outliers_log}\")\n",
    "print(f\"Разница между количеством выбросов: {difference}\")\n"
   ]
  },
  {
   "cell_type": "code",
   "execution_count": 125,
   "metadata": {},
   "outputs": [
    {
     "data": {
      "image/png": "[encoded data removed]",
      "text/plain": [
       "<Figure size 1200x600 with 2 Axes>"
      ]
     },
     "metadata": {},
     "output_type": "display_data"
    }
   ],
   "source": [
    "import matplotlib.pyplot as plt\n",
    "import seaborn as sns\n",
    "import numpy as np\n",
    "\n",
    "# Логарифмируем признак DiabetesPedigreeFunction\n",
    "log_diabetes_pedigree = np.log(diabetes_filled['DiabetesPedigreeFunction'])\n",
    "\n",
    "# Создаём графики\n",
    "plt.figure(figsize=(12, 6))\n",
    "\n",
    "# Гистограмма для исходных данных\n",
    "plt.subplot(1, 2, 1)\n",
    "sns.histplot(diabetes_filled['DiabetesPedigreeFunction'], kde=True, color='blue')\n",
    "plt.title('Распределение DiabetesPedigreeFunction')\n",
    "plt.xlabel('DiabetesPedigreeFunction')\n",
    "plt.ylabel('Частота')\n",
    "\n",
    "# Гистограмма для логарифмированных данных\n",
    "plt.subplot(1, 2, 2)\n",
    "sns.histplot(log_diabetes_pedigree, kde=True, color='green')\n",
    "plt.title('Распределение после логарифмирования')\n",
    "plt.xlabel('Log(DiabetesPedigreeFunction)')\n",
    "plt.ylabel('Частота')\n",
    "\n",
    "# Отображаем графики\n",
    "plt.tight_layout()\n",
    "plt.show()"
   ]
  }
 ],
 "metadata": {
  "kernelspec": {
   "display_name": "Python 3",
   "language": "python",
   "name": "python3"
  },
  "language_info": {
   "codemirror_mode": {
    "name": "ipython",
    "version": 3
   },
   "file_extension": ".py",
   "mimetype": "text/x-python",
   "name": "python",
   "nbconvert_exporter": "python",
   "pygments_lexer": "ipython3",
   "version": "3.13.0"
  }
 },
 "nbformat": 4,
 "nbformat_minor": 2
}
