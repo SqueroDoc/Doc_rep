import pandas as pd
import numpy as np
import matplotlib.pyplot as plt
import seaborn as sns
from sklearn.model_selection import train_test_split
from sklearn.preprocessing import StandardScaler, OneHotEncoder
from sklearn.pipeline import Pipeline
from sklearn.compose import ColumnTransformer
from sklearn.ensemble import RandomForestClassifier
from sklearn.metrics import accuracy_score, precision_score, recall_score, f1_score, roc_auc_score

# Загрузка данных
file_path = "heart_disease_uci.csv"  # Укажите путь к файлу, если требуется
df = pd.read_csv(file_path)

# Просмотр информации о данных
print(df.info())
print(df.head())

# Целевая переменная
target = 'num'

# Преобразуем целевую переменную в бинарный формат (0 - нет заболевания, 1 - есть заболевание)
df[target] = df[target].apply(lambda x: 1 if x > 0 else 0)

# Разделение признаков на числовые и категориальные
numerical_features = ['age', 'trestbps', 'chol', 'thalch', 'oldpeak', 'ca']
categorical_features = ['sex', 'cp', 'fbs', 'restecg', 'exang', 'slope', 'thal']

# Разделение данных на обучающую и тестовую выборки
X = df.drop(columns=['id', 'origin', target])
y = df[target]

X_train, X_test, y_train, y_test = train_test_split(X, y, test_size=0.2, random_state=42, stratify=y)

# Преобразование данных
numeric_transformer = StandardScaler()
categorical_transformer = OneHotEncoder(handle_unknown='ignore')

preprocessor = ColumnTransformer(
    transformers=[
        ('num', numeric_transformer, numerical_features),
        ('cat', categorical_transformer, categorical_features)
    ])

# Определение модели
model = RandomForestClassifier(n_estimators=100, random_state=42)

# Создание пайплайна
pipeline = Pipeline(steps=[('preprocessor', preprocessor),
                           ('classifier', model)])

# Обучение модели
pipeline.fit(X_train, y_train)

# Предсказания
y_pred = pipeline.predict(X_test)
y_proba = pipeline.predict_proba(X_test)[:, 1]

# Оценка качества модели
metrics = {
    "Accuracy": accuracy_score(y_test, y_pred),
    "Precision": precision_score(y_test, y_pred),
    "Recall": recall_score(y_test, y_pred),
    "F1 Score": f1_score(y_test, y_pred),
    "ROC AUC Score": roc_auc_score(y_test, y_proba)
}

print("Model Performance Metrics:")
for metric, value in metrics.items():
    print(f"{metric}: {value:.4f}")

# Визуализация важности признаков
feature_importances = model.feature_importances_
feature_names = numerical_features + list(pipeline.named_steps['preprocessor'].transformers_[1][1].get_feature_names_out())

# Построение графика важности признаков
plt.figure(figsize=(10, 6))
sns.barplot(x=feature_importances, y=feature_names)
plt.xlabel("Feature Importance")
plt.ylabel("Feature Name")
plt.title("Feature Importance in RandomForest Model")
plt.show()
