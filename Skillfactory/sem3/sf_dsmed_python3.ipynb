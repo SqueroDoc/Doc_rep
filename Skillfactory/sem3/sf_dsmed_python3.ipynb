{
 "cells": [
  {
   "cell_type": "markdown",
   "id": "762cf2c0-c61d-439b-89ae-ad060cf62e4b",
   "metadata": {},
   "source": [
    "# Программирование на Python\n",
    "### Условные конструкции\n",
    "#### Задача 3 (с прошлого занятия)\n",
    "\n",
    "Вы хотите помочь другу разобраться в Python, но он знает только Excel. Представим, что он хочет округлить действительное число, но не знает как это сделать в Python. Зато он помнит, как это можно сделать в его любимом Excel: с помощью функций [ОКРУГЛ](https://support.microsoft.com/ru-ru/office/%D1%84%D1%83%D0%BD%D0%BA%D1%86%D0%B8%D1%8F-%D0%BE%D0%BA%D1%80%D1%83%D0%B3%D0%BB-c018c5d8-40fb-4053-90b1-b3e7f61a213c), [ОКРУГЛВВЕРХ](https://support.microsoft.com/ru-ru/office/%D0%BE%D0%BA%D1%80%D1%83%D0%B3%D0%BB%D0%B2%D0%B2%D0%B5%D1%80%D1%85-%D1%84%D1%83%D0%BD%D0%BA%D1%86%D0%B8%D1%8F-%D0%BE%D0%BA%D1%80%D1%83%D0%B3%D0%BB%D0%B2%D0%B2%D0%B5%D1%80%D1%85-f8bc9b23-e795-47db-8703-db171d0c42a7) и [ОКРУГЛВНИЗ](https://support.microsoft.com/ru-ru/office/%D0%BE%D0%BA%D1%80%D1%83%D0%B3%D0%BB%D0%B2%D0%BD%D0%B8%D0%B7-%D1%84%D1%83%D0%BD%D0%BA%D1%86%D0%B8%D1%8F-%D0%BE%D0%BA%D1%80%D1%83%D0%B3%D0%BB%D0%B2%D0%BD%D0%B8%D0%B7-2ec94c73-241f-4b01-8c6f-17e6d7968f53). Пользователь будет вводить Excel-выражение (любое из возможных согласно документации по ссылкам), а вам надо преобразовать его в соответствующий Python-код и вывести результат.\n",
    "\n",
    "**Пример:**\n",
    "\n",
    "```\n",
    "input:\n",
    "ОКРУГЛ(1,5136;2)\n",
    "\n",
    "output:\n",
    "1.51\n",
    "```"
   ]
  },
  {
   "cell_type": "code",
   "execution_count": null,
   "id": "0afe1cf6-6777-4dcd-b4c5-dbfa99981836",
   "metadata": {},
   "outputs": [],
   "source": [
    "excel_code = input('Введите выражение Excel: ')\n",
    "\n",
    "floatint = excel_code.strip('ОКРУГЛВЕРХИЗН()')\n",
    "f, i = floatint.split(';')\n",
    "\n",
    "f = float(f.replace(',', '.'))\n",
    "i = int(i)\n",
    "\n",
    "# здесь без ветвления не обойтись\n",
    "if excel_code.startswith('ОКРУГЛВВЕРХ'):\n",
    "    f_mult = f * 10 ** i\n",
    "\n",
    "    if f_mult == int(f_mult):\n",
    "        solution = int(f_mult) / 10 ** i\n",
    "    else:\n",
    "        solution = (int(f_mult) + 1) / 10 ** i\n",
    "\n",
    "    if i == 0:\n",
    "        solution = int(solution)\n",
    "\n",
    "    print(solution)\n",
    "elif excel_code.startswith('ОКРУГЛВНИЗ'):\n",
    "    if i == 0:\n",
    "        print(int(f))\n",
    "    else:\n",
    "        print(int(f * 10 ** i) / 10 ** i)\n",
    "else:\n",
    "    if i == 0:\n",
    "        print(round(f))\n",
    "    else:\n",
    "        print(round(f, i))"
   ]
  },
  {
   "cell_type": "markdown",
   "id": "5d070f39-1614-4e66-b652-effacda404c3",
   "metadata": {},
   "source": [
    "#### Задача 1\n",
    "Мы имеем словарь, в котором ключами являются идентификаторы испытуемых, а значениями - показатели датчиков за 10 дней. Нужно получить такой же словарь, но с числами (или с нулем вместо `'error'`)."
   ]
  },
  {
   "cell_type": "code",
   "execution_count": null,
   "id": "4320e4ba-5459-4a45-a726-5971e1ab5506",
   "metadata": {},
   "outputs": [],
   "source": [
    "data = {\n",
    "    'patient1': ['-2.47', '10.414', '-20.147', '71.253', '6.184', '18.686', '14.767', '8.407', '49.355', '17.055'],\n",
    "    'patient2': ['-11.368', '71.067', '-31.519', 'error', '12.197', '-23.183', '28.052', '21.437', '19.261', '67.036'],\n",
    "    'patient3': ['-44.866', '-42.591', '32.409', '62.916', '23.356', 'error', '-52.277', '-20.885', '21.307', '10.846'],\n",
    "    'patient4': ['-50.765', 'error', '-26.627', 'error', '6.523', '11.412', 'error', '40.828', '-21.127', '-11.693'],\n",
    "    'patient5': ['5.076', '91.697', '-47.169', '-21.875', '-52.227', '20.551', '30.118', '-0.114', '25.138', '-21.818'],\n",
    "    'patient6': ['-15.347', '-27.504', '-33.92', '-45.092', '-23.837', '-15.655', '-43.795', '30.521', '68.682', '18.174'],\n",
    "    'patient7': ['4.825', '-22.918', 'error', '16.429', 'error', '15.604', '-27.403', 'error', '7.14', '26.587']\n",
    "}"
   ]
  },
  {
   "cell_type": "code",
   "execution_count": null,
   "id": "0b40aca0-590c-4c13-b907-bae92d6fc67b",
   "metadata": {},
   "outputs": [],
   "source": [
    "# наш код здесь"
   ]
  },
  {
   "cell_type": "markdown",
   "id": "88d1c794-d07b-45ac-98a1-3f96fda036c8",
   "metadata": {},
   "source": [
    "#### Задача 2\n",
    "У вас есть геном бактерии E.coli, лежащий в fasta-файле. Найдите 2 самых частых и 2 самых редких 6-мера. Постарайтесь обойтись одной итерацией по файлу для составления словаря частот.\n",
    "\n",
    "Эту задачу можно также разделить на составляющие.\n",
    "##### 2.1\n",
    "Считайте значения построчно, отделив ненужные строки:"
   ]
  },
  {
   "cell_type": "code",
   "execution_count": null,
   "id": "f943432d-276b-450e-abf3-3e6d5848cc20",
   "metadata": {},
   "outputs": [],
   "source": [
    "# наш код здесь"
   ]
  },
  {
   "cell_type": "markdown",
   "id": "f014c9cc-5456-4b04-bd85-a26b91b11111",
   "metadata": {},
   "source": [
    "##### 2.2\n",
    "Вы имеете строку `line` с нуклеотидами. Решите исходную задачу конкретно для нее."
   ]
  },
  {
   "cell_type": "code",
   "execution_count": null,
   "id": "fa2d77f1-42c3-4bce-8a66-2534076b4cd0",
   "metadata": {},
   "outputs": [],
   "source": [
    "line = 'GCTTTTCATTCTGACTGCAACGGGCAATATGTCTCTGTGTGGATTAAAAAAAGAGTGTCTGATAGCAGCT'\n",
    "\n",
    "# наш код здесь"
   ]
  },
  {
   "cell_type": "markdown",
   "id": "1d88178c-537d-4a04-b766-40dab4d78e31",
   "metadata": {},
   "source": [
    "##### 2.3\n",
    "Теперь у вас есть 2 линии: предыдущая и текущая. Выполните то же самое, что и в прошлом пункте, считая две последовательности за единую. Соединять последовательности нельзя."
   ]
  },
  {
   "cell_type": "code",
   "execution_count": null,
   "id": "a6377d87-22b7-4393-9310-335c3f6a8c39",
   "metadata": {},
   "outputs": [],
   "source": [
    "line_prev = 'GCTTTTCATTCTGACTGCAACGGGCAATATGTCTCTGTGTGGATTAAAAAAAGAGTGTCTGATAGCAGCT'\n",
    "line = 'TCTGAACTGGTTACCTGCCGTGAGTAAATTAAAATTTTATTGACTTAGGTCACTAAATACTTTAACCAAT'\n",
    "\n",
    "# наш код здесь"
   ]
  },
  {
   "cell_type": "markdown",
   "id": "d0eb3284-e9a2-4bcd-94c3-024e3ef2420e",
   "metadata": {},
   "source": [
    "#### Задача (практическая)\n",
    "**Задача предназначена для решения на нескольких семинарах. На каждом будут выполняться те составляющие, которые возможно выполнить на текущем уровне подготовки.**\n",
    "\n",
    "Мы хотим автоматизировать процесс перекладки текстовых файлов с данными из хранилища в БД (Postgres). Предположим, что таблицы каждый раз разные. Соответственно, перед записью данных необходимо создать таблицу. Это можно сделать примерно так:\n",
    "\n",
    "```SQL\n",
    "CREATE TABLE distributors (\n",
    "    did integer,\n",
    "    name varchar(40)\n",
    ");\n",
    "```\n",
    "\n",
    "PostgreSQL [располагает](https://www.postgresql.org/docs/current/datatype.html) следующими типами данных (это не все, что есть, но все, что нам сейчас пригодится):\n",
    "\n",
    "<table>\n",
    "    <tr>\n",
    "        <th>Python</th>\n",
    "        <th>PostgreSQL</th>\n",
    "    </tr>\n",
    "    <tr>\n",
    "        <td>int</td>\n",
    "        <td>smallint, integer, bigint</td>\n",
    "    </tr>\n",
    "    <tr>\n",
    "        <td>float</td>\n",
    "        <td>real</td>\n",
    "    </tr>\n",
    "    <tr>\n",
    "        <td>bool</td>\n",
    "        <td>boolean</td>\n",
    "    </tr>\n",
    "    <tr>\n",
    "        <td>str</td>\n",
    "        <td>varchar, text</td>\n",
    "    </tr>\n",
    "</table>\n",
    "\n",
    "Реализуйте соответствующую функцию. Она должна иметь следующие аргументы:\n",
    "\n",
    "- `filename` (строка) - путь к текстовому файлу;\n",
    "- `sep` (строка, по дефолту для CSV) - разделитель;\n",
    "- `tablename` (строка, по дефолту соответствует названию файла без расширения, если `None`);\n",
    "- `varnames` (либо должны быть предоставлены в виде списка, либо добываются из данных если `None`);\n",
    "- `dtypes` (либо должны быть предоставлены в виде списка, либо добываются из данных если `None`).\n",
    "\n",
    "Функция должна записывать получившийся скрипт в файл 'create_table.sql' и возвращать путь к этому файлу.\n",
    "\n",
    "#### Задача 2\n",
    "Задачу выше можно разделить на следующие этапы:\n",
    "\n",
    "1. Прочитать файл и собрать данные в структуру:\n",
    "```python\n",
    "{\n",
    "    \"колонка\": ['значение1', 'значение2', ...],\n",
    "    \"колонка2\": [...],\n",
    "    ...\n",
    "}\n",
    "```\n",
    "2. Угадать тип данных для каждой колонки;\n",
    "3. Сгенерировать код создания таблицы.\n",
    "\n",
    "Сейчас нам целесообразно выполнить только пункт 2. Необходимо написать код, который получал бы на вход словарь вида, описанного выше, и пытался бы догадаться о типе каждой колонки. На выходе необходимо иметь кортеж. Некоторые пояснения:\n",
    "\n",
    "- `smallint` - значения от -32768 до 32767;\n",
    "- `int` - значения от -2147483648 от 2147483647;\n",
    "- `bigint` - значения от -9223372036854775808 до 9223372036854775807;\n",
    "- `varchar(n)` - строка длины, ограченной n (используйте тип text, если максимальное значение длины значения в колонке превышает `100`)."
   ]
  },
  {
   "cell_type": "code",
   "execution_count": null,
   "id": "897829d6-06f6-4120-b6d4-dc00e355ba59",
   "metadata": {},
   "outputs": [],
   "source": [
    "data_dict = {\n",
    "    'column_int': ['8', '-16', '-2', '7', '12', '-15', '-7', '-4', '12', '-14', '-3', '5', '2', '9', '11', '18', '-8', '-17', '2', '-14', '-19', '-7'],\n",
    "    'column_float': ['-0.61', '0.99', '-0.28', '-0.22', '0.81', '0.59', '-0.88', '-0.25', '-0.2', '-0.68', '-0.32', '0.64', '-1.6', '-1.34', '1.31', '1.71', '0.56', '1.43', '-0.47', '-1.43', '-0.48', '-1.46'],\n",
    "    'column_bool': ['false', 'true', 'false', 'true', 'false', 'true', 'false', 'false', 'true', 'false', 'true', 'false', 'false', 'true', 'false', 'false', 'false', 'false', 'true', 'false', 'false', 'false'],\n",
    "    'column_text': ['red', 'red', 'orange', 'red', 'blue', 'red', 'red', 'orange', 'red', 'blue', 'red', 'red', 'orange', 'blue', 'red', 'blue', 'orange', 'blue', 'orange', 'red', 'red', 'blue'],\n",
    "}"
   ]
  },
  {
   "cell_type": "code",
   "execution_count": null,
   "id": "7885499c-7f55-4a75-95d1-42d73697acf4",
   "metadata": {},
   "outputs": [],
   "source": [
    "# наш код здесь"
   ]
  }
 ],
 "metadata": {
  "colab": {
   "provenance": []
  },
  "kernelspec": {
   "display_name": "Python 3 (ipykernel)",
   "language": "python",
   "name": "python3"
  },
  "language_info": {
   "codemirror_mode": {
    "name": "ipython",
    "version": 3
   },
   "file_extension": ".py",
   "mimetype": "text/x-python",
   "name": "python",
   "nbconvert_exporter": "python",
   "pygments_lexer": "ipython3",
   "version": "3.11.6"
  }
 },
 "nbformat": 4,
 "nbformat_minor": 5
}
