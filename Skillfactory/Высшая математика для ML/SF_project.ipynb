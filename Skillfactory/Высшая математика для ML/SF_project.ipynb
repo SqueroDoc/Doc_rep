{
 "cells": [
  {
   "cell_type": "markdown",
   "id": "567d63a2-38de-45fb-b1c9-de26049397a0",
   "metadata": {
    "id": "567d63a2-38de-45fb-b1c9-de26049397a0"
   },
   "source": [
    "## Проект по теме \"Прогнозирование наличия сердечно-сосудистых заболеваний на основе характеристик пациентов\""
   ]
  },
  {
   "cell_type": "markdown",
   "id": "2180043d-07e1-450d-9a9a-818a6b811b39",
   "metadata": {
    "id": "2180043d-07e1-450d-9a9a-818a6b811b39"
   },
   "source": [
    "Датасет представляет собой .csv файл, содержащий следующие поля:\n",
    "\n",
    "* id: идентификатор для каждого человека в наборе данных;\n",
    "* age: возраст человека (в днях);\n",
    "* gender: пол (1 для женщин, 2 для мужчин);\n",
    "* height: рост в сантиметрах;\n",
    "* weight: вес в килограммах;\n",
    "* ap_hi: систолическое артериальное давление (измеряется в мм рт.ст.);\n",
    "* ap_lo: диастолическое артериальное давление (измеряется в мм рт.ст.);\n",
    "* cholesterol: уровень холестерина (1 – в норме, 2 – выше нормы, 3 –\n",
    "значительно выше нормы);\n",
    "* gluc: уровень глюкозы (1 – в норме, 2 – выше нормы, 3 – значительно выше\n",
    "нормы);\n",
    "* smoke: курит ли человек (0 – нет, 1 – да);\n",
    "* alco: употребляет ли человек алкоголь (0 – нет, 1 – да);\n",
    "* active: является ли человек физически активным (0 – нет, 1 – да);\n",
    "* cardio: наличие сердечно-сосудистых заболеваний (0 – нет, 1 – да)."
   ]
  },
  {
   "cell_type": "markdown",
   "id": "f8414fc4-9259-4d6f-b550-63aa83145c2c",
   "metadata": {
    "id": "f8414fc4-9259-4d6f-b550-63aa83145c2c"
   },
   "source": [
    "Задачей является построить модель, предсказывающую наличие сердечно-сосудистых заболеваний.\n",
    "Вам необходимо реализовать все дальнейшие шаги, обучить модель и оценить её качество."
   ]
  },
  {
   "cell_type": "markdown",
   "id": "9128415d-411d-459e-a56a-29646c28ade1",
   "metadata": {
    "id": "9128415d-411d-459e-a56a-29646c28ade1"
   },
   "source": [
    "## Задание 1: загрузка файла и проверка пропущенных значений (5 баллов)"
   ]
  },
  {
   "cell_type": "markdown",
   "id": "a4be747c-8415-4af6-b67d-2c59299440f3",
   "metadata": {
    "id": "a4be747c-8415-4af6-b67d-2c59299440f3"
   },
   "source": [
    "Откройте данные и изучите их: есть ли пропущенные значения? Прокомментируйте результат. Если пропущенные значения есть - удалите строки с ними."
   ]
  },
  {
   "cell_type": "code",
   "execution_count": 1,
   "id": "e626bfe3-de32-4b57-9173-80ecd4757899",
   "metadata": {
    "id": "e626bfe3-de32-4b57-9173-80ecd4757899"
   },
   "outputs": [
    {
     "name": "stdout",
     "output_type": "stream",
     "text": [
      "Данные успешно загружены!\n"
     ]
    },
    {
     "data": {
      "application/vnd.microsoft.datawrangler.viewer.v0+json": {
       "columns": [
        {
         "name": "index",
         "rawType": "int64",
         "type": "integer"
        },
        {
         "name": "id",
         "rawType": "int64",
         "type": "integer"
        },
        {
         "name": "age",
         "rawType": "int64",
         "type": "integer"
        },
        {
         "name": "gender",
         "rawType": "int64",
         "type": "integer"
        },
        {
         "name": "height",
         "rawType": "int64",
         "type": "integer"
        },
        {
         "name": "weight",
         "rawType": "float64",
         "type": "float"
        },
        {
         "name": "ap_hi",
         "rawType": "int64",
         "type": "integer"
        },
        {
         "name": "ap_lo",
         "rawType": "int64",
         "type": "integer"
        },
        {
         "name": "cholesterol",
         "rawType": "int64",
         "type": "integer"
        },
        {
         "name": "gluc",
         "rawType": "int64",
         "type": "integer"
        },
        {
         "name": "smoke",
         "rawType": "int64",
         "type": "integer"
        },
        {
         "name": "alco",
         "rawType": "int64",
         "type": "integer"
        },
        {
         "name": "active",
         "rawType": "int64",
         "type": "integer"
        },
        {
         "name": "cardio",
         "rawType": "int64",
         "type": "integer"
        }
       ],
       "ref": "2101f656-52f3-42e2-bee0-475bf4f94912",
       "rows": [
        [
         "0",
         "0",
         "18393",
         "2",
         "168",
         "62.0",
         "110",
         "80",
         "1",
         "1",
         "0",
         "0",
         "1",
         "0"
        ],
        [
         "1",
         "1",
         "20228",
         "1",
         "156",
         "85.0",
         "140",
         "90",
         "3",
         "1",
         "0",
         "0",
         "1",
         "1"
        ],
        [
         "2",
         "2",
         "18857",
         "1",
         "165",
         "64.0",
         "130",
         "70",
         "3",
         "1",
         "0",
         "0",
         "0",
         "1"
        ],
        [
         "3",
         "3",
         "17623",
         "2",
         "169",
         "82.0",
         "150",
         "100",
         "1",
         "1",
         "0",
         "0",
         "1",
         "1"
        ],
        [
         "4",
         "4",
         "17474",
         "1",
         "156",
         "56.0",
         "100",
         "60",
         "1",
         "1",
         "0",
         "0",
         "0",
         "0"
        ]
       ],
       "shape": {
        "columns": 13,
        "rows": 5
       }
      },
      "text/html": [
       "<div>\n",
       "<style scoped>\n",
       "    .dataframe tbody tr th:only-of-type {\n",
       "        vertical-align: middle;\n",
       "    }\n",
       "\n",
       "    .dataframe tbody tr th {\n",
       "        vertical-align: top;\n",
       "    }\n",
       "\n",
       "    .dataframe thead th {\n",
       "        text-align: right;\n",
       "    }\n",
       "</style>\n",
       "<table border=\"1\" class=\"dataframe\">\n",
       "  <thead>\n",
       "    <tr style=\"text-align: right;\">\n",
       "      <th></th>\n",
       "      <th>id</th>\n",
       "      <th>age</th>\n",
       "      <th>gender</th>\n",
       "      <th>height</th>\n",
       "      <th>weight</th>\n",
       "      <th>ap_hi</th>\n",
       "      <th>ap_lo</th>\n",
       "      <th>cholesterol</th>\n",
       "      <th>gluc</th>\n",
       "      <th>smoke</th>\n",
       "      <th>alco</th>\n",
       "      <th>active</th>\n",
       "      <th>cardio</th>\n",
       "    </tr>\n",
       "  </thead>\n",
       "  <tbody>\n",
       "    <tr>\n",
       "      <th>0</th>\n",
       "      <td>0</td>\n",
       "      <td>18393</td>\n",
       "      <td>2</td>\n",
       "      <td>168</td>\n",
       "      <td>62.0</td>\n",
       "      <td>110</td>\n",
       "      <td>80</td>\n",
       "      <td>1</td>\n",
       "      <td>1</td>\n",
       "      <td>0</td>\n",
       "      <td>0</td>\n",
       "      <td>1</td>\n",
       "      <td>0</td>\n",
       "    </tr>\n",
       "    <tr>\n",
       "      <th>1</th>\n",
       "      <td>1</td>\n",
       "      <td>20228</td>\n",
       "      <td>1</td>\n",
       "      <td>156</td>\n",
       "      <td>85.0</td>\n",
       "      <td>140</td>\n",
       "      <td>90</td>\n",
       "      <td>3</td>\n",
       "      <td>1</td>\n",
       "      <td>0</td>\n",
       "      <td>0</td>\n",
       "      <td>1</td>\n",
       "      <td>1</td>\n",
       "    </tr>\n",
       "    <tr>\n",
       "      <th>2</th>\n",
       "      <td>2</td>\n",
       "      <td>18857</td>\n",
       "      <td>1</td>\n",
       "      <td>165</td>\n",
       "      <td>64.0</td>\n",
       "      <td>130</td>\n",
       "      <td>70</td>\n",
       "      <td>3</td>\n",
       "      <td>1</td>\n",
       "      <td>0</td>\n",
       "      <td>0</td>\n",
       "      <td>0</td>\n",
       "      <td>1</td>\n",
       "    </tr>\n",
       "    <tr>\n",
       "      <th>3</th>\n",
       "      <td>3</td>\n",
       "      <td>17623</td>\n",
       "      <td>2</td>\n",
       "      <td>169</td>\n",
       "      <td>82.0</td>\n",
       "      <td>150</td>\n",
       "      <td>100</td>\n",
       "      <td>1</td>\n",
       "      <td>1</td>\n",
       "      <td>0</td>\n",
       "      <td>0</td>\n",
       "      <td>1</td>\n",
       "      <td>1</td>\n",
       "    </tr>\n",
       "    <tr>\n",
       "      <th>4</th>\n",
       "      <td>4</td>\n",
       "      <td>17474</td>\n",
       "      <td>1</td>\n",
       "      <td>156</td>\n",
       "      <td>56.0</td>\n",
       "      <td>100</td>\n",
       "      <td>60</td>\n",
       "      <td>1</td>\n",
       "      <td>1</td>\n",
       "      <td>0</td>\n",
       "      <td>0</td>\n",
       "      <td>0</td>\n",
       "      <td>0</td>\n",
       "    </tr>\n",
       "  </tbody>\n",
       "</table>\n",
       "</div>"
      ],
      "text/plain": [
       "   id    age  gender  height  weight  ap_hi  ap_lo  cholesterol  gluc  smoke  \\\n",
       "0   0  18393       2     168    62.0    110     80            1     1      0   \n",
       "1   1  20228       1     156    85.0    140     90            3     1      0   \n",
       "2   2  18857       1     165    64.0    130     70            3     1      0   \n",
       "3   3  17623       2     169    82.0    150    100            1     1      0   \n",
       "4   4  17474       1     156    56.0    100     60            1     1      0   \n",
       "\n",
       "   alco  active  cardio  \n",
       "0     0       1       0  \n",
       "1     0       1       1  \n",
       "2     0       0       1  \n",
       "3     0       1       1  \n",
       "4     0       0       0  "
      ]
     },
     "metadata": {},
     "output_type": "display_data"
    }
   ],
   "source": [
    "# 1.Загрузка данных из Google Sheets. \n",
    "# Используем pandas для чтения CSV-файла по ссылке (Google Sheets позволяет экспортировать данные в CSV). Важно: Для работы с Google Sheets через URL нужно заменить часть ссылки на export?format=csv.\n",
    "\n",
    "import pandas as pd\n",
    "\n",
    "# URL файла (заменяем '/edit#' на '/export?format=csv')\n",
    "url = \"https://docs.google.com/spreadsheets/d/1DAwgFAKRFEkoRS4kkaTQ119301ebxBit/export?format=csv&gid=231888029\"\n",
    "\n",
    "# Загрузка данных\n",
    "try:\n",
    "    data = pd.read_csv(url)\n",
    "    print(\"Данные успешно загружены!\")\n",
    "except Exception as e:\n",
    "    print(f\"Ошибка загрузки: {e}\")\n",
    "    data = None\n",
    "\n",
    "# Вывод первых 5 строк для проверки\n",
    "if data is not None:\n",
    "    display(data.head())"
   ]
  },
  {
   "cell_type": "code",
   "execution_count": 2,
   "id": "d19b9cc1",
   "metadata": {},
   "outputs": [
    {
     "name": "stdout",
     "output_type": "stream",
     "text": [
      "Отчёт о пропущенных значениях:\n"
     ]
    },
    {
     "data": {
      "application/vnd.microsoft.datawrangler.viewer.v0+json": {
       "columns": [
        {
         "name": "index",
         "rawType": "object",
         "type": "string"
        },
        {
         "name": "Количество пропусков",
         "rawType": "int64",
         "type": "integer"
        },
        {
         "name": "Доля пропусков (%)",
         "rawType": "float64",
         "type": "float"
        }
       ],
       "ref": "cd4eef78-9300-40be-9d43-de528654fa1d",
       "rows": [
        [
         "id",
         "0",
         "0.0"
        ],
        [
         "age",
         "0",
         "0.0"
        ],
        [
         "gender",
         "0",
         "0.0"
        ],
        [
         "height",
         "0",
         "0.0"
        ],
        [
         "weight",
         "0",
         "0.0"
        ],
        [
         "ap_hi",
         "0",
         "0.0"
        ],
        [
         "ap_lo",
         "0",
         "0.0"
        ],
        [
         "cholesterol",
         "0",
         "0.0"
        ],
        [
         "gluc",
         "0",
         "0.0"
        ],
        [
         "smoke",
         "0",
         "0.0"
        ],
        [
         "alco",
         "0",
         "0.0"
        ],
        [
         "active",
         "0",
         "0.0"
        ],
        [
         "cardio",
         "0",
         "0.0"
        ]
       ],
       "shape": {
        "columns": 2,
        "rows": 13
       }
      },
      "text/html": [
       "<div>\n",
       "<style scoped>\n",
       "    .dataframe tbody tr th:only-of-type {\n",
       "        vertical-align: middle;\n",
       "    }\n",
       "\n",
       "    .dataframe tbody tr th {\n",
       "        vertical-align: top;\n",
       "    }\n",
       "\n",
       "    .dataframe thead th {\n",
       "        text-align: right;\n",
       "    }\n",
       "</style>\n",
       "<table border=\"1\" class=\"dataframe\">\n",
       "  <thead>\n",
       "    <tr style=\"text-align: right;\">\n",
       "      <th></th>\n",
       "      <th>Количество пропусков</th>\n",
       "      <th>Доля пропусков (%)</th>\n",
       "    </tr>\n",
       "  </thead>\n",
       "  <tbody>\n",
       "    <tr>\n",
       "      <th>id</th>\n",
       "      <td>0</td>\n",
       "      <td>0.0</td>\n",
       "    </tr>\n",
       "    <tr>\n",
       "      <th>age</th>\n",
       "      <td>0</td>\n",
       "      <td>0.0</td>\n",
       "    </tr>\n",
       "    <tr>\n",
       "      <th>gender</th>\n",
       "      <td>0</td>\n",
       "      <td>0.0</td>\n",
       "    </tr>\n",
       "    <tr>\n",
       "      <th>height</th>\n",
       "      <td>0</td>\n",
       "      <td>0.0</td>\n",
       "    </tr>\n",
       "    <tr>\n",
       "      <th>weight</th>\n",
       "      <td>0</td>\n",
       "      <td>0.0</td>\n",
       "    </tr>\n",
       "    <tr>\n",
       "      <th>ap_hi</th>\n",
       "      <td>0</td>\n",
       "      <td>0.0</td>\n",
       "    </tr>\n",
       "    <tr>\n",
       "      <th>ap_lo</th>\n",
       "      <td>0</td>\n",
       "      <td>0.0</td>\n",
       "    </tr>\n",
       "    <tr>\n",
       "      <th>cholesterol</th>\n",
       "      <td>0</td>\n",
       "      <td>0.0</td>\n",
       "    </tr>\n",
       "    <tr>\n",
       "      <th>gluc</th>\n",
       "      <td>0</td>\n",
       "      <td>0.0</td>\n",
       "    </tr>\n",
       "    <tr>\n",
       "      <th>smoke</th>\n",
       "      <td>0</td>\n",
       "      <td>0.0</td>\n",
       "    </tr>\n",
       "    <tr>\n",
       "      <th>alco</th>\n",
       "      <td>0</td>\n",
       "      <td>0.0</td>\n",
       "    </tr>\n",
       "    <tr>\n",
       "      <th>active</th>\n",
       "      <td>0</td>\n",
       "      <td>0.0</td>\n",
       "    </tr>\n",
       "    <tr>\n",
       "      <th>cardio</th>\n",
       "      <td>0</td>\n",
       "      <td>0.0</td>\n",
       "    </tr>\n",
       "  </tbody>\n",
       "</table>\n",
       "</div>"
      ],
      "text/plain": [
       "             Количество пропусков  Доля пропусков (%)\n",
       "id                              0                 0.0\n",
       "age                             0                 0.0\n",
       "gender                          0                 0.0\n",
       "height                          0                 0.0\n",
       "weight                          0                 0.0\n",
       "ap_hi                           0                 0.0\n",
       "ap_lo                           0                 0.0\n",
       "cholesterol                     0                 0.0\n",
       "gluc                            0                 0.0\n",
       "smoke                           0                 0.0\n",
       "alco                            0                 0.0\n",
       "active                          0                 0.0\n",
       "cardio                          0                 0.0"
      ]
     },
     "metadata": {},
     "output_type": "display_data"
    }
   ],
   "source": [
    "# 2. Проверка пропущенных значений. \n",
    "# Анализируем количество пропусков (NaN) в каждой колонке и их долю от общего числа строк.\n",
    "\n",
    "if data is not None:\n",
    "    # Общее количество пропусков по колонкам\n",
    "    missing_values = data.isnull().sum()\n",
    "    \n",
    "    # Доля пропусков в процентах\n",
    "    missing_percent = (data.isnull().mean() * 100).round(2)\n",
    "    \n",
    "    # Сводная таблица\n",
    "    missing_report = pd.DataFrame({\n",
    "        'Количество пропусков': missing_values,\n",
    "        'Доля пропусков (%)': missing_percent\n",
    "    })\n",
    "    \n",
    "    print(\"Отчёт о пропущенных значениях:\")\n",
    "    display(missing_report)\n",
    "    \n",
    "    # Если пропусков нет, таблица будет заполнена нулями. Если есть — увидим количество и процент для каждой колонки."
   ]
  },
  {
   "cell_type": "code",
   "execution_count": 3,
   "id": "c8eef787",
   "metadata": {},
   "outputs": [
    {
     "name": "stdout",
     "output_type": "stream",
     "text": [
      "Пропущенных значений не обнаружено. Данные не изменены.\n"
     ]
    }
   ],
   "source": [
    "# 3. Удаление строк с пропусками (если они есть). \n",
    "# Если пропуски обнаружены, удаляем все строки, содержащие хотя бы один NaN.Комментарий: Это строгий подход, но он корректен для учебного проекта, если пропусков немного.\n",
    "\n",
    "if data is not None:\n",
    "    # Количество строк до удаления\n",
    "    original_rows = data.shape[0]\n",
    "    \n",
    "    # Удаление строк с пропусками\n",
    "    data_cleaned = data.dropna(axis=0)\n",
    "    \n",
    "    # Количество строк после удаления\n",
    "    cleaned_rows = data_cleaned.shape[0]\n",
    "    \n",
    "    # Проверка изменений\n",
    "    if original_rows != cleaned_rows:\n",
    "        print(f\"Удалено строк: {original_rows - cleaned_rows}\")\n",
    "        print(f\"Осталось строк: {cleaned_rows}\")\n",
    "    else:\n",
    "        print(\"Пропущенных значений не обнаружено. Данные не изменены.\")\n",
    "    \n",
    "    # Перезаписываем исходный датафрейм (если нужно)\n",
    "    data = data_cleaned.copy()"
   ]
  },
  {
   "cell_type": "code",
   "execution_count": 4,
   "id": "d21100db",
   "metadata": {},
   "outputs": [
    {
     "name": "stdout",
     "output_type": "stream",
     "text": [
      "Проверка после очистки:\n",
      "Общее количество пропусков: 0\n"
     ]
    }
   ],
   "source": [
    "# 4. Итоговая проверка\n",
    "# Убедимся, что пропуски полностью удалены:\n",
    "\n",
    "if data is not None:\n",
    "    print(\"Проверка после очистки:\")\n",
    "    print(f\"Общее количество пропусков: {data.isnull().sum().sum()}\")"
   ]
  },
  {
   "cell_type": "markdown",
   "id": "0ee22254",
   "metadata": {},
   "source": [
    "***Важные комментарии***\n",
    "\n",
    "1) Почему dropna?\n",
    "Удаление строк — простой и надёжный способ для учебного проекта, но в реальной задаче можно рассмотреть:\n",
    "\n",
    "* Заполнение медианой/средним (для числовых данных),\n",
    "\n",
    "* Предсказание пропусков через модель.\n",
    "\n",
    "2) Логирование\n",
    "* Код включает проверки на каждом этапе, чтобы избежать ошибок (например, при загрузке).\n",
    "\n",
    "3) Дальнейшие шаги\n",
    "* После очистки данных можно переходить к EDA (анализу распределений, выбросов и т.д.)."
   ]
  },
  {
   "cell_type": "markdown",
   "id": "e80d8210",
   "metadata": {},
   "source": [
    "---"
   ]
  },
  {
   "cell_type": "markdown",
   "id": "739b0467-8a59-408c-a732-8f429a05cebd",
   "metadata": {
    "id": "739b0467-8a59-408c-a732-8f429a05cebd"
   },
   "source": [
    "## Задание 2: проверка данных на мультиколлинеарность (15 баллов)"
   ]
  },
  {
   "cell_type": "markdown",
   "id": "ca77184f-605a-422e-bf82-89876a638e4e",
   "metadata": {
    "id": "ca77184f-605a-422e-bf82-89876a638e4e"
   },
   "source": [
    "**2.1** Данные обязательно необходимо проверить на мультиколлинеарность: линейную взаимосвязь между признаками. Сначала проверим наличие чистой мультиколлинеарности. Для того, чтобы её идентифицировать - для начала посчитайте ранг для матрицы корреляций и ее определитель. Какой вывод можно сделать?"
   ]
  },
  {
   "cell_type": "code",
   "execution_count": 5,
   "id": "d5a2a240-f2fa-4a14-8c00-c24220856e10",
   "metadata": {
    "id": "d5a2a240-f2fa-4a14-8c00-c24220856e10"
   },
   "outputs": [
    {
     "name": "stdout",
     "output_type": "stream",
     "text": [
      "Ранг матрицы корреляций: 13\n",
      "Определитель матрицы корреляций: 0.3468\n",
      "✅ Признаки линейно независимы (чистой мультиколлинеарности нет).\n"
     ]
    }
   ],
   "source": [
    "# Мультиколлинеарность возникает, когда признаки линейно зависимы (или почти зависимы), что может ухудшить качество модели. Для проверки используем ранг матрицы корреляций и её определитель.\n",
    "\n",
    "import pandas as pd\n",
    "import numpy as np\n",
    "\n",
    "# Загрузка данных (если ещё не загружены)\n",
    "url = \"https://docs.google.com/spreadsheets/d/1DAwgFAKRFEkoRS4kkaTQ119301ebxBit/export?format=csv&gid=231888029\"\n",
    "data = pd.read_csv(url)\n",
    "\n",
    "# Удаление строк с пропусками (если не сделано ранее)\n",
    "data = data.dropna()\n",
    "\n",
    "# Выделяем числовые признаки (исключаем целевую переменную и категориальные колонки)\n",
    "numerical_data = data.select_dtypes(include=['int64', 'float64'])\n",
    "\n",
    "# Матрица корреляций\n",
    "corr_matrix = numerical_data.corr()\n",
    "\n",
    "# Ранг матрицы корреляций\n",
    "matrix_rank = np.linalg.matrix_rank(corr_matrix)\n",
    "print(f\"Ранг матрицы корреляций: {matrix_rank}\")\n",
    "\n",
    "# Определитель матрицы корреляций\n",
    "determinant = np.linalg.det(corr_matrix)\n",
    "print(f\"Определитель матрицы корреляций: {determinant:.4f}\")\n",
    "\n",
    "# Выводы\n",
    "if matrix_rank < corr_matrix.shape[1]:\n",
    "    print(\"⚠️ Обнаружена полная мультиколлинеарность: некоторые признаки линейно зависимы.\")\n",
    "elif determinant < 1e-10:  # Практически нулевой определитель\n",
    "    print(\"⚠️ Признаки близки к линейной зависимости (определитель ≈ 0).\")\n",
    "else:\n",
    "    print(\"✅ Признаки линейно независимы (чистой мультиколлинеарности нет).\")"
   ]
  },
  {
   "cell_type": "code",
   "execution_count": 6,
   "id": "b7bfd3a2",
   "metadata": {},
   "outputs": [
    {
     "name": "stdout",
     "output_type": "stream",
     "text": [
      "Признаки с высокой корреляцией (> 0.8):\n"
     ]
    }
   ],
   "source": [
    "# Поиск пар признаков с корреляцией > 0.8\n",
    "high_corr = np.where(np.abs(corr_matrix) > 0.8)\n",
    "high_corr_pairs = [(corr_matrix.columns[x], corr_matrix.columns[y]) \n",
    "                   for x, y in zip(*high_corr) if x != y and x < y]\n",
    "\n",
    "print(\"Признаки с высокой корреляцией (> 0.8):\")\n",
    "for pair in high_corr_pairs:\n",
    "    print(f\"{pair[0]} и {pair[1]}\")"
   ]
  },
  {
   "cell_type": "code",
   "execution_count": null,
   "id": "bc85989b",
   "metadata": {},
   "outputs": [],
   "source": [
    "data_clean = data.drop(columns=[\"признак_1\"])  # Замените на имя коррелирующего признака"
   ]
  },
  {
   "cell_type": "markdown",
   "id": "7c6ef577",
   "metadata": {},
   "source": [
    "Объяснение шагов\n",
    "1) Матрица корреляций\n",
    "\n",
    "* Считаем корреляции Пирсона между всеми числовыми признаками.\n",
    "\n",
    "* Значения близкие к 1 или -1 указывают на сильную линейную связь.\n",
    "\n",
    "2) Ранг матрицы\n",
    "\n",
    "Ранг — это максимальное число линейно независимых строк/столбцов.\n",
    "\n",
    "Если ранг меньше числа признаков (corr_matrix.shape[1]), есть полная мультиколлинеарность.\n",
    "\n",
    "3) Определитель матрицы\n",
    "\n",
    "* Если det ≈ 0 — матрица близка к вырожденной (признаки почти зависимы).\n",
    "\n",
    "* Если det = 0 — есть точная линейная зависимость.\n",
    "\n",
    "Интерпретация результатов\n",
    "* Ранг = число признаков и det ≠ 0 → мультиколлинеарности нет.\n",
    "\n",
    "* Ранг < числа признаков или det ≈ 0 → есть зависимость.\n",
    "\n"
   ]
  },
  {
   "cell_type": "markdown",
   "id": "26532cb8-66b8-4176-b24c-739e47c75ed8",
   "metadata": {
    "id": "26532cb8-66b8-4176-b24c-739e47c75ed8"
   },
   "source": [
    "**2.2** Теперь проверьте мультиколлинеарность с помощью матрицы корреляций. Какие выводы можно сделать?"
   ]
  },
  {
   "cell_type": "code",
   "execution_count": 8,
   "id": "bba0392d-2982-4989-859c-8a6e3c66a147",
   "metadata": {
    "id": "bba0392d-2982-4989-859c-8a6e3c66a147"
   },
   "outputs": [
    {
     "data": {
      "image/png": "[encoded data removed]",
      "text/plain": [
       "<Figure size 1200x800 with 2 Axes>"
      ]
     },
     "metadata": {},
     "output_type": "display_data"
    },
    {
     "name": "stdout",
     "output_type": "stream",
     "text": [
      "\n",
      "Нет признаков с высокой корреляцией (|r| > 0.8).\n"
     ]
    }
   ],
   "source": [
    "# Для анализа мультиколлинеарности визуализируем матрицу корреляций и проверим пары признаков с высокой корреляцией (обычно > 0.8 или < -0.8).\n",
    "\n",
    "import pandas as pd\n",
    "import numpy as np\n",
    "import seaborn as sns\n",
    "import matplotlib.pyplot as plt\n",
    "\n",
    "# Загрузка данных\n",
    "url = \"https://docs.google.com/spreadsheets/d/1DAwgFAKRFEkoRS4kkaTQ119301ebxBit/export?format=csv&gid=231888029\"\n",
    "data = pd.read_csv(url)\n",
    "\n",
    "# Удаление пропусков (если не сделано ранее)\n",
    "data = data.dropna()\n",
    "\n",
    "# Выбор числовых признаков (исключаем целевую переменную, если она есть)\n",
    "numerical_data = data.select_dtypes(include=['int64', 'float64'])\n",
    "if 'target' in numerical_data.columns:\n",
    "    numerical_data = numerical_data.drop(columns=['target'])\n",
    "\n",
    "# Матрица корреляций\n",
    "corr_matrix = numerical_data.corr()\n",
    "\n",
    "# Визуализация тепловой карты\n",
    "plt.figure(figsize=(12, 8))\n",
    "sns.heatmap(corr_matrix, \n",
    "            annot=True, \n",
    "            fmt=\".2f\", \n",
    "            cmap=\"coolwarm\",\n",
    "            vmin=-1, \n",
    "            vmax=1,\n",
    "            linewidths=0.5)\n",
    "plt.title(\"Матрица корреляций числовых признаков\")\n",
    "plt.show()\n",
    "\n",
    "# Поиск пар признаков с высокой корреляцией (> 0.8 или < -0.8)\n",
    "high_corr = np.where((np.abs(corr_matrix) > 0.8) & (np.abs(corr_matrix) < 1.0))  # Исключаем диагональ\n",
    "high_corr_pairs = [(corr_matrix.columns[x], corr_matrix.columns[y], round(corr_matrix.iloc[x, y], 2)) \n",
    "                   for x, y in zip(*high_corr) if x != y and x < y]  # Убираем дубликаты\n",
    "\n",
    "# Вывод результатов\n",
    "if len(high_corr_pairs) > 0:\n",
    "    print(\"\\nПризнаки с высокой корреляцией (|r| > 0.8):\")\n",
    "    for pair in high_corr_pairs:\n",
    "        print(f\"{pair[0]} и {pair[1]}: r = {pair[2]}\")\n",
    "else:\n",
    "    print(\"\\nНет признаков с высокой корреляцией (|r| > 0.8).\")"
   ]
  },
  {
   "cell_type": "markdown",
   "id": "8bd87d08",
   "metadata": {},
   "source": [
    "***Интерпретация результатов***\n",
    "1) Тепловая карта:\n",
    "\n",
    "* Красные оттенки: сильная положительная корреляция (r ≈ 1).\n",
    "\n",
    "* Синие оттенки: сильная отрицательная корреляция (r ≈ -1).\n",
    "\n",
    "2) Критические значения:\n",
    "\n",
    "* |r| > 0.8: Серьёзная мультиколлинеарность.\n",
    "\n",
    "* 0.5 < |r| < 0.8: Умеренная корреляция (можно оставить, но учитывать при интерпретации модели)."
   ]
  },
  {
   "cell_type": "markdown",
   "id": "0257da3d",
   "metadata": {},
   "source": [
    "***Что делать при обнаружении мультиколлинеарности?***\n",
    "* Удалите один из коррелирующих признаков (например, оставьте тот, который сильнее связан с целевой переменной).\n",
    "\n",
    "* Объедините признаки (например, создайте новый признак как среднее или разницу).\n",
    "\n",
    "* Используйте регуляризацию (Lasso/Ridge-регрессия)."
   ]
  },
  {
   "cell_type": "code",
   "execution_count": null,
   "id": "38cdf63e",
   "metadata": {},
   "outputs": [],
   "source": [
    "data_clean = data.drop(columns=[\"Холестерин\"])  # Удаляем один из дублирующих признаков"
   ]
  },
  {
   "cell_type": "markdown",
   "id": "f2283371",
   "metadata": {},
   "source": [
    "---"
   ]
  },
  {
   "cell_type": "markdown",
   "id": "c0e74412-9483-4708-b725-b5a8f6db2548",
   "metadata": {
    "id": "c0e74412-9483-4708-b725-b5a8f6db2548"
   },
   "source": [
    "## Задание 3. Стандартизация (15 баллов)"
   ]
  },
  {
   "cell_type": "markdown",
   "id": "9b49adb0-3b7f-45c7-9d7b-5a20632cd8d9",
   "metadata": {
    "id": "9b49adb0-3b7f-45c7-9d7b-5a20632cd8d9"
   },
   "source": [
    "Разделите данные на два массива: в переменную **Х** запишите массив признаков, а в переменную **y** - целевую переменную (cardio). Стандартизируйте массив признаков без использования готовых функций для стандартизации."
   ]
  },
  {
   "cell_type": "markdown",
   "id": "f983ede3",
   "metadata": {},
   "source": [
    "***Шаги***\n",
    "Для каждого признака $x$ в матрице $X$ вычисляем стандартизированное значение $z$ по формуле:\n",
    "\n",
    "$$\n",
    "z = \\frac{x - \\mu}{\\sigma}\n",
    "$$\n",
    "\n",
    "где:\n",
    "- $\\mu = \\frac{1}{n}\\sum_{i=1}^n x_i$ - среднее значение признака\n",
    "- $\\sigma = \\sqrt{\\frac{1}{n}\\sum_{i=1}^n (x_i - \\mu)^2}$ - стандартное отклонение\n",
    "- $n$ - количество наблюдений\n",
    "- $x_i$ - значение признака для $i$-го наблюдения"
   ]
  },
  {
   "cell_type": "code",
   "execution_count": 9,
   "id": "9e7aab33-6347-4d15-b02e-c0e30caf4e30",
   "metadata": {
    "id": "9e7aab33-6347-4d15-b02e-c0e30caf4e30"
   },
   "outputs": [
    {
     "name": "stdout",
     "output_type": "stream",
     "text": [
      "Размеры массивов:\n",
      "X: (70000, 12), y: (70000,)\n",
      "\n",
      "Первые 5 строк стандартизированного X:\n"
     ]
    },
    {
     "data": {
      "application/vnd.microsoft.datawrangler.viewer.v0+json": {
       "columns": [
        {
         "name": "index",
         "rawType": "int64",
         "type": "integer"
        },
        {
         "name": "id",
         "rawType": "float64",
         "type": "float"
        },
        {
         "name": "age",
         "rawType": "float64",
         "type": "float"
        },
        {
         "name": "gender",
         "rawType": "float64",
         "type": "float"
        },
        {
         "name": "height",
         "rawType": "float64",
         "type": "float"
        },
        {
         "name": "weight",
         "rawType": "float64",
         "type": "float"
        },
        {
         "name": "ap_hi",
         "rawType": "float64",
         "type": "float"
        },
        {
         "name": "ap_lo",
         "rawType": "float64",
         "type": "float"
        },
        {
         "name": "cholesterol",
         "rawType": "float64",
         "type": "float"
        },
        {
         "name": "gluc",
         "rawType": "float64",
         "type": "float"
        },
        {
         "name": "smoke",
         "rawType": "float64",
         "type": "float"
        },
        {
         "name": "alco",
         "rawType": "float64",
         "type": "float"
        },
        {
         "name": "active",
         "rawType": "float64",
         "type": "float"
        }
       ],
       "ref": "74b523c7-7b05-4615-bb1d-3bed8cdf2e65",
       "rows": [
        [
         "0",
         "-1.7320680827590553",
         "-0.43605839994775375",
         "1.3640451267995457",
         "0.44344889066470505",
         "-0.8478672064678267",
         "-0.12218110696428265",
         "-0.08823786818992367",
         "-0.539318251395058",
         "-0.3957171149917176",
         "-0.31087690448338107",
         "-0.23838265723449084",
         "0.4941635816334845"
        ],
        [
         "1",
         "-1.7320334222786098",
         "0.30768413121109134",
         "-0.733103102411265",
         "-1.0181607688201413",
         "0.7498258161109875",
         "0.07260964365634255",
         "-0.035179738263646954",
         "2.400775794604246",
         "-0.3957171149917176",
         "-0.31087690448338107",
         "-0.23838265723449084",
         "0.4941635816334845"
        ],
        [
         "2",
         "-1.7319987617981643",
         "-0.24799489343129374",
         "-0.733103102411265",
         "0.07804647579349347",
         "-0.708937378417495",
         "0.0076793934494674854",
         "-0.1412959981162004",
         "2.400775794604246",
         "-0.3957171149917176",
         "-0.31087690448338107",
         "-0.23838265723449084",
         "-2.023592493360614"
        ],
        [
         "3",
         "-1.731964101317719",
         "-0.7481465465375688",
         "1.3640451267995457",
         "0.5652496956217755",
         "0.5414310740354901",
         "0.13753989386321763",
         "0.017878391662629764",
         "-0.539318251395058",
         "-0.3957171149917176",
         "-0.31087690448338107",
         "-0.23838265723449084",
         "0.4941635816334845"
        ],
        [
         "4",
         "-1.7319294408372734",
         "-0.8085376294491045",
         "-0.733103102411265",
         "-1.0181607688201413",
         "-1.2646566906188217",
         "-0.18711135717115773",
         "-0.19435412804247712",
         "-0.539318251395058",
         "-0.3957171149917176",
         "-0.31087690448338107",
         "-0.23838265723449084",
         "-2.023592493360614"
        ]
       ],
       "shape": {
        "columns": 12,
        "rows": 5
       }
      },
      "text/html": [
       "<div>\n",
       "<style scoped>\n",
       "    .dataframe tbody tr th:only-of-type {\n",
       "        vertical-align: middle;\n",
       "    }\n",
       "\n",
       "    .dataframe tbody tr th {\n",
       "        vertical-align: top;\n",
       "    }\n",
       "\n",
       "    .dataframe thead th {\n",
       "        text-align: right;\n",
       "    }\n",
       "</style>\n",
       "<table border=\"1\" class=\"dataframe\">\n",
       "  <thead>\n",
       "    <tr style=\"text-align: right;\">\n",
       "      <th></th>\n",
       "      <th>id</th>\n",
       "      <th>age</th>\n",
       "      <th>gender</th>\n",
       "      <th>height</th>\n",
       "      <th>weight</th>\n",
       "      <th>ap_hi</th>\n",
       "      <th>ap_lo</th>\n",
       "      <th>cholesterol</th>\n",
       "      <th>gluc</th>\n",
       "      <th>smoke</th>\n",
       "      <th>alco</th>\n",
       "      <th>active</th>\n",
       "    </tr>\n",
       "  </thead>\n",
       "  <tbody>\n",
       "    <tr>\n",
       "      <th>0</th>\n",
       "      <td>-1.732068</td>\n",
       "      <td>-0.436058</td>\n",
       "      <td>1.364045</td>\n",
       "      <td>0.443449</td>\n",
       "      <td>-0.847867</td>\n",
       "      <td>-0.122181</td>\n",
       "      <td>-0.088238</td>\n",
       "      <td>-0.539318</td>\n",
       "      <td>-0.395717</td>\n",
       "      <td>-0.310877</td>\n",
       "      <td>-0.238383</td>\n",
       "      <td>0.494164</td>\n",
       "    </tr>\n",
       "    <tr>\n",
       "      <th>1</th>\n",
       "      <td>-1.732033</td>\n",
       "      <td>0.307684</td>\n",
       "      <td>-0.733103</td>\n",
       "      <td>-1.018161</td>\n",
       "      <td>0.749826</td>\n",
       "      <td>0.072610</td>\n",
       "      <td>-0.035180</td>\n",
       "      <td>2.400776</td>\n",
       "      <td>-0.395717</td>\n",
       "      <td>-0.310877</td>\n",
       "      <td>-0.238383</td>\n",
       "      <td>0.494164</td>\n",
       "    </tr>\n",
       "    <tr>\n",
       "      <th>2</th>\n",
       "      <td>-1.731999</td>\n",
       "      <td>-0.247995</td>\n",
       "      <td>-0.733103</td>\n",
       "      <td>0.078046</td>\n",
       "      <td>-0.708937</td>\n",
       "      <td>0.007679</td>\n",
       "      <td>-0.141296</td>\n",
       "      <td>2.400776</td>\n",
       "      <td>-0.395717</td>\n",
       "      <td>-0.310877</td>\n",
       "      <td>-0.238383</td>\n",
       "      <td>-2.023592</td>\n",
       "    </tr>\n",
       "    <tr>\n",
       "      <th>3</th>\n",
       "      <td>-1.731964</td>\n",
       "      <td>-0.748147</td>\n",
       "      <td>1.364045</td>\n",
       "      <td>0.565250</td>\n",
       "      <td>0.541431</td>\n",
       "      <td>0.137540</td>\n",
       "      <td>0.017878</td>\n",
       "      <td>-0.539318</td>\n",
       "      <td>-0.395717</td>\n",
       "      <td>-0.310877</td>\n",
       "      <td>-0.238383</td>\n",
       "      <td>0.494164</td>\n",
       "    </tr>\n",
       "    <tr>\n",
       "      <th>4</th>\n",
       "      <td>-1.731929</td>\n",
       "      <td>-0.808538</td>\n",
       "      <td>-0.733103</td>\n",
       "      <td>-1.018161</td>\n",
       "      <td>-1.264657</td>\n",
       "      <td>-0.187111</td>\n",
       "      <td>-0.194354</td>\n",
       "      <td>-0.539318</td>\n",
       "      <td>-0.395717</td>\n",
       "      <td>-0.310877</td>\n",
       "      <td>-0.238383</td>\n",
       "      <td>-2.023592</td>\n",
       "    </tr>\n",
       "  </tbody>\n",
       "</table>\n",
       "</div>"
      ],
      "text/plain": [
       "         id       age    gender    height    weight     ap_hi     ap_lo  \\\n",
       "0 -1.732068 -0.436058  1.364045  0.443449 -0.847867 -0.122181 -0.088238   \n",
       "1 -1.732033  0.307684 -0.733103 -1.018161  0.749826  0.072610 -0.035180   \n",
       "2 -1.731999 -0.247995 -0.733103  0.078046 -0.708937  0.007679 -0.141296   \n",
       "3 -1.731964 -0.748147  1.364045  0.565250  0.541431  0.137540  0.017878   \n",
       "4 -1.731929 -0.808538 -0.733103 -1.018161 -1.264657 -0.187111 -0.194354   \n",
       "\n",
       "   cholesterol      gluc     smoke      alco    active  \n",
       "0    -0.539318 -0.395717 -0.310877 -0.238383  0.494164  \n",
       "1     2.400776 -0.395717 -0.310877 -0.238383  0.494164  \n",
       "2     2.400776 -0.395717 -0.310877 -0.238383 -2.023592  \n",
       "3    -0.539318 -0.395717 -0.310877 -0.238383  0.494164  \n",
       "4    -0.539318 -0.395717 -0.310877 -0.238383 -2.023592  "
      ]
     },
     "metadata": {},
     "output_type": "display_data"
    },
    {
     "name": "stdout",
     "output_type": "stream",
     "text": [
      "\n",
      "Проверка стандартизации:\n",
      "Средние значения: id            -0.0\n",
      "age            0.0\n",
      "gender        -0.0\n",
      "height         0.0\n",
      "weight        -0.0\n",
      "ap_hi          0.0\n",
      "ap_lo          0.0\n",
      "cholesterol    0.0\n",
      "gluc          -0.0\n",
      "smoke          0.0\n",
      "alco          -0.0\n",
      "active        -0.0\n",
      "dtype: float64\n",
      "Стандартные отклонения: id             1.0\n",
      "age            1.0\n",
      "gender         1.0\n",
      "height         1.0\n",
      "weight         1.0\n",
      "ap_hi          1.0\n",
      "ap_lo          1.0\n",
      "cholesterol    1.0\n",
      "gluc           1.0\n",
      "smoke          1.0\n",
      "alco           1.0\n",
      "active         1.0\n",
      "dtype: float64\n"
     ]
    }
   ],
   "source": [
    "import pandas as pd\n",
    "import numpy as np\n",
    "\n",
    "# Загрузка данных (если ещё не загружены)\n",
    "url = \"https://docs.google.com/spreadsheets/d/1DAwgFAKRFEkoRS4kkaTQ119301ebxBit/export?format=csv&gid=231888029\"\n",
    "data = pd.read_csv(url)\n",
    "\n",
    "# Удаление пропусков (если не сделано ранее)\n",
    "data = data.dropna()\n",
    "\n",
    "# --------------------------------------------\n",
    "# 1. Разделение на X и y\n",
    "# --------------------------------------------\n",
    "# Предполагаем, что целевая переменная называется 'cardio'\n",
    "X = data.drop(columns=['cardio'])  # Все признаки, кроме целевой\n",
    "y = data['cardio']                 # Целевая переменная\n",
    "\n",
    "# Проверка\n",
    "print(\"Размеры массивов:\")\n",
    "print(f\"X: {X.shape}, y: {y.shape}\")\n",
    "\n",
    "# --------------------------------------------\n",
    "# 2. Ручная стандартизация X\n",
    "# --------------------------------------------\n",
    "def manual_standardize(df):\n",
    "    standardized_df = df.copy()\n",
    "    for column in df.columns:\n",
    "        if df[column].dtype in ['int64', 'float64']:  # Только числовые признаки\n",
    "            mean = df[column].mean()\n",
    "            std = df[column].std()\n",
    "            standardized_df[column] = (df[column] - mean) / std\n",
    "    return standardized_df\n",
    "\n",
    "# Стандартизируем\n",
    "X_standardized = manual_standardize(X)\n",
    "\n",
    "# Проверка результата\n",
    "print(\"\\nПервые 5 строк стандартизированного X:\")\n",
    "display(X_standardized.head())\n",
    "\n",
    "# Проверка среднего и стандартного отклонения (должны быть ~0 и ~1)\n",
    "print(\"\\nПроверка стандартизации:\")\n",
    "print(\"Средние значения:\", X_standardized.mean().round(2))\n",
    "print(\"Стандартные отклонения:\", X_standardized.std().round(2))"
   ]
  },
  {
   "cell_type": "markdown",
   "id": "250e92f4",
   "metadata": {},
   "source": [
    "***Пояснения***\n",
    "1) Разделение данных:\n",
    "\n",
    "* X содержит все столбцы, кроме cardio,\n",
    "\n",
    "* y — это только cardio.\n",
    "\n",
    "2) Стандартизация вручную:\n",
    "\n",
    "* Для каждого числового признака вычисляется \n",
    "z\n",
    "z-оценка.\n",
    "\n",
    "* Категориальные признаки (если есть) не изменяются.\n",
    "\n",
    "3) Проверка:\n",
    "\n",
    "* После стандартизации среднее (mean) должно быть ~0, стандартное отклонение (std) — ~1.\n",
    "\n",
    "\n",
    "**Важно!**\n",
    "1) Если в данных есть категориальные признаки (например, gender), их нужно:\n",
    "\n",
    "* Либо исключить из X перед стандартизацией,\n",
    "\n",
    "* Либо закодировать (например, pd.get_dummies).\n",
    "\n",
    "3) Для обучения модели после стандартизации используйте X_standardized и y."
   ]
  },
  {
   "cell_type": "markdown",
   "id": "a02a06d2-b8fe-4fbf-85da-d6868c7c2997",
   "metadata": {
    "id": "a02a06d2-b8fe-4fbf-85da-d6868c7c2997"
   },
   "source": [
    "Вычислите длину всех векторов - признаков. Прокомментируйте результат."
   ]
  },
  {
   "cell_type": "markdown",
   "id": "ccb8c9b3",
   "metadata": {},
   "source": [
    "***Формула длины вектора***\n",
    "\n",
    "Длина (L2-норма) вектора $\\mathbf{x}$ с $n$ элементами вычисляется как:\n",
    "\n",
    "$$\n",
    "\\|\\mathbf{x}\\|_2 = \\sqrt{x_1^2 + x_2^2 + \\cdots + x_n^2}\n",
    "$$\n",
    "\n",
    "Для стандартизированных данных:\n",
    "\n",
    "- Если стандартизация выполнена корректно, длины векторов будут близки к $\\sqrt{n}$, где $n$ — число наблюдений.\n",
    "- Это следует из того, что:\n",
    "\n",
    "$$\n",
    "\\text{Дисперсия} = 1 \\implies \\frac{1}{n} \\sum_{i=1}^n x_i^2 \\approx 1 \\implies \\sum_{i=1}^n x_i^2 \\approx n \\implies \\|\\mathbf{x}\\|_2 \\approx \\sqrt{n}\n",
    "$$\n",
    "\n",
    "**Пояснения символов**\n",
    "\n",
    "- $\\|\\mathbf{x}\\|_2$ — L2-норма (евклидова длина) вектора\n",
    "- $\\mathbf{x} = (x_1, x_2, \\ldots, x_n)$ — вектор признака\n",
    "- $n$ — количество наблюдений в выборке"
   ]
  },
  {
   "cell_type": "code",
   "execution_count": 10,
   "id": "de7fdf78-677d-4afd-b077-4587b0b4755a",
   "metadata": {
    "id": "de7fdf78-677d-4afd-b077-4587b0b4755a"
   },
   "outputs": [
    {
     "name": "stdout",
     "output_type": "stream",
     "text": [
      "Длины векторов-признаков:\n",
      "- id: 264.57\n",
      "- age: 264.57\n",
      "- gender: 264.57\n",
      "- height: 264.57\n",
      "- weight: 264.57\n",
      "- ap_hi: 264.57\n",
      "- ap_lo: 264.57\n",
      "- cholesterol: 264.57\n",
      "- gluc: 264.57\n",
      "- smoke: 264.57\n",
      "- alco: 264.57\n",
      "- active: 264.57\n",
      "\n",
      "Ожидаемая длина при корректной стандартизации: √70000 ≈ 264.58\n"
     ]
    }
   ],
   "source": [
    "# Вычисление длин векторов (L2-норм) для каждого признака\n",
    "vector_lengths = np.sqrt((X_standardized ** 2).sum(axis=0))\n",
    "\n",
    "print(\"Длины векторов-признаков:\")\n",
    "for col, length in zip(X_standardized.columns, vector_lengths):\n",
    "    print(f\"- {col}: {length:.2f}\")\n",
    "\n",
    "# Теоретическая ожидаемая длина (sqrt(n))\n",
    "n = len(X_standardized)\n",
    "print(f\"\\nОжидаемая длина при корректной стандартизации: √{n} ≈ {np.sqrt(n):.2f}\")"
   ]
  },
  {
   "cell_type": "markdown",
   "id": "6adf4069",
   "metadata": {},
   "source": [
    "***Интерпретация результатов***\n",
    "\n",
    "1. **Все длины близки к $\\sqrt{n}$** (например, 447.21 для $n = 200000$):  \n",
    "   - ✅ Это подтверждает, что стандартизация выполнена правильно.  \n",
    "   - ✅ Признаки теперь имеют единичную дисперсию и нулевое среднее.  \n",
    "\n",
    "2. **Если длина сильно отличается от $\\sqrt{n}$**:  \n",
    "   - ⚠️ Возможна ошибка в стандартизации (например, не учтены некоторые значения).  \n",
    "   - ⚠️ Или признак изначально был константным (стандартное отклонение = 0).  \n",
    "\n",
    "***Практический вывод***\n",
    "* Длины векторов равны — это хорошо для алгоритмов, чувствительных к масштабу (например, градиентный спуск, метод ближайших соседей).\n",
    "\n",
    "* Если бы длины отличались, признаки с большей нормой имели бы неоправданно высокий вес в модели."
   ]
  },
  {
   "cell_type": "markdown",
   "id": "2ad00e9a",
   "metadata": {},
   "source": [
    "---"
   ]
  },
  {
   "cell_type": "markdown",
   "id": "5a5d65b5-ba74-4480-b439-6e038b84fc93",
   "metadata": {
    "id": "5a5d65b5-ba74-4480-b439-6e038b84fc93"
   },
   "source": [
    "## Задание 4. Решение задачи классификации. (20 баллов)"
   ]
  },
  {
   "cell_type": "markdown",
   "id": "a46ed6a4-ab50-46ee-aa7b-9ac463db1890",
   "metadata": {
    "id": "a46ed6a4-ab50-46ee-aa7b-9ac463db1890"
   },
   "source": [
    "**4.1** Теперь приступим непосредственно к решению задачи классификации. Обучите наивный байесовский классификатор. Предварительно выберите один из его видов: поясните свой выбор."
   ]
  },
  {
   "cell_type": "markdown",
   "id": "b28068e4",
   "metadata": {},
   "source": [
    "Наивный Байес имеет несколько вариантов. Выбор зависит от данных:\n",
    "\n",
    "1) GaussianNB – если признаки непрерывные и распределены нормально (наш случай, так как данные стандартизированы).\n",
    "\n",
    "2) MultinomialNB – для дискретных данных (например, тексты или количества).\n",
    "\n",
    "3) BernoulliNB – для бинарных признаков (0/1).\n",
    "\n",
    "Выбор: GaussianNB, так как:\n",
    "\n",
    "1) Признаки после стандартизации имеют гауссово распределение (среднее=0, std=1).\n",
    "\n",
    "2) Алгоритм хорошо работает даже при слабых нарушениях \"наивного\" предположения о независимости признаков."
   ]
  },
  {
   "cell_type": "code",
   "execution_count": 14,
   "id": "6f117c60",
   "metadata": {},
   "outputs": [
    {
     "name": "stdout",
     "output_type": "stream",
     "text": [
      "Размеры данных:\n",
      "X_train: (56000, 12), y_train: (56000,)\n",
      "X_test: (14000, 12), y_test: (14000,)\n",
      "              precision    recall  f1-score   support\n",
      "\n",
      "           0       0.54      0.93      0.69      6988\n",
      "           1       0.76      0.22      0.34      7012\n",
      "\n",
      "    accuracy                           0.57     14000\n",
      "   macro avg       0.65      0.57      0.51     14000\n",
      "weighted avg       0.65      0.57      0.51     14000\n",
      "\n"
     ]
    }
   ],
   "source": [
    "import pandas as pd\n",
    "import numpy as np\n",
    "from sklearn.model_selection import train_test_split\n",
    "from sklearn.naive_bayes import GaussianNB\n",
    "from sklearn.metrics import classification_report\n",
    "\n",
    "# 1. Загрузка данных (пример)\n",
    "url = \"https://docs.google.com/spreadsheets/d/1DAwgFAKRFEkoRS4kkaTQ119301ebxBit/export?format=csv&gid=231888029\"\n",
    "data = pd.read_csv(url)\n",
    "\n",
    "# 2. Подготовка данных\n",
    "# Удаление пропусков (если есть)\n",
    "data = data.dropna()\n",
    "\n",
    "# Разделение на признаки (X) и целевую переменную (y)\n",
    "X = data.drop(columns=['cardio'])  # Замените 'cardio' на имя вашей целевой переменной\n",
    "y = data['cardio']\n",
    "\n",
    "# 3. Разделение на train/test\n",
    "X_train, X_test, y_train, y_test = train_test_split(X, y, test_size=0.2, random_state=42)\n",
    "\n",
    "print(\"Размеры данных:\")\n",
    "print(f\"X_train: {X_train.shape}, y_train: {y_train.shape}\")\n",
    "print(f\"X_test: {X_test.shape}, y_test: {y_test.shape}\")\n",
    "\n",
    "# 4. Обучение модели\n",
    "nb_model = GaussianNB()\n",
    "nb_model.fit(X_train, y_train)  # Теперь X_train и y_train определены\n",
    "\n",
    "# 5. Предсказание и оценка\n",
    "y_pred = nb_model.predict(X_test)\n",
    "print(classification_report(y_test, y_pred))"
   ]
  },
  {
   "cell_type": "markdown",
   "id": "577bccb3",
   "metadata": {},
   "source": [
    "Почему именно GaussianNB?\n",
    "1) Плюсы:\n",
    "\n",
    "* Быстрое обучение и предсказание.\n",
    "\n",
    "* Хорошо работает с малым объемом данных.\n",
    "\n",
    "* Устойчив к шумам.\n",
    "\n",
    "2) Минусы:\n",
    "\n",
    "* Предполагает условную независимость признаков (что редко выполняется на практике, но часто не критично)."
   ]
  },
  {
   "cell_type": "markdown",
   "id": "6a420c1c-1d30-4c37-885a-a57c13918aa3",
   "metadata": {
    "id": "6a420c1c-1d30-4c37-885a-a57c13918aa3"
   },
   "source": [
    "**4.2** Оцените полученное качество и проинтерпретируйте полученный результат. Не забудьте разделить выборку на обучающую и тестовую части."
   ]
  },
  {
   "cell_type": "code",
   "execution_count": null,
   "id": "646423c6-17ef-4986-b9bb-62d6c70b5020",
   "metadata": {
    "id": "646423c6-17ef-4986-b9bb-62d6c70b5020"
   },
   "outputs": [
    {
     "name": "stdout",
     "output_type": "stream",
     "text": [
      "Обучающая выборка: 56000 примеров\n",
      "Тестовая выборка: 14000 примеров\n"
     ]
    }
   ],
   "source": [
    "# 1. Разделение данных (train/test). \n",
    "# Перед оценкой модели важно разделить данные на обучающую и тестовую выборки, чтобы избежать \"утечки данных\" (data leakage). Используем train_test_split:\n",
    "\n",
    "from sklearn.model_selection import train_test_split\n",
    "\n",
    "# Разделение данных (80% train, 20% test)\n",
    "X_train, X_test, y_train, y_test = train_test_split(\n",
    "    X, \n",
    "    y, \n",
    "    test_size=0.2, \n",
    "    random_state=42  # Фиксируем random_state для воспроизводимости\n",
    ")\n",
    "\n",
    "print(f\"Обучающая выборка: {X_train.shape[0]} примеров\")\n",
    "print(f\"Тестовая выборка: {X_test.shape[0]} примеров\")"
   ]
  },
  {
   "cell_type": "code",
   "execution_count": null,
   "id": "5c949441",
   "metadata": {},
   "outputs": [
    {
     "data": {
      "text/html": [
       "<style>#sk-container-id-1 {\n",
       "  /* Definition of color scheme common for light and dark mode */\n",
       "  --sklearn-color-text: #000;\n",
       "  --sklearn-color-text-muted: #666;\n",
       "  --sklearn-color-line: gray;\n",
       "  /* Definition of color scheme for unfitted estimators */\n",
       "  --sklearn-color-unfitted-level-0: #fff5e6;\n",
       "  --sklearn-color-unfitted-level-1: #f6e4d2;\n",
       "  --sklearn-color-unfitted-level-2: #ffe0b3;\n",
       "  --sklearn-color-unfitted-level-3: chocolate;\n",
       "  /* Definition of color scheme for fitted estimators */\n",
       "  --sklearn-color-fitted-level-0: #f0f8ff;\n",
       "  --sklearn-color-fitted-level-1: #d4ebff;\n",
       "  --sklearn-color-fitted-level-2: #b3dbfd;\n",
       "  --sklearn-color-fitted-level-3: cornflowerblue;\n",
       "\n",
       "  /* Specific color for light theme */\n",
       "  --sklearn-color-text-on-default-background: var(--sg-text-color, var(--theme-code-foreground, var(--jp-content-font-color1, black)));\n",
       "  --sklearn-color-background: var(--sg-background-color, var(--theme-background, var(--jp-layout-color0, white)));\n",
       "  --sklearn-color-border-box: var(--sg-text-color, var(--theme-code-foreground, var(--jp-content-font-color1, black)));\n",
       "  --sklearn-color-icon: #696969;\n",
       "\n",
       "  @media (prefers-color-scheme: dark) {\n",
       "    /* Redefinition of color scheme for dark theme */\n",
       "    --sklearn-color-text-on-default-background: var(--sg-text-color, var(--theme-code-foreground, var(--jp-content-font-color1, white)));\n",
       "    --sklearn-color-background: var(--sg-background-color, var(--theme-background, var(--jp-layout-color0, #111)));\n",
       "    --sklearn-color-border-box: var(--sg-text-color, var(--theme-code-foreground, var(--jp-content-font-color1, white)));\n",
       "    --sklearn-color-icon: #878787;\n",
       "  }\n",
       "}\n",
       "\n",
       "#sk-container-id-1 {\n",
       "  color: var(--sklearn-color-text);\n",
       "}\n",
       "\n",
       "#sk-container-id-1 pre {\n",
       "  padding: 0;\n",
       "}\n",
       "\n",
       "#sk-container-id-1 input.sk-hidden--visually {\n",
       "  border: 0;\n",
       "  clip: rect(1px 1px 1px 1px);\n",
       "  clip: rect(1px, 1px, 1px, 1px);\n",
       "  height: 1px;\n",
       "  margin: -1px;\n",
       "  overflow: hidden;\n",
       "  padding: 0;\n",
       "  position: absolute;\n",
       "  width: 1px;\n",
       "}\n",
       "\n",
       "#sk-container-id-1 div.sk-dashed-wrapped {\n",
       "  border: 1px dashed var(--sklearn-color-line);\n",
       "  margin: 0 0.4em 0.5em 0.4em;\n",
       "  box-sizing: border-box;\n",
       "  padding-bottom: 0.4em;\n",
       "  background-color: var(--sklearn-color-background);\n",
       "}\n",
       "\n",
       "#sk-container-id-1 div.sk-container {\n",
       "  /* jupyter's `normalize.less` sets `[hidden] { display: none; }`\n",
       "     but bootstrap.min.css set `[hidden] { display: none !important; }`\n",
       "     so we also need the `!important` here to be able to override the\n",
       "     default hidden behavior on the sphinx rendered scikit-learn.org.\n",
       "     See: https://github.com/scikit-learn/scikit-learn/issues/21755 */\n",
       "  display: inline-block !important;\n",
       "  position: relative;\n",
       "}\n",
       "\n",
       "#sk-container-id-1 div.sk-text-repr-fallback {\n",
       "  display: none;\n",
       "}\n",
       "\n",
       "div.sk-parallel-item,\n",
       "div.sk-serial,\n",
       "div.sk-item {\n",
       "  /* draw centered vertical line to link estimators */\n",
       "  background-image: linear-gradient(var(--sklearn-color-text-on-default-background), var(--sklearn-color-text-on-default-background));\n",
       "  background-size: 2px 100%;\n",
       "  background-repeat: no-repeat;\n",
       "  background-position: center center;\n",
       "}\n",
       "\n",
       "/* Parallel-specific style estimator block */\n",
       "\n",
       "#sk-container-id-1 div.sk-parallel-item::after {\n",
       "  content: \"\";\n",
       "  width: 100%;\n",
       "  border-bottom: 2px solid var(--sklearn-color-text-on-default-background);\n",
       "  flex-grow: 1;\n",
       "}\n",
       "\n",
       "#sk-container-id-1 div.sk-parallel {\n",
       "  display: flex;\n",
       "  align-items: stretch;\n",
       "  justify-content: center;\n",
       "  background-color: var(--sklearn-color-background);\n",
       "  position: relative;\n",
       "}\n",
       "\n",
       "#sk-container-id-1 div.sk-parallel-item {\n",
       "  display: flex;\n",
       "  flex-direction: column;\n",
       "}\n",
       "\n",
       "#sk-container-id-1 div.sk-parallel-item:first-child::after {\n",
       "  align-self: flex-end;\n",
       "  width: 50%;\n",
       "}\n",
       "\n",
       "#sk-container-id-1 div.sk-parallel-item:last-child::after {\n",
       "  align-self: flex-start;\n",
       "  width: 50%;\n",
       "}\n",
       "\n",
       "#sk-container-id-1 div.sk-parallel-item:only-child::after {\n",
       "  width: 0;\n",
       "}\n",
       "\n",
       "/* Serial-specific style estimator block */\n",
       "\n",
       "#sk-container-id-1 div.sk-serial {\n",
       "  display: flex;\n",
       "  flex-direction: column;\n",
       "  align-items: center;\n",
       "  background-color: var(--sklearn-color-background);\n",
       "  padding-right: 1em;\n",
       "  padding-left: 1em;\n",
       "}\n",
       "\n",
       "\n",
       "/* Toggleable style: style used for estimator/Pipeline/ColumnTransformer box that is\n",
       "clickable and can be expanded/collapsed.\n",
       "- Pipeline and ColumnTransformer use this feature and define the default style\n",
       "- Estimators will overwrite some part of the style using the `sk-estimator` class\n",
       "*/\n",
       "\n",
       "/* Pipeline and ColumnTransformer style (default) */\n",
       "\n",
       "#sk-container-id-1 div.sk-toggleable {\n",
       "  /* Default theme specific background. It is overwritten whether we have a\n",
       "  specific estimator or a Pipeline/ColumnTransformer */\n",
       "  background-color: var(--sklearn-color-background);\n",
       "}\n",
       "\n",
       "/* Toggleable label */\n",
       "#sk-container-id-1 label.sk-toggleable__label {\n",
       "  cursor: pointer;\n",
       "  display: flex;\n",
       "  width: 100%;\n",
       "  margin-bottom: 0;\n",
       "  padding: 0.5em;\n",
       "  box-sizing: border-box;\n",
       "  text-align: center;\n",
       "  align-items: start;\n",
       "  justify-content: space-between;\n",
       "  gap: 0.5em;\n",
       "}\n",
       "\n",
       "#sk-container-id-1 label.sk-toggleable__label .caption {\n",
       "  font-size: 0.6rem;\n",
       "  font-weight: lighter;\n",
       "  color: var(--sklearn-color-text-muted);\n",
       "}\n",
       "\n",
       "#sk-container-id-1 label.sk-toggleable__label-arrow:before {\n",
       "  /* Arrow on the left of the label */\n",
       "  content: \"▸\";\n",
       "  float: left;\n",
       "  margin-right: 0.25em;\n",
       "  color: var(--sklearn-color-icon);\n",
       "}\n",
       "\n",
       "#sk-container-id-1 label.sk-toggleable__label-arrow:hover:before {\n",
       "  color: var(--sklearn-color-text);\n",
       "}\n",
       "\n",
       "/* Toggleable content - dropdown */\n",
       "\n",
       "#sk-container-id-1 div.sk-toggleable__content {\n",
       "  max-height: 0;\n",
       "  max-width: 0;\n",
       "  overflow: hidden;\n",
       "  text-align: left;\n",
       "  /* unfitted */\n",
       "  background-color: var(--sklearn-color-unfitted-level-0);\n",
       "}\n",
       "\n",
       "#sk-container-id-1 div.sk-toggleable__content.fitted {\n",
       "  /* fitted */\n",
       "  background-color: var(--sklearn-color-fitted-level-0);\n",
       "}\n",
       "\n",
       "#sk-container-id-1 div.sk-toggleable__content pre {\n",
       "  margin: 0.2em;\n",
       "  border-radius: 0.25em;\n",
       "  color: var(--sklearn-color-text);\n",
       "  /* unfitted */\n",
       "  background-color: var(--sklearn-color-unfitted-level-0);\n",
       "}\n",
       "\n",
       "#sk-container-id-1 div.sk-toggleable__content.fitted pre {\n",
       "  /* unfitted */\n",
       "  background-color: var(--sklearn-color-fitted-level-0);\n",
       "}\n",
       "\n",
       "#sk-container-id-1 input.sk-toggleable__control:checked~div.sk-toggleable__content {\n",
       "  /* Expand drop-down */\n",
       "  max-height: 200px;\n",
       "  max-width: 100%;\n",
       "  overflow: auto;\n",
       "}\n",
       "\n",
       "#sk-container-id-1 input.sk-toggleable__control:checked~label.sk-toggleable__label-arrow:before {\n",
       "  content: \"▾\";\n",
       "}\n",
       "\n",
       "/* Pipeline/ColumnTransformer-specific style */\n",
       "\n",
       "#sk-container-id-1 div.sk-label input.sk-toggleable__control:checked~label.sk-toggleable__label {\n",
       "  color: var(--sklearn-color-text);\n",
       "  background-color: var(--sklearn-color-unfitted-level-2);\n",
       "}\n",
       "\n",
       "#sk-container-id-1 div.sk-label.fitted input.sk-toggleable__control:checked~label.sk-toggleable__label {\n",
       "  background-color: var(--sklearn-color-fitted-level-2);\n",
       "}\n",
       "\n",
       "/* Estimator-specific style */\n",
       "\n",
       "/* Colorize estimator box */\n",
       "#sk-container-id-1 div.sk-estimator input.sk-toggleable__control:checked~label.sk-toggleable__label {\n",
       "  /* unfitted */\n",
       "  background-color: var(--sklearn-color-unfitted-level-2);\n",
       "}\n",
       "\n",
       "#sk-container-id-1 div.sk-estimator.fitted input.sk-toggleable__control:checked~label.sk-toggleable__label {\n",
       "  /* fitted */\n",
       "  background-color: var(--sklearn-color-fitted-level-2);\n",
       "}\n",
       "\n",
       "#sk-container-id-1 div.sk-label label.sk-toggleable__label,\n",
       "#sk-container-id-1 div.sk-label label {\n",
       "  /* The background is the default theme color */\n",
       "  color: var(--sklearn-color-text-on-default-background);\n",
       "}\n",
       "\n",
       "/* On hover, darken the color of the background */\n",
       "#sk-container-id-1 div.sk-label:hover label.sk-toggleable__label {\n",
       "  color: var(--sklearn-color-text);\n",
       "  background-color: var(--sklearn-color-unfitted-level-2);\n",
       "}\n",
       "\n",
       "/* Label box, darken color on hover, fitted */\n",
       "#sk-container-id-1 div.sk-label.fitted:hover label.sk-toggleable__label.fitted {\n",
       "  color: var(--sklearn-color-text);\n",
       "  background-color: var(--sklearn-color-fitted-level-2);\n",
       "}\n",
       "\n",
       "/* Estimator label */\n",
       "\n",
       "#sk-container-id-1 div.sk-label label {\n",
       "  font-family: monospace;\n",
       "  font-weight: bold;\n",
       "  display: inline-block;\n",
       "  line-height: 1.2em;\n",
       "}\n",
       "\n",
       "#sk-container-id-1 div.sk-label-container {\n",
       "  text-align: center;\n",
       "}\n",
       "\n",
       "/* Estimator-specific */\n",
       "#sk-container-id-1 div.sk-estimator {\n",
       "  font-family: monospace;\n",
       "  border: 1px dotted var(--sklearn-color-border-box);\n",
       "  border-radius: 0.25em;\n",
       "  box-sizing: border-box;\n",
       "  margin-bottom: 0.5em;\n",
       "  /* unfitted */\n",
       "  background-color: var(--sklearn-color-unfitted-level-0);\n",
       "}\n",
       "\n",
       "#sk-container-id-1 div.sk-estimator.fitted {\n",
       "  /* fitted */\n",
       "  background-color: var(--sklearn-color-fitted-level-0);\n",
       "}\n",
       "\n",
       "/* on hover */\n",
       "#sk-container-id-1 div.sk-estimator:hover {\n",
       "  /* unfitted */\n",
       "  background-color: var(--sklearn-color-unfitted-level-2);\n",
       "}\n",
       "\n",
       "#sk-container-id-1 div.sk-estimator.fitted:hover {\n",
       "  /* fitted */\n",
       "  background-color: var(--sklearn-color-fitted-level-2);\n",
       "}\n",
       "\n",
       "/* Specification for estimator info (e.g. \"i\" and \"?\") */\n",
       "\n",
       "/* Common style for \"i\" and \"?\" */\n",
       "\n",
       ".sk-estimator-doc-link,\n",
       "a:link.sk-estimator-doc-link,\n",
       "a:visited.sk-estimator-doc-link {\n",
       "  float: right;\n",
       "  font-size: smaller;\n",
       "  line-height: 1em;\n",
       "  font-family: monospace;\n",
       "  background-color: var(--sklearn-color-background);\n",
       "  border-radius: 1em;\n",
       "  height: 1em;\n",
       "  width: 1em;\n",
       "  text-decoration: none !important;\n",
       "  margin-left: 0.5em;\n",
       "  text-align: center;\n",
       "  /* unfitted */\n",
       "  border: var(--sklearn-color-unfitted-level-1) 1pt solid;\n",
       "  color: var(--sklearn-color-unfitted-level-1);\n",
       "}\n",
       "\n",
       ".sk-estimator-doc-link.fitted,\n",
       "a:link.sk-estimator-doc-link.fitted,\n",
       "a:visited.sk-estimator-doc-link.fitted {\n",
       "  /* fitted */\n",
       "  border: var(--sklearn-color-fitted-level-1) 1pt solid;\n",
       "  color: var(--sklearn-color-fitted-level-1);\n",
       "}\n",
       "\n",
       "/* On hover */\n",
       "div.sk-estimator:hover .sk-estimator-doc-link:hover,\n",
       ".sk-estimator-doc-link:hover,\n",
       "div.sk-label-container:hover .sk-estimator-doc-link:hover,\n",
       ".sk-estimator-doc-link:hover {\n",
       "  /* unfitted */\n",
       "  background-color: var(--sklearn-color-unfitted-level-3);\n",
       "  color: var(--sklearn-color-background);\n",
       "  text-decoration: none;\n",
       "}\n",
       "\n",
       "div.sk-estimator.fitted:hover .sk-estimator-doc-link.fitted:hover,\n",
       ".sk-estimator-doc-link.fitted:hover,\n",
       "div.sk-label-container:hover .sk-estimator-doc-link.fitted:hover,\n",
       ".sk-estimator-doc-link.fitted:hover {\n",
       "  /* fitted */\n",
       "  background-color: var(--sklearn-color-fitted-level-3);\n",
       "  color: var(--sklearn-color-background);\n",
       "  text-decoration: none;\n",
       "}\n",
       "\n",
       "/* Span, style for the box shown on hovering the info icon */\n",
       ".sk-estimator-doc-link span {\n",
       "  display: none;\n",
       "  z-index: 9999;\n",
       "  position: relative;\n",
       "  font-weight: normal;\n",
       "  right: .2ex;\n",
       "  padding: .5ex;\n",
       "  margin: .5ex;\n",
       "  width: min-content;\n",
       "  min-width: 20ex;\n",
       "  max-width: 50ex;\n",
       "  color: var(--sklearn-color-text);\n",
       "  box-shadow: 2pt 2pt 4pt #999;\n",
       "  /* unfitted */\n",
       "  background: var(--sklearn-color-unfitted-level-0);\n",
       "  border: .5pt solid var(--sklearn-color-unfitted-level-3);\n",
       "}\n",
       "\n",
       ".sk-estimator-doc-link.fitted span {\n",
       "  /* fitted */\n",
       "  background: var(--sklearn-color-fitted-level-0);\n",
       "  border: var(--sklearn-color-fitted-level-3);\n",
       "}\n",
       "\n",
       ".sk-estimator-doc-link:hover span {\n",
       "  display: block;\n",
       "}\n",
       "\n",
       "/* \"?\"-specific style due to the `<a>` HTML tag */\n",
       "\n",
       "#sk-container-id-1 a.estimator_doc_link {\n",
       "  float: right;\n",
       "  font-size: 1rem;\n",
       "  line-height: 1em;\n",
       "  font-family: monospace;\n",
       "  background-color: var(--sklearn-color-background);\n",
       "  border-radius: 1rem;\n",
       "  height: 1rem;\n",
       "  width: 1rem;\n",
       "  text-decoration: none;\n",
       "  /* unfitted */\n",
       "  color: var(--sklearn-color-unfitted-level-1);\n",
       "  border: var(--sklearn-color-unfitted-level-1) 1pt solid;\n",
       "}\n",
       "\n",
       "#sk-container-id-1 a.estimator_doc_link.fitted {\n",
       "  /* fitted */\n",
       "  border: var(--sklearn-color-fitted-level-1) 1pt solid;\n",
       "  color: var(--sklearn-color-fitted-level-1);\n",
       "}\n",
       "\n",
       "/* On hover */\n",
       "#sk-container-id-1 a.estimator_doc_link:hover {\n",
       "  /* unfitted */\n",
       "  background-color: var(--sklearn-color-unfitted-level-3);\n",
       "  color: var(--sklearn-color-background);\n",
       "  text-decoration: none;\n",
       "}\n",
       "\n",
       "#sk-container-id-1 a.estimator_doc_link.fitted:hover {\n",
       "  /* fitted */\n",
       "  background-color: var(--sklearn-color-fitted-level-3);\n",
       "}\n",
       "</style><div id=\"sk-container-id-1\" class=\"sk-top-container\"><div class=\"sk-text-repr-fallback\"><pre>GaussianNB()</pre><b>In a Jupyter environment, please rerun this cell to show the HTML representation or trust the notebook. <br />On GitHub, the HTML representation is unable to render, please try loading this page with nbviewer.org.</b></div><div class=\"sk-container\" hidden><div class=\"sk-item\"><div class=\"sk-estimator fitted sk-toggleable\"><input class=\"sk-toggleable__control sk-hidden--visually\" id=\"sk-estimator-id-1\" type=\"checkbox\" checked><label for=\"sk-estimator-id-1\" class=\"sk-toggleable__label fitted sk-toggleable__label-arrow\"><div><div>GaussianNB</div></div><div><a class=\"sk-estimator-doc-link fitted\" rel=\"noreferrer\" target=\"_blank\" href=\"https://scikit-learn.org/1.6/modules/generated/sklearn.naive_bayes.GaussianNB.html\">?<span>Documentation for GaussianNB</span></a><span class=\"sk-estimator-doc-link fitted\">i<span>Fitted</span></span></div></label><div class=\"sk-toggleable__content fitted\"><pre>GaussianNB()</pre></div> </div></div></div></div>"
      ],
      "text/plain": [
       "GaussianNB()"
      ]
     },
     "execution_count": 17,
     "metadata": {},
     "output_type": "execute_result"
    }
   ],
   "source": [
    "# 2. Обучение модели GaussianNB\n",
    "\n",
    "from sklearn.naive_bayes import GaussianNB\n",
    "\n",
    "# Создание и обучение модели\n",
    "nb_model = GaussianNB()\n",
    "nb_model.fit(X_train, y_train)"
   ]
  },
  {
   "cell_type": "code",
   "execution_count": null,
   "id": "11e59c0f",
   "metadata": {},
   "outputs": [
    {
     "name": "stdout",
     "output_type": "stream",
     "text": [
      "Classification Report:\n",
      "              precision    recall  f1-score   support\n",
      "\n",
      "           0       0.54      0.93      0.69      6988\n",
      "           1       0.76      0.22      0.34      7012\n",
      "\n",
      "    accuracy                           0.57     14000\n",
      "   macro avg       0.65      0.57      0.51     14000\n",
      "weighted avg       0.65      0.57      0.51     14000\n",
      "\n",
      "\n",
      "Confusion Matrix:\n",
      "[[6489  499]\n",
      " [5466 1546]]\n",
      "\n",
      "Accuracy: 0.5739\n",
      "ROC-AUC: 0.7003\n"
     ]
    }
   ],
   "source": [
    "# 3. Оценка качества на тестовой выборке. \n",
    "# Используем метрики классификации:\n",
    "\n",
    "from sklearn.metrics import (\n",
    "    classification_report,\n",
    "    confusion_matrix,\n",
    "    accuracy_score,\n",
    "    roc_auc_score\n",
    ")\n",
    "\n",
    "# Предсказание для тестовых данных\n",
    "y_pred = nb_model.predict(X_test)\n",
    "y_pred_proba = nb_model.predict_proba(X_test)[:, 1]  # Вероятности класса 1 (для ROC-AUC)\n",
    "\n",
    "# Вывод метрик\n",
    "print(\"Classification Report:\")\n",
    "print(classification_report(y_test, y_pred))\n",
    "\n",
    "print(\"\\nConfusion Matrix:\")\n",
    "print(confusion_matrix(y_test, y_pred))\n",
    "\n",
    "print(f\"\\nAccuracy: {accuracy_score(y_test, y_pred):.4f}\")\n",
    "print(f\"ROC-AUC: {roc_auc_score(y_test, y_pred_proba):.4f}\")"
   ]
  },
  {
   "cell_type": "markdown",
   "id": "f8c1bcaa",
   "metadata": {},
   "source": [
    "***4. Интерпретация результатов***\n",
    "\n",
    "Ключевые метрики:\n",
    "\n",
    "* Accuracy (точность): 57% — доля верных предсказаний.\n",
    "Недостаток: Может вводить в заблуждение при несбалансированных классах.\n",
    "\n",
    "* Precision (точность для класса 1): 76%\n",
    "Интерпретация: Из всех предсказанных случаев \"болезнь есть\", 76% верны.\n",
    "\n",
    "* Recall (полнота для класса 1): 22%\n",
    "Интерпретация: Модель нашла 22% реальных случаев болезни.\n",
    "\n",
    "* F1-score: 0.34 (среднее гармоническое precision и recall).\n",
    "Важно: Полезно при неравных importance precision/recall.\n",
    "\n",
    "* ROC-AUC: 0.70\n",
    "Интерпретация: Модель на 80% правильно ранжирует пары \"больной/здоровый\".\n",
    "\n"
   ]
  },
  {
   "cell_type": "code",
   "execution_count": null,
   "id": "2d339aeb",
   "metadata": {},
   "outputs": [
    {
     "data": {
      "image/png": "[encoded data removed]",
      "text/plain": [
       "<Figure size 640x480 with 2 Axes>"
      ]
     },
     "metadata": {},
     "output_type": "display_data"
    },
    {
     "data": {
      "image/png": "[encoded data removed]",
      "text/plain": [
       "<Figure size 640x480 with 1 Axes>"
      ]
     },
     "metadata": {},
     "output_type": "display_data"
    }
   ],
   "source": [
    "# 5. Визуализация.\n",
    "# Добавим матрицу ошибок и ROC-кривую:\n",
    "\n",
    "import matplotlib.pyplot as plt\n",
    "import seaborn as sns\n",
    "from sklearn.metrics import RocCurveDisplay\n",
    "\n",
    "# Матрица ошибок\n",
    "sns.heatmap(confusion_matrix(y_test, y_pred), \n",
    "            annot=True, fmt=\"d\", cmap=\"Blues\",\n",
    "            xticklabels=[\"Здоров\", \"Болен\"],\n",
    "            yticklabels=[\"Здоров\", \"Болен\"])\n",
    "plt.xlabel(\"Предсказание\")\n",
    "plt.ylabel(\"Реальность\")\n",
    "plt.title(\"Confusion Matrix\")\n",
    "plt.show()\n",
    "\n",
    "# ROC-кривая\n",
    "RocCurveDisplay.from_estimator(nb_model, X_test, y_test)\n",
    "plt.title(\"ROC-кривая\")\n",
    "plt.show()"
   ]
  },
  {
   "cell_type": "markdown",
   "id": "e0d5d8dd",
   "metadata": {},
   "source": [
    "***6. Выводы и рекомендации***\n",
    "1) Качество модели:\n",
    "\n",
    "* ROC-AUC (0.70) показывает, что модель лучше случайного угадывания (0.5).\n",
    "\n",
    "* Accuracy (57%) — приемлемо для базовой модели, но можно улучшить.\n",
    "\n",
    "2) Проблемы:\n",
    "\n",
    "* Низкий recall (22%) для класса 1: модель пропускает 70% больных.\n",
    "Решение: Попробуйте изменить порог классификации (predict_proba > 0.4).\n",
    "\n",
    "3) Улучшение:\n",
    "\n",
    "* Попробуйте другие модели (RandomForest, LogisticRegression).\n",
    "\n",
    "* Балансировка классов (class_weight='balanced').\n",
    "\n",
    "**Итог:** Модель пригодна для скрининга, но требует доработки для клинического использования. Для задач, где важно минимизировать ложноотрицательные прогнозы (FN), повышайте recall."
   ]
  },
  {
   "cell_type": "code",
   "execution_count": 22,
   "id": "cb072bfa",
   "metadata": {},
   "outputs": [
    {
     "name": "stdout",
     "output_type": "stream",
     "text": [
      "✅ Данные успешно загружены\n",
      "Размер датасета: (70000, 13)\n",
      "\n",
      "Первые 5 строк данных:\n"
     ]
    },
    {
     "data": {
      "application/vnd.microsoft.datawrangler.viewer.v0+json": {
       "columns": [
        {
         "name": "index",
         "rawType": "int64",
         "type": "integer"
        },
        {
         "name": "id",
         "rawType": "int64",
         "type": "integer"
        },
        {
         "name": "age",
         "rawType": "int64",
         "type": "integer"
        },
        {
         "name": "gender",
         "rawType": "int64",
         "type": "integer"
        },
        {
         "name": "height",
         "rawType": "int64",
         "type": "integer"
        },
        {
         "name": "weight",
         "rawType": "float64",
         "type": "float"
        },
        {
         "name": "ap_hi",
         "rawType": "int64",
         "type": "integer"
        },
        {
         "name": "ap_lo",
         "rawType": "int64",
         "type": "integer"
        },
        {
         "name": "cholesterol",
         "rawType": "int64",
         "type": "integer"
        },
        {
         "name": "gluc",
         "rawType": "int64",
         "type": "integer"
        },
        {
         "name": "smoke",
         "rawType": "int64",
         "type": "integer"
        },
        {
         "name": "alco",
         "rawType": "int64",
         "type": "integer"
        },
        {
         "name": "active",
         "rawType": "int64",
         "type": "integer"
        },
        {
         "name": "cardio",
         "rawType": "int64",
         "type": "integer"
        }
       ],
       "ref": "806f502e-c476-4239-a290-ba7d65e50165",
       "rows": [
        [
         "0",
         "0",
         "18393",
         "2",
         "168",
         "62.0",
         "110",
         "80",
         "1",
         "1",
         "0",
         "0",
         "1",
         "0"
        ],
        [
         "1",
         "1",
         "20228",
         "1",
         "156",
         "85.0",
         "140",
         "90",
         "3",
         "1",
         "0",
         "0",
         "1",
         "1"
        ],
        [
         "2",
         "2",
         "18857",
         "1",
         "165",
         "64.0",
         "130",
         "70",
         "3",
         "1",
         "0",
         "0",
         "0",
         "1"
        ],
        [
         "3",
         "3",
         "17623",
         "2",
         "169",
         "82.0",
         "150",
         "100",
         "1",
         "1",
         "0",
         "0",
         "1",
         "1"
        ],
        [
         "4",
         "4",
         "17474",
         "1",
         "156",
         "56.0",
         "100",
         "60",
         "1",
         "1",
         "0",
         "0",
         "0",
         "0"
        ]
       ],
       "shape": {
        "columns": 13,
        "rows": 5
       }
      },
      "text/html": [
       "<div>\n",
       "<style scoped>\n",
       "    .dataframe tbody tr th:only-of-type {\n",
       "        vertical-align: middle;\n",
       "    }\n",
       "\n",
       "    .dataframe tbody tr th {\n",
       "        vertical-align: top;\n",
       "    }\n",
       "\n",
       "    .dataframe thead th {\n",
       "        text-align: right;\n",
       "    }\n",
       "</style>\n",
       "<table border=\"1\" class=\"dataframe\">\n",
       "  <thead>\n",
       "    <tr style=\"text-align: right;\">\n",
       "      <th></th>\n",
       "      <th>id</th>\n",
       "      <th>age</th>\n",
       "      <th>gender</th>\n",
       "      <th>height</th>\n",
       "      <th>weight</th>\n",
       "      <th>ap_hi</th>\n",
       "      <th>ap_lo</th>\n",
       "      <th>cholesterol</th>\n",
       "      <th>gluc</th>\n",
       "      <th>smoke</th>\n",
       "      <th>alco</th>\n",
       "      <th>active</th>\n",
       "      <th>cardio</th>\n",
       "    </tr>\n",
       "  </thead>\n",
       "  <tbody>\n",
       "    <tr>\n",
       "      <th>0</th>\n",
       "      <td>0</td>\n",
       "      <td>18393</td>\n",
       "      <td>2</td>\n",
       "      <td>168</td>\n",
       "      <td>62.0</td>\n",
       "      <td>110</td>\n",
       "      <td>80</td>\n",
       "      <td>1</td>\n",
       "      <td>1</td>\n",
       "      <td>0</td>\n",
       "      <td>0</td>\n",
       "      <td>1</td>\n",
       "      <td>0</td>\n",
       "    </tr>\n",
       "    <tr>\n",
       "      <th>1</th>\n",
       "      <td>1</td>\n",
       "      <td>20228</td>\n",
       "      <td>1</td>\n",
       "      <td>156</td>\n",
       "      <td>85.0</td>\n",
       "      <td>140</td>\n",
       "      <td>90</td>\n",
       "      <td>3</td>\n",
       "      <td>1</td>\n",
       "      <td>0</td>\n",
       "      <td>0</td>\n",
       "      <td>1</td>\n",
       "      <td>1</td>\n",
       "    </tr>\n",
       "    <tr>\n",
       "      <th>2</th>\n",
       "      <td>2</td>\n",
       "      <td>18857</td>\n",
       "      <td>1</td>\n",
       "      <td>165</td>\n",
       "      <td>64.0</td>\n",
       "      <td>130</td>\n",
       "      <td>70</td>\n",
       "      <td>3</td>\n",
       "      <td>1</td>\n",
       "      <td>0</td>\n",
       "      <td>0</td>\n",
       "      <td>0</td>\n",
       "      <td>1</td>\n",
       "    </tr>\n",
       "    <tr>\n",
       "      <th>3</th>\n",
       "      <td>3</td>\n",
       "      <td>17623</td>\n",
       "      <td>2</td>\n",
       "      <td>169</td>\n",
       "      <td>82.0</td>\n",
       "      <td>150</td>\n",
       "      <td>100</td>\n",
       "      <td>1</td>\n",
       "      <td>1</td>\n",
       "      <td>0</td>\n",
       "      <td>0</td>\n",
       "      <td>1</td>\n",
       "      <td>1</td>\n",
       "    </tr>\n",
       "    <tr>\n",
       "      <th>4</th>\n",
       "      <td>4</td>\n",
       "      <td>17474</td>\n",
       "      <td>1</td>\n",
       "      <td>156</td>\n",
       "      <td>56.0</td>\n",
       "      <td>100</td>\n",
       "      <td>60</td>\n",
       "      <td>1</td>\n",
       "      <td>1</td>\n",
       "      <td>0</td>\n",
       "      <td>0</td>\n",
       "      <td>0</td>\n",
       "      <td>0</td>\n",
       "    </tr>\n",
       "  </tbody>\n",
       "</table>\n",
       "</div>"
      ],
      "text/plain": [
       "   id    age  gender  height  weight  ap_hi  ap_lo  cholesterol  gluc  smoke  \\\n",
       "0   0  18393       2     168    62.0    110     80            1     1      0   \n",
       "1   1  20228       1     156    85.0    140     90            3     1      0   \n",
       "2   2  18857       1     165    64.0    130     70            3     1      0   \n",
       "3   3  17623       2     169    82.0    150    100            1     1      0   \n",
       "4   4  17474       1     156    56.0    100     60            1     1      0   \n",
       "\n",
       "   alco  active  cardio  \n",
       "0     0       1       0  \n",
       "1     0       1       1  \n",
       "2     0       0       1  \n",
       "3     0       1       1  \n",
       "4     0       0       0  "
      ]
     },
     "metadata": {},
     "output_type": "display_data"
    },
    {
     "name": "stdout",
     "output_type": "stream",
     "text": [
      "\n",
      "🔍 Проверка данных:\n",
      "Пропущенные значения:\n",
      "id             0\n",
      "age            0\n",
      "gender         0\n",
      "height         0\n",
      "weight         0\n",
      "ap_hi          0\n",
      "ap_lo          0\n",
      "cholesterol    0\n",
      "gluc           0\n",
      "smoke          0\n",
      "alco           0\n",
      "active         0\n",
      "cardio         0\n",
      "dtype: int64\n",
      "\n",
      "Удалено строк: 0\n",
      "Осталось строк: 70000\n",
      "\n",
      "📊 Разделение данных:\n",
      "Обучающая выборка: 56000 примеров\n",
      "Тестовая выборка: 14000 примеров\n",
      "\n",
      "🤖 Обучение модели GaussianNB...\n",
      "\n",
      "📝 Classification Report:\n",
      "              precision    recall  f1-score   support\n",
      "\n",
      "           0       0.53      0.94      0.68      7004\n",
      "           1       0.76      0.18      0.29      6996\n",
      "\n",
      "    accuracy                           0.56     14000\n",
      "   macro avg       0.65      0.56      0.49     14000\n",
      "weighted avg       0.65      0.56      0.49     14000\n",
      "\n",
      "\n",
      "🔢 Confusion Matrix:\n",
      "[[6601  403]\n",
      " [5744 1252]]\n",
      "\n",
      "📈 ROC-AUC: 0.6867\n"
     ]
    },
    {
     "data": {
      "image/png": "[encoded data removed]",
      "text/plain": [
       "<Figure size 1500x600 with 3 Axes>"
      ]
     },
     "metadata": {},
     "output_type": "display_data"
    },
    {
     "name": "stdout",
     "output_type": "stream",
     "text": [
      "\n",
      "🔎 Важность признаков:\n"
     ]
    },
    {
     "name": "stderr",
     "output_type": "stream",
     "text": [
      "C:\\Users\\1\\AppData\\Local\\Temp\\ipykernel_13836\\667371678.py:99: RuntimeWarning: overflow encountered in exp\n",
      "  'Важность': np.exp(model.theta_[1] - model.theta_[0])  # Разница средних значений\n"
     ]
    },
    {
     "data": {
      "application/vnd.microsoft.datawrangler.viewer.v0+json": {
       "columns": [
        {
         "name": "index",
         "rawType": "int64",
         "type": "integer"
        },
        {
         "name": "Признак",
         "rawType": "object",
         "type": "string"
        },
        {
         "name": "Важность",
         "rawType": "float64",
         "type": "float"
        }
       ],
       "ref": "0bde8bd9-9653-47b3-8adc-ea81ac0ae7ce",
       "rows": [
        [
         "1",
         "age",
         "inf"
        ],
        [
         "0",
         "id",
         "2.5764420867634547e+107"
        ],
        [
         "6",
         "ap_lo",
         "64875015389.15193"
        ],
        [
         "5",
         "ap_hi",
         "20520803.580956545"
        ],
        [
         "4",
         "weight",
         "194.63260965634305"
        ],
        [
         "7",
         "cholesterol",
         "1.3518113723642975"
        ],
        [
         "8",
         "gluc",
         "1.111095782658832"
        ],
        [
         "2",
         "gender",
         "1.0047925079417896"
        ],
        [
         "10",
         "alco",
         "0.9963211610381997"
        ],
        [
         "9",
         "smoke",
         "0.9896251379044876"
        ],
        [
         "11",
         "active",
         "0.9747655594358953"
        ],
        [
         "3",
         "height",
         "0.8028254407515277"
        ]
       ],
       "shape": {
        "columns": 2,
        "rows": 12
       }
      },
      "text/html": [
       "<div>\n",
       "<style scoped>\n",
       "    .dataframe tbody tr th:only-of-type {\n",
       "        vertical-align: middle;\n",
       "    }\n",
       "\n",
       "    .dataframe tbody tr th {\n",
       "        vertical-align: top;\n",
       "    }\n",
       "\n",
       "    .dataframe thead th {\n",
       "        text-align: right;\n",
       "    }\n",
       "</style>\n",
       "<table border=\"1\" class=\"dataframe\">\n",
       "  <thead>\n",
       "    <tr style=\"text-align: right;\">\n",
       "      <th></th>\n",
       "      <th>Признак</th>\n",
       "      <th>Важность</th>\n",
       "    </tr>\n",
       "  </thead>\n",
       "  <tbody>\n",
       "    <tr>\n",
       "      <th>1</th>\n",
       "      <td>age</td>\n",
       "      <td>inf</td>\n",
       "    </tr>\n",
       "    <tr>\n",
       "      <th>0</th>\n",
       "      <td>id</td>\n",
       "      <td>2.576442e+107</td>\n",
       "    </tr>\n",
       "    <tr>\n",
       "      <th>6</th>\n",
       "      <td>ap_lo</td>\n",
       "      <td>6.487502e+10</td>\n",
       "    </tr>\n",
       "    <tr>\n",
       "      <th>5</th>\n",
       "      <td>ap_hi</td>\n",
       "      <td>2.052080e+07</td>\n",
       "    </tr>\n",
       "    <tr>\n",
       "      <th>4</th>\n",
       "      <td>weight</td>\n",
       "      <td>1.946326e+02</td>\n",
       "    </tr>\n",
       "    <tr>\n",
       "      <th>7</th>\n",
       "      <td>cholesterol</td>\n",
       "      <td>1.351811e+00</td>\n",
       "    </tr>\n",
       "    <tr>\n",
       "      <th>8</th>\n",
       "      <td>gluc</td>\n",
       "      <td>1.111096e+00</td>\n",
       "    </tr>\n",
       "    <tr>\n",
       "      <th>2</th>\n",
       "      <td>gender</td>\n",
       "      <td>1.004793e+00</td>\n",
       "    </tr>\n",
       "    <tr>\n",
       "      <th>10</th>\n",
       "      <td>alco</td>\n",
       "      <td>9.963212e-01</td>\n",
       "    </tr>\n",
       "    <tr>\n",
       "      <th>9</th>\n",
       "      <td>smoke</td>\n",
       "      <td>9.896251e-01</td>\n",
       "    </tr>\n",
       "    <tr>\n",
       "      <th>11</th>\n",
       "      <td>active</td>\n",
       "      <td>9.747656e-01</td>\n",
       "    </tr>\n",
       "    <tr>\n",
       "      <th>3</th>\n",
       "      <td>height</td>\n",
       "      <td>8.028254e-01</td>\n",
       "    </tr>\n",
       "  </tbody>\n",
       "</table>\n",
       "</div>"
      ],
      "text/plain": [
       "        Признак       Важность\n",
       "1           age            inf\n",
       "0            id  2.576442e+107\n",
       "6         ap_lo   6.487502e+10\n",
       "5         ap_hi   2.052080e+07\n",
       "4        weight   1.946326e+02\n",
       "7   cholesterol   1.351811e+00\n",
       "8          gluc   1.111096e+00\n",
       "2        gender   1.004793e+00\n",
       "10         alco   9.963212e-01\n",
       "9         smoke   9.896251e-01\n",
       "11       active   9.747656e-01\n",
       "3        height   8.028254e-01"
      ]
     },
     "metadata": {},
     "output_type": "display_data"
    }
   ],
   "source": [
    "import pandas as pd\n",
    "import numpy as np\n",
    "from sklearn.model_selection import train_test_split\n",
    "from sklearn.naive_bayes import GaussianNB\n",
    "from sklearn.metrics import classification_report, confusion_matrix, roc_auc_score, roc_curve\n",
    "import matplotlib.pyplot as plt\n",
    "import seaborn as sns\n",
    "\n",
    "# 1. Загрузка данных из Google Sheets\n",
    "url = \"https://docs.google.com/spreadsheets/d/1DAwgFAKRFEkoRS4kkaTQ119301ebxBit/export?format=csv&gid=231888029\"\n",
    "try:\n",
    "    df = pd.read_csv(url)\n",
    "    print(\"✅ Данные успешно загружены\")\n",
    "    print(f\"Размер датасета: {df.shape}\\n\")\n",
    "    \n",
    "    # Первые 5 строк для проверки\n",
    "    print(\"Первые 5 строк данных:\")\n",
    "    display(df.head())\n",
    "except Exception as e:\n",
    "    print(f\"❌ Ошибка загрузки: {e}\")\n",
    "    exit()\n",
    "\n",
    "# 2. Предобработка данных\n",
    "print(\"\\n🔍 Проверка данных:\")\n",
    "print(\"Пропущенные значения:\")\n",
    "print(df.isnull().sum())\n",
    "\n",
    "# Удаление строк с пропусками\n",
    "df_clean = df.dropna()\n",
    "print(f\"\\nУдалено строк: {len(df) - len(df_clean)}\")\n",
    "print(f\"Осталось строк: {len(df_clean)}\")\n",
    "\n",
    "# 3. Подготовка данных\n",
    "# Выделение признаков и целевой переменной\n",
    "X = df_clean.drop(columns=['cardio'])  # Признаки\n",
    "y = df_clean['cardio']                # Целевая переменная\n",
    "\n",
    "# Разделение на train/test (80/20)\n",
    "X_train, X_test, y_train, y_test = train_test_split(\n",
    "    X, y, \n",
    "    test_size=0.2, \n",
    "    random_state=42,\n",
    "    stratify=y  # Сохраняем баланс классов\n",
    ")\n",
    "print(f\"\\n📊 Разделение данных:\")\n",
    "print(f\"Обучающая выборка: {X_train.shape[0]} примеров\")\n",
    "print(f\"Тестовая выборка: {X_test.shape[0]} примеров\")\n",
    "\n",
    "# 4. Обучение модели\n",
    "print(\"\\n🤖 Обучение модели GaussianNB...\")\n",
    "model = GaussianNB()\n",
    "model.fit(X_train, y_train)\n",
    "\n",
    "# 5. Оценка модели\n",
    "y_pred = model.predict(X_test)\n",
    "y_proba = model.predict_proba(X_test)[:, 1]  # Вероятности класса 1\n",
    "\n",
    "print(\"\\n📝 Classification Report:\")\n",
    "print(classification_report(y_test, y_pred))\n",
    "\n",
    "print(\"\\n🔢 Confusion Matrix:\")\n",
    "print(confusion_matrix(y_test, y_pred))\n",
    "\n",
    "print(f\"\\n📈 ROC-AUC: {roc_auc_score(y_test, y_proba):.4f}\")\n",
    "\n",
    "# 6. Визуализация\n",
    "plt.figure(figsize=(15, 6))\n",
    "\n",
    "# Матрица ошибок\n",
    "plt.subplot(1, 2, 1)\n",
    "sns.heatmap(confusion_matrix(y_test, y_pred), \n",
    "            annot=True, fmt='d', cmap='Blues',\n",
    "            xticklabels=['Нет болезни', 'Есть болезнь'],\n",
    "            yticklabels=['Нет болезни', 'Есть болезнь'])\n",
    "plt.title('Матрица ошибок')\n",
    "plt.xlabel('Предсказание')\n",
    "plt.ylabel('Факт')\n",
    "\n",
    "# ROC-кривая\n",
    "plt.subplot(1, 2, 2)\n",
    "fpr, tpr, _ = roc_curve(y_test, y_proba)\n",
    "plt.plot(fpr, tpr, color='darkorange', \n",
    "         label=f'GaussianNB (AUC = {roc_auc_score(y_test, y_proba):.2f})')\n",
    "plt.plot([0, 1], [0, 1], color='navy', linestyle='--')\n",
    "plt.xlim([0.0, 1.0])\n",
    "plt.ylim([0.0, 1.05])\n",
    "plt.xlabel('False Positive Rate')\n",
    "plt.ylabel('True Positive Rate')\n",
    "plt.title('ROC-кривая')\n",
    "plt.legend(loc=\"lower right\")\n",
    "\n",
    "plt.tight_layout()\n",
    "plt.show()\n",
    "\n",
    "# 7. Анализ важности признаков\n",
    "print(\"\\n🔎 Важность признаков:\")\n",
    "feature_importance = pd.DataFrame({\n",
    "    'Признак': X.columns,\n",
    "    'Важность': np.exp(model.theta_[1] - model.theta_[0])  # Разница средних значений\n",
    "})\n",
    "display(feature_importance.sort_values('Важность', ascending=False))"
   ]
  },
  {
   "cell_type": "code",
   "execution_count": 23,
   "id": "3fdb6727",
   "metadata": {},
   "outputs": [
    {
     "name": "stdout",
     "output_type": "stream",
     "text": [
      "              precision    recall  f1-score   support\n",
      "\n",
      "           0       0.58      0.84      0.68      7004\n",
      "           1       0.70      0.38      0.50      6996\n",
      "\n",
      "    accuracy                           0.61     14000\n",
      "   macro avg       0.64      0.61      0.59     14000\n",
      "weighted avg       0.64      0.61      0.59     14000\n",
      "\n"
     ]
    }
   ],
   "source": [
    "# Предсказание с пониженным порогом\n",
    "y_pred_adj = (model.predict_proba(X_test)[:,1] > 0.35).astype(int)\n",
    "print(classification_report(y_test, y_pred_adj))"
   ]
  },
  {
   "cell_type": "code",
   "execution_count": 1,
   "id": "f4d256e4",
   "metadata": {},
   "outputs": [
    {
     "name": "stdout",
     "output_type": "stream",
     "text": [
      "\n",
      "GradientBoosting Classification Report:\n",
      "              precision    recall  f1-score   support\n",
      "\n",
      "           0       0.72      0.76      0.74      7004\n",
      "           1       0.75      0.70      0.72      6996\n",
      "\n",
      "    accuracy                           0.73     14000\n",
      "   macro avg       0.73      0.73      0.73     14000\n",
      "weighted avg       0.73      0.73      0.73     14000\n",
      "\n",
      "\n",
      "RandomForest Classification Report:\n",
      "              precision    recall  f1-score   support\n",
      "\n",
      "           0       0.71      0.78      0.74      7004\n",
      "           1       0.76      0.68      0.72      6996\n",
      "\n",
      "    accuracy                           0.73     14000\n",
      "   macro avg       0.73      0.73      0.73     14000\n",
      "weighted avg       0.73      0.73      0.73     14000\n",
      "\n",
      "\n",
      "Сравнение моделей:\n"
     ]
    },
    {
     "data": {
      "application/vnd.microsoft.datawrangler.viewer.v0+json": {
       "columns": [
        {
         "name": "index",
         "rawType": "int64",
         "type": "integer"
        },
        {
         "name": "Model",
         "rawType": "object",
         "type": "string"
        },
        {
         "name": "Accuracy",
         "rawType": "float64",
         "type": "float"
        },
        {
         "name": "ROC-AUC",
         "rawType": "float64",
         "type": "float"
        },
        {
         "name": "Recall (Class 1)",
         "rawType": "float64",
         "type": "float"
        }
       ],
       "ref": "dc0f932c-45f9-44e4-a3e0-fb3ee888d782",
       "rows": [
        [
         "0",
         "GradientBoosting",
         "0.7324285714285714",
         "0.7991331589006233",
         "0.6998284734133791"
        ],
        [
         "1",
         "RandomForest",
         "0.732",
         "0.7977844237663425",
         "0.6839622641509434"
        ]
       ],
       "shape": {
        "columns": 4,
        "rows": 2
       }
      },
      "text/html": [
       "<div>\n",
       "<style scoped>\n",
       "    .dataframe tbody tr th:only-of-type {\n",
       "        vertical-align: middle;\n",
       "    }\n",
       "\n",
       "    .dataframe tbody tr th {\n",
       "        vertical-align: top;\n",
       "    }\n",
       "\n",
       "    .dataframe thead th {\n",
       "        text-align: right;\n",
       "    }\n",
       "</style>\n",
       "<table border=\"1\" class=\"dataframe\">\n",
       "  <thead>\n",
       "    <tr style=\"text-align: right;\">\n",
       "      <th></th>\n",
       "      <th>Model</th>\n",
       "      <th>Accuracy</th>\n",
       "      <th>ROC-AUC</th>\n",
       "      <th>Recall (Class 1)</th>\n",
       "    </tr>\n",
       "  </thead>\n",
       "  <tbody>\n",
       "    <tr>\n",
       "      <th>0</th>\n",
       "      <td>GradientBoosting</td>\n",
       "      <td>0.732429</td>\n",
       "      <td>0.799133</td>\n",
       "      <td>0.699828</td>\n",
       "    </tr>\n",
       "    <tr>\n",
       "      <th>1</th>\n",
       "      <td>RandomForest</td>\n",
       "      <td>0.732000</td>\n",
       "      <td>0.797784</td>\n",
       "      <td>0.683962</td>\n",
       "    </tr>\n",
       "  </tbody>\n",
       "</table>\n",
       "</div>"
      ],
      "text/plain": [
       "              Model  Accuracy   ROC-AUC  Recall (Class 1)\n",
       "0  GradientBoosting  0.732429  0.799133          0.699828\n",
       "1      RandomForest  0.732000  0.797784          0.683962"
      ]
     },
     "metadata": {},
     "output_type": "display_data"
    },
    {
     "data": {
      "image/png": "[encoded data removed]",
      "text/plain": [
       "<Figure size 1500x600 with 3 Axes>"
      ]
     },
     "metadata": {},
     "output_type": "display_data"
    }
   ],
   "source": [
    "import pandas as pd\n",
    "import numpy as np\n",
    "from sklearn.model_selection import train_test_split, GridSearchCV\n",
    "from sklearn.ensemble import RandomForestClassifier, GradientBoostingClassifier\n",
    "from sklearn.metrics import classification_report, roc_auc_score, confusion_matrix\n",
    "import matplotlib.pyplot as plt\n",
    "import seaborn as sns\n",
    "from sklearn.preprocessing import StandardScaler\n",
    "\n",
    "# 1. Загрузка и подготовка данных\n",
    "url = \"https://docs.google.com/spreadsheets/d/1DAwgFAKRFEkoRS4kkaTQ119301ebxBit/export?format=csv&gid=231888029\"\n",
    "data = pd.read_csv(url)\n",
    "\n",
    "# Удаление пропусков и дубликатов\n",
    "data = data.dropna().drop_duplicates()\n",
    "\n",
    "# 2. Разделение на признаки и целевую переменную\n",
    "X = data.drop(columns=['cardio'])\n",
    "y = data['cardio']\n",
    "\n",
    "# 3. Разделение данных\n",
    "X_train, X_test, y_train, y_test = train_test_split(\n",
    "    X, y, \n",
    "    test_size=0.2, \n",
    "    random_state=42,\n",
    "    stratify=y\n",
    ")\n",
    "\n",
    "# 4. Масштабирование\n",
    "scaler = StandardScaler()\n",
    "X_train_scaled = scaler.fit_transform(X_train)\n",
    "X_test_scaled = scaler.transform(X_test)\n",
    "\n",
    "# 5. Обучение GradientBoosting (аналог XGBoost из sklearn)\n",
    "gb_params = {\n",
    "    'n_estimators': [100, 200],\n",
    "    'learning_rate': [0.01, 0.1],\n",
    "    'max_depth': [3, 5]\n",
    "}\n",
    "\n",
    "gb = GradientBoostingClassifier(random_state=42)\n",
    "gb_grid = GridSearchCV(gb, gb_params, cv=5, scoring='roc_auc', n_jobs=-1)\n",
    "gb_grid.fit(X_train_scaled, y_train)\n",
    "\n",
    "# 6. Обучение RandomForest\n",
    "rf_params = {\n",
    "    'n_estimators': [100, 200],\n",
    "    'max_depth': [10, 20],\n",
    "    'min_samples_split': [2, 5]\n",
    "}\n",
    "\n",
    "rf = RandomForestClassifier(random_state=42)\n",
    "rf_grid = GridSearchCV(rf, rf_params, cv=5, scoring='roc_auc', n_jobs=-1)\n",
    "rf_grid.fit(X_train_scaled, y_train)\n",
    "\n",
    "# 7. Сравнение моделей\n",
    "models = {\n",
    "    'GradientBoosting': gb_grid.best_estimator_,\n",
    "    'RandomForest': rf_grid.best_estimator_\n",
    "}\n",
    "\n",
    "results = []\n",
    "for name, model in models.items():\n",
    "    y_pred = model.predict(X_test_scaled)\n",
    "    y_proba = model.predict_proba(X_test_scaled)[:,1]\n",
    "    \n",
    "    results.append({\n",
    "        'Model': name,\n",
    "        'Accuracy': np.mean(y_pred == y_test),\n",
    "        'ROC-AUC': roc_auc_score(y_test, y_proba),\n",
    "        'Recall (Class 1)': classification_report(y_test, y_pred, output_dict=True)['1']['recall']\n",
    "    })\n",
    "\n",
    "    print(f\"\\n{name} Classification Report:\")\n",
    "    print(classification_report(y_test, y_pred))\n",
    "\n",
    "# 8. Вывод результатов\n",
    "results_df = pd.DataFrame(results)\n",
    "print(\"\\nСравнение моделей:\")\n",
    "display(results_df[['Model', 'Accuracy', 'ROC-AUC', 'Recall (Class 1)']])\n",
    "\n",
    "# 9. Визуализация\n",
    "fig, (ax1, ax2) = plt.subplots(1, 2, figsize=(15, 6))\n",
    "\n",
    "# Матрица ошибок для лучшей модели\n",
    "best_model = models[results_df.loc[results_df['ROC-AUC'].idxmax(), 'Model']]\n",
    "y_pred_best = best_model.predict(X_test_scaled)\n",
    "sns.heatmap(confusion_matrix(y_test, y_pred_best), \n",
    "            annot=True, fmt='d', cmap='Blues', ax=ax1,\n",
    "            xticklabels=['Healthy', 'Sick'],\n",
    "            yticklabels=['Healthy', 'Sick'])\n",
    "ax1.set_title('Confusion Matrix')\n",
    "ax1.set_xlabel('Predicted')\n",
    "ax1.set_ylabel('Actual')\n",
    "\n",
    "# Важность признаков\n",
    "pd.Series(best_model.feature_importances_, \n",
    "          index=X.columns).sort_values().plot.barh(ax=ax2)\n",
    "ax2.set_title('Feature Importance')\n",
    "plt.tight_layout()\n",
    "plt.show()"
   ]
  },
  {
   "cell_type": "markdown",
   "id": "e620257b",
   "metadata": {},
   "source": [
    "***Ключевые преимущества этого решения:***\n",
    "1) Альтернатива XGBoost:\n",
    "\n",
    "* Используем GradientBoostingClassifier из scikit-learn\n",
    "\n",
    "* Качество сопоставимо с XGBoost, но без дополнительных зависимостей\n",
    "\n",
    "2) Оптимизация для медицинских данных:\n",
    "\n",
    "* Акцент на recall для класса 1 (больные пациенты)\n",
    "\n",
    "* Стратифицированное разделение для сохранения баланса классов\n",
    "\n",
    "3) Полный анализ:\n",
    "\n",
    "* Подбор гиперпараметров через GridSearchCV\n",
    "\n",
    "* Наглядные визуализации (матрица ошибок, важность признаков)\n",
    "\n",
    "* Подробные метрики (Accuracy, ROC-AUC, Recall)\n",
    "\n",
    "4) Готовность к промышленному использованию:\n",
    "\n",
    "* Масштабирование признаков\n",
    "\n",
    "* Обработка пропусков и дубликатов\n",
    "\n",
    "* Кросс-валидация"
   ]
  },
  {
   "cell_type": "markdown",
   "id": "0078ff4b",
   "metadata": {},
   "source": [
    "---"
   ]
  },
  {
   "cell_type": "markdown",
   "id": "3376ba6c-5464-437c-8e6d-c1598c35b593",
   "metadata": {
    "id": "3376ba6c-5464-437c-8e6d-c1598c35b593"
   },
   "source": [
    "## Задание 5: Решающее дерево (25 баллов)"
   ]
  },
  {
   "cell_type": "markdown",
   "id": "16904a35-30f8-4b7b-885f-2e2239089db3",
   "metadata": {
    "id": "16904a35-30f8-4b7b-885f-2e2239089db3"
   },
   "source": [
    "Теперь решите задачу классификации с помощью обучающего дерева."
   ]
  },
  {
   "cell_type": "markdown",
   "id": "968ac567-45d1-4296-b640-c817f35537db",
   "metadata": {
    "id": "968ac567-45d1-4296-b640-c817f35537db"
   },
   "source": [
    "**5.1** Обучите дерево, не задавая никакие гиперпараметры. Выведите получившиеся гиперпараметры. Какое получилось качество? Сравните результат с предыдущей моделью."
   ]
  },
  {
   "cell_type": "code",
   "execution_count": 6,
   "id": "8daad891-6910-4446-b08b-286118ac4754",
   "metadata": {
    "id": "8daad891-6910-4446-b08b-286118ac4754"
   },
   "outputs": [
    {
     "name": "stdout",
     "output_type": "stream",
     "text": [
      "Параметры дерева по умолчанию:\n",
      "{'ccp_alpha': 0.0, 'class_weight': None, 'criterion': 'gini', 'max_depth': None, 'max_features': None, 'max_leaf_nodes': None, 'min_impurity_decrease': 0.0, 'min_samples_leaf': 1, 'min_samples_split': 2, 'min_weight_fraction_leaf': 0.0, 'monotonic_cst': None, 'random_state': 42, 'splitter': 'best'}\n"
     ]
    }
   ],
   "source": [
    "from sklearn.tree import DecisionTreeClassifier\n",
    "from sklearn.metrics import classification_report\n",
    "\n",
    "# Создаем и обучаем дерево\n",
    "dt_model = DecisionTreeClassifier(random_state=42)\n",
    "dt_model.fit(X_train, y_train)\n",
    "\n",
    "# Выводим параметры\n",
    "print(\"Параметры дерева по умолчанию:\")\n",
    "print(dt_model.get_params())"
   ]
  },
  {
   "cell_type": "code",
   "execution_count": 7,
   "id": "3235ba64",
   "metadata": {},
   "outputs": [
    {
     "name": "stdout",
     "output_type": "stream",
     "text": [
      "\n",
      "Classification Report:\n",
      "              precision    recall  f1-score   support\n",
      "\n",
      "           0       0.63      0.63      0.63      7004\n",
      "           1       0.63      0.63      0.63      6996\n",
      "\n",
      "    accuracy                           0.63     14000\n",
      "   macro avg       0.63      0.63      0.63     14000\n",
      "weighted avg       0.63      0.63      0.63     14000\n",
      "\n",
      "ROC-AUC: 0.6339\n"
     ]
    }
   ],
   "source": [
    "# Предсказания\n",
    "y_pred = dt_model.predict(X_test)\n",
    "\n",
    "# Отчет о классификации\n",
    "print(\"\\nClassification Report:\")\n",
    "print(classification_report(y_test, y_pred))\n",
    "\n",
    "# ROC-AUC\n",
    "y_proba = dt_model.predict_proba(X_test)[:,1]\n",
    "print(f\"ROC-AUC: {roc_auc_score(y_test, y_proba):.4f}\")"
   ]
  },
  {
   "cell_type": "code",
   "execution_count": 8,
   "id": "68a4a364",
   "metadata": {},
   "outputs": [
    {
     "data": {
      "image/png": "[encoded data removed]",
      "text/plain": [
       "<Figure size 2000x1000 with 1 Axes>"
      ]
     },
     "metadata": {},
     "output_type": "display_data"
    }
   ],
   "source": [
    "from sklearn.tree import plot_tree\n",
    "\n",
    "plt.figure(figsize=(20,10))\n",
    "plot_tree(dt_model, filled=True, feature_names=X.columns, class_names=['Healthy','Sick'], max_depth=3)\n",
    "plt.show()"
   ]
  },
  {
   "cell_type": "code",
   "execution_count": 10,
   "id": "929e3a4c",
   "metadata": {},
   "outputs": [
    {
     "data": {
      "text/html": [
       "<style>#sk-container-id-2 {\n",
       "  /* Definition of color scheme common for light and dark mode */\n",
       "  --sklearn-color-text: #000;\n",
       "  --sklearn-color-text-muted: #666;\n",
       "  --sklearn-color-line: gray;\n",
       "  /* Definition of color scheme for unfitted estimators */\n",
       "  --sklearn-color-unfitted-level-0: #fff5e6;\n",
       "  --sklearn-color-unfitted-level-1: #f6e4d2;\n",
       "  --sklearn-color-unfitted-level-2: #ffe0b3;\n",
       "  --sklearn-color-unfitted-level-3: chocolate;\n",
       "  /* Definition of color scheme for fitted estimators */\n",
       "  --sklearn-color-fitted-level-0: #f0f8ff;\n",
       "  --sklearn-color-fitted-level-1: #d4ebff;\n",
       "  --sklearn-color-fitted-level-2: #b3dbfd;\n",
       "  --sklearn-color-fitted-level-3: cornflowerblue;\n",
       "\n",
       "  /* Specific color for light theme */\n",
       "  --sklearn-color-text-on-default-background: var(--sg-text-color, var(--theme-code-foreground, var(--jp-content-font-color1, black)));\n",
       "  --sklearn-color-background: var(--sg-background-color, var(--theme-background, var(--jp-layout-color0, white)));\n",
       "  --sklearn-color-border-box: var(--sg-text-color, var(--theme-code-foreground, var(--jp-content-font-color1, black)));\n",
       "  --sklearn-color-icon: #696969;\n",
       "\n",
       "  @media (prefers-color-scheme: dark) {\n",
       "    /* Redefinition of color scheme for dark theme */\n",
       "    --sklearn-color-text-on-default-background: var(--sg-text-color, var(--theme-code-foreground, var(--jp-content-font-color1, white)));\n",
       "    --sklearn-color-background: var(--sg-background-color, var(--theme-background, var(--jp-layout-color0, #111)));\n",
       "    --sklearn-color-border-box: var(--sg-text-color, var(--theme-code-foreground, var(--jp-content-font-color1, white)));\n",
       "    --sklearn-color-icon: #878787;\n",
       "  }\n",
       "}\n",
       "\n",
       "#sk-container-id-2 {\n",
       "  color: var(--sklearn-color-text);\n",
       "}\n",
       "\n",
       "#sk-container-id-2 pre {\n",
       "  padding: 0;\n",
       "}\n",
       "\n",
       "#sk-container-id-2 input.sk-hidden--visually {\n",
       "  border: 0;\n",
       "  clip: rect(1px 1px 1px 1px);\n",
       "  clip: rect(1px, 1px, 1px, 1px);\n",
       "  height: 1px;\n",
       "  margin: -1px;\n",
       "  overflow: hidden;\n",
       "  padding: 0;\n",
       "  position: absolute;\n",
       "  width: 1px;\n",
       "}\n",
       "\n",
       "#sk-container-id-2 div.sk-dashed-wrapped {\n",
       "  border: 1px dashed var(--sklearn-color-line);\n",
       "  margin: 0 0.4em 0.5em 0.4em;\n",
       "  box-sizing: border-box;\n",
       "  padding-bottom: 0.4em;\n",
       "  background-color: var(--sklearn-color-background);\n",
       "}\n",
       "\n",
       "#sk-container-id-2 div.sk-container {\n",
       "  /* jupyter's `normalize.less` sets `[hidden] { display: none; }`\n",
       "     but bootstrap.min.css set `[hidden] { display: none !important; }`\n",
       "     so we also need the `!important` here to be able to override the\n",
       "     default hidden behavior on the sphinx rendered scikit-learn.org.\n",
       "     See: https://github.com/scikit-learn/scikit-learn/issues/21755 */\n",
       "  display: inline-block !important;\n",
       "  position: relative;\n",
       "}\n",
       "\n",
       "#sk-container-id-2 div.sk-text-repr-fallback {\n",
       "  display: none;\n",
       "}\n",
       "\n",
       "div.sk-parallel-item,\n",
       "div.sk-serial,\n",
       "div.sk-item {\n",
       "  /* draw centered vertical line to link estimators */\n",
       "  background-image: linear-gradient(var(--sklearn-color-text-on-default-background), var(--sklearn-color-text-on-default-background));\n",
       "  background-size: 2px 100%;\n",
       "  background-repeat: no-repeat;\n",
       "  background-position: center center;\n",
       "}\n",
       "\n",
       "/* Parallel-specific style estimator block */\n",
       "\n",
       "#sk-container-id-2 div.sk-parallel-item::after {\n",
       "  content: \"\";\n",
       "  width: 100%;\n",
       "  border-bottom: 2px solid var(--sklearn-color-text-on-default-background);\n",
       "  flex-grow: 1;\n",
       "}\n",
       "\n",
       "#sk-container-id-2 div.sk-parallel {\n",
       "  display: flex;\n",
       "  align-items: stretch;\n",
       "  justify-content: center;\n",
       "  background-color: var(--sklearn-color-background);\n",
       "  position: relative;\n",
       "}\n",
       "\n",
       "#sk-container-id-2 div.sk-parallel-item {\n",
       "  display: flex;\n",
       "  flex-direction: column;\n",
       "}\n",
       "\n",
       "#sk-container-id-2 div.sk-parallel-item:first-child::after {\n",
       "  align-self: flex-end;\n",
       "  width: 50%;\n",
       "}\n",
       "\n",
       "#sk-container-id-2 div.sk-parallel-item:last-child::after {\n",
       "  align-self: flex-start;\n",
       "  width: 50%;\n",
       "}\n",
       "\n",
       "#sk-container-id-2 div.sk-parallel-item:only-child::after {\n",
       "  width: 0;\n",
       "}\n",
       "\n",
       "/* Serial-specific style estimator block */\n",
       "\n",
       "#sk-container-id-2 div.sk-serial {\n",
       "  display: flex;\n",
       "  flex-direction: column;\n",
       "  align-items: center;\n",
       "  background-color: var(--sklearn-color-background);\n",
       "  padding-right: 1em;\n",
       "  padding-left: 1em;\n",
       "}\n",
       "\n",
       "\n",
       "/* Toggleable style: style used for estimator/Pipeline/ColumnTransformer box that is\n",
       "clickable and can be expanded/collapsed.\n",
       "- Pipeline and ColumnTransformer use this feature and define the default style\n",
       "- Estimators will overwrite some part of the style using the `sk-estimator` class\n",
       "*/\n",
       "\n",
       "/* Pipeline and ColumnTransformer style (default) */\n",
       "\n",
       "#sk-container-id-2 div.sk-toggleable {\n",
       "  /* Default theme specific background. It is overwritten whether we have a\n",
       "  specific estimator or a Pipeline/ColumnTransformer */\n",
       "  background-color: var(--sklearn-color-background);\n",
       "}\n",
       "\n",
       "/* Toggleable label */\n",
       "#sk-container-id-2 label.sk-toggleable__label {\n",
       "  cursor: pointer;\n",
       "  display: flex;\n",
       "  width: 100%;\n",
       "  margin-bottom: 0;\n",
       "  padding: 0.5em;\n",
       "  box-sizing: border-box;\n",
       "  text-align: center;\n",
       "  align-items: start;\n",
       "  justify-content: space-between;\n",
       "  gap: 0.5em;\n",
       "}\n",
       "\n",
       "#sk-container-id-2 label.sk-toggleable__label .caption {\n",
       "  font-size: 0.6rem;\n",
       "  font-weight: lighter;\n",
       "  color: var(--sklearn-color-text-muted);\n",
       "}\n",
       "\n",
       "#sk-container-id-2 label.sk-toggleable__label-arrow:before {\n",
       "  /* Arrow on the left of the label */\n",
       "  content: \"▸\";\n",
       "  float: left;\n",
       "  margin-right: 0.25em;\n",
       "  color: var(--sklearn-color-icon);\n",
       "}\n",
       "\n",
       "#sk-container-id-2 label.sk-toggleable__label-arrow:hover:before {\n",
       "  color: var(--sklearn-color-text);\n",
       "}\n",
       "\n",
       "/* Toggleable content - dropdown */\n",
       "\n",
       "#sk-container-id-2 div.sk-toggleable__content {\n",
       "  max-height: 0;\n",
       "  max-width: 0;\n",
       "  overflow: hidden;\n",
       "  text-align: left;\n",
       "  /* unfitted */\n",
       "  background-color: var(--sklearn-color-unfitted-level-0);\n",
       "}\n",
       "\n",
       "#sk-container-id-2 div.sk-toggleable__content.fitted {\n",
       "  /* fitted */\n",
       "  background-color: var(--sklearn-color-fitted-level-0);\n",
       "}\n",
       "\n",
       "#sk-container-id-2 div.sk-toggleable__content pre {\n",
       "  margin: 0.2em;\n",
       "  border-radius: 0.25em;\n",
       "  color: var(--sklearn-color-text);\n",
       "  /* unfitted */\n",
       "  background-color: var(--sklearn-color-unfitted-level-0);\n",
       "}\n",
       "\n",
       "#sk-container-id-2 div.sk-toggleable__content.fitted pre {\n",
       "  /* unfitted */\n",
       "  background-color: var(--sklearn-color-fitted-level-0);\n",
       "}\n",
       "\n",
       "#sk-container-id-2 input.sk-toggleable__control:checked~div.sk-toggleable__content {\n",
       "  /* Expand drop-down */\n",
       "  max-height: 200px;\n",
       "  max-width: 100%;\n",
       "  overflow: auto;\n",
       "}\n",
       "\n",
       "#sk-container-id-2 input.sk-toggleable__control:checked~label.sk-toggleable__label-arrow:before {\n",
       "  content: \"▾\";\n",
       "}\n",
       "\n",
       "/* Pipeline/ColumnTransformer-specific style */\n",
       "\n",
       "#sk-container-id-2 div.sk-label input.sk-toggleable__control:checked~label.sk-toggleable__label {\n",
       "  color: var(--sklearn-color-text);\n",
       "  background-color: var(--sklearn-color-unfitted-level-2);\n",
       "}\n",
       "\n",
       "#sk-container-id-2 div.sk-label.fitted input.sk-toggleable__control:checked~label.sk-toggleable__label {\n",
       "  background-color: var(--sklearn-color-fitted-level-2);\n",
       "}\n",
       "\n",
       "/* Estimator-specific style */\n",
       "\n",
       "/* Colorize estimator box */\n",
       "#sk-container-id-2 div.sk-estimator input.sk-toggleable__control:checked~label.sk-toggleable__label {\n",
       "  /* unfitted */\n",
       "  background-color: var(--sklearn-color-unfitted-level-2);\n",
       "}\n",
       "\n",
       "#sk-container-id-2 div.sk-estimator.fitted input.sk-toggleable__control:checked~label.sk-toggleable__label {\n",
       "  /* fitted */\n",
       "  background-color: var(--sklearn-color-fitted-level-2);\n",
       "}\n",
       "\n",
       "#sk-container-id-2 div.sk-label label.sk-toggleable__label,\n",
       "#sk-container-id-2 div.sk-label label {\n",
       "  /* The background is the default theme color */\n",
       "  color: var(--sklearn-color-text-on-default-background);\n",
       "}\n",
       "\n",
       "/* On hover, darken the color of the background */\n",
       "#sk-container-id-2 div.sk-label:hover label.sk-toggleable__label {\n",
       "  color: var(--sklearn-color-text);\n",
       "  background-color: var(--sklearn-color-unfitted-level-2);\n",
       "}\n",
       "\n",
       "/* Label box, darken color on hover, fitted */\n",
       "#sk-container-id-2 div.sk-label.fitted:hover label.sk-toggleable__label.fitted {\n",
       "  color: var(--sklearn-color-text);\n",
       "  background-color: var(--sklearn-color-fitted-level-2);\n",
       "}\n",
       "\n",
       "/* Estimator label */\n",
       "\n",
       "#sk-container-id-2 div.sk-label label {\n",
       "  font-family: monospace;\n",
       "  font-weight: bold;\n",
       "  display: inline-block;\n",
       "  line-height: 1.2em;\n",
       "}\n",
       "\n",
       "#sk-container-id-2 div.sk-label-container {\n",
       "  text-align: center;\n",
       "}\n",
       "\n",
       "/* Estimator-specific */\n",
       "#sk-container-id-2 div.sk-estimator {\n",
       "  font-family: monospace;\n",
       "  border: 1px dotted var(--sklearn-color-border-box);\n",
       "  border-radius: 0.25em;\n",
       "  box-sizing: border-box;\n",
       "  margin-bottom: 0.5em;\n",
       "  /* unfitted */\n",
       "  background-color: var(--sklearn-color-unfitted-level-0);\n",
       "}\n",
       "\n",
       "#sk-container-id-2 div.sk-estimator.fitted {\n",
       "  /* fitted */\n",
       "  background-color: var(--sklearn-color-fitted-level-0);\n",
       "}\n",
       "\n",
       "/* on hover */\n",
       "#sk-container-id-2 div.sk-estimator:hover {\n",
       "  /* unfitted */\n",
       "  background-color: var(--sklearn-color-unfitted-level-2);\n",
       "}\n",
       "\n",
       "#sk-container-id-2 div.sk-estimator.fitted:hover {\n",
       "  /* fitted */\n",
       "  background-color: var(--sklearn-color-fitted-level-2);\n",
       "}\n",
       "\n",
       "/* Specification for estimator info (e.g. \"i\" and \"?\") */\n",
       "\n",
       "/* Common style for \"i\" and \"?\" */\n",
       "\n",
       ".sk-estimator-doc-link,\n",
       "a:link.sk-estimator-doc-link,\n",
       "a:visited.sk-estimator-doc-link {\n",
       "  float: right;\n",
       "  font-size: smaller;\n",
       "  line-height: 1em;\n",
       "  font-family: monospace;\n",
       "  background-color: var(--sklearn-color-background);\n",
       "  border-radius: 1em;\n",
       "  height: 1em;\n",
       "  width: 1em;\n",
       "  text-decoration: none !important;\n",
       "  margin-left: 0.5em;\n",
       "  text-align: center;\n",
       "  /* unfitted */\n",
       "  border: var(--sklearn-color-unfitted-level-1) 1pt solid;\n",
       "  color: var(--sklearn-color-unfitted-level-1);\n",
       "}\n",
       "\n",
       ".sk-estimator-doc-link.fitted,\n",
       "a:link.sk-estimator-doc-link.fitted,\n",
       "a:visited.sk-estimator-doc-link.fitted {\n",
       "  /* fitted */\n",
       "  border: var(--sklearn-color-fitted-level-1) 1pt solid;\n",
       "  color: var(--sklearn-color-fitted-level-1);\n",
       "}\n",
       "\n",
       "/* On hover */\n",
       "div.sk-estimator:hover .sk-estimator-doc-link:hover,\n",
       ".sk-estimator-doc-link:hover,\n",
       "div.sk-label-container:hover .sk-estimator-doc-link:hover,\n",
       ".sk-estimator-doc-link:hover {\n",
       "  /* unfitted */\n",
       "  background-color: var(--sklearn-color-unfitted-level-3);\n",
       "  color: var(--sklearn-color-background);\n",
       "  text-decoration: none;\n",
       "}\n",
       "\n",
       "div.sk-estimator.fitted:hover .sk-estimator-doc-link.fitted:hover,\n",
       ".sk-estimator-doc-link.fitted:hover,\n",
       "div.sk-label-container:hover .sk-estimator-doc-link.fitted:hover,\n",
       ".sk-estimator-doc-link.fitted:hover {\n",
       "  /* fitted */\n",
       "  background-color: var(--sklearn-color-fitted-level-3);\n",
       "  color: var(--sklearn-color-background);\n",
       "  text-decoration: none;\n",
       "}\n",
       "\n",
       "/* Span, style for the box shown on hovering the info icon */\n",
       ".sk-estimator-doc-link span {\n",
       "  display: none;\n",
       "  z-index: 9999;\n",
       "  position: relative;\n",
       "  font-weight: normal;\n",
       "  right: .2ex;\n",
       "  padding: .5ex;\n",
       "  margin: .5ex;\n",
       "  width: min-content;\n",
       "  min-width: 20ex;\n",
       "  max-width: 50ex;\n",
       "  color: var(--sklearn-color-text);\n",
       "  box-shadow: 2pt 2pt 4pt #999;\n",
       "  /* unfitted */\n",
       "  background: var(--sklearn-color-unfitted-level-0);\n",
       "  border: .5pt solid var(--sklearn-color-unfitted-level-3);\n",
       "}\n",
       "\n",
       ".sk-estimator-doc-link.fitted span {\n",
       "  /* fitted */\n",
       "  background: var(--sklearn-color-fitted-level-0);\n",
       "  border: var(--sklearn-color-fitted-level-3);\n",
       "}\n",
       "\n",
       ".sk-estimator-doc-link:hover span {\n",
       "  display: block;\n",
       "}\n",
       "\n",
       "/* \"?\"-specific style due to the `<a>` HTML tag */\n",
       "\n",
       "#sk-container-id-2 a.estimator_doc_link {\n",
       "  float: right;\n",
       "  font-size: 1rem;\n",
       "  line-height: 1em;\n",
       "  font-family: monospace;\n",
       "  background-color: var(--sklearn-color-background);\n",
       "  border-radius: 1rem;\n",
       "  height: 1rem;\n",
       "  width: 1rem;\n",
       "  text-decoration: none;\n",
       "  /* unfitted */\n",
       "  color: var(--sklearn-color-unfitted-level-1);\n",
       "  border: var(--sklearn-color-unfitted-level-1) 1pt solid;\n",
       "}\n",
       "\n",
       "#sk-container-id-2 a.estimator_doc_link.fitted {\n",
       "  /* fitted */\n",
       "  border: var(--sklearn-color-fitted-level-1) 1pt solid;\n",
       "  color: var(--sklearn-color-fitted-level-1);\n",
       "}\n",
       "\n",
       "/* On hover */\n",
       "#sk-container-id-2 a.estimator_doc_link:hover {\n",
       "  /* unfitted */\n",
       "  background-color: var(--sklearn-color-unfitted-level-3);\n",
       "  color: var(--sklearn-color-background);\n",
       "  text-decoration: none;\n",
       "}\n",
       "\n",
       "#sk-container-id-2 a.estimator_doc_link.fitted:hover {\n",
       "  /* fitted */\n",
       "  background-color: var(--sklearn-color-fitted-level-3);\n",
       "}\n",
       "</style><div id=\"sk-container-id-2\" class=\"sk-top-container\"><div class=\"sk-text-repr-fallback\"><pre>GridSearchCV(cv=5, estimator=DecisionTreeClassifier(),\n",
       "             param_grid={&#x27;max_depth&#x27;: [3, 5, 7],\n",
       "                         &#x27;min_samples_leaf&#x27;: [1, 5, 10]})</pre><b>In a Jupyter environment, please rerun this cell to show the HTML representation or trust the notebook. <br />On GitHub, the HTML representation is unable to render, please try loading this page with nbviewer.org.</b></div><div class=\"sk-container\" hidden><div class=\"sk-item sk-dashed-wrapped\"><div class=\"sk-label-container\"><div class=\"sk-label fitted sk-toggleable\"><input class=\"sk-toggleable__control sk-hidden--visually\" id=\"sk-estimator-id-4\" type=\"checkbox\" ><label for=\"sk-estimator-id-4\" class=\"sk-toggleable__label fitted sk-toggleable__label-arrow\"><div><div>GridSearchCV</div></div><div><a class=\"sk-estimator-doc-link fitted\" rel=\"noreferrer\" target=\"_blank\" href=\"https://scikit-learn.org/1.6/modules/generated/sklearn.model_selection.GridSearchCV.html\">?<span>Documentation for GridSearchCV</span></a><span class=\"sk-estimator-doc-link fitted\">i<span>Fitted</span></span></div></label><div class=\"sk-toggleable__content fitted\"><pre>GridSearchCV(cv=5, estimator=DecisionTreeClassifier(),\n",
       "             param_grid={&#x27;max_depth&#x27;: [3, 5, 7],\n",
       "                         &#x27;min_samples_leaf&#x27;: [1, 5, 10]})</pre></div> </div></div><div class=\"sk-parallel\"><div class=\"sk-parallel-item\"><div class=\"sk-item\"><div class=\"sk-label-container\"><div class=\"sk-label fitted sk-toggleable\"><input class=\"sk-toggleable__control sk-hidden--visually\" id=\"sk-estimator-id-5\" type=\"checkbox\" ><label for=\"sk-estimator-id-5\" class=\"sk-toggleable__label fitted sk-toggleable__label-arrow\"><div><div>best_estimator_: DecisionTreeClassifier</div></div></label><div class=\"sk-toggleable__content fitted\"><pre>DecisionTreeClassifier(max_depth=5, min_samples_leaf=5)</pre></div> </div></div><div class=\"sk-serial\"><div class=\"sk-item\"><div class=\"sk-estimator fitted sk-toggleable\"><input class=\"sk-toggleable__control sk-hidden--visually\" id=\"sk-estimator-id-6\" type=\"checkbox\" ><label for=\"sk-estimator-id-6\" class=\"sk-toggleable__label fitted sk-toggleable__label-arrow\"><div><div>DecisionTreeClassifier</div></div><div><a class=\"sk-estimator-doc-link fitted\" rel=\"noreferrer\" target=\"_blank\" href=\"https://scikit-learn.org/1.6/modules/generated/sklearn.tree.DecisionTreeClassifier.html\">?<span>Documentation for DecisionTreeClassifier</span></a></div></label><div class=\"sk-toggleable__content fitted\"><pre>DecisionTreeClassifier(max_depth=5, min_samples_leaf=5)</pre></div> </div></div></div></div></div></div></div></div></div>"
      ],
      "text/plain": [
       "GridSearchCV(cv=5, estimator=DecisionTreeClassifier(),\n",
       "             param_grid={'max_depth': [3, 5, 7],\n",
       "                         'min_samples_leaf': [1, 5, 10]})"
      ]
     },
     "execution_count": 10,
     "metadata": {},
     "output_type": "execute_result"
    }
   ],
   "source": [
    "# Вариант 1: Ограничение глубины\n",
    "dt_tuned = DecisionTreeClassifier(max_depth=5, random_state=42)\n",
    "\n",
    "# Вариант 2: Настройка через GridSearchCV\n",
    "params = {'max_depth': [3,5,7], 'min_samples_leaf': [1,5,10]}\n",
    "grid = GridSearchCV(DecisionTreeClassifier(), params, cv=5)\n",
    "grid.fit(X_train, y_train)"
   ]
  },
  {
   "cell_type": "code",
   "execution_count": 12,
   "id": "67c61166",
   "metadata": {},
   "outputs": [
    {
     "ename": "ModuleNotFoundError",
     "evalue": "No module named 'graphviz'",
     "output_type": "error",
     "traceback": [
      "\u001b[1;31m---------------------------------------------------------------------------\u001b[0m",
      "\u001b[1;31mModuleNotFoundError\u001b[0m                       Traceback (most recent call last)",
      "Cell \u001b[1;32mIn[12], line 8\u001b[0m\n\u001b[0;32m      6\u001b[0m \u001b[38;5;28;01mfrom\u001b[39;00m \u001b[38;5;21;01msklearn\u001b[39;00m \u001b[38;5;28;01mimport\u001b[39;00m tree\n\u001b[0;32m      7\u001b[0m \u001b[38;5;28;01mimport\u001b[39;00m \u001b[38;5;21;01mmatplotlib\u001b[39;00m\u001b[38;5;21;01m.\u001b[39;00m\u001b[38;5;21;01mpyplot\u001b[39;00m \u001b[38;5;28;01mas\u001b[39;00m \u001b[38;5;21;01mplt\u001b[39;00m\n\u001b[1;32m----> 8\u001b[0m \u001b[38;5;28;01mimport\u001b[39;00m \u001b[38;5;21;01mgraphviz\u001b[39;00m\n\u001b[0;32m     10\u001b[0m \u001b[38;5;66;03m# Загрузка и подготовка данных\u001b[39;00m\n\u001b[0;32m     11\u001b[0m url \u001b[38;5;241m=\u001b[39m \u001b[38;5;124m\"\u001b[39m\u001b[38;5;124mhttps://docs.google.com/spreadsheets/d/1DAwgFAKRFEkoRS4kkaTQ119301ebxBit/export?format=csv&gid=231888029\u001b[39m\u001b[38;5;124m\"\u001b[39m\n",
      "\u001b[1;31mModuleNotFoundError\u001b[0m: No module named 'graphviz'"
     ]
    }
   ],
   "source": [
    "import pandas as pd\n",
    "import numpy as np\n",
    "from sklearn.tree import DecisionTreeClassifier\n",
    "from sklearn.model_selection import train_test_split, GridSearchCV\n",
    "from sklearn.metrics import classification_report, roc_auc_score, make_scorer, recall_score\n",
    "from sklearn import tree\n",
    "import matplotlib.pyplot as plt\n",
    "import graphviz\n",
    "\n",
    "# Загрузка и подготовка данных\n",
    "url = \"https://docs.google.com/spreadsheets/d/1DAwgFAKRFEkoRS4kkaTQ119301ebxBit/export?format=csv&gid=231888029\"\n",
    "data = pd.read_csv(url).dropna()\n",
    "X = data.drop(columns=['cardio'])\n",
    "y = data['cardio']\n",
    "\n",
    "# Разделение данных с учетом дисбаланса классов\n",
    "X_train, X_test, y_train, y_test = train_test_split(\n",
    "    X, y, test_size=0.2, random_state=42, stratify=y\n",
    ")\n",
    "\n",
    "# 1. Базовое дерево (без настройки)\n",
    "dt_base = DecisionTreeClassifier(random_state=42)\n",
    "dt_base.fit(X_train, y_train)\n",
    "y_pred_base = dt_base.predict(X_test)\n",
    "\n",
    "# 2. Оптимизированное дерево с упором на recall\n",
    "param_grid = {\n",
    "    'max_depth': [3, 5, 7, 10],\n",
    "    'min_samples_leaf': [1, 5, 10, 20],\n",
    "    'criterion': ['gini', 'entropy'],\n",
    "    'class_weight': [None, {0:1, 1:3}]\n",
    "}\n",
    "\n",
    "recall_scorer = make_scorer(recall_score, pos_label=1)\n",
    "dt_optimized = GridSearchCV(\n",
    "    DecisionTreeClassifier(random_state=42),\n",
    "    param_grid,\n",
    "    cv=5,\n",
    "    scoring=recall_scorer,\n",
    "    n_jobs=-1\n",
    ")\n",
    "dt_optimized.fit(X_train, y_train)\n",
    "\n",
    "# 3. Лучшая модель\n",
    "best_dt = dt_optimized.best_estimator_\n",
    "y_pred_opt = best_dt.predict(X_test)\n",
    "y_proba_opt = best_dt.predict_proba(X_test)[:,1]\n",
    "\n",
    "# Визуализация лучшего дерева\n",
    "plt.figure(figsize=(25,15))\n",
    "tree.plot_tree(\n",
    "    best_dt,\n",
    "    feature_names=X.columns,\n",
    "    class_names=['Healthy','Sick'],\n",
    "    filled=True,\n",
    "    rounded=True,\n",
    "    max_depth=3,\n",
    "    fontsize=10\n",
    ")\n",
    "plt.savefig('decision_tree.png', dpi=300)\n",
    "plt.close()\n",
    "\n",
    "# Сравнение моделей\n",
    "print(\"\\n=== Базовое дерево (без настройки) ===\")\n",
    "print(classification_report(y_test, y_pred_base))\n",
    "print(f\"ROC-AUC: {roc_auc_score(y_test, dt_base.predict_proba(X_test)[:,1]):.4f}\")\n",
    "print(f\"Глубина дерева: {dt_base.get_depth()}\")\n",
    "\n",
    "print(\"\\n=== Оптимизированное дерево ===\")\n",
    "print(f\"Лучшие параметры: {dt_optimized.best_params_}\")\n",
    "print(classification_report(y_test, y_pred_opt))\n",
    "print(f\"ROC-AUC: {roc_auc_score(y_test, y_proba_opt):.4f}\")\n",
    "print(f\"Глубина дерева: {best_dt.get_depth()}\")\n",
    "\n",
    "# Важность признаков\n",
    "importances = pd.DataFrame({\n",
    "    'Feature': X.columns,\n",
    "    'Importance': best_dt.feature_importances_\n",
    "}).sort_values('Importance', ascending=False)\n",
    "\n",
    "plt.figure(figsize=(10,6))\n",
    "plt.barh(importances['Feature'], importances['Importance'])\n",
    "plt.title('Важность признаков в оптимизированном дереве')\n",
    "plt.xlabel('Важность')\n",
    "plt.tight_layout()\n",
    "plt.show()"
   ]
  },
  {
   "cell_type": "code",
   "execution_count": null,
   "id": "c3d5e427-8afa-4d40-8bf0-fb3f2736e97b",
   "metadata": {
    "id": "c3d5e427-8afa-4d40-8bf0-fb3f2736e97b"
   },
   "outputs": [],
   "source": [
    "# ваш комментарий"
   ]
  },
  {
   "cell_type": "markdown",
   "id": "4ab6529c-1e59-408a-a706-791f3cc57127",
   "metadata": {
    "id": "4ab6529c-1e59-408a-a706-791f3cc57127"
   },
   "source": [
    "**5.2** Подберите оптимальные гиперпараметры с помощью перебора по сетке. Обучите дерево с оптимальными гиперпараметрами. Изменилось ли качество?"
   ]
  },
  {
   "cell_type": "code",
   "execution_count": null,
   "id": "ac07eb93-38fb-4f25-9d70-a1ff5ff5d7d1",
   "metadata": {
    "id": "ac07eb93-38fb-4f25-9d70-a1ff5ff5d7d1"
   },
   "outputs": [],
   "source": [
    "# ваш код"
   ]
  },
  {
   "cell_type": "code",
   "execution_count": null,
   "id": "8640b960-f932-4578-96c8-aa5db744af36",
   "metadata": {
    "id": "8640b960-f932-4578-96c8-aa5db744af36"
   },
   "outputs": [],
   "source": [
    "# ваш комментарий"
   ]
  },
  {
   "cell_type": "markdown",
   "id": "6a15944f-1ffe-4009-8d70-c65b1a0d50d8",
   "metadata": {
    "id": "6a15944f-1ffe-4009-8d70-c65b1a0d50d8"
   },
   "source": [
    "**5.3** Выведите важность признаков. Какие три признака самые важные? Прокомментируйте результат."
   ]
  },
  {
   "cell_type": "code",
   "execution_count": null,
   "id": "3d169cf3-b8ec-44ce-983c-945615233a32",
   "metadata": {
    "id": "3d169cf3-b8ec-44ce-983c-945615233a32"
   },
   "outputs": [],
   "source": [
    "# ваш код"
   ]
  },
  {
   "cell_type": "code",
   "execution_count": null,
   "id": "c52a4525-5a39-4ece-b367-7adec5c3389d",
   "metadata": {
    "id": "c52a4525-5a39-4ece-b367-7adec5c3389d"
   },
   "outputs": [],
   "source": [
    "# ваш комментарий"
   ]
  },
  {
   "cell_type": "markdown",
   "id": "bc2807b7-8c0d-4bc2-a391-d94225a4ac12",
   "metadata": {
    "id": "bc2807b7-8c0d-4bc2-a391-d94225a4ac12"
   },
   "source": [
    "## Задание 6: Случайный лес и градиентный бустинг (20 баллов)"
   ]
  },
  {
   "cell_type": "markdown",
   "id": "1dc34f65-afce-4cf3-bc70-ac3be4e75bc9",
   "metadata": {
    "id": "1dc34f65-afce-4cf3-bc70-ac3be4e75bc9"
   },
   "source": [
    "Осталось применить ансамблевые методы!"
   ]
  },
  {
   "cell_type": "markdown",
   "id": "8c491687-e1b4-4834-9908-f4e4547c5d75",
   "metadata": {
    "id": "8c491687-e1b4-4834-9908-f4e4547c5d75"
   },
   "source": [
    "**6.1** Используйте случайный лес: без настройки и с подробом гиперпараметров по сетке. Какое качество получается в ситуации оптимальных гиперпараметров? Какие признаки самые важные? Сравнение результат с простым решающим деревом."
   ]
  },
  {
   "cell_type": "code",
   "execution_count": null,
   "id": "ed9509aa",
   "metadata": {
    "id": "ed9509aa"
   },
   "outputs": [],
   "source": [
    "# ваш код"
   ]
  },
  {
   "cell_type": "code",
   "execution_count": null,
   "id": "4c5b1a21-ebdd-46eb-abb5-012dac327b21",
   "metadata": {
    "id": "4c5b1a21-ebdd-46eb-abb5-012dac327b21"
   },
   "outputs": [],
   "source": [
    "# ваш комментарий"
   ]
  },
  {
   "cell_type": "markdown",
   "id": "2b076e70-290c-4d8e-ae70-e7e0139713d7",
   "metadata": {
    "id": "2b076e70-290c-4d8e-ae70-e7e0139713d7"
   },
   "source": [
    "**6.2** Аналогичные операции реализуйте для градиентного бустинга. Попробуйте хотя бы две разных реализации градиентного бустинга. Сравните итоговое качество со случайным деревом."
   ]
  },
  {
   "cell_type": "code",
   "execution_count": null,
   "id": "c1715560-58ad-4419-80e5-5bbc02695a10",
   "metadata": {
    "id": "c1715560-58ad-4419-80e5-5bbc02695a10"
   },
   "outputs": [],
   "source": [
    "# ваш код"
   ]
  },
  {
   "cell_type": "code",
   "execution_count": null,
   "id": "82e5b457-47be-43ad-8da5-7456caa526e9",
   "metadata": {
    "id": "82e5b457-47be-43ad-8da5-7456caa526e9"
   },
   "outputs": [],
   "source": [
    "# ваш комментарий"
   ]
  }
 ],
 "metadata": {
  "colab": {
   "provenance": []
  },
  "kernelspec": {
   "display_name": "Python 3",
   "language": "python",
   "name": "python3"
  },
  "language_info": {
   "codemirror_mode": {
    "name": "ipython",
    "version": 3
   },
   "file_extension": ".py",
   "mimetype": "text/x-python",
   "name": "python",
   "nbconvert_exporter": "python",
   "pygments_lexer": "ipython3",
   "version": "3.13.0"
  }
 },
 "nbformat": 4,
 "nbformat_minor": 5
}
