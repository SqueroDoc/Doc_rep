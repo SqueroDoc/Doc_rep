{
 "cells": [
  {
   "cell_type": "markdown",
   "id": "06e9dcb9",
   "metadata": {},
   "source": [
    "# 1. Импорт библиотек"
   ]
  },
  {
   "cell_type": "code",
   "execution_count": 2,
   "id": "a04968fb",
   "metadata": {},
   "outputs": [],
   "source": [
    "# Основные библиотеки для работы с данными\n",
    "import pandas as pd\n",
    "import numpy as np\n",
    "\n",
    "# Визуализация\n",
    "import matplotlib.pyplot as plt\n",
    "import seaborn as sns\n",
    "\n",
    "# Машинное обучение\n",
    "from sklearn.model_selection import train_test_split\n",
    "from sklearn.preprocessing import StandardScaler\n",
    "from sklearn.linear_model import LogisticRegression\n",
    "from sklearn.ensemble import RandomForestClassifier\n",
    "from sklearn.neural_network import MLPClassifier\n",
    "from sklearn.metrics import (accuracy_score, precision_score, \n",
    "                            recall_score, f1_score, roc_auc_score,\n",
    "                            confusion_matrix, classification_report)"
   ]
  },
  {
   "cell_type": "markdown",
   "id": "01d92553",
   "metadata": {},
   "source": [
    "# 2. Загрузка данных"
   ]
  },
  {
   "cell_type": "code",
   "execution_count": 3,
   "id": "58092d51",
   "metadata": {},
   "outputs": [
    {
     "name": "stdout",
     "output_type": "stream",
     "text": [
      "Данные успешно загружены!\n",
      "Размер датасета: (400000, 2)\n",
      "\n",
      "Первые 5 строк:\n"
     ]
    },
    {
     "data": {
      "application/vnd.microsoft.datawrangler.viewer.v0+json": {
       "columns": [
        {
         "name": "index",
         "rawType": "int64",
         "type": "integer"
        },
        {
         "name": "ID",
         "rawType": "int64",
         "type": "integer"
        },
        {
         "name": "class",
         "rawType": "int64",
         "type": "integer"
        }
       ],
       "ref": "efe12f51-0d20-4060-9d59-118c6d0b4621",
       "rows": [
        [
         "0",
         "600000",
         "0"
        ],
        [
         "1",
         "600001",
         "0"
        ],
        [
         "2",
         "600002",
         "0"
        ],
        [
         "3",
         "600003",
         "0"
        ],
        [
         "4",
         "600004",
         "0"
        ]
       ],
       "shape": {
        "columns": 2,
        "rows": 5
       }
      },
      "text/html": [
       "<div>\n",
       "<style scoped>\n",
       "    .dataframe tbody tr th:only-of-type {\n",
       "        vertical-align: middle;\n",
       "    }\n",
       "\n",
       "    .dataframe tbody tr th {\n",
       "        vertical-align: top;\n",
       "    }\n",
       "\n",
       "    .dataframe thead th {\n",
       "        text-align: right;\n",
       "    }\n",
       "</style>\n",
       "<table border=\"1\" class=\"dataframe\">\n",
       "  <thead>\n",
       "    <tr style=\"text-align: right;\">\n",
       "      <th></th>\n",
       "      <th>ID</th>\n",
       "      <th>class</th>\n",
       "    </tr>\n",
       "  </thead>\n",
       "  <tbody>\n",
       "    <tr>\n",
       "      <th>0</th>\n",
       "      <td>600000</td>\n",
       "      <td>0</td>\n",
       "    </tr>\n",
       "    <tr>\n",
       "      <th>1</th>\n",
       "      <td>600001</td>\n",
       "      <td>0</td>\n",
       "    </tr>\n",
       "    <tr>\n",
       "      <th>2</th>\n",
       "      <td>600002</td>\n",
       "      <td>0</td>\n",
       "    </tr>\n",
       "    <tr>\n",
       "      <th>3</th>\n",
       "      <td>600003</td>\n",
       "      <td>0</td>\n",
       "    </tr>\n",
       "    <tr>\n",
       "      <th>4</th>\n",
       "      <td>600004</td>\n",
       "      <td>0</td>\n",
       "    </tr>\n",
       "  </tbody>\n",
       "</table>\n",
       "</div>"
      ],
      "text/plain": [
       "       ID  class\n",
       "0  600000      0\n",
       "1  600001      0\n",
       "2  600002      0\n",
       "3  600003      0\n",
       "4  600004      0"
      ]
     },
     "metadata": {},
     "output_type": "display_data"
    }
   ],
   "source": [
    "# Укажите правильный путь к вашему файлу\n",
    "file_path = r'C:\\Users\\1\\IDE\\Skillfactory\\Проект по глубокому обучению\\sample_submission.csv'\n",
    "\n",
    "# Загружаем данные\n",
    "try:\n",
    "    data = pd.read_csv(file_path)\n",
    "    print(\"Данные успешно загружены!\")\n",
    "    print(f\"Размер датасета: {data.shape}\")\n",
    "    print(\"\\nПервые 5 строк:\")\n",
    "    display(data.head())\n",
    "except Exception as e:\n",
    "    print(f\"Ошибка при загрузке данных: {e}\")"
   ]
  },
  {
   "cell_type": "markdown",
   "id": "a55f8ebb",
   "metadata": {},
   "source": [
    "# 3. Разведочный анализ (EDA)"
   ]
  },
  {
   "cell_type": "markdown",
   "id": "6977ec02",
   "metadata": {},
   "source": [
    "### 3.1. Основная информация"
   ]
  },
  {
   "cell_type": "code",
   "execution_count": 4,
   "id": "81de0e2f",
   "metadata": {},
   "outputs": [
    {
     "name": "stdout",
     "output_type": "stream",
     "text": [
      "\n",
      "Информация о данных:\n",
      "<class 'pandas.core.frame.DataFrame'>\n",
      "RangeIndex: 400000 entries, 0 to 399999\n",
      "Data columns (total 2 columns):\n",
      " #   Column  Non-Null Count   Dtype\n",
      "---  ------  --------------   -----\n",
      " 0   ID      400000 non-null  int64\n",
      " 1   class   400000 non-null  int64\n",
      "dtypes: int64(2)\n",
      "memory usage: 6.1 MB\n",
      "\n",
      "Описательная статистика:\n"
     ]
    },
    {
     "data": {
      "application/vnd.microsoft.datawrangler.viewer.v0+json": {
       "columns": [
        {
         "name": "index",
         "rawType": "object",
         "type": "string"
        },
        {
         "name": "count",
         "rawType": "float64",
         "type": "float"
        },
        {
         "name": "mean",
         "rawType": "float64",
         "type": "float"
        },
        {
         "name": "std",
         "rawType": "float64",
         "type": "float"
        },
        {
         "name": "min",
         "rawType": "float64",
         "type": "float"
        },
        {
         "name": "25%",
         "rawType": "float64",
         "type": "float"
        },
        {
         "name": "50%",
         "rawType": "float64",
         "type": "float"
        },
        {
         "name": "75%",
         "rawType": "float64",
         "type": "float"
        },
        {
         "name": "max",
         "rawType": "float64",
         "type": "float"
        }
       ],
       "ref": "ac5da801-4880-4f3e-bb53-67675bc55b4f",
       "rows": [
        [
         "ID",
         "400000.0",
         "799999.5",
         "115470.19817540224",
         "600000.0",
         "699999.75",
         "799999.5",
         "899999.25",
         "999999.0"
        ],
        [
         "class",
         "400000.0",
         "0.0",
         "0.0",
         "0.0",
         "0.0",
         "0.0",
         "0.0",
         "0.0"
        ]
       ],
       "shape": {
        "columns": 8,
        "rows": 2
       }
      },
      "text/html": [
       "<div>\n",
       "<style scoped>\n",
       "    .dataframe tbody tr th:only-of-type {\n",
       "        vertical-align: middle;\n",
       "    }\n",
       "\n",
       "    .dataframe tbody tr th {\n",
       "        vertical-align: top;\n",
       "    }\n",
       "\n",
       "    .dataframe thead th {\n",
       "        text-align: right;\n",
       "    }\n",
       "</style>\n",
       "<table border=\"1\" class=\"dataframe\">\n",
       "  <thead>\n",
       "    <tr style=\"text-align: right;\">\n",
       "      <th></th>\n",
       "      <th>count</th>\n",
       "      <th>mean</th>\n",
       "      <th>std</th>\n",
       "      <th>min</th>\n",
       "      <th>25%</th>\n",
       "      <th>50%</th>\n",
       "      <th>75%</th>\n",
       "      <th>max</th>\n",
       "    </tr>\n",
       "  </thead>\n",
       "  <tbody>\n",
       "    <tr>\n",
       "      <th>ID</th>\n",
       "      <td>400000.0</td>\n",
       "      <td>799999.5</td>\n",
       "      <td>115470.198175</td>\n",
       "      <td>600000.0</td>\n",
       "      <td>699999.75</td>\n",
       "      <td>799999.5</td>\n",
       "      <td>899999.25</td>\n",
       "      <td>999999.0</td>\n",
       "    </tr>\n",
       "    <tr>\n",
       "      <th>class</th>\n",
       "      <td>400000.0</td>\n",
       "      <td>0.0</td>\n",
       "      <td>0.000000</td>\n",
       "      <td>0.0</td>\n",
       "      <td>0.00</td>\n",
       "      <td>0.0</td>\n",
       "      <td>0.00</td>\n",
       "      <td>0.0</td>\n",
       "    </tr>\n",
       "  </tbody>\n",
       "</table>\n",
       "</div>"
      ],
      "text/plain": [
       "          count      mean            std       min        25%       50%  \\\n",
       "ID     400000.0  799999.5  115470.198175  600000.0  699999.75  799999.5   \n",
       "class  400000.0       0.0       0.000000       0.0       0.00       0.0   \n",
       "\n",
       "             75%       max  \n",
       "ID     899999.25  999999.0  \n",
       "class       0.00       0.0  "
      ]
     },
     "metadata": {},
     "output_type": "display_data"
    }
   ],
   "source": [
    "print(\"\\nИнформация о данных:\")\n",
    "data.info()\n",
    "\n",
    "print(\"\\nОписательная статистика:\")\n",
    "display(data.describe().T)"
   ]
  },
  {
   "cell_type": "markdown",
   "id": "d8d14985",
   "metadata": {},
   "source": [
    "### 3.2. Проверка на пропуски"
   ]
  },
  {
   "cell_type": "code",
   "execution_count": 5,
   "id": "6c037af8",
   "metadata": {},
   "outputs": [
    {
     "name": "stdout",
     "output_type": "stream",
     "text": [
      "\n",
      "Пропущенные значения:\n",
      "ID       0\n",
      "class    0\n",
      "dtype: int64\n"
     ]
    }
   ],
   "source": [
    "print(\"\\nПропущенные значения:\")\n",
    "print(data.isnull().sum())"
   ]
  },
  {
   "cell_type": "markdown",
   "id": "8cfaf6f4",
   "metadata": {},
   "source": [
    "### 3.3. Анализ целевой переменной"
   ]
  },
  {
   "cell_type": "code",
   "execution_count": 6,
   "id": "f83c077d",
   "metadata": {},
   "outputs": [
    {
     "data": {
      "image/png": "[encoded data removed]",
      "text/plain": [
       "<Figure size 600x400 with 1 Axes>"
      ]
     },
     "metadata": {},
     "output_type": "display_data"
    },
    {
     "name": "stdout",
     "output_type": "stream",
     "text": [
      "\n",
      "Баланс классов:\n",
      "class\n",
      "0    1.0\n",
      "Name: proportion, dtype: float64\n"
     ]
    }
   ],
   "source": [
    "if 'class' in data.columns:\n",
    "    plt.figure(figsize=(6, 4))\n",
    "    sns.countplot(x='class', data=data)\n",
    "    plt.title(\"Распределение классов\")\n",
    "    plt.show()\n",
    "    \n",
    "    print(\"\\nБаланс классов:\")\n",
    "    print(data['class'].value_counts(normalize=True))\n",
    "else:\n",
    "    print(\"\\nВ данных нет столбца 'class' - возможно, это тестовый набор\")"
   ]
  },
  {
   "cell_type": "markdown",
   "id": "da28524a",
   "metadata": {},
   "source": [
    "### 3.4. Визуализация числовых признаков"
   ]
  },
  {
   "cell_type": "code",
   "execution_count": 7,
   "id": "8569ee9b",
   "metadata": {},
   "outputs": [
    {
     "name": "stdout",
     "output_type": "stream",
     "text": [
      "\n",
      "Числовые признаки для анализа: ['class']\n"
     ]
    },
    {
     "data": {
      "image/png": "[encoded data removed]",
      "text/plain": [
       "<Figure size 1200x800 with 1 Axes>"
      ]
     },
     "metadata": {},
     "output_type": "display_data"
    }
   ],
   "source": [
    "# Выбираем только числовые столбцы (исключая ID)\n",
    "numeric_cols = data.select_dtypes(include=['int64', 'float64']).columns\n",
    "if 'ID' in numeric_cols:\n",
    "    numeric_cols = numeric_cols.drop('ID')\n",
    "\n",
    "if len(numeric_cols) > 0:\n",
    "    print(\"\\nЧисловые признаки для анализа:\", list(numeric_cols))\n",
    "    data[numeric_cols].hist(bins=20, figsize=(12, 8))\n",
    "    plt.tight_layout()\n",
    "    plt.show()\n",
    "else:\n",
    "    print(\"\\nНет числовых признаков для визуализации\")"
   ]
  },
  {
   "cell_type": "markdown",
   "id": "08470b8a",
   "metadata": {},
   "source": [
    "# 4. Подготовка данных"
   ]
  },
  {
   "cell_type": "code",
   "execution_count": 8,
   "id": "0e9cdb24",
   "metadata": {},
   "outputs": [
    {
     "name": "stdout",
     "output_type": "stream",
     "text": [
      "\n",
      "Проверка данных перед обучением:\n",
      "Доступные столбцы: ['ID', 'class']\n",
      "\n",
      "ОШИБКА: Нет числовых признаков для обучения!\n",
      "Типы данных в признаках:\n",
      "Series([], dtype: object)\n"
     ]
    }
   ],
   "source": [
    "# 1. Проверяем данные перед подготовкой\n",
    "print(\"\\nПроверка данных перед обучением:\")\n",
    "print(\"Доступные столбцы:\", data.columns.tolist())\n",
    "\n",
    "if 'class' not in data.columns:\n",
    "    print(\"\\nОШИБКА: Отсутствует целевая переменная 'class'!\")\n",
    "else:\n",
    "    # 2. Выделяем признаки и целевую переменную\n",
    "    X = data.drop('class', axis=1)\n",
    "    y = data['class']\n",
    "    \n",
    "    # Удаляем ID если он есть\n",
    "    if 'ID' in X.columns:\n",
    "        X = X.drop('ID', axis=1)\n",
    "    \n",
    "    # 3. Проверяем типы данных\n",
    "    numeric_features = X.select_dtypes(include=['int64', 'float64']).columns.tolist()\n",
    "    \n",
    "    if len(numeric_features) == 0:\n",
    "        print(\"\\nОШИБКА: Нет числовых признаков для обучения!\")\n",
    "        print(\"Типы данных в признаках:\")\n",
    "        print(X.dtypes)\n",
    "    else:\n",
    "        print(\"\\nЧисловые признаки для обучения:\", numeric_features)\n",
    "        \n",
    "        # 4. Разделяем данные\n",
    "        X_train, X_test, y_train, y_test = train_test_split(\n",
    "            X[numeric_features], y, test_size=0.2, random_state=42, stratify=y\n",
    "        )\n",
    "        \n",
    "        # 5. Масштабируем только числовые признаки\n",
    "        scaler = StandardScaler()\n",
    "        X_train_scaled = scaler.fit_transform(X_train)\n",
    "        X_test_scaled = scaler.transform(X_test)\n",
    "        \n",
    "        print(\"\\nДанные успешно подготовлены для обучения!\")\n",
    "        print(f\"Форма X_train_scaled: {X_train_scaled.shape}\")"
   ]
  },
  {
   "cell_type": "markdown",
   "id": "aff06326",
   "metadata": {},
   "source": [
    "# 5. Обучение моделей"
   ]
  },
  {
   "cell_type": "markdown",
   "id": "886a259f",
   "metadata": {},
   "source": [
    "### 5.1. Логистическая регрессия"
   ]
  },
  {
   "cell_type": "code",
   "execution_count": 9,
   "id": "c7339968",
   "metadata": {},
   "outputs": [],
   "source": [
    "# Преобразуйте целевую переменную в числовой формат если нужно\n",
    "y = data['class'].astype(int)"
   ]
  },
  {
   "cell_type": "code",
   "execution_count": 10,
   "id": "818d1c82",
   "metadata": {},
   "outputs": [
    {
     "name": "stdout",
     "output_type": "stream",
     "text": [
      "Нет признаков для обучения!\n"
     ]
    }
   ],
   "source": [
    "# Выберите не-ID столбцы\n",
    "features = [col for col in data.columns if col not in ['ID', 'class']]\n",
    "if len(features) == 0:\n",
    "    print(\"Нет признаков для обучения!\")\n",
    "else:\n",
    "    X = data[features]\n",
    "    # Преобразуйте категориальные признаки если нужно"
   ]
  },
  {
   "cell_type": "code",
   "execution_count": 11,
   "id": "2a075bc4",
   "metadata": {},
   "outputs": [
    {
     "name": "stdout",
     "output_type": "stream",
     "text": [
      "Столбцы в данных: ['ID', 'class']\n",
      "\n",
      "Первые 5 строк данных:\n"
     ]
    },
    {
     "data": {
      "application/vnd.microsoft.datawrangler.viewer.v0+json": {
       "columns": [
        {
         "name": "index",
         "rawType": "int64",
         "type": "integer"
        },
        {
         "name": "ID",
         "rawType": "int64",
         "type": "integer"
        },
        {
         "name": "class",
         "rawType": "int64",
         "type": "integer"
        }
       ],
       "ref": "5a0417e6-a23c-4a32-88c8-e2ee90d59391",
       "rows": [
        [
         "0",
         "600000",
         "0"
        ],
        [
         "1",
         "600001",
         "0"
        ],
        [
         "2",
         "600002",
         "0"
        ],
        [
         "3",
         "600003",
         "0"
        ],
        [
         "4",
         "600004",
         "0"
        ]
       ],
       "shape": {
        "columns": 2,
        "rows": 5
       }
      },
      "text/html": [
       "<div>\n",
       "<style scoped>\n",
       "    .dataframe tbody tr th:only-of-type {\n",
       "        vertical-align: middle;\n",
       "    }\n",
       "\n",
       "    .dataframe tbody tr th {\n",
       "        vertical-align: top;\n",
       "    }\n",
       "\n",
       "    .dataframe thead th {\n",
       "        text-align: right;\n",
       "    }\n",
       "</style>\n",
       "<table border=\"1\" class=\"dataframe\">\n",
       "  <thead>\n",
       "    <tr style=\"text-align: right;\">\n",
       "      <th></th>\n",
       "      <th>ID</th>\n",
       "      <th>class</th>\n",
       "    </tr>\n",
       "  </thead>\n",
       "  <tbody>\n",
       "    <tr>\n",
       "      <th>0</th>\n",
       "      <td>600000</td>\n",
       "      <td>0</td>\n",
       "    </tr>\n",
       "    <tr>\n",
       "      <th>1</th>\n",
       "      <td>600001</td>\n",
       "      <td>0</td>\n",
       "    </tr>\n",
       "    <tr>\n",
       "      <th>2</th>\n",
       "      <td>600002</td>\n",
       "      <td>0</td>\n",
       "    </tr>\n",
       "    <tr>\n",
       "      <th>3</th>\n",
       "      <td>600003</td>\n",
       "      <td>0</td>\n",
       "    </tr>\n",
       "    <tr>\n",
       "      <th>4</th>\n",
       "      <td>600004</td>\n",
       "      <td>0</td>\n",
       "    </tr>\n",
       "  </tbody>\n",
       "</table>\n",
       "</div>"
      ],
      "text/plain": [
       "       ID  class\n",
       "0  600000      0\n",
       "1  600001      0\n",
       "2  600002      0\n",
       "3  600003      0\n",
       "4  600004      0"
      ]
     },
     "metadata": {},
     "output_type": "display_data"
    },
    {
     "name": "stdout",
     "output_type": "stream",
     "text": [
      "\n",
      "Проблема: В данных только ID и целевая переменная!\n",
      "Что делать:\n",
      "1. Проверьте, загрузили ли вы правильный файл\n",
      "2. Возможно, признаки находятся в другом файле (например, 'train_features.csv')\n",
      "3. Если это submission-файл, он не предназначен для обучения\n",
      "\n",
      "Пример правильной структуры данных:\n",
      "| ID | feature1 | feature2 | ... | featureN | class |\n"
     ]
    }
   ],
   "source": [
    "# 1. Проверим структуру данных\n",
    "print(\"Столбцы в данных:\", data.columns.tolist())\n",
    "print(\"\\nПервые 5 строк данных:\")\n",
    "display(data.head())\n",
    "\n",
    "# 2. Если действительно нет признаков:\n",
    "if len(data.columns) <= 2 and 'class' in data.columns:\n",
    "    print(\"\\nПроблема: В данных только ID и целевая переменная!\")\n",
    "    print(\"Что делать:\")\n",
    "    print(\"1. Проверьте, загрузили ли вы правильный файл\")\n",
    "    print(\"2. Возможно, признаки находятся в другом файле (например, 'train_features.csv')\")\n",
    "    print(\"3. Если это submission-файл, он не предназначен для обучения\")\n",
    "    \n",
    "    # Пример: как должен выглядеть правильный датасет\n",
    "    print(\"\\nПример правильной структуры данных:\")\n",
    "    print(\"| ID | feature1 | feature2 | ... | featureN | class |\")\n",
    "else:\n",
    "    # Если признаки есть, но код их не видит\n",
    "    features = [col for col in data.columns if col not in ['ID', 'id', 'class', 'target']]\n",
    "    print(\"\\nОбнаружены признаки:\", features)\n",
    "    X = data[features]\n",
    "    y = data['class']\n",
    "    \n",
    "    # Дальнейшая обработка..."
   ]
  },
  {
   "cell_type": "markdown",
   "id": "7a14b2ed",
   "metadata": {},
   "source": [
    "### 5.2. Случайный лес"
   ]
  },
  {
   "cell_type": "code",
   "execution_count": 12,
   "id": "8e18dcf9",
   "metadata": {},
   "outputs": [
    {
     "name": "stdout",
     "output_type": "stream",
     "text": [
      "\n",
      "--- Случайный лес ---\n"
     ]
    },
    {
     "ename": "NameError",
     "evalue": "name 'X_train_scaled' is not defined",
     "output_type": "error",
     "traceback": [
      "\u001b[31m---------------------------------------------------------------------------\u001b[39m",
      "\u001b[31mNameError\u001b[39m                                 Traceback (most recent call last)",
      "\u001b[36mCell\u001b[39m\u001b[36m \u001b[39m\u001b[32mIn[12]\u001b[39m\u001b[32m, line 5\u001b[39m\n\u001b[32m      2\u001b[39m \u001b[38;5;28mprint\u001b[39m(\u001b[33m\"\u001b[39m\u001b[38;5;130;01m\\n\u001b[39;00m\u001b[33m--- Случайный лес ---\u001b[39m\u001b[33m\"\u001b[39m)\n\u001b[32m      3\u001b[39m rf = RandomForestClassifier(n_estimators=\u001b[32m100\u001b[39m, max_depth=\u001b[32m10\u001b[39m, \n\u001b[32m      4\u001b[39m                           random_state=\u001b[32m42\u001b[39m, class_weight=\u001b[33m'\u001b[39m\u001b[33mbalanced\u001b[39m\u001b[33m'\u001b[39m)\n\u001b[32m----> \u001b[39m\u001b[32m5\u001b[39m rf.fit(\u001b[43mX_train_scaled\u001b[49m, y_train)\n\u001b[32m      6\u001b[39m y_pred_rf = rf.predict(X_test_scaled)\n\u001b[32m      8\u001b[39m \u001b[38;5;28mprint\u001b[39m(classification_report(y_test, y_pred_rf))\n",
      "\u001b[31mNameError\u001b[39m: name 'X_train_scaled' is not defined"
     ]
    }
   ],
   "source": [
    "if 'class' in data.columns:\n",
    "    print(\"\\n--- Случайный лес ---\")\n",
    "    rf = RandomForestClassifier(n_estimators=100, max_depth=10, \n",
    "                              random_state=42, class_weight='balanced')\n",
    "    rf.fit(X_train_scaled, y_train)\n",
    "    y_pred_rf = rf.predict(X_test_scaled)\n",
    "    \n",
    "    print(classification_report(y_test, y_pred_rf))\n",
    "    print(f\"ROC-AUC: {roc_auc_score(y_test, rf.predict_proba(X_test_scaled)[:, 1]):.2f}\")"
   ]
  },
  {
   "cell_type": "markdown",
   "id": "68e27ab3",
   "metadata": {},
   "source": [
    "### 5.2. Случайный лес (Random Forest)"
   ]
  },
  {
   "cell_type": "code",
   "execution_count": 13,
   "id": "702f2239",
   "metadata": {},
   "outputs": [
    {
     "ename": "NameError",
     "evalue": "name 'X_train_scaled' is not defined",
     "output_type": "error",
     "traceback": [
      "\u001b[31m---------------------------------------------------------------------------\u001b[39m",
      "\u001b[31mNameError\u001b[39m                                 Traceback (most recent call last)",
      "\u001b[36mCell\u001b[39m\u001b[36m \u001b[39m\u001b[32mIn[13]\u001b[39m\u001b[32m, line 2\u001b[39m\n\u001b[32m      1\u001b[39m rf = RandomForestClassifier(n_estimators=\u001b[32m100\u001b[39m, max_depth=\u001b[32m10\u001b[39m, random_state=\u001b[32m42\u001b[39m, class_weight=\u001b[33m'\u001b[39m\u001b[33mbalanced\u001b[39m\u001b[33m'\u001b[39m)\n\u001b[32m----> \u001b[39m\u001b[32m2\u001b[39m rf.fit(\u001b[43mX_train_scaled\u001b[49m, y_train)\n\u001b[32m      3\u001b[39m y_pred_rf = rf.predict(X_test_scaled)\n\u001b[32m      5\u001b[39m \u001b[38;5;28mprint\u001b[39m(\u001b[33m\"\u001b[39m\u001b[38;5;130;01m\\n\u001b[39;00m\u001b[33mRandom Forest:\u001b[39m\u001b[33m\"\u001b[39m)\n",
      "\u001b[31mNameError\u001b[39m: name 'X_train_scaled' is not defined"
     ]
    }
   ],
   "source": [
    "rf = RandomForestClassifier(n_estimators=100, max_depth=10, random_state=42, class_weight='balanced')\n",
    "rf.fit(X_train_scaled, y_train)\n",
    "y_pred_rf = rf.predict(X_test_scaled)\n",
    "\n",
    "print(\"\\nRandom Forest:\")\n",
    "print(classification_report(y_test, y_pred_rf))\n",
    "print(\"ROC-AUC:\", roc_auc_score(y_test, rf.predict_proba(X_test_scaled)[:, 1]))"
   ]
  },
  {
   "cell_type": "markdown",
   "id": "0984fe03",
   "metadata": {},
   "source": [
    "### 5.3. Нейронная сеть (Neural Network)"
   ]
  },
  {
   "cell_type": "code",
   "execution_count": 14,
   "id": "b5cb2dcc",
   "metadata": {},
   "outputs": [
    {
     "ename": "NameError",
     "evalue": "name 'X_train_scaled' is not defined",
     "output_type": "error",
     "traceback": [
      "\u001b[31m---------------------------------------------------------------------------\u001b[39m",
      "\u001b[31mNameError\u001b[39m                                 Traceback (most recent call last)",
      "\u001b[36mCell\u001b[39m\u001b[36m \u001b[39m\u001b[32mIn[14]\u001b[39m\u001b[32m, line 2\u001b[39m\n\u001b[32m      1\u001b[39m nn = MLPClassifier(hidden_layer_sizes=(\u001b[32m64\u001b[39m, \u001b[32m32\u001b[39m), max_iter=\u001b[32m500\u001b[39m, random_state=\u001b[32m42\u001b[39m)\n\u001b[32m----> \u001b[39m\u001b[32m2\u001b[39m nn.fit(\u001b[43mX_train_scaled\u001b[49m, y_train)\n\u001b[32m      3\u001b[39m y_pred_nn = nn.predict(X_test_scaled)\n\u001b[32m      5\u001b[39m \u001b[38;5;28mprint\u001b[39m(\u001b[33m\"\u001b[39m\u001b[38;5;130;01m\\n\u001b[39;00m\u001b[33mNeural Network:\u001b[39m\u001b[33m\"\u001b[39m)\n",
      "\u001b[31mNameError\u001b[39m: name 'X_train_scaled' is not defined"
     ]
    }
   ],
   "source": [
    "nn = MLPClassifier(hidden_layer_sizes=(64, 32), max_iter=500, random_state=42)\n",
    "nn.fit(X_train_scaled, y_train)\n",
    "y_pred_nn = nn.predict(X_test_scaled)\n",
    "\n",
    "print(\"\\nNeural Network:\")\n",
    "print(classification_report(y_test, y_pred_nn))\n",
    "print(\"ROC-AUC:\", roc_auc_score(y_test, nn.predict_proba(X_test_scaled)[:, 1]))"
   ]
  },
  {
   "cell_type": "markdown",
   "id": "b8cd3521",
   "metadata": {},
   "source": [
    "# 6. Сравнение моделей"
   ]
  },
  {
   "cell_type": "code",
   "execution_count": null,
   "id": "56c0e46a",
   "metadata": {},
   "outputs": [],
   "source": [
    "models = {\n",
    "    'Logistic Regression': y_pred_lr,\n",
    "    'Random Forest': y_pred_rf,\n",
    "    'Neural Network': y_pred_nn\n",
    "}\n",
    "\n",
    "results = []\n",
    "for name, preds in models.items():\n",
    "    results.append({\n",
    "        'Model': name,\n",
    "        'Accuracy': accuracy_score(y_test, preds),\n",
    "        'Precision': precision_score(y_test, preds),\n",
    "        'Recall': recall_score(y_test, preds),\n",
    "        'F1-Score': f1_score(y_test, preds),\n",
    "        'ROC-AUC': roc_auc_score(y_test, preds)\n",
    "    })\n",
    "\n",
    "results_df = pd.DataFrame(results)\n",
    "display(results_df.sort_values(by='F1-Score', ascending=False))"
   ]
  }
 ],
 "metadata": {
  "kernelspec": {
   "display_name": ".venv",
   "language": "python",
   "name": "python3"
  },
  "language_info": {
   "codemirror_mode": {
    "name": "ipython",
    "version": 3
   },
   "file_extension": ".py",
   "mimetype": "text/x-python",
   "name": "python",
   "nbconvert_exporter": "python",
   "pygments_lexer": "ipython3",
   "version": "3.11.0"
  }
 },
 "nbformat": 4,
 "nbformat_minor": 5
}
