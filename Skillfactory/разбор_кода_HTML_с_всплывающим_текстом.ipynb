{
 "cells": [
  {
   "cell_type": "code",
   "execution_count": 2,
   "metadata": {},
   "outputs": [
    {
     "name": "stderr",
     "output_type": "stream",
     "text": [
      "C:\\Users\\1\\AppData\\Local\\Temp\\ipykernel_23356\\1586680916.py:1: DeprecationWarning: Importing display from IPython.core.display is deprecated since IPython 7.14, please import from IPython.display\n",
      "  from IPython.core.display import display, HTML\n"
     ]
    },
    {
     "data": {
      "text/html": [
       "\n",
       "<style>\n",
       ".tooltip-container {\n",
       "    position: relative;\n",
       "    display: inline-block;\n",
       "    cursor: pointer;\n",
       "    color: green;\n",
       "    border-bottom: 1px dashed green;\n",
       "}\n",
       "\n",
       ".tooltip-text {\n",
       "    visibility: hidden;\n",
       "    width: 300px;\n",
       "    background-color: #f5ffe6;\n",
       "    color: black;\n",
       "    text-align: left;\n",
       "    padding: 10px;\n",
       "    border-radius: 5px;\n",
       "    border: 1px solid #d4d4d4;\n",
       "    position: absolute;\n",
       "    z-index: 1;\n",
       "    bottom: 125%; /* Позиция подсказки над текстом */\n",
       "    left: 50%;\n",
       "    transform: translateX(-50%);\n",
       "    opacity: 0;\n",
       "    transition: opacity 0.3s;\n",
       "}\n",
       "\n",
       ".tooltip-container:hover .tooltip-text {\n",
       "    visibility: visible;\n",
       "    opacity: 1;\n",
       "}\n",
       "</style>\n",
       "\n",
       "<p>\n",
       "В предыдущих разделах мы собирали полезную информацию с различных сайтов.\n",
       "</p>\n",
       "<p>\n",
       "Вы могли убедиться, что поиск необходимой информации с выделением правильных тегов — довольно трудоёмкая задача. Кроме того, подобные программы могут ломаться в случаях, когда меняется дизайн сайта, его разметка или владельцы сайтов защищаются от ботов \n",
       "<span class=\"tooltip-container\">капчей\n",
       "    <span class=\"tooltip-text\">\n",
       "        От CAPTCHA, англ. Completely Automated Public Turing Test to Tell Computers and Humans Apart (рус. полностью автоматизированный публичный тест Тьюринга для различения компьютеров и людей) — компьютерный тест, используемый для того, чтобы определить, кем является пользователь системы — человеком или компьютером.\n",
       "    </span>\n",
       "</span>.\n",
       "</p>\n",
       "<p>\n",
       "К счастью, многие крупные сайты предоставляют доступ к своим данным через так называемые API (англ. Application Programming Interface — программный интерфейс приложения).\n",
       "</p>\n"
      ],
      "text/plain": [
       "<IPython.core.display.HTML object>"
      ]
     },
     "metadata": {},
     "output_type": "display_data"
    }
   ],
   "source": [
    "from IPython.core.display import display, HTML\n",
    "\n",
    "html_code = \"\"\"\n",
    "<style>\n",
    ".tooltip-container {\n",
    "    position: relative;\n",
    "    display: inline-block;\n",
    "    cursor: pointer;\n",
    "    color: green;\n",
    "    border-bottom: 1px dashed green;\n",
    "}\n",
    "\n",
    ".tooltip-text {\n",
    "    visibility: hidden;\n",
    "    width: 300px;\n",
    "    background-color: #f5ffe6;\n",
    "    color: black;\n",
    "    text-align: left;\n",
    "    padding: 10px;\n",
    "    border-radius: 5px;\n",
    "    border: 1px solid #d4d4d4;\n",
    "    position: absolute;\n",
    "    z-index: 1;\n",
    "    bottom: 125%; /* Позиция подсказки над текстом */\n",
    "    left: 50%;\n",
    "    transform: translateX(-50%);\n",
    "    opacity: 0;\n",
    "    transition: opacity 0.3s;\n",
    "}\n",
    "\n",
    ".tooltip-container:hover .tooltip-text {\n",
    "    visibility: visible;\n",
    "    opacity: 1;\n",
    "}\n",
    "</style>\n",
    "\n",
    "<p>\n",
    "В предыдущих разделах мы собирали полезную информацию с различных сайтов.\n",
    "</p>\n",
    "<p>\n",
    "Вы могли убедиться, что поиск необходимой информации с выделением правильных тегов — довольно трудоёмкая задача. Кроме того, подобные программы могут ломаться в случаях, когда меняется дизайн сайта, его разметка или владельцы сайтов защищаются от ботов \n",
    "<span class=\"tooltip-container\">капчей\n",
    "    <span class=\"tooltip-text\">\n",
    "        От CAPTCHA, англ. Completely Automated Public Turing Test to Tell Computers and Humans Apart (рус. полностью автоматизированный публичный тест Тьюринга для различения компьютеров и людей) — компьютерный тест, используемый для того, чтобы определить, кем является пользователь системы — человеком или компьютером.\n",
    "    </span>\n",
    "</span>.\n",
    "</p>\n",
    "<p>\n",
    "К счастью, многие крупные сайты предоставляют доступ к своим данным через так называемые API (англ. Application Programming Interface — программный интерфейс приложения).\n",
    "</p>\n",
    "\"\"\"\n",
    "\n",
    "display(HTML(html_code))\n"
   ]
  },
  {
   "cell_type": "markdown",
   "metadata": {},
   "source": [
    "# Простое объяснение каждого правила:"
   ]
  },
  {
   "cell_type": "markdown",
   "metadata": {},
   "source": [
    "### Класс .tooltip-container\n",
    "Это контейнер для текста с подсказкой."
   ]
  },
  {
   "cell_type": "code",
   "execution_count": null,
   "metadata": {},
   "outputs": [],
   "source": [
    ".tooltip-container {\n",
    "    position: relative; /* Контейнер — точка отсчёта для подсказки */\n",
    "    display: inline-block; /* Отображать как текст (рядом с другими элементами) */\n",
    "    cursor: pointer; /* При наведении показывать \"руку\" */\n",
    "    color: green; /* Зелёный текст */\n",
    "    border-bottom: 1px dashed green; /* Нижнее зелёное пунктирное подчёркивание */\n",
    "}"
   ]
  },
  {
   "cell_type": "markdown",
   "metadata": {},
   "source": [
    "### Класс .tooltip-text\n",
    "Это сама подсказка, которая изначально скрыта."
   ]
  },
  {
   "cell_type": "code",
   "execution_count": null,
   "metadata": {},
   "outputs": [],
   "source": [
    ".tooltip-text {\n",
    "    visibility: hidden; /* Подсказка не видна */\n",
    "    width: 300px; /* Ширина подсказки */\n",
    "    background-color: #f5ffe6; /* Светло-зелёный фон */\n",
    "    color: black; /* Чёрный текст */\n",
    "    text-align: left; /* Выравнивание текста по левому краю */\n",
    "    padding: 10px; /* Внутренние отступы вокруг текста */\n",
    "    border-radius: 5px; /* Закруглённые углы */\n",
    "    border: 1px solid #d4d4d4; /* Тонкая серая рамка */\n",
    "    position: absolute; /* Абсолютная позиция относительно контейнера */\n",
    "    z-index: 1; /* Подсказка всегда поверх остальных элементов */\n",
    "    bottom: 125%; /* Расположить подсказку над контейнером */\n",
    "    left: 50%; /* Центрировать по горизонтали */\n",
    "    transform: translateX(-50%); /* Смещение влево, чтобы точно выровнять центр */\n",
    "    opacity: 0; /* Полностью прозрачная (скрытая) */\n",
    "    transition: opacity 0.3s; /* Плавное появление/исчезновение */\n",
    "}"
   ]
  },
  {
   "cell_type": "markdown",
   "metadata": {},
   "source": [
    "### При наведении на .tooltip-container\n",
    "Подсказка становится видимой."
   ]
  },
  {
   "cell_type": "code",
   "execution_count": null,
   "metadata": {},
   "outputs": [],
   "source": [
    ".tooltip-container:hover .tooltip-text {\n",
    "    visibility: visible; /* Сделать подсказку видимой */\n",
    "    opacity: 1; /* Убрать прозрачность */\n",
    "}"
   ]
  },
  {
   "cell_type": "markdown",
   "metadata": {},
   "source": [
    "---"
   ]
  },
  {
   "cell_type": "markdown",
   "metadata": {},
   "source": [
    "этот код написан с использованием HTML и CSS, без JavaScript. Эффект всплывающей подсказки достигается исключительно с помощью CSS-псевдокласса :hover, который позволяет отображать скрытые элементы при наведении мыши.\n",
    "\n",
    "Как это работает:\n",
    "HTML:\n",
    "* Создана структура из двух вложенных <span>:\n",
    "  * Внешний контейнер (tooltip-container) для текста, на который наводят мышь.\n",
    "  * Внутренний элемент (tooltip-text), который содержит текст подсказки.\n",
    "\n",
    "CSS:\n",
    "* visibility: hidden и opacity: 0: Скрывают подсказку по умолчанию.\n",
    "* :hover: При наведении на родительский элемент tooltip-container, вложенная подсказка становится видимой (visibility: visible) и прозрачность меняется на 1 (opacity: 1).\n",
    "* transition: Добавляет плавность появления/исчезновения подсказки.\n",
    "\n",
    "Почему это не JavaScript:\n",
    "* Здесь нет программного кода на JS. Всё работает благодаря встроенным возможностям CSS.\n",
    "* Это более простое и безопасное решение, особенно для платформ, где JavaScript может быть ограничен (например, Jupyter Notebook)."
   ]
  }
 ],
 "metadata": {
  "kernelspec": {
   "display_name": "Python 3",
   "language": "python",
   "name": "python3"
  },
  "language_info": {
   "codemirror_mode": {
    "name": "ipython",
    "version": 3
   },
   "file_extension": ".py",
   "mimetype": "text/x-python",
   "name": "python",
   "nbconvert_exporter": "python",
   "pygments_lexer": "ipython3",
   "version": "3.13.0"
  }
 },
 "nbformat": 4,
 "nbformat_minor": 2
}
