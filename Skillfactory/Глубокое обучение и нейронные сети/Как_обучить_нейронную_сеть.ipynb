{
 "cells": [
  {
   "cell_type": "markdown",
   "id": "83f364f5",
   "metadata": {},
   "source": [
    "# Как обучить нейронную сеть?"
   ]
  }
 ],
 "metadata": {
  "language_info": {
   "name": "python"
  }
 },
 "nbformat": 4,
 "nbformat_minor": 5
}
