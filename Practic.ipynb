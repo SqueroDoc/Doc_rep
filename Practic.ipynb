{
 "cells": [
  {
   "cell_type": "code",
   "execution_count": 6,
   "metadata": {},
   "outputs": [
    {
     "name": "stdout",
     "output_type": "stream",
     "text": [
      "37\n"
     ]
    }
   ],
   "source": [
    "def sum_positive_numbers(numbers):\n",
    "    total = 0\n",
    "    for number in numbers:  # Проходим по каждому числу в списке\n",
    "        if number > 0:  # Проверяем, положительное ли число\n",
    "            total += number  # Добавляем число к сумме\n",
    "    return total  # Возвращаем результат\n",
    "        \n",
    "numbers = [10, -5, 20, -3, 7]\n",
    "result = sum_positive_numbers(numbers)\n",
    "print(result)  # Выведет: 37 (10 + 20 + 7)"
   ]
  },
  {
   "cell_type": "code",
   "execution_count": 10,
   "metadata": {},
   "outputs": [
    {
     "name": "stdout",
     "output_type": "stream",
     "text": [
      "3\n"
     ]
    }
   ],
   "source": [
    "def count_even_numbers(numbers):\n",
    "    count = 0\n",
    "    for number in numbers:\n",
    "        if number % 2 == 0:\n",
    "            count += 1\n",
    "    return count\n",
    "\n",
    "numbers = [1, 2, 3, 4, 5, 6]\n",
    "result = count_even_numbers(numbers)\n",
    "print(result) "
   ]
  },
  {
   "cell_type": "code",
   "execution_count": 12,
   "metadata": {},
   "outputs": [
    {
     "name": "stdout",
     "output_type": "stream",
     "text": [
      "3\n"
     ]
    }
   ],
   "source": [
    "def count_odd_numbers(numbers):\n",
    "    count = 0\n",
    "    for number in numbers:\n",
    "        if number % 2 != 0:\n",
    "            count += 1\n",
    "    return count\n",
    "\n",
    "numbers = [1, 2, 3, 4, 5, 6]\n",
    "print(count_odd_numbers(numbers))"
   ]
  },
  {
   "cell_type": "code",
   "execution_count": 1,
   "metadata": {},
   "outputs": [],
   "source": [
    "# Структура данных (пример для Python)\n",
    "import pandas as pd\n",
    "\n",
    "data = {\n",
    "    'patient_id': [1, 2, 3, ...],           # Уникальный идентификатор\n",
    "    'age': [45, 67, 58, ...],               # Возраст (лет)\n",
    "    'sex': ['M', 'F', 'M', ...],            # Пол\n",
    "    'bicarbonate': [24, 19, 22, ...],       # HCO₃⁻ (ммоль/л)\n",
    "    'egfr': [85, 32, 45, ...],              # eGFR (мл/мин/1.73м²)\n",
    "    'mortality_status': [0, 1, 0, ...],     # 0 = жив, 1 = умер\n",
    "    'follow_up_years': [5.2, 3.8, 4.1, ...] # Срок наблюдения\n",
    "}\n",
    "df = pd.DataFrame(data)"
   ]
  },
  {
   "cell_type": "code",
   "execution_count": 1,
   "metadata": {},
   "outputs": [
    {
     "ename": "ModuleNotFoundError",
     "evalue": "No module named 'heart_lab'",
     "output_type": "error",
     "traceback": [
      "\u001b[31m---------------------------------------------------------------------------\u001b[39m",
      "\u001b[31mModuleNotFoundError\u001b[39m                       Traceback (most recent call last)",
      "\u001b[36mCell\u001b[39m\u001b[36m \u001b[39m\u001b[32mIn[1]\u001b[39m\u001b[32m, line 1\u001b[39m\n\u001b[32m----> \u001b[39m\u001b[32m1\u001b[39m \u001b[38;5;28;01mfrom\u001b[39;00m\u001b[38;5;250m \u001b[39m\u001b[34;01mheart_lab\u001b[39;00m\u001b[38;5;250m \u001b[39m\u001b[38;5;28;01mimport\u001b[39;00m LoveExperiment\n\u001b[32m      3\u001b[39m \u001b[38;5;66;03m# Инициализация параметров\u001b[39;00m\n\u001b[32m      4\u001b[39m your_eyes = \u001b[33m\"\u001b[39m\u001b[33mHypnotic\u001b[39m\u001b[33m\"\u001b[39m  \n",
      "\u001b[31mModuleNotFoundError\u001b[39m: No module named 'heart_lab'"
     ]
    }
   ],
   "source": [
    "from heart_lab import LoveExperiment\n",
    "\n",
    "# Инициализация параметров\n",
    "your_eyes = \"Hypnotic\"  \n",
    "your_smile = \"Deadly\"  \n",
    "my_reaction = \"Swooning\"  \n",
    "\n",
    "# Проверка гипотезы\n",
    "if (your_eyes == \"Hypnotic\") and (your_smile == \"Deadly\"):  \n",
    "    p_value = 0.0000001  # Ультра-значимо!  \n",
    "    conclusion = \"Результат: Ты — идеальная переменная в моей жизни. ❤️\"  \n",
    "else:  \n",
    "    conclusion = \"Ошибка: Все системы отказали от перегрузки. 🫠\"  \n",
    "\n",
    "# Визуализация\n",
    "import matplotlib.pyplot as plt  \n",
    "plt.plot([0, 1], [0, 1], color=\"red\", label=\"Наша кривая любви\")  \n",
    "plt.xlabel(\"Время\")  \n",
    "plt.ylabel(\"Чувства\")  \n",
    "plt.title(\"График без асимптот!\")  \n",
    "plt.legend()  \n",
    "plt.show()  \n",
    "\n",
    "print(conclusion)  "
   ]
  }
 ],
 "metadata": {
  "kernelspec": {
   "display_name": "Python 3",
   "language": "python",
   "name": "python3"
  },
  "language_info": {
   "codemirror_mode": {
    "name": "ipython",
    "version": 3
   },
   "file_extension": ".py",
   "mimetype": "text/x-python",
   "name": "python",
   "nbconvert_exporter": "python",
   "pygments_lexer": "ipython3",
   "version": "3.11.0"
  }
 },
 "nbformat": 4,
 "nbformat_minor": 2
}
