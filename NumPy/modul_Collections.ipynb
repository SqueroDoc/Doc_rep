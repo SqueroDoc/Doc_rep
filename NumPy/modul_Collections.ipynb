{
 "cells": [
  {
   "cell_type": "markdown",
   "metadata": {},
   "source": [
    "# Counter"
   ]
  },
  {
   "cell_type": "code",
   "execution_count": 2,
   "metadata": {},
   "outputs": [],
   "source": [
    "# Импортируем объект Counter из модуля collections\n",
    "from collections import Counter\n",
    "# Создаём пустой объект Counter\n",
    "c = Counter()"
   ]
  },
  {
   "cell_type": "code",
   "execution_count": 7,
   "metadata": {},
   "outputs": [
    {
     "name": "stdout",
     "output_type": "stream",
     "text": [
      "Counter({'red': 3, 'black': 3, 'blue': 2, 'white': 1})\n",
      "9\n",
      "dict_values([3, 2, 3, 1])\n"
     ]
    }
   ],
   "source": [
    "cars = ['red', 'blue', 'black', 'black', 'black', 'red', 'blue', 'red', 'white']\n",
    "\n",
    "c = Counter(cars)\n",
    "\n",
    "print(c)\n",
    "print(sum(c.values()))\n",
    "print(c.values())"
   ]
  },
  {
   "cell_type": "code",
   "execution_count": 8,
   "metadata": {},
   "outputs": [],
   "source": [
    "cars_moscow = ['black', 'black', 'white', 'black', 'black', 'white', 'yellow', 'yellow', 'yellow']\n",
    "cars_spb = ['red', 'black', 'black', 'white', 'white', 'yellow', 'yellow', 'red', 'white']"
   ]
  },
  {
   "cell_type": "code",
   "execution_count": 10,
   "metadata": {},
   "outputs": [
    {
     "name": "stdout",
     "output_type": "stream",
     "text": [
      "Counter({'black': 4, 'yellow': 3, 'white': 2})\n",
      "Counter({'white': 3, 'red': 2, 'black': 2, 'yellow': 2})\n",
      "Counter({'black': 6, 'white': 5, 'yellow': 5, 'red': 2})\n"
     ]
    }
   ],
   "source": [
    "counter_moscow = Counter(cars_moscow)\n",
    "counter_spb = Counter(cars_spb)\n",
    " \n",
    "print(counter_moscow)\n",
    "print(counter_spb)\n",
    "print(counter_moscow + counter_spb)"
   ]
  },
  {
   "cell_type": "code",
   "execution_count": null,
   "metadata": {},
   "outputs": [
    {
     "name": "stdout",
     "output_type": "stream",
     "text": [
      "Counter({'black': 2, 'yellow': 1, 'white': -1, 'red': -2})\n"
     ]
    }
   ],
   "source": [
    "# Чтобы узнать разницу между объектами Counter, необходимо воспользоваться функцией subtract, которая меняет тот объект, к которому применяется.\n",
    "counter_moscow.subtract(counter_spb)\n",
    "print(counter_moscow)"
   ]
  },
  {
   "cell_type": "code",
   "execution_count": null,
   "metadata": {},
   "outputs": [
    {
     "name": "stdout",
     "output_type": "stream",
     "text": [
      "Counter({'black': 2, 'yellow': 1})\n"
     ]
    }
   ],
   "source": [
    "# Пересоздаём счётчики, потому что объект counter_moscow поменял свои значения\n",
    "# после функции subtract.\n",
    "counter_moscow = Counter(cars_moscow)\n",
    "counter_spb = Counter(cars_spb)\n",
    "\n",
    "print(counter_moscow - counter_spb)\n",
    "# В данном случае нет значений меньше 1, поэтому нет данных о разнице в числе белых и красных машин. Иногда важно получить именно полные данные, а не только положительные значения разности."
   ]
  },
  {
   "cell_type": "code",
   "execution_count": 14,
   "metadata": {},
   "outputs": [
    {
     "name": "stdout",
     "output_type": "stream",
     "text": [
      "black black black black white white yellow yellow yellow\n"
     ]
    }
   ],
   "source": [
    "# Чтобы получить список всех элементов, которые содержатся в Counter, используется функция elements(). Она возвращает итератор, поэтому, чтобы напечатать все элементы, распакуем их с помощью *:\n",
    "print(*counter_moscow.elements())"
   ]
  },
  {
   "cell_type": "code",
   "execution_count": 15,
   "metadata": {},
   "outputs": [
    {
     "name": "stdout",
     "output_type": "stream",
     "text": [
      "['black', 'white', 'yellow']\n",
      "{'black': 4, 'white': 2, 'yellow': 3}\n"
     ]
    }
   ],
   "source": [
    "print(list(counter_moscow))\n",
    "print(dict(counter_moscow))"
   ]
  },
  {
   "cell_type": "code",
   "execution_count": 17,
   "metadata": {},
   "outputs": [
    {
     "name": "stdout",
     "output_type": "stream",
     "text": [
      "[('black', 4), ('yellow', 3), ('white', 2)]\n",
      "[('black', 4), ('yellow', 3)]\n"
     ]
    }
   ],
   "source": [
    "# Функция most_common() позволяет получить список из кортежей элементов в порядке убывания их встречаемости:\n",
    "print(counter_moscow.most_common())\n",
    "print(counter_moscow.most_common(2))"
   ]
  },
  {
   "cell_type": "code",
   "execution_count": 18,
   "metadata": {},
   "outputs": [
    {
     "name": "stdout",
     "output_type": "stream",
     "text": [
      "Counter()\n"
     ]
    }
   ],
   "source": [
    "# Фнкция clear() позволяет полностью обнулить счётчик:\n",
    "\n",
    "counter_moscow.clear()\n",
    "print(counter_moscow)"
   ]
  },
  {
   "cell_type": "markdown",
   "metadata": {},
   "source": [
    "# Defaultdict"
   ]
  },
  {
   "cell_type": "code",
   "execution_count": 19,
   "metadata": {},
   "outputs": [],
   "source": [
    "students = [('Ivanov',1),('Smirnov',4),('Petrov',3),('Kuznetsova',1),\n",
    "            ('Nikitina',2),('Markov',3),('Pavlov',2)]"
   ]
  },
  {
   "cell_type": "code",
   "execution_count": 20,
   "metadata": {},
   "outputs": [
    {
     "name": "stdout",
     "output_type": "stream",
     "text": [
      "{1: ['Ivanov', 'Kuznetsova'], 4: ['Smirnov'], 3: ['Petrov', 'Markov'], 2: ['Nikitina', 'Pavlov']}\n"
     ]
    }
   ],
   "source": [
    "groups = dict()\n",
    " \n",
    "for student, group in students:\n",
    "    # Проверяем, есть ли уже эта группа в словаре\n",
    "    if group not in groups:\n",
    "        # Если группы ещё нет в словаре, создаём для неё пустой список\n",
    "        groups[group] = list()\n",
    "    groups[group].append(student)\n",
    " \n",
    "print(groups)"
   ]
  },
  {
   "cell_type": "code",
   "execution_count": 31,
   "metadata": {},
   "outputs": [],
   "source": [
    "# Создадим defaultdict, в котором при обращении по несуществующему ключу будет автоматически создаваться новый список. Для этого при создании объекта defaultdict в круглых скобках передадим параметр list:\n",
    "from collections import defaultdict\n",
    "groups = defaultdict(list)"
   ]
  },
  {
   "cell_type": "code",
   "execution_count": 32,
   "metadata": {},
   "outputs": [
    {
     "name": "stdout",
     "output_type": "stream",
     "text": [
      "defaultdict(<class 'list'>, {1: ['Ivanov', 'Kuznetsova'], 4: ['Smirnov'], 3: ['Petrov', 'Markov'], 2: ['Nikitina', 'Pavlov']})\n"
     ]
    }
   ],
   "source": [
    "for student, group in students:\n",
    "    groups[group].append(student)\n",
    " \n",
    "print(groups)\n"
   ]
  },
  {
   "cell_type": "code",
   "execution_count": 33,
   "metadata": {},
   "outputs": [
    {
     "name": "stdout",
     "output_type": "stream",
     "text": [
      "['Petrov', 'Markov']\n"
     ]
    }
   ],
   "source": [
    "print(groups[3])"
   ]
  },
  {
   "cell_type": "code",
   "execution_count": 35,
   "metadata": {},
   "outputs": [
    {
     "name": "stdout",
     "output_type": "stream",
     "text": [
      "[]\n",
      "defaultdict(<class 'list'>, {1: ['Ivanov', 'Kuznetsova'], 4: ['Smirnov'], 3: ['Petrov', 'Markov'], 2: ['Nikitina', 'Pavlov'], 2021: []})\n"
     ]
    }
   ],
   "source": [
    "# Если запрашиваемого ключа нет в словаре, KeyError не возникнет. Вместо этого будет напечатан пустой элемент, который создаётся в словаре по умолчанию. Теперь в словаре groups автоматически появился элемент 2021 с пустым списком внутри, несмотря на то что мы его не создавали:\n",
    "print(groups[2021])\n",
    "print(groups)"
   ]
  },
  {
   "cell_type": "code",
   "execution_count": 37,
   "metadata": {},
   "outputs": [
    {
     "name": "stdout",
     "output_type": "stream",
     "text": [
      "<class 'dict'>\n",
      "<class 'collections.defaultdict'>\n"
     ]
    }
   ],
   "source": [
    "# Итак, вы обратили внимание, что поведение defaultdict в коде отличается от обычного словаря dict. Узнать, с каким именно словарём мы имеем дело в коде, можно с помощью встроенной функции type:\n",
    "dict_object = dict()\n",
    "defaultdict_object = defaultdict()\n",
    " \n",
    "print(type(dict_object))\n",
    "print(type(defaultdict_object))"
   ]
  },
  {
   "cell_type": "code",
   "execution_count": 38,
   "metadata": {},
   "outputs": [
    {
     "name": "stdout",
     "output_type": "stream",
     "text": [
      "{}\n",
      "defaultdict(None, {})\n"
     ]
    }
   ],
   "source": [
    "print(dict_object)\n",
    "print(defaultdict_object)\n",
    "# Заметьте, что в этом примере мы не задавали объект, который по умолчанию хранится в экземпляре defaultdict, поэтому объектом по умолчанию является None."
   ]
  },
  {
   "cell_type": "markdown",
   "metadata": {},
   "source": [
    "# OrderedDict"
   ]
  },
  {
   "cell_type": "code",
   "execution_count": 5,
   "metadata": {},
   "outputs": [
    {
     "name": "stdout",
     "output_type": "stream",
     "text": [
      "{'Ivan': 19, 'Mark': 25, 'Andrey': 23, 'Maria': 20}\n"
     ]
    }
   ],
   "source": [
    "# Напоминаем способ создания словаря через список кортежей\n",
    "# (ключ, значение)\n",
    "data = [('Ivan', 19),('Mark', 25),('Andrey', 23),('Maria', 20)]\n",
    "client_ages = dict(data)\n",
    "print(client_ages)"
   ]
  },
  {
   "cell_type": "code",
   "execution_count": 7,
   "metadata": {},
   "outputs": [
    {
     "name": "stdout",
     "output_type": "stream",
     "text": [
      "OrderedDict({'Ivan': 19, 'Mark': 25, 'Andrey': 23, 'Maria': 20})\n"
     ]
    }
   ],
   "source": [
    "# Специальный словарь, который гарантирует сохранение ключей в порядке их добавления, называется OrderedDict:\n",
    "from collections import OrderedDict\n",
    "data = [('Ivan', 19),('Mark', 25),('Andrey', 23),('Maria', 20)]\n",
    "ordered_client_ages = OrderedDict(data)\n",
    "print(ordered_client_ages)"
   ]
  },
  {
   "cell_type": "code",
   "execution_count": 9,
   "metadata": {},
   "outputs": [
    {
     "name": "stdout",
     "output_type": "stream",
     "text": [
      "OrderedDict({'Ivan': 19, 'Maria': 20, 'Andrey': 23, 'Mark': 25})\n"
     ]
    }
   ],
   "source": [
    "data = [('Ivan', 19),('Mark', 25),('Andrey', 23),('Maria', 20)]\n",
    "# Сортируем по второму значению из кортежа, то есть по возрасту\n",
    "ordered_client_ages = OrderedDict(sorted(data, key=lambda x: x[1]))\n",
    "print(ordered_client_ages)"
   ]
  },
  {
   "cell_type": "code",
   "execution_count": 24,
   "metadata": {},
   "outputs": [
    {
     "name": "stdout",
     "output_type": "stream",
     "text": [
      "OrderedDict({'Ivan': 19, 'Maria': 20, 'Andrey': 23, 'Mark': 25, 'Nikita': 18})\n"
     ]
    }
   ],
   "source": [
    "# Если теперь добавить нового человека в словарь, новая запись окажется в конце:\n",
    "ordered_client_ages['Nikita'] = 18\n",
    "print(ordered_client_ages)"
   ]
  },
  {
   "cell_type": "code",
   "execution_count": 25,
   "metadata": {},
   "outputs": [
    {
     "name": "stdout",
     "output_type": "stream",
     "text": [
      "OrderedDict({'Ivan': 19, 'Maria': 20, 'Mark': 25, 'Nikita': 18})\n",
      "OrderedDict({'Ivan': 19, 'Maria': 20, 'Mark': 25, 'Nikita': 18, 'Andrey': 23})\n"
     ]
    }
   ],
   "source": [
    "# Если удалить элемент, а затем добавить его снова, он также окажется в конце:\n",
    "del ordered_client_ages['Andrey']\n",
    "print(ordered_client_ages)\n",
    "\n",
    "ordered_client_ages['Andrey'] = 23\n",
    "print(ordered_client_ages)"
   ]
  },
  {
   "cell_type": "code",
   "execution_count": 26,
   "metadata": {},
   "outputs": [
    {
     "name": "stdout",
     "output_type": "stream",
     "text": [
      "3.13.0 (tags/v3.13.0:60403a5, Oct  7 2024, 09:38:07) [MSC v.1941 64 bit (AMD64)]\n"
     ]
    }
   ],
   "source": [
    "# Хорошие новости! Начиная с версии Python 3.7, гарантируется сохранение ключей в том порядке, в котором они добавлялись в словарь. Однако вам следует помнить о том, что в более старых версиях Python порядок ключей не сохраняется. Это важно для обратной совместимости, то есть для корректной работы программы со старыми версиями интерпретатора. Например, если требуется, чтобы код работал и с версиями Python старше 3.7, и в нём используется очерёдность ключей в словаре, необходимо создавать OrderedDict вместо dict.\n",
    "# Узнать версию Python в коде можно из переменной version из модуля sys.\n",
    "import sys\n",
    "print(sys.version)"
   ]
  },
  {
   "cell_type": "markdown",
   "metadata": {},
   "source": [
    "# Deque"
   ]
  },
  {
   "cell_type": "code",
   "execution_count": null,
   "metadata": {},
   "outputs": [
    {
     "name": "stdout",
     "output_type": "stream",
     "text": [
      "deque([])\n"
     ]
    }
   ],
   "source": [
    "# Создадим пустой дек (deque). Для этого сначала импортируем эту структуру данных из модуля collections, а затем создадим её пустой экземпляр:\n",
    "from collections import deque\n",
    "dq = deque()\n",
    "print(dq)"
   ]
  },
  {
   "cell_type": "code",
   "execution_count": 38,
   "metadata": {},
   "outputs": [
    {
     "name": "stdout",
     "output_type": "stream",
     "text": [
      "deque(['Ivanov', 'Petrov', 'Smirnov', 'Tikhonova'])\n",
      "Smirnov\n"
     ]
    }
   ],
   "source": [
    "# Добавим несколько человек в очередь с помощью append:\n",
    "clients = deque()\n",
    "clients.append('Ivanov')\n",
    "clients.append('Petrov')\n",
    "clients.append('Smirnov')\n",
    "clients.append('Tikhonova')\n",
    "print(clients)\n",
    "\n",
    "# Объект deque поддерживает индексацию по элементам:\n",
    "print(clients[2])"
   ]
  },
  {
   "cell_type": "code",
   "execution_count": 39,
   "metadata": {},
   "outputs": [
    {
     "name": "stdout",
     "output_type": "stream",
     "text": [
      "First client: Ivanov\n",
      "Second client: Petrov\n",
      "deque(['Smirnov', 'Tikhonova'])\n"
     ]
    }
   ],
   "source": [
    "# Заберём двоих человек из начала очереди с помощью popleft:\n",
    "first_client = clients.popleft()\n",
    "second_client = clients.popleft()\n",
    " \n",
    "print(\"First client:\", first_client)\n",
    "print(\"Second client:\", second_client)\n",
    "print(clients)"
   ]
  },
  {
   "cell_type": "code",
   "execution_count": 40,
   "metadata": {},
   "outputs": [
    {
     "name": "stdout",
     "output_type": "stream",
     "text": [
      "deque(['Vip-client', 'Smirnov', 'Tikhonova'])\n"
     ]
    }
   ],
   "source": [
    "# Вдруг появился VIP-клиент. Для него тоже нет свободного оператора, но добавить его нужно в начало очереди с помощью appendleft:\n",
    "clients.appendleft('Vip-client')\n",
    "print(clients)"
   ]
  },
  {
   "cell_type": "code",
   "execution_count": 41,
   "metadata": {},
   "outputs": [
    {
     "name": "stdout",
     "output_type": "stream",
     "text": [
      "Tikhonova left the queue\n",
      "deque(['Vip-client', 'Smirnov'])\n"
     ]
    }
   ],
   "source": [
    "# Последний клиент в очереди устал ждать и отменил вызов. Удалим его с помощью pop:\n",
    "tired_client = clients.pop()\n",
    "print(tired_client, \"left the queue\")\n",
    "print(clients)"
   ]
  },
  {
   "cell_type": "code",
   "execution_count": 43,
   "metadata": {},
   "outputs": [
    {
     "name": "stdout",
     "output_type": "stream",
     "text": [
      "deque(['Ivanov', 'Petrov', 'Smirnov', 'Tikhonova'])\n",
      "deque(['Ivanov', 'Petrov', 'Tikhonova'])\n"
     ]
    }
   ],
   "source": [
    "# С помощью pop всегда удаляется последний элемент из дэка. Чтобы удалить конкретный элемент по индексу, необходимо воспользоваться встроенной конструкцией del:\n",
    "clients = deque(['Ivanov', 'Petrov', 'Smirnov', 'Tikhonova'])\n",
    "print(clients)\n",
    "\n",
    "del clients[2]\n",
    "print(clients)"
   ]
  },
  {
   "cell_type": "code",
   "execution_count": 44,
   "metadata": {},
   "outputs": [
    {
     "name": "stdout",
     "output_type": "stream",
     "text": [
      "deque([1, 2, 3, 4, 5])\n",
      "deque([1, 2, 3, 4, 5, 11, 12, 13, 14, 15, 16, 17])\n"
     ]
    }
   ],
   "source": [
    "# Также в очередь возможно добавить сразу несколько элементов из итерируемого объекта в дек. Для этого используют функции extend (добавить в конец дека) и extendleft (добавить в начало дека).\n",
    "# Создадим очередь из клиентов магазинчика на заправке и добавим в неё сразу всех туристов, приехавших на экскурсионном автобусе, с помощью extend:\n",
    "# В скобках передаём список при создании deque,\n",
    "# чтобы сразу добавить все его элементы в очередь\n",
    "shop = deque([1, 2, 3, 4, 5])\n",
    "print(shop)\n",
    "\n",
    "shop.extend([11, 12, 13, 14, 15, 16, 17])\n",
    "print(shop)"
   ]
  },
  {
   "cell_type": "code",
   "execution_count": null,
   "metadata": {},
   "outputs": [
    {
     "name": "stdout",
     "output_type": "stream",
     "text": [
      "deque([1, 2, 3, 4, 5])\n",
      "deque([17, 16, 15, 14, 13, 12, 11, 1, 2, 3, 4, 5])\n"
     ]
    }
   ],
   "source": [
    "# Если вдруг у турфирмы имеется договорённость с магазином, что клиенты турфирмы обслуживаются вне очереди, добавим их в начало той же очереди с помощью extendleft:\n",
    "shop = deque([1, 2, 3, 4, 5])\n",
    "print(shop)\n",
    "\n",
    "shop.extendleft([11, 12, 13, 14, 15, 16, 17])\n",
    "print(shop)\n",
    "# Обратите внимание, что «клиенты из автобуса» оказались в очереди не в том порядке, в каком они «выходили из автобуса». То есть добавленные номера не только приписаны перед записанными в очереди номерами, но также порядок добавленных элементов поменялся на обратный. Это связано с тем, что действие функции extendleft аналогично многократному применению функции appendleft, поэтому самый последний клиент из автобуса оказался в итоге первым в очереди."
   ]
  },
  {
   "cell_type": "code",
   "execution_count": null,
   "metadata": {},
   "outputs": [
    {
     "name": "stdout",
     "output_type": "stream",
     "text": [
      "deque([], maxlen=3)\n",
      "deque([5, 6, 7], maxlen=3)\n"
     ]
    }
   ],
   "source": [
    "# При создании очереди можно также указать её максимальную длину с помощью параметра maxlen. Сделать это можно как при создании пустой очереди, так и при создании очереди от заданного итерируемого объекта:\n",
    "limited = deque(maxlen=3)\n",
    "print(limited)\n",
    " \n",
    "limited_from_list = deque([1,3,4,5,6,7], maxlen=3)\n",
    "print(limited_from_list)"
   ]
  },
  {
   "cell_type": "code",
   "execution_count": null,
   "metadata": {},
   "outputs": [
    {
     "name": "stdout",
     "output_type": "stream",
     "text": [
      "deque([1, 2, 3], maxlen=3)\n",
      "None\n",
      "deque([2, 3, 8], maxlen=3)\n"
     ]
    }
   ],
   "source": [
    "# Также заметьте, что в очереди с ограниченной длиной сохраняются только последние элементы, а первые исчезают из памяти:\n",
    "limited.extend([1,2,3])\n",
    "print(limited)\n",
    " \n",
    "print(limited.append(8))\n",
    "\n",
    "print(limited)\n",
    "# При этом, как видно из результата операции limited.append(8), удаляемый элемент не возвращается, а просто исчезает."
   ]
  },
  {
   "cell_type": "code",
   "execution_count": null,
   "metadata": {},
   "outputs": [],
   "source": [
    "# Ниже приведены средние дневные температуры в Москве за июль:\n",
    "temps = [20.6, 19.4, 19.0, 19.0, 22.1,\n",
    "        22.5, 22.8, 24.1, 25.6, 27.0,\n",
    "        27.0, 25.6, 26.8, 27.3, 22.5,\n",
    "        25.4, 24.4, 23.7, 23.6, 22.6,\n",
    "        20.4, 17.9, 17.3, 17.3, 18.1,\n",
    "        20.1, 22.2, 19.8, 21.3, 21.3,\n",
    "        21.9]"
   ]
  },
  {
   "cell_type": "code",
   "execution_count": 49,
   "metadata": {},
   "outputs": [
    {
     "name": "stdout",
     "output_type": "stream",
     "text": [
      "20.77; 21.27; 22.16; 23.3; 24.44; 24.94; 25.56; 26.2; 25.97; 25.94; 25.57; 25.1; 24.81; 24.21; 23.23; 22.57; 21.41; 20.4; 19.6; 19.1; 19.04; 18.96; 19.44; 20.01; 20.67; \n"
     ]
    }
   ],
   "source": [
    "# Посчитаем динамику средней температуры с усреднением за каждые последние 7 дней для каждого рассматриваемого дня. Для этого воспользуемся очередью с параметром maxlen=7:\n",
    "days = deque(maxlen=7)\n",
    " \n",
    "for temp in temps:\n",
    "    # Добавляем температуру в очередь\n",
    "    days.append(temp)\n",
    "    # Если длина очереди оказалась равной максимальной длине очереди (7),\n",
    "    # печатаем среднюю температуру за последние 7 дней\n",
    "    if len(days) == days.maxlen:\n",
    "        print(round(sum(days) / len(days), 2), end='; ')\n",
    "# Напечатаем пустую строку, чтобы завершить действие параметра\n",
    "# end. Иначе следующая строка окажется напечатанной на предыдущей\n",
    "print(\"\")"
   ]
  },
  {
   "cell_type": "code",
   "execution_count": 50,
   "metadata": {},
   "outputs": [
    {
     "name": "stdout",
     "output_type": "stream",
     "text": [
      "deque([1, 2, 3, 4, 5])\n",
      "deque([5, 4, 3, 2, 1])\n"
     ]
    }
   ],
   "source": [
    "# Вы уже узнали основные функции append, pop и extend (а также их собратьев для аналогичных действий с левого конца дека). Теперь рассмотрим дополнительные функции, которые позволяют совершать действия с очередью.\n",
    "\n",
    "# 1 reverse позволяет поменять порядок элементов в очереди на обратный:\n",
    "dq = deque([1,2,3,4,5])\n",
    "print(dq)\n",
    " \n",
    "dq.reverse()\n",
    "print(dq)"
   ]
  },
  {
   "cell_type": "code",
   "execution_count": 51,
   "metadata": {},
   "outputs": [
    {
     "name": "stdout",
     "output_type": "stream",
     "text": [
      "deque([1, 2, 3, 4, 5])\n",
      "deque([4, 5, 1, 2, 3])\n"
     ]
    }
   ],
   "source": [
    "# 2 rotate переносит  заданных элементов из конца очереди в начало:\n",
    "dq = deque([1,2,3,4,5])\n",
    "print(dq)\n",
    " \n",
    "dq.rotate(2)\n",
    "print(dq)"
   ]
  },
  {
   "cell_type": "code",
   "execution_count": null,
   "metadata": {},
   "outputs": [
    {
     "name": "stdout",
     "output_type": "stream",
     "text": [
      "deque([1, 2, 3, 4, 5])\n",
      "deque([3, 4, 5, 1, 2])\n"
     ]
    }
   ],
   "source": [
    "# Элементы можно переносить и из начала в конец:\n",
    "dq = deque([1,2,3,4,5])\n",
    "print(dq)\n",
    " \n",
    "# Отрицательное значение аргумента переносит n элементов из начала в конец\n",
    "dq.rotate(-2)\n",
    "print(dq)"
   ]
  },
  {
   "cell_type": "code",
   "execution_count": 54,
   "metadata": {},
   "outputs": [
    {
     "name": "stdout",
     "output_type": "stream",
     "text": [
      "2\n",
      "6\n"
     ]
    }
   ],
   "source": [
    "# 3 и 4 Функция index позволяет найти первый индекс искомого элемента, а count позволяет подсчитать, сколько раз элемент встретился в очереди (функции аналогичны одноимённым функциям для списков):\n",
    "dq = [1,2,4,2,3,1,5,4,4,4,4,4,3]\n",
    "print(dq.index(4))\n",
    "\n",
    "print(dq.count(4))"
   ]
  },
  {
   "cell_type": "code",
   "execution_count": 55,
   "metadata": {},
   "outputs": [
    {
     "name": "stdout",
     "output_type": "stream",
     "text": [
      "deque([1, 2, 4, 2, 3, 1, 5, 4, 4, 4, 4, 4, 3])\n",
      "deque([])\n"
     ]
    }
   ],
   "source": [
    "# 5 Наконец, функция clear позволяет очистить очередь:\n",
    "\n",
    "dq = deque([1,2,4,2,3,1,5,4,4,4,4,4,3])\n",
    "print(dq)\n",
    "\n",
    "dq.clear()\n",
    "print(dq)"
   ]
  }
 ],
 "metadata": {
  "kernelspec": {
   "display_name": "Python 3",
   "language": "python",
   "name": "python3"
  },
  "language_info": {
   "codemirror_mode": {
    "name": "ipython",
    "version": 3
   },
   "file_extension": ".py",
   "mimetype": "text/x-python",
   "name": "python",
   "nbconvert_exporter": "python",
   "pygments_lexer": "ipython3",
   "version": "3.13.0"
  }
 },
 "nbformat": 4,
 "nbformat_minor": 2
}
